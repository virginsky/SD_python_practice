{
  "nbformat": 4,
  "nbformat_minor": 0,
  "metadata": {
    "colab": {
      "name": "Regression_210408.ipynb",
      "provenance": [],
      "collapsed_sections": [
        "iXbdfWq5bl0o",
        "Fg34IHRVMSro",
        "LBx19zqJiPK4",
        "R6fQhFEXjRcz",
        "SYzbvgERwrnd",
        "M61ZnrCrjzK2",
        "SUvezwLvj9MP",
        "QzDJgrzKkM0C",
        "6wg30CxckZDn",
        "Gwtn0GBUkgTD",
        "2NmfrdWgSZnp",
        "Rnr6dfW4kvWn"
      ],
      "toc_visible": true,
      "include_colab_link": true
    },
    "kernelspec": {
      "name": "python3",
      "display_name": "Python 3"
    }
  },
  "cells": [
    {
      "cell_type": "markdown",
      "metadata": {
        "id": "view-in-github",
        "colab_type": "text"
      },
      "source": [
        "<a href=\"https://colab.research.google.com/github/virginsky/SD_python_practice/blob/main/Regression_210408.ipynb\" target=\"_parent\"><img src=\"https://colab.research.google.com/assets/colab-badge.svg\" alt=\"Open In Colab\"/></a>"
      ]
    },
    {
      "cell_type": "markdown",
      "metadata": {
        "id": "6TLvXIjhiomO"
      },
      "source": [
        "## Gradient Descent"
      ]
    },
    {
      "cell_type": "code",
      "metadata": {
        "colab": {
          "base_uri": "https://localhost:8080/",
          "height": 283
        },
        "id": "Vv3Y1t-8iqSO",
        "outputId": "bd067c6d-8e3b-4c0e-a2ac-e1344d5f338c"
      },
      "source": [
        "import numpy as np\n",
        "import matplotlib.pyplot as plt\n",
        "%matplotlib inline\n",
        "\n",
        "np.random.seed(0)\n",
        "# y = 4X + 6 식을 근사(w1=4, w0=6). random 값은 Noise를 위해 만듬\n",
        "X = 2 * np.random.rand(100,1)\n",
        "y = 6 +4 * X+np.random.randn(100,1)\n",
        "\n",
        "# X, y 데이터 셋 scatter plot으로 시각화\n",
        "plt.scatter(X, y)"
      ],
      "execution_count": null,
      "outputs": [
        {
          "output_type": "execute_result",
          "data": {
            "text/plain": [
              "<matplotlib.collections.PathCollection at 0x7f91a1895450>"
            ]
          },
          "metadata": {
            "tags": []
          },
          "execution_count": 1
        },
        {
          "output_type": "display_data",
          "data": {
            "image/png": "[encoded data removed]",
            "text/plain": [
              "<Figure size 432x288 with 1 Axes>"
            ]
          },
          "metadata": {
            "tags": [],
            "needs_background": "light"
          }
        }
      ]
    },
    {
      "cell_type": "code",
      "metadata": {
        "id": "bztkbxXfiqUf"
      },
      "source": [
        "# w1 과 w0 를 업데이트 할 w1_update, w0_update를 반환. \n",
        "def get_weight_updates(w1, w0, X, y, learning_rate=0.01):\n",
        "    N = len(y) #y = w_0+w_1 X_1 ->  벡터의 길이  \n",
        "    # 먼저 w1_update, w0_update를 각각 w1, w0의 shape와 동일한 크기를 가진 0 값으로 초기화\n",
        "    w1_update = np.zeros_like(w1)\n",
        "    w0_update = np.zeros_like(w0)\n",
        "    # 예측 배열 계산하고 예측과 실제 값의 차이 계산\n",
        "    y_pred = np.dot(X, w1.T) + w0 #np.matmul써도 되지만, 어차피 벡터 계산이기 때문에 dot 을 썻음.\n",
        "    diff = y-y_pred # error function  = (실제값 - 예측값)\n",
        "         \n",
        "    # w0_update를 dot 행렬 연산으로 구하기 위해 모두 1값을 가진 행렬 생성 \n",
        "    w0_factors = np.ones((N,1))  # 초기값 ones로 셋팅 N크기만큼 받아들이고,\n",
        "\n",
        "    # w1과 w0을 업데이트할 w1_update와 w0_update 계산\n",
        "    w1_update = -(2/N)*learning_rate*(np.dot(X.T, diff)) # error ftn : mse(mean sqaure error)\n",
        "    #/summation_i^n (y-y_hat)(-x_i)\n",
        "    w0_update = -(2/N)*learning_rate*(np.dot(w0_factors.T, diff)) # summation_i^n (y-y_hat)(-x_1)\n",
        "    \n",
        "    return w1_update, w0_update #W_0,W_1 update"
      ],
      "execution_count": null,
      "outputs": []
    },
    {
      "cell_type": "code",
      "metadata": {
        "id": "m4Id6hwqiqWw"
      },
      "source": [
        "# 입력 인자 iters로 주어진 횟수만큼 반복적으로 w1과 w0를 업데이트 적용함. \n",
        "def gradient_descent_steps(X, y, iters=10000):\n",
        "    # w0와 w1을 모두 0으로 초기화. \n",
        "    w0 = np.zeros((1,1))\n",
        "    w1 = np.zeros((1,1))\n",
        "    \n",
        "    # 인자로 주어진 iters 만큼 반복적으로 get_weight_updates() 호출하여 w1, w0 업데이트 수행. \n",
        "    for ind in range(iters):\n",
        "        w1_update, w0_update = get_weight_updates(w1, w0, X, y, learning_rate=0.01)\n",
        "        w1 = w1 - w1_update #w1(왼쪽에 있는)->new, w_1(오른쪽에 있는) ->old\n",
        "        # w1_update = gradient descent 방법\n",
        "        #new = old - update (update = 0->new =old ) 최적의 값을 찾음.\n",
        "        w0 = w0 - w0_update\n",
        "              \n",
        "    return w1, w0"
      ],
      "execution_count": null,
      "outputs": []
    },
    {
      "cell_type": "code",
      "metadata": {
        "colab": {
          "base_uri": "https://localhost:8080/"
        },
        "id": "YhkXiVt4iqZF",
        "outputId": "6357f6dc-6567-4159-8804-9d90a54c225b"
      },
      "source": [
        "def get_cost(y, y_pred):\n",
        "    N = len(y) \n",
        "    cost = np.sum(np.square(y - y_pred))/N # root(실제값-예측값) 다 더해서 저장한게 cost\n",
        "    return cost\n",
        "\n",
        "w1, w0 = gradient_descent_steps(X, y, iters=1000) #1000번을 반복\n",
        "#최적의 값을 뽑고 그때의 cost값을 출력.\n",
        "print(\"w1:{0:.3f} w0:{1:.3f}\".format(w1[0,0], w0[0,0]))\n",
        "y_pred = w1[0,0] * X + w0\n",
        "print('Gradient Descent Total Cost:{0:.4f}'.format(get_cost(y, y_pred)))"
      ],
      "execution_count": null,
      "outputs": [
        {
          "output_type": "stream",
          "text": [
            "w1:4.022 w0:6.162\n",
            "Gradient Descent Total Cost:0.9935\n"
          ],
          "name": "stdout"
        }
      ]
    },
    {
      "cell_type": "code",
      "metadata": {
        "colab": {
          "base_uri": "https://localhost:8080/",
          "height": 283
        },
        "id": "gmOKmHsti5jG",
        "outputId": "d0f0f153-7dd8-42e2-846d-b62b2b4f57e4"
      },
      "source": [
        "plt.scatter(X, y)\n",
        "plt.plot(X,y_pred)"
      ],
      "execution_count": null,
      "outputs": [
        {
          "output_type": "execute_result",
          "data": {
            "text/plain": [
              "[<matplotlib.lines.Line2D at 0x7f919b6ec850>]"
            ]
          },
          "metadata": {
            "tags": []
          },
          "execution_count": 5
        },
        {
          "output_type": "display_data",
          "data": {
            "image/png": "[encoded data removed]",
            "text/plain": [
              "<Figure size 432x288 with 1 Axes>"
            ]
          },
          "metadata": {
            "tags": [],
            "needs_background": "light"
          }
        }
      ]
    },
    {
      "cell_type": "markdown",
      "metadata": {
        "id": "jYSxOzxuPhfD"
      },
      "source": [
        "# data가 적으면 gradient descent 방법을 사용할텐데,  data가 굉장히 큼.\n",
        "\n",
        "-> 미분자체가 계산량이 많아짐 / 변수가 많아서 미분이 많아짐\n",
        "\n",
        "통계에서는 모집단(전체) -> 표본(sample) 통계량 혹은 결론\n",
        "\n",
        "stochastic"
      ]
    },
    {
      "cell_type": "code",
      "metadata": {
        "id": "B_FmNBjri5lj"
      },
      "source": [
        "def stochastic_gradient_descent_steps(X, y, batch_size=10, iters=1000):\n",
        "    w0 = np.zeros((1,1))\n",
        "    w1 = np.zeros((1,1))\n",
        "    prev_cost = 100000\n",
        "    iter_index =0\n",
        "    \n",
        "    for ind in range(iters):\n",
        "        np.random.seed(ind)\n",
        "        # 전체 X, y 데이터에서 랜덤하게 batch_size만큼 데이터 추출하여 sample_X, sample_y로 저장 (참고 : https://medium.com/@shistory02/numpy-permutation-vs-shuffle-34fe56f0c246)\n",
        "        # Stochastic gradient descent / Mini-batch graident descnet (참고 : https://nonmeyet.tistory.com/entry/Batch-MiniBatch-Stochastic-%EC%A0%95%EC%9D%98%EC%99%80-%EC%84%A4%EB%AA%85-%EB%B0%8F-%EC%98%88%EC%8B%9C)\n",
        "        stochastic_random_index = np.random.permutation(X.shape[0])\n",
        "        sample_X = X[stochastic_random_index[0:batch_size]]\n",
        "        sample_y = y[stochastic_random_index[0:batch_size]]\n",
        "        # 랜덤하게 batch_size만큼 추출된 데이터 기반으로 w1_update, w0_update 계산 후 업데이트\n",
        "        w1_update, w0_update = get_weight_updates(w1, w0, sample_X, sample_y, learning_rate=0.01)\n",
        "        w1 = w1 - w1_update\n",
        "        w0 = w0 - w0_update\n",
        "    \n",
        "    return w1, w0"
      ],
      "execution_count": null,
      "outputs": []
    },
    {
      "cell_type": "code",
      "metadata": {
        "colab": {
          "base_uri": "https://localhost:8080/"
        },
        "id": "lI8KIUXzi5pA",
        "outputId": "d44bb69c-24b0-4f7c-88eb-470221e5a055"
      },
      "source": [
        "w1, w0 = stochastic_gradient_descent_steps(X, y, iters=1000)\n",
        "print(\"w1:\",round(w1[0,0],3),\"w0:\",round(w0[0,0],3))\n",
        "y_pred = w1[0,0] * X + w0\n",
        "print('Stochastic Gradient Descent Total Cost:{0:.4f}'.format(get_cost(y, y_pred)))\n"
      ],
      "execution_count": null,
      "outputs": [
        {
          "output_type": "stream",
          "text": [
            "w1: 4.028 w0: 6.156\n",
            "Stochastic Gradient Descent Total Cost:0.9937\n"
          ],
          "name": "stdout"
        }
      ]
    },
    {
      "cell_type": "code",
      "metadata": {
        "colab": {
          "base_uri": "https://localhost:8080/",
          "height": 457
        },
        "id": "cJv_gZ2mxyTD",
        "outputId": "424e5fbc-1c4e-4e9f-8c3a-d9dd6339f4d1"
      },
      "source": [
        "# 보폭에 따른 결과를 보려고 함.\n",
        "import numpy as np\n",
        "import matplotlib.pyplot as plt\n",
        "\n",
        "lr_list = [0.001, 0.5, 0.3, 0.7]\n",
        "\n",
        "def get_derivative(lr_list):\n",
        "\n",
        "  w_old = 2\n",
        "  derivative = [w_old]\n",
        "\n",
        "  y = [w_old ** 2] # 손실 함수를 y = x^2로 정의함.\n",
        "\n",
        "  for i in range(1,10):\n",
        "    #먼저 해당 위치에서 미분값을 구함\n",
        "\n",
        "    dev_value = w_old **2\n",
        "\n",
        "    #위의 값을 이용하여 가중치를 업데이트\n",
        "    w_new = w_old - lr * dev_value\n",
        "    w_old = w_new\n",
        "\n",
        "    derivative.append(w_old) #업데이트 된 가중치를 저장 함,.\n",
        "    y.append(w_old ** 2) #업데이트 된 가중치의 손실값을 저장 함.\n",
        "\n",
        "  return derivative, y\n",
        "\n",
        "x = np.linspace(-2,2,50) \n",
        "x_square = [i**2 for i in x]\n",
        "\n",
        "fig = plt.figure(figsize=(12, 7))\n",
        "\n",
        "for i,lr in enumerate(lr_list):\n",
        "  derivative, y =get_derivative(lr)\n",
        "  ax = fig.add_subplot(2, 2, i+1)\n",
        "  ax.scatter(derivative, y, color = 'red')\n",
        "  ax.plot(x, x_square)\n",
        "  ax.title.set_text('lr = '+str(lr))\n",
        "\n",
        "plt.show()"
      ],
      "execution_count": null,
      "outputs": [
        {
          "output_type": "display_data",
          "data": {
            "image/png": "[encoded data removed]",
            "text/plain": [
              "<Figure size 864x504 with 4 Axes>"
            ]
          },
          "metadata": {
            "tags": [],
            "needs_background": "light"
          }
        }
      ]
    },
    {
      "cell_type": "markdown",
      "metadata": {
        "id": "iXbdfWq5bl0o"
      },
      "source": [
        "\n",
        "## Sklearn 데이터셋 활용\n",
        "\n",
        "**Bulid-in dataset**\n",
        "\n",
        "\n",
        "- load_boston: 보스톤 집값 데이터\n",
        "- load_iris: 아이리스 붓꽃 데이터\n",
        "- load_diabetes: 당뇨병 환자 데이터\n",
        "- load_digits: 손글씨 데이터\n",
        "- load_linnerud: multi-output regression 용 데이터\n",
        "- load_wine: 와인 데이터\n",
        "- load_breast_cancer: 위스콘신 유방암 환자 데이터"
      ]
    },
    {
      "cell_type": "markdown",
      "metadata": {
        "id": "Fg34IHRVMSro"
      },
      "source": [
        "### Sklearn Linear Regression Tutorial with Boston House Dataset"
      ]
    },
    {
      "cell_type": "code",
      "metadata": {
        "id": "HN6lQQy5MR0R"
      },
      "source": [
        "import numpy as np\n",
        "import pandas as pd\n",
        "\n",
        "#Visualization Libraries\n",
        "import seaborn as sns\n",
        "import matplotlib.pyplot as plt\n",
        "\n",
        "\n",
        "\n",
        "#imports from sklearn library\n",
        "\n",
        "from sklearn import datasets\n",
        "from sklearn.linear_model import LinearRegression\n",
        "from sklearn.model_selection import train_test_split, cross_val_score\n",
        "from sklearn.metrics import mean_squared_error\n",
        "\n",
        "\n",
        "#To plot the graph embedded in the notebook\n",
        "%matplotlib inline"
      ],
      "execution_count": null,
      "outputs": []
    },
    {
      "cell_type": "code",
      "metadata": {
        "id": "8TK83X9MMe9_"
      },
      "source": [
        "#loading the dataset direclty from sklearn\n",
        "boston = datasets.load_boston()"
      ],
      "execution_count": null,
      "outputs": []
    },
    {
      "cell_type": "code",
      "metadata": {
        "colab": {
          "base_uri": "https://localhost:8080/"
        },
        "id": "BcKzBhioMfKj",
        "outputId": "09141967-59d8-405f-e152-eecdce2ec999"
      },
      "source": [
        "print(type(boston))\n",
        "print('\\n')\n",
        "print(boston.keys())\n",
        "print('\\n')\n",
        "print(boston.data.shape)\n",
        "print('\\n') # 엔터키를 치시오. print('\\t') ->띄어쓰기를 하시오.\n",
        "print(boston.feature_names)"
      ],
      "execution_count": null,
      "outputs": [
        {
          "output_type": "stream",
          "text": [
            "<class 'sklearn.utils.Bunch'>\n",
            "\n",
            "\n",
            "dict_keys(['data', 'target', 'feature_names', 'DESCR', 'filename'])\n",
            "\n",
            "\n",
            "(506, 13)\n",
            "\n",
            "\n",
            "['CRIM' 'ZN' 'INDUS' 'CHAS' 'NOX' 'RM' 'AGE' 'DIS' 'RAD' 'TAX' 'PTRATIO'\n",
            " 'B' 'LSTAT']\n"
          ],
          "name": "stdout"
        }
      ]
    },
    {
      "cell_type": "code",
      "metadata": {
        "colab": {
          "base_uri": "https://localhost:8080/"
        },
        "id": "td1FmZURMjmk",
        "outputId": "6dceb51d-c49f-4c4d-b1b0-3a8cc9d25e16"
      },
      "source": [
        "bos = pd.DataFrame(boston.data, columns = boston.feature_names)\n",
        "bos['PRICE'] = boston.target\n",
        "\n",
        "print(bos.head())"
      ],
      "execution_count": null,
      "outputs": [
        {
          "output_type": "stream",
          "text": [
            "      CRIM    ZN  INDUS  CHAS    NOX  ...    TAX  PTRATIO       B  LSTAT  PRICE\n",
            "0  0.00632  18.0   2.31   0.0  0.538  ...  296.0     15.3  396.90   4.98   24.0\n",
            "1  0.02731   0.0   7.07   0.0  0.469  ...  242.0     17.8  396.90   9.14   21.6\n",
            "2  0.02729   0.0   7.07   0.0  0.469  ...  242.0     17.8  392.83   4.03   34.7\n",
            "3  0.03237   0.0   2.18   0.0  0.458  ...  222.0     18.7  394.63   2.94   33.4\n",
            "4  0.06905   0.0   2.18   0.0  0.458  ...  222.0     18.7  396.90   5.33   36.2\n",
            "\n",
            "[5 rows x 14 columns]\n"
          ],
          "name": "stdout"
        }
      ]
    },
    {
      "cell_type": "code",
      "metadata": {
        "colab": {
          "base_uri": "https://localhost:8080/"
        },
        "id": "VIP0JXHOMmTu",
        "outputId": "5f63d68f-2c3d-4044-a291-cb845a5886d8"
      },
      "source": [
        "bos.isnull().sum()"
      ],
      "execution_count": null,
      "outputs": [
        {
          "output_type": "execute_result",
          "data": {
            "text/plain": [
              "CRIM       0\n",
              "ZN         0\n",
              "INDUS      0\n",
              "CHAS       0\n",
              "NOX        0\n",
              "RM         0\n",
              "AGE        0\n",
              "DIS        0\n",
              "RAD        0\n",
              "TAX        0\n",
              "PTRATIO    0\n",
              "B          0\n",
              "LSTAT      0\n",
              "PRICE      0\n",
              "dtype: int64"
            ]
          },
          "metadata": {
            "tags": []
          },
          "execution_count": 13
        }
      ]
    },
    {
      "cell_type": "code",
      "metadata": {
        "colab": {
          "base_uri": "https://localhost:8080/"
        },
        "id": "iCGHHKq4MoF8",
        "outputId": "04a8434f-1739-4157-ee31-79623f8794ef"
      },
      "source": [
        "print(bos.describe())"
      ],
      "execution_count": null,
      "outputs": [
        {
          "output_type": "stream",
          "text": [
            "             CRIM          ZN       INDUS  ...           B       LSTAT       PRICE\n",
            "count  506.000000  506.000000  506.000000  ...  506.000000  506.000000  506.000000\n",
            "mean     3.613524   11.363636   11.136779  ...  356.674032   12.653063   22.532806\n",
            "std      8.601545   23.322453    6.860353  ...   91.294864    7.141062    9.197104\n",
            "min      0.006320    0.000000    0.460000  ...    0.320000    1.730000    5.000000\n",
            "25%      0.082045    0.000000    5.190000  ...  375.377500    6.950000   17.025000\n",
            "50%      0.256510    0.000000    9.690000  ...  391.440000   11.360000   21.200000\n",
            "75%      3.677083   12.500000   18.100000  ...  396.225000   16.955000   25.000000\n",
            "max     88.976200  100.000000   27.740000  ...  396.900000   37.970000   50.000000\n",
            "\n",
            "[8 rows x 14 columns]\n"
          ],
          "name": "stdout"
        }
      ]
    },
    {
      "cell_type": "code",
      "metadata": {
        "colab": {
          "base_uri": "https://localhost:8080/"
        },
        "id": "h93pxcoiMpyH",
        "outputId": "19793a39-ea55-4f0e-e021-6ba66dad9119"
      },
      "source": [
        "sns.set(rc={'figure.figsize':(11.7,8.27)})\n",
        "plt.hist(bos['PRICE'], bins=30)\n",
        "plt.xlabel(\"House prices in $1000\")\n",
        "plt.show()"
      ],
      "execution_count": null,
      "outputs": [
        {
          "output_type": "display_data",
          "data": {
            "image/png": "[encoded data removed]",
            "text/plain": [
              "<Figure size 842.4x595.44 with 1 Axes>"
            ]
          },
          "metadata": {
            "tags": []
          }
        }
      ]
    },
    {
      "cell_type": "code",
      "metadata": {
        "colab": {
          "base_uri": "https://localhost:8080/"
        },
        "id": "BPoOA4gJMrxV",
        "outputId": "dae955dd-6e1a-45ec-c672-cc7890132fae"
      },
      "source": [
        "#Created a dataframe without the price col, since we need to see the correlation between the variables\n",
        "bos_1 = pd.DataFrame(boston.data, columns = boston.feature_names)\n",
        "\n",
        "correlation_matrix = bos_1.corr().round(2)\n",
        "sns.heatmap(data=correlation_matrix, annot=True)"
      ],
      "execution_count": null,
      "outputs": [
        {
          "output_type": "execute_result",
          "data": {
            "text/plain": [
              "<matplotlib.axes._subplots.AxesSubplot at 0x7f91894c0490>"
            ]
          },
          "metadata": {
            "tags": []
          },
          "execution_count": 16
        },
        {
          "output_type": "display_data",
          "data": {
            "image/png": "[encoded data removed]",
            "text/plain": [
              "<Figure size 842.4x595.44 with 2 Axes>"
            ]
          },
          "metadata": {
            "tags": []
          }
        }
      ]
    },
    {
      "cell_type": "code",
      "metadata": {
        "colab": {
          "base_uri": "https://localhost:8080/"
        },
        "id": "ej76KpcHMwRy",
        "outputId": "e304c1bc-282e-4b1e-885f-224301a4a9c7"
      },
      "source": [
        "plt.figure(figsize=(20, 5))\n",
        "\n",
        "features = ['LSTAT', 'RM']\n",
        "target = bos['PRICE']\n",
        "\n",
        "for i, col in enumerate(features):\n",
        "    plt.subplot(1, len(features) , i+1)\n",
        "    x = bos[col]\n",
        "    y = target\n",
        "    plt.scatter(x, y, marker='o')\n",
        "    plt.title(\"Variation in House prices\")\n",
        "    plt.xlabel(col)\n",
        "    plt.ylabel('\"House prices in $1000\"')"
      ],
      "execution_count": null,
      "outputs": [
        {
          "output_type": "display_data",
          "data": {
            "image/png": "[encoded data removed]",
            "text/plain": [
              "<Figure size 1440x360 with 2 Axes>"
            ]
          },
          "metadata": {
            "tags": []
          }
        }
      ]
    },
    {
      "cell_type": "code",
      "metadata": {
        "colab": {
          "base_uri": "https://localhost:8080/"
        },
        "id": "pNtk8E6FMyEy",
        "outputId": "e279d5e1-7917-4c61-e03d-5cfabc9c9e6f"
      },
      "source": [
        "X_rooms = bos.RM\n",
        "y_price = bos.PRICE\n",
        "\n",
        "\n",
        "X_rooms = np.array(X_rooms).reshape(-1,1)\n",
        "y_price = np.array(y_price).reshape(-1,1)\n",
        "\n",
        "print(X_rooms.shape)\n",
        "print(y_price.shape)"
      ],
      "execution_count": null,
      "outputs": [
        {
          "output_type": "stream",
          "text": [
            "(506, 1)\n",
            "(506, 1)\n"
          ],
          "name": "stdout"
        }
      ]
    },
    {
      "cell_type": "code",
      "metadata": {
        "colab": {
          "base_uri": "https://localhost:8080/"
        },
        "id": "Ot6040A7Mzmj",
        "outputId": "531af09d-dfbe-4235-c47d-4785fefaade5"
      },
      "source": [
        "X_train_1, X_test_1, Y_train_1, Y_test_1 = train_test_split(X_rooms, y_price, test_size = 0.2, random_state=5)\n",
        "\n",
        "print(X_train_1.shape)\n",
        "print(X_test_1.shape)\n",
        "print(Y_train_1.shape)\n",
        "print(Y_test_1.shape)"
      ],
      "execution_count": null,
      "outputs": [
        {
          "output_type": "stream",
          "text": [
            "(404, 1)\n",
            "(102, 1)\n",
            "(404, 1)\n",
            "(102, 1)\n"
          ],
          "name": "stdout"
        }
      ]
    },
    {
      "cell_type": "markdown",
      "metadata": {
        "id": "aq5Qg40FVZH1"
      },
      "source": [
        "Sklearn의 Linear regression 클래스\n",
        "\n",
        "**input parameter**\n",
        "- fit_intercept : 불 값으로, default = True. Intercept(절편) 값을 계산할 것인지 말지를 지정함. 만일 False로 지정하면 Intercept가 사용되지 않고 0으로 지정됨.\n",
        "\n",
        "- normalize : 불 값으로, 디폴트는 False임. fit_intercept가 False 인 경우에는 이 파라미터가 무시됨. 만일 True이면 회귀를 수행하기 전에 입력 데이터 세트를 정규화 함\n",
        "\n",
        "\n",
        "**Features**\n",
        "\n",
        "- coef_ : fit() 메서드를 수행했을 때 회귀 계수가 배열 형태로 저장하는 속성. Shape는 (Target 값 개수, 피쳐 개수)\n",
        "\n",
        "- intercept_ : intercept 값\\\n",
        "\n",
        "\n",
        "#다중 공성선 문제(Multi-collinearity problem)\n",
        "\n",
        "## 참고 : 선형 회귀분석의 4가지 기본가정(https://kkokkilkon.tistory.com/175)\n",
        "\n",
        "선형회귀의 가정은 4가지 정도가 있다.\n",
        "\n",
        "1. 독립변수와 종속변수 간의 선형적인 관계를 가정한다.\n",
        "\n",
        "2. 오차항은 정규분포를 따른다는 가정이다. (Normality)\n",
        "\n",
        "3. 오차항은 등분산성을 가정한다.(Homoscedasticity)\n",
        "\n",
        "4.  공분산성이 없다는 가정이다. (no multicolinearity) \n",
        "\n",
        "모형의 일부 설명 변수가 다른 설명 변수와 상관 정도가 높아, 데이터 분석 시 부정적인 영향을 미치는 현상을 말함.\n",
        "\n",
        "-> 어처구니 없는 해석을 하게 만듬\n",
        "\n",
        "\n",
        "- 피쳐 간의 상관관계가 매우 높은 경우 분산이 매우 커져서 오류에 매우 민감해짐. 이러한 현상을 다중 공선성(Multi-collinearity) \n",
        "\n",
        "\n",
        "- RMSE(Root Mean Squared Error) :MSE 값은 오류의 제곱을 구하므로 실제 오류 평균보다  더 커지는 특성이 있으므로 MSE에 루트를 씌움.\n",
        "\n",
        "\n",
        "## $R^2 = {\\dfrac {예측값 ~~~ Variance} {실제값~~~Varivance} } $\n"
      ]
    },
    {
      "cell_type": "code",
      "metadata": {
        "colab": {
          "base_uri": "https://localhost:8080/"
        },
        "id": "t_ukNOf0M1m7",
        "outputId": "6739a507-1921-432b-9b88-3360578ec36b"
      },
      "source": [
        "reg_1 = LinearRegression()\n",
        "reg_1.fit(X_train_1, Y_train_1)\n",
        "\n",
        "y_train_predict_1 = reg_1.predict(X_train_1)\n",
        "rmse = (np.sqrt(mean_squared_error(Y_train_1, y_train_predict_1)))\n",
        "r2 = round(reg_1.score(X_train_1, Y_train_1),2)\n",
        "\n",
        "print(\"The model performance for training set\")\n",
        "print(\"--------------------------------------\")\n",
        "print('RMSE is {}'.format(rmse))\n",
        "print('R2 score is {}'.format(r2))\n",
        "print(\"\\n\")"
      ],
      "execution_count": null,
      "outputs": [
        {
          "output_type": "stream",
          "text": [
            "The model performance for training set\n",
            "--------------------------------------\n",
            "RMSE is 6.972277149440585\n",
            "R2 score is 0.43\n",
            "\n",
            "\n"
          ],
          "name": "stdout"
        }
      ]
    },
    {
      "cell_type": "code",
      "metadata": {
        "colab": {
          "base_uri": "https://localhost:8080/"
        },
        "id": "_D2yA0Zchxu5",
        "outputId": "cc432f5a-0f86-4ac6-f106-6b34eda06d7d"
      },
      "source": [
        "# model evaluation for test set\n",
        "\n",
        "y_pred_1 = reg_1.predict(X_test_1)\n",
        "rmse = (np.sqrt(mean_squared_error(Y_test_1, y_pred_1)))\n",
        "r2 = round(reg_1.score(X_test_1, Y_test_1),2)\n",
        "\n",
        "print(\"The model performance for training set\")\n",
        "print(\"--------------------------------------\")\n",
        "print(\"Root Mean Squared Error: {}\".format(rmse))\n",
        "print(\"R^2: {}\".format(r2))\n",
        "print(\"\\n\")"
      ],
      "execution_count": null,
      "outputs": [
        {
          "output_type": "stream",
          "text": [
            "The model performance for training set\n",
            "--------------------------------------\n",
            "Root Mean Squared Error: 4.895963186952216\n",
            "R^2: 0.69\n",
            "\n",
            "\n"
          ],
          "name": "stdout"
        }
      ]
    },
    {
      "cell_type": "code",
      "metadata": {
        "colab": {
          "base_uri": "https://localhost:8080/",
          "height": 517
        },
        "id": "Rm2hPMwLhyCU",
        "outputId": "39874ae3-246f-4ccd-c391-6da57973bcb7"
      },
      "source": [
        "prediction_space = np.linspace(min(X_rooms), max(X_rooms)).reshape(-1,1) \n",
        "plt.scatter(X_rooms,y_price)\n",
        "plt.plot(prediction_space, reg_1.predict(prediction_space), color = 'black', linewidth = 3)\n",
        "plt.ylabel('value of house/1000($)')\n",
        "plt.xlabel('number of rooms')\n",
        "plt.show()"
      ],
      "execution_count": null,
      "outputs": [
        {
          "output_type": "display_data",
          "data": {
            "image/png": "[encoded data removed]",
            "text/plain": [
              "<Figure size 842.4x595.44 with 1 Axes>"
            ]
          },
          "metadata": {
            "tags": []
          }
        }
      ]
    },
    {
      "cell_type": "markdown",
      "metadata": {
        "id": "LBx19zqJiPK4"
      },
      "source": [
        "## Regression Model for All the variables"
      ]
    },
    {
      "cell_type": "code",
      "metadata": {
        "id": "OIbb1m_ViHoq"
      },
      "source": [
        "X = bos.drop('PRICE', axis = 1)\n",
        "y = bos['PRICE']"
      ],
      "execution_count": null,
      "outputs": []
    },
    {
      "cell_type": "code",
      "metadata": {
        "id": "7OlSfC6viTXC"
      },
      "source": [
        "X_train, X_test, y_train, y_test = train_test_split(X,y,test_size=0.2, random_state=42)"
      ],
      "execution_count": null,
      "outputs": []
    },
    {
      "cell_type": "code",
      "metadata": {
        "colab": {
          "base_uri": "https://localhost:8080/"
        },
        "id": "AvuVRKZxiXLf",
        "outputId": "75eaef3e-5bcd-41ac-f7a6-690d86f12305"
      },
      "source": [
        "reg_all = LinearRegression()\n",
        "reg_all.fit(X_train, y_train)"
      ],
      "execution_count": null,
      "outputs": [
        {
          "output_type": "execute_result",
          "data": {
            "text/plain": [
              "LinearRegression(copy_X=True, fit_intercept=True, n_jobs=None, normalize=False)"
            ]
          },
          "metadata": {
            "tags": []
          },
          "execution_count": 25
        }
      ]
    },
    {
      "cell_type": "code",
      "metadata": {
        "id": "NxKBxbzxiZHE",
        "colab": {
          "base_uri": "https://localhost:8080/"
        },
        "outputId": "fe779aaa-4a0e-42a9-f152-1189a994373f"
      },
      "source": [
        "# model evaluation for training set\n",
        "\n",
        "y_train_predict = reg_all.predict(X_train)\n",
        "rmse = (np.sqrt(mean_squared_error(y_train, y_train_predict)))\n",
        "r2 = round(reg_all.score(X_train, y_train),2)\n",
        "\n",
        "print(\"The model performance for training set\")\n",
        "print(\"--------------------------------------\")\n",
        "print('RMSE is {}'.format(rmse))\n",
        "print('R2 score is {}'.format(r2))\n",
        "print(\"\\n\")"
      ],
      "execution_count": null,
      "outputs": [
        {
          "output_type": "stream",
          "text": [
            "The model performance for training set\n",
            "--------------------------------------\n",
            "RMSE is 4.6520331848801675\n",
            "R2 score is 0.75\n",
            "\n",
            "\n"
          ],
          "name": "stdout"
        }
      ]
    },
    {
      "cell_type": "code",
      "metadata": {
        "id": "HNiDukBKibID",
        "colab": {
          "base_uri": "https://localhost:8080/"
        },
        "outputId": "ed79126d-6ccc-44c2-dd4d-376c3a00ae21"
      },
      "source": [
        "y_pred = reg_all.predict(X_test)\n",
        "rmse = (np.sqrt(mean_squared_error(y_test, y_pred)))\n",
        "r2 = round(reg_all.score(X_test, y_test),2)\n",
        "\n",
        "print(\"The model performance for training set\")\n",
        "print(\"--------------------------------------\")\n",
        "print(\"Root Mean Squared Error: {}\".format(rmse))\n",
        "print(\"R^2: {}\".format(r2))\n",
        "print(\"\\n\")"
      ],
      "execution_count": null,
      "outputs": [
        {
          "output_type": "stream",
          "text": [
            "The model performance for training set\n",
            "--------------------------------------\n",
            "Root Mean Squared Error: 4.928602182665329\n",
            "R^2: 0.67\n",
            "\n",
            "\n"
          ],
          "name": "stdout"
        }
      ]
    },
    {
      "cell_type": "code",
      "metadata": {
        "colab": {
          "base_uri": "https://localhost:8080/"
        },
        "id": "gfy_poG76arK",
        "outputId": "a1c8823f-1083-444a-92c9-95c24d1a55d9"
      },
      "source": [
        "!pip install statsmodels"
      ],
      "execution_count": null,
      "outputs": [
        {
          "output_type": "stream",
          "text": [
            "Requirement already satisfied: statsmodels in /usr/local/lib/python3.7/dist-packages (0.10.2)\n",
            "Requirement already satisfied: numpy>=1.11 in /usr/local/lib/python3.7/dist-packages (from statsmodels) (1.19.5)\n",
            "Requirement already satisfied: patsy>=0.4.0 in /usr/local/lib/python3.7/dist-packages (from statsmodels) (0.5.1)\n",
            "Requirement already satisfied: scipy>=0.18 in /usr/local/lib/python3.7/dist-packages (from statsmodels) (1.4.1)\n",
            "Requirement already satisfied: pandas>=0.19 in /usr/local/lib/python3.7/dist-packages (from statsmodels) (1.1.5)\n",
            "Requirement already satisfied: six in /usr/local/lib/python3.7/dist-packages (from patsy>=0.4.0->statsmodels) (1.15.0)\n",
            "Requirement already satisfied: python-dateutil>=2.7.3 in /usr/local/lib/python3.7/dist-packages (from pandas>=0.19->statsmodels) (2.8.1)\n",
            "Requirement already satisfied: pytz>=2017.2 in /usr/local/lib/python3.7/dist-packages (from pandas>=0.19->statsmodels) (2018.9)\n"
          ],
          "name": "stdout"
        }
      ]
    },
    {
      "cell_type": "code",
      "metadata": {
        "id": "8HqhmCVu8UId",
        "colab": {
          "base_uri": "https://localhost:8080/"
        },
        "outputId": "3bbba878-c248-4529-d3d1-59cf09d42d74"
      },
      "source": [
        "import statsmodels.api as sm\n",
        "# import statsmodels.formula.api as smf"
      ],
      "execution_count": null,
      "outputs": [
        {
          "output_type": "stream",
          "text": [
            "/usr/local/lib/python3.7/dist-packages/statsmodels/tools/_testing.py:19: FutureWarning: pandas.util.testing is deprecated. Use the functions in the public API at pandas.testing instead.\n",
            "  import pandas.util.testing as tm\n"
          ],
          "name": "stderr"
        }
      ]
    },
    {
      "cell_type": "code",
      "metadata": {
        "id": "8ZWqPWL97Lpv"
      },
      "source": [
        "X = bos.drop('PRICE', axis = 1)\n",
        "y = bos['PRICE']\n",
        "#변수들에 상수항을 추가함.\n",
        "X_constant = sm.add_constant(X)\n"
      ],
      "execution_count": null,
      "outputs": []
    },
    {
      "cell_type": "code",
      "metadata": {
        "id": "RPm7WkLq8ib_"
      },
      "source": [
        "####요약 통계량 OLS 방법 ->R^2을 이용해도 됨.\n",
        "model_1 = sm.OLS(y,X_constant)\n",
        "lin_reg = model_1.fit()"
      ],
      "execution_count": null,
      "outputs": []
    },
    {
      "cell_type": "code",
      "metadata": {
        "colab": {
          "base_uri": "https://localhost:8080/"
        },
        "id": "nagQ1mws9Ba0",
        "outputId": "f40fa9df-caec-41c6-cd7c-f682f8351846"
      },
      "source": [
        "lin_reg.summary()"
      ],
      "execution_count": null,
      "outputs": [
        {
          "output_type": "execute_result",
          "data": {
            "text/html": [
              "<table class=\"simpletable\">\n",
              "<caption>OLS Regression Results</caption>\n",
              "<tr>\n",
              "  <th>Dep. Variable:</th>          <td>PRICE</td>      <th>  R-squared:         </th> <td>   0.741</td> \n",
              "</tr>\n",
              "<tr>\n",
              "  <th>Model:</th>                   <td>OLS</td>       <th>  Adj. R-squared:    </th> <td>   0.734</td> \n",
              "</tr>\n",
              "<tr>\n",
              "  <th>Method:</th>             <td>Least Squares</td>  <th>  F-statistic:       </th> <td>   108.1</td> \n",
              "</tr>\n",
              "<tr>\n",
              "  <th>Date:</th>             <td>Thu, 08 Apr 2021</td> <th>  Prob (F-statistic):</th> <td>6.72e-135</td>\n",
              "</tr>\n",
              "<tr>\n",
              "  <th>Time:</th>                 <td>00:02:05</td>     <th>  Log-Likelihood:    </th> <td> -1498.8</td> \n",
              "</tr>\n",
              "<tr>\n",
              "  <th>No. Observations:</th>      <td>   506</td>      <th>  AIC:               </th> <td>   3026.</td> \n",
              "</tr>\n",
              "<tr>\n",
              "  <th>Df Residuals:</th>          <td>   492</td>      <th>  BIC:               </th> <td>   3085.</td> \n",
              "</tr>\n",
              "<tr>\n",
              "  <th>Df Model:</th>              <td>    13</td>      <th>                     </th>     <td> </td>    \n",
              "</tr>\n",
              "<tr>\n",
              "  <th>Covariance Type:</th>      <td>nonrobust</td>    <th>                     </th>     <td> </td>    \n",
              "</tr>\n",
              "</table>\n",
              "<table class=\"simpletable\">\n",
              "<tr>\n",
              "     <td></td>        <th>coef</th>     <th>std err</th>      <th>t</th>      <th>P>|t|</th>  <th>[0.025</th>    <th>0.975]</th>  \n",
              "</tr>\n",
              "<tr>\n",
              "  <th>const</th>   <td>   36.4595</td> <td>    5.103</td> <td>    7.144</td> <td> 0.000</td> <td>   26.432</td> <td>   46.487</td>\n",
              "</tr>\n",
              "<tr>\n",
              "  <th>CRIM</th>    <td>   -0.1080</td> <td>    0.033</td> <td>   -3.287</td> <td> 0.001</td> <td>   -0.173</td> <td>   -0.043</td>\n",
              "</tr>\n",
              "<tr>\n",
              "  <th>ZN</th>      <td>    0.0464</td> <td>    0.014</td> <td>    3.382</td> <td> 0.001</td> <td>    0.019</td> <td>    0.073</td>\n",
              "</tr>\n",
              "<tr>\n",
              "  <th>INDUS</th>   <td>    0.0206</td> <td>    0.061</td> <td>    0.334</td> <td> 0.738</td> <td>   -0.100</td> <td>    0.141</td>\n",
              "</tr>\n",
              "<tr>\n",
              "  <th>CHAS</th>    <td>    2.6867</td> <td>    0.862</td> <td>    3.118</td> <td> 0.002</td> <td>    0.994</td> <td>    4.380</td>\n",
              "</tr>\n",
              "<tr>\n",
              "  <th>NOX</th>     <td>  -17.7666</td> <td>    3.820</td> <td>   -4.651</td> <td> 0.000</td> <td>  -25.272</td> <td>  -10.262</td>\n",
              "</tr>\n",
              "<tr>\n",
              "  <th>RM</th>      <td>    3.8099</td> <td>    0.418</td> <td>    9.116</td> <td> 0.000</td> <td>    2.989</td> <td>    4.631</td>\n",
              "</tr>\n",
              "<tr>\n",
              "  <th>AGE</th>     <td>    0.0007</td> <td>    0.013</td> <td>    0.052</td> <td> 0.958</td> <td>   -0.025</td> <td>    0.027</td>\n",
              "</tr>\n",
              "<tr>\n",
              "  <th>DIS</th>     <td>   -1.4756</td> <td>    0.199</td> <td>   -7.398</td> <td> 0.000</td> <td>   -1.867</td> <td>   -1.084</td>\n",
              "</tr>\n",
              "<tr>\n",
              "  <th>RAD</th>     <td>    0.3060</td> <td>    0.066</td> <td>    4.613</td> <td> 0.000</td> <td>    0.176</td> <td>    0.436</td>\n",
              "</tr>\n",
              "<tr>\n",
              "  <th>TAX</th>     <td>   -0.0123</td> <td>    0.004</td> <td>   -3.280</td> <td> 0.001</td> <td>   -0.020</td> <td>   -0.005</td>\n",
              "</tr>\n",
              "<tr>\n",
              "  <th>PTRATIO</th> <td>   -0.9527</td> <td>    0.131</td> <td>   -7.283</td> <td> 0.000</td> <td>   -1.210</td> <td>   -0.696</td>\n",
              "</tr>\n",
              "<tr>\n",
              "  <th>B</th>       <td>    0.0093</td> <td>    0.003</td> <td>    3.467</td> <td> 0.001</td> <td>    0.004</td> <td>    0.015</td>\n",
              "</tr>\n",
              "<tr>\n",
              "  <th>LSTAT</th>   <td>   -0.5248</td> <td>    0.051</td> <td>  -10.347</td> <td> 0.000</td> <td>   -0.624</td> <td>   -0.425</td>\n",
              "</tr>\n",
              "</table>\n",
              "<table class=\"simpletable\">\n",
              "<tr>\n",
              "  <th>Omnibus:</th>       <td>178.041</td> <th>  Durbin-Watson:     </th> <td>   1.078</td> \n",
              "</tr>\n",
              "<tr>\n",
              "  <th>Prob(Omnibus):</th> <td> 0.000</td>  <th>  Jarque-Bera (JB):  </th> <td> 783.126</td> \n",
              "</tr>\n",
              "<tr>\n",
              "  <th>Skew:</th>          <td> 1.521</td>  <th>  Prob(JB):          </th> <td>8.84e-171</td>\n",
              "</tr>\n",
              "<tr>\n",
              "  <th>Kurtosis:</th>      <td> 8.281</td>  <th>  Cond. No.          </th> <td>1.51e+04</td> \n",
              "</tr>\n",
              "</table><br/><br/>Warnings:<br/>[1] Standard Errors assume that the covariance matrix of the errors is correctly specified.<br/>[2] The condition number is large, 1.51e+04. This might indicate that there are<br/>strong multicollinearity or other numerical problems."
            ],
            "text/plain": [
              "<class 'statsmodels.iolib.summary.Summary'>\n",
              "\"\"\"\n",
              "                            OLS Regression Results                            \n",
              "==============================================================================\n",
              "Dep. Variable:                  PRICE   R-squared:                       0.741\n",
              "Model:                            OLS   Adj. R-squared:                  0.734\n",
              "Method:                 Least Squares   F-statistic:                     108.1\n",
              "Date:                Thu, 08 Apr 2021   Prob (F-statistic):          6.72e-135\n",
              "Time:                        00:02:05   Log-Likelihood:                -1498.8\n",
              "No. Observations:                 506   AIC:                             3026.\n",
              "Df Residuals:                     492   BIC:                             3085.\n",
              "Df Model:                          13                                         \n",
              "Covariance Type:            nonrobust                                         \n",
              "==============================================================================\n",
              "                 coef    std err          t      P>|t|      [0.025      0.975]\n",
              "------------------------------------------------------------------------------\n",
              "const         36.4595      5.103      7.144      0.000      26.432      46.487\n",
              "CRIM          -0.1080      0.033     -3.287      0.001      -0.173      -0.043\n",
              "ZN             0.0464      0.014      3.382      0.001       0.019       0.073\n",
              "INDUS          0.0206      0.061      0.334      0.738      -0.100       0.141\n",
              "CHAS           2.6867      0.862      3.118      0.002       0.994       4.380\n",
              "NOX          -17.7666      3.820     -4.651      0.000     -25.272     -10.262\n",
              "RM             3.8099      0.418      9.116      0.000       2.989       4.631\n",
              "AGE            0.0007      0.013      0.052      0.958      -0.025       0.027\n",
              "DIS           -1.4756      0.199     -7.398      0.000      -1.867      -1.084\n",
              "RAD            0.3060      0.066      4.613      0.000       0.176       0.436\n",
              "TAX           -0.0123      0.004     -3.280      0.001      -0.020      -0.005\n",
              "PTRATIO       -0.9527      0.131     -7.283      0.000      -1.210      -0.696\n",
              "B              0.0093      0.003      3.467      0.001       0.004       0.015\n",
              "LSTAT         -0.5248      0.051    -10.347      0.000      -0.624      -0.425\n",
              "==============================================================================\n",
              "Omnibus:                      178.041   Durbin-Watson:                   1.078\n",
              "Prob(Omnibus):                  0.000   Jarque-Bera (JB):              783.126\n",
              "Skew:                           1.521   Prob(JB):                    8.84e-171\n",
              "Kurtosis:                       8.281   Cond. No.                     1.51e+04\n",
              "==============================================================================\n",
              "\n",
              "Warnings:\n",
              "[1] Standard Errors assume that the covariance matrix of the errors is correctly specified.\n",
              "[2] The condition number is large, 1.51e+04. This might indicate that there are\n",
              "strong multicollinearity or other numerical problems.\n",
              "\"\"\""
            ]
          },
          "metadata": {
            "tags": []
          },
          "execution_count": 32
        }
      ]
    },
    {
      "cell_type": "markdown",
      "metadata": {
        "id": "R6fQhFEXjRcz"
      },
      "source": [
        "## 사이킷런 LinearRegression을 이용한 보스턴 주택 가격 예측"
      ]
    },
    {
      "cell_type": "code",
      "metadata": {
        "colab": {
          "base_uri": "https://localhost:8080/"
        },
        "id": "S7-QWGmVjN_0",
        "outputId": "cbf982b5-d1b0-4a02-fcda-ac3f2404f1f5"
      },
      "source": [
        "import numpy as np\n",
        "import matplotlib.pyplot as plt\n",
        "import pandas as pd\n",
        "import seaborn as sns\n",
        "from scipy import stats\n",
        "from sklearn.datasets import load_boston\n",
        "%matplotlib inline\n",
        "\n",
        "# boston 데이타셋 로드\n",
        "boston = load_boston()\n",
        "\n",
        "# boston 데이타셋 DataFrame 변환 \n",
        "bostonDF = pd.DataFrame(boston.data , columns = boston.feature_names)\n",
        "\n",
        "# boston dataset의 target array는 주택 가격임. 이를 PRICE 컬럼으로 DataFrame에 추가함. \n",
        "bostonDF['PRICE'] = boston.target\n",
        "print('Boston 데이타셋 크기 :',bostonDF.shape)\n",
        "bostonDF.head()"
      ],
      "execution_count": null,
      "outputs": [
        {
          "output_type": "stream",
          "text": [
            "Boston 데이타셋 크기 : (506, 14)\n"
          ],
          "name": "stdout"
        },
        {
          "output_type": "execute_result",
          "data": {
            "text/html": [
              "<div>\n",
              "<style scoped>\n",
              "    .dataframe tbody tr th:only-of-type {\n",
              "        vertical-align: middle;\n",
              "    }\n",
              "\n",
              "    .dataframe tbody tr th {\n",
              "        vertical-align: top;\n",
              "    }\n",
              "\n",
              "    .dataframe thead th {\n",
              "        text-align: right;\n",
              "    }\n",
              "</style>\n",
              "<table border=\"1\" class=\"dataframe\">\n",
              "  <thead>\n",
              "    <tr style=\"text-align: right;\">\n",
              "      <th></th>\n",
              "      <th>CRIM</th>\n",
              "      <th>ZN</th>\n",
              "      <th>INDUS</th>\n",
              "      <th>CHAS</th>\n",
              "      <th>NOX</th>\n",
              "      <th>RM</th>\n",
              "      <th>AGE</th>\n",
              "      <th>DIS</th>\n",
              "      <th>RAD</th>\n",
              "      <th>TAX</th>\n",
              "      <th>PTRATIO</th>\n",
              "      <th>B</th>\n",
              "      <th>LSTAT</th>\n",
              "      <th>PRICE</th>\n",
              "    </tr>\n",
              "  </thead>\n",
              "  <tbody>\n",
              "    <tr>\n",
              "      <th>0</th>\n",
              "      <td>0.00632</td>\n",
              "      <td>18.0</td>\n",
              "      <td>2.31</td>\n",
              "      <td>0.0</td>\n",
              "      <td>0.538</td>\n",
              "      <td>6.575</td>\n",
              "      <td>65.2</td>\n",
              "      <td>4.0900</td>\n",
              "      <td>1.0</td>\n",
              "      <td>296.0</td>\n",
              "      <td>15.3</td>\n",
              "      <td>396.90</td>\n",
              "      <td>4.98</td>\n",
              "      <td>24.0</td>\n",
              "    </tr>\n",
              "    <tr>\n",
              "      <th>1</th>\n",
              "      <td>0.02731</td>\n",
              "      <td>0.0</td>\n",
              "      <td>7.07</td>\n",
              "      <td>0.0</td>\n",
              "      <td>0.469</td>\n",
              "      <td>6.421</td>\n",
              "      <td>78.9</td>\n",
              "      <td>4.9671</td>\n",
              "      <td>2.0</td>\n",
              "      <td>242.0</td>\n",
              "      <td>17.8</td>\n",
              "      <td>396.90</td>\n",
              "      <td>9.14</td>\n",
              "      <td>21.6</td>\n",
              "    </tr>\n",
              "    <tr>\n",
              "      <th>2</th>\n",
              "      <td>0.02729</td>\n",
              "      <td>0.0</td>\n",
              "      <td>7.07</td>\n",
              "      <td>0.0</td>\n",
              "      <td>0.469</td>\n",
              "      <td>7.185</td>\n",
              "      <td>61.1</td>\n",
              "      <td>4.9671</td>\n",
              "      <td>2.0</td>\n",
              "      <td>242.0</td>\n",
              "      <td>17.8</td>\n",
              "      <td>392.83</td>\n",
              "      <td>4.03</td>\n",
              "      <td>34.7</td>\n",
              "    </tr>\n",
              "    <tr>\n",
              "      <th>3</th>\n",
              "      <td>0.03237</td>\n",
              "      <td>0.0</td>\n",
              "      <td>2.18</td>\n",
              "      <td>0.0</td>\n",
              "      <td>0.458</td>\n",
              "      <td>6.998</td>\n",
              "      <td>45.8</td>\n",
              "      <td>6.0622</td>\n",
              "      <td>3.0</td>\n",
              "      <td>222.0</td>\n",
              "      <td>18.7</td>\n",
              "      <td>394.63</td>\n",
              "      <td>2.94</td>\n",
              "      <td>33.4</td>\n",
              "    </tr>\n",
              "    <tr>\n",
              "      <th>4</th>\n",
              "      <td>0.06905</td>\n",
              "      <td>0.0</td>\n",
              "      <td>2.18</td>\n",
              "      <td>0.0</td>\n",
              "      <td>0.458</td>\n",
              "      <td>7.147</td>\n",
              "      <td>54.2</td>\n",
              "      <td>6.0622</td>\n",
              "      <td>3.0</td>\n",
              "      <td>222.0</td>\n",
              "      <td>18.7</td>\n",
              "      <td>396.90</td>\n",
              "      <td>5.33</td>\n",
              "      <td>36.2</td>\n",
              "    </tr>\n",
              "  </tbody>\n",
              "</table>\n",
              "</div>"
            ],
            "text/plain": [
              "      CRIM    ZN  INDUS  CHAS    NOX  ...    TAX  PTRATIO       B  LSTAT  PRICE\n",
              "0  0.00632  18.0   2.31   0.0  0.538  ...  296.0     15.3  396.90   4.98   24.0\n",
              "1  0.02731   0.0   7.07   0.0  0.469  ...  242.0     17.8  396.90   9.14   21.6\n",
              "2  0.02729   0.0   7.07   0.0  0.469  ...  242.0     17.8  392.83   4.03   34.7\n",
              "3  0.03237   0.0   2.18   0.0  0.458  ...  222.0     18.7  394.63   2.94   33.4\n",
              "4  0.06905   0.0   2.18   0.0  0.458  ...  222.0     18.7  396.90   5.33   36.2\n",
              "\n",
              "[5 rows x 14 columns]"
            ]
          },
          "metadata": {
            "tags": []
          },
          "execution_count": 33
        }
      ]
    },
    {
      "cell_type": "markdown",
      "metadata": {
        "id": "CczhZGD8e9GY"
      },
      "source": [
        "- CRIM : 지역별 점외 발생률\n",
        "- ZN : 25,000 평방피트를 초과하는 거주 지역의 비율\n",
        "- NDUS : 비상업 지역 넓이 비율\n",
        "- CHAS : 찰스강에 대한 더미 변수(강의 경계에 위차한 경우는 1, 아니면 0)\n",
        "- NOX : 일산화질소 농도\n",
        "- RM : 거주할 수 있는 방 개수\n",
        "- AGE : 1940년 이전에 건축된 소유 주택의 비율\n",
        "- DIS : 5개 주요 고용센터까지의 가중거리\n",
        "- RAD : 고속도로 접근 용이도\n",
        "- TAX : 10,000 달러당 재산세율\n",
        "- PTRATIO : 지역의 교사와 학생 수 비율\n",
        "- B : 지역의 흑인 거주 비율\n",
        "- LSTAT : 하위 계층의 비율\n",
        "-  MEDV : 본인 소유의 주택가격(중앙값)"
      ]
    },
    {
      "cell_type": "code",
      "metadata": {
        "colab": {
          "base_uri": "https://localhost:8080/"
        },
        "id": "B2i7sfUajOCe",
        "outputId": "083f4e42-440d-4ead-96e7-fbf4544531ef"
      },
      "source": [
        "# 2개의 행과 4개의 열을 가진 subplots를 이용. axs는 4x2개의 ax를 가짐.\n",
        "fig, axs = plt.subplots(figsize=(16,8) , ncols=4 , nrows=2)\n",
        "lm_features = ['RM','ZN','INDUS','NOX','AGE','PTRATIO','LSTAT','RAD']\n",
        "for i , feature in enumerate(lm_features):\n",
        "    row = int(i/4)\n",
        "    col = i%4\n",
        "    #시본의 regplot을 이용해 산점도와 선형 회귀 직선을 함께 표현\n",
        "    sns.regplot(x=feature , y='PRICE',data=bostonDF , ax=axs[row][col])"
      ],
      "execution_count": null,
      "outputs": [
        {
          "output_type": "display_data",
          "data": {
            "image/png": "[encoded data removed]",
            "text/plain": [
              "<Figure size 1152x576 with 8 Axes>"
            ]
          },
          "metadata": {
            "tags": [],
            "needs_background": "light"
          }
        }
      ]
    },
    {
      "cell_type": "code",
      "metadata": {
        "colab": {
          "base_uri": "https://localhost:8080/"
        },
        "id": "A4n4BriKjOIZ",
        "outputId": "f2c9bab0-b8f7-4e79-a724-d91298ddccb6"
      },
      "source": [
        "from sklearn.model_selection import train_test_split\n",
        "from sklearn.linear_model import LinearRegression\n",
        "from sklearn.metrics import mean_squared_error , r2_score\n",
        "\n",
        "y_target = bostonDF['PRICE']\n",
        "X_data = bostonDF.drop(['PRICE'],axis=1,inplace=False)\n",
        "\n",
        "X_train , X_test , y_train , y_test = train_test_split(X_data , y_target ,test_size=0.3, random_state=156)\n",
        "\n",
        "# Linear Regression OLS(ordinary Least Square(OLS) method/ Error function을 gradient method)로 학습/예측/평가 수행. \n",
        "lr = LinearRegression()\n",
        "lr.fit(X_train ,y_train ) # model이 train을 하여라.\n",
        "y_preds = lr.predict(X_test)\n",
        "mse = mean_squared_error(y_test, y_preds)  \n",
        "rmse = np.sqrt(mse)\n",
        "\n",
        "print('MSE : {0:.3f} , RMSE : {1:.3F}'.format(mse , rmse))\n",
        "print('Variance score : {0:.3f}'.format(r2_score(y_test, y_preds)))"
      ],
      "execution_count": null,
      "outputs": [
        {
          "output_type": "stream",
          "text": [
            "MSE : 17.297 , RMSE : 4.159\n",
            "Variance score : 0.757\n"
          ],
          "name": "stdout"
        }
      ]
    },
    {
      "cell_type": "code",
      "metadata": {
        "colab": {
          "base_uri": "https://localhost:8080/"
        },
        "id": "ZLfQKCKUjOS1",
        "outputId": "f8249207-b4da-4451-9e11-f3a93c104c42"
      },
      "source": [
        "print('절편 값:',lr.intercept_)\n",
        "print(lr.coef_)\n",
        "print('회귀 계수값:', np.round(lr.coef_, 1))"
      ],
      "execution_count": null,
      "outputs": [
        {
          "output_type": "stream",
          "text": [
            "절편 값: 40.995595172164755\n",
            "[-1.12979614e-01  6.55124002e-02  3.44366694e-02  3.04589777e+00\n",
            " -1.97958320e+01  3.35496880e+00  5.93713290e-03 -1.74185354e+00\n",
            "  3.55884364e-01 -1.42954516e-02 -9.20180066e-01  1.03966156e-02\n",
            " -5.66182106e-01]\n",
            "회귀 계수값: [ -0.1   0.1   0.    3.  -19.8   3.4   0.   -1.7   0.4  -0.   -0.9   0.\n",
            "  -0.6]\n"
          ],
          "name": "stdout"
        }
      ]
    },
    {
      "cell_type": "code",
      "metadata": {
        "colab": {
          "base_uri": "https://localhost:8080/"
        },
        "id": "xYhC1PMmjOWr",
        "outputId": "6f6ae5da-a82b-44bb-d67f-525df8aa008a"
      },
      "source": [
        "# 회귀 계수를 큰 값 순으로 정렬하기 위해 Series로 생성. index가 컬럼명에 유의\n",
        "coeff = pd.Series(data=np.round(lr.coef_, 1), index=X_data.columns )\n",
        "coeff.sort_values(ascending=False)"
      ],
      "execution_count": null,
      "outputs": [
        {
          "output_type": "execute_result",
          "data": {
            "text/plain": [
              "RM          3.4\n",
              "CHAS        3.0\n",
              "RAD         0.4\n",
              "ZN          0.1\n",
              "B           0.0\n",
              "TAX        -0.0\n",
              "AGE         0.0\n",
              "INDUS       0.0\n",
              "CRIM       -0.1\n",
              "LSTAT      -0.6\n",
              "PTRATIO    -0.9\n",
              "DIS        -1.7\n",
              "NOX       -19.8\n",
              "dtype: float64"
            ]
          },
          "metadata": {
            "tags": []
          },
          "execution_count": 37
        }
      ]
    },
    {
      "cell_type": "markdown",
      "metadata": {
        "id": "SYzbvgERwrnd"
      },
      "source": [
        "### K-fold cross validation\n",
        "K 겹 교차 검증(Cross validation)이란 통계학에서 모델을 \"평가\" 하는 한 가지 방법입니다. 소위 held-out validation 이라 불리는 전체 데이터의 일부를 validation set 으로 사용해 모델 성능을 평가하는 것의 문제는 데이터셋의 크기가 작은 경우 테스트셋에 대한 성능 평가의 신뢰성이 떨어지게 된다는 것입니다. 만약 테스트셋을 어떻게 잡느냐에 따라 성능이 다르면, 우연의 효과로 인해 모델 평가 지표에 편향이 생기게 됩니다.\n",
        "\n",
        "\n",
        "\n",
        "이를 해결하기 위해 K-겹 교차 검증은 모든 데이터가 최소 한 번은 테스트셋으로 쓰이도록 합니다. 아래의 그림을 보면, 데이터를 5개로 쪼개 매번 테스트셋을 바꿔나가는 것을 볼 수 있습니다. 첫 번째 Iteration에서는 BCDE를 트레이닝 셋으로, A를 테스트셋으로 설정한 후, 성능을 평가합니다. 두 번째 Iteration에서는 ACDE를 트레이닝셋으로, B를 테스트셋으로하여 성능을 평가합니다. 그러면 총 5개의 성능 평가지표가 생기게 되는데, 보통 이 값들을 평균을 내어 모델의 성능을 평가하게 됩니다. (아래 데이터는 모두 사실은 트레이닝 데이터입니다. Iteration이라는 상황안에서만 테스트셋이 되는 것입니다.) 이 때, 데이터를 몇 개로 쪼갰느냐가 K-겹 교차검증의 K가 됩니다.\n",
        "\n",
        "<figure>\n",
        "    <img src='https://t1.daumcdn.net/cfile/tistory/990DD2465B72F1491E' width=500 height=300>\n",
        "</figure>\n",
        "\n",
        "\n",
        "\n",
        "출처: https://3months.tistory.com/321 [Deep Play]"
      ]
    },
    {
      "cell_type": "code",
      "metadata": {
        "colab": {
          "base_uri": "https://localhost:8080/"
        },
        "id": "Eq6WmeQyjOZH",
        "outputId": "21c04b00-4da0-427f-b872-be223c5c4e7d"
      },
      "source": [
        "from sklearn.model_selection import cross_val_score\n",
        "\n",
        "y_target = bostonDF['PRICE']\n",
        "X_data = bostonDF.drop(['PRICE'],axis=1,inplace=False)\n",
        "lr = LinearRegression()\n",
        "\n",
        "\n",
        "# K-Fold cross validaition 설명 및 그림 붙이기(02/19)?\n",
        "# cross_val_score( )로 5 Fold 셋으로 MSE 를 구한 뒤 이를 기반으로 다시  RMSE 구함. \n",
        "neg_mse_scores = cross_val_score(lr, X_data, y_target, scoring=\"neg_mean_squared_error\", cv = 5)\n",
        "rmse_scores  = np.sqrt(-1 * neg_mse_scores)\n",
        "avg_rmse = np.mean(rmse_scores)\n",
        "\n",
        "\n",
        "# 왜 음수로 코딩(02/19)?\n",
        "# cross_val_score(scoring=\"neg_mean_squared_error\")로 반환된 값은 모두 음수\n",
        "# 회귀의 값은 작아지면 좋으니깐 마이너스를 취하면 작으면 작아지는게 좋음 (사람마다 다를듯) \n",
        "print(' 5 folds 의 개별 Negative MSE scores: ', np.round(neg_mse_scores, 2))\n",
        "print(' 5 folds 의 개별 RMSE scores : ', np.round(rmse_scores, 2))\n",
        "print(' 5 folds 의 평균 RMSE : {0:.3f} '.format(avg_rmse))"
      ],
      "execution_count": null,
      "outputs": [
        {
          "output_type": "stream",
          "text": [
            " 5 folds 의 개별 Negative MSE scores:  [-12.46 -26.05 -33.07 -80.76 -33.31]\n",
            " 5 folds 의 개별 RMSE scores :  [3.53 5.1  5.75 8.99 5.77]\n",
            " 5 folds 의 평균 RMSE : 5.829 \n"
          ],
          "name": "stdout"
        }
      ]
    },
    {
      "cell_type": "markdown",
      "metadata": {
        "id": "_LI3UH6qjinx"
      },
      "source": [
        "## Polynomial Regression과 오버피팅/언더피팅 이해\n",
        "\n",
        "### Polynomial Regression 이해\n",
        "\n",
        "단항 피처 $[x_1, x_2]$를 degree = 2, 즉 2차 다항 피차로 변환한다면?\n",
        "$(x_1+x_2)^2$의 식 전개에 대응되는 $[1,x_1,x_2,x_1x_2,x_1^2,x_2^2]$의 다항 피처들로 변환\n",
        "\n",
        "1차 단항 피처들의 값이 $[x_1, x_2] = [0,1]$ 일 경우\n",
        "\n",
        "2차 다항 피처들의 $[1,x_1=0,x_2=1,x_1x_2=0, x_1^2=0,x_2^2=1]$형태인  [1,0,1,0,0,1]로 변환"
      ]
    },
    {
      "cell_type": "code",
      "metadata": {
        "colab": {
          "base_uri": "https://localhost:8080/"
        },
        "id": "5TGqvCSljOcj",
        "outputId": "81ad60fc-b77f-4aa3-93f7-cf1962c3bd0d"
      },
      "source": [
        "from sklearn.preprocessing import PolynomialFeatures\n",
        "import numpy as np\n",
        "\n",
        "# 다항식으로 변환한 단항식 생성, [[0,1],[2,3]]의 2X2 행렬 생성\n",
        "X = np.arange(4).reshape(2,2)\n",
        "print('일차 단항식 계수 feature:\\n',X )\n",
        "\n",
        "# degree = 2 인 2차 다항식으로 변환하기 위해 PolynomialFeatures를 이용하여 변환\n",
        "poly = PolynomialFeatures(degree=2)\n",
        "poly.fit(X)\n",
        "poly_ftr = poly.transform(X)\n",
        "print('변환된 2차 다항식 계수 feature:\\n', poly_ftr)"
      ],
      "execution_count": null,
      "outputs": [
        {
          "output_type": "stream",
          "text": [
            "일차 단항식 계수 feature:\n",
            " [[0 1]\n",
            " [2 3]]\n",
            "변환된 2차 다항식 계수 feature:\n",
            " [[1. 0. 1. 0. 0. 1.]\n",
            " [1. 2. 3. 4. 6. 9.]]\n"
          ],
          "name": "stdout"
        }
      ]
    },
    {
      "cell_type": "code",
      "metadata": {
        "colab": {
          "base_uri": "https://localhost:8080/"
        },
        "id": "bgRj24gyjOqk",
        "outputId": "b1a075a4-af9f-4b2c-8b11-848c06bc877e"
      },
      "source": [
        "def polynomial_func(X):\n",
        "    y = 1 + 2 * X + X ** 2 + X ** 3\n",
        "    return y\n",
        "\n",
        "X = np.arange(4).reshape(2,2)\n",
        "print('일차 단항식 계수 feature: \\n' ,X)\n",
        "y = polynomial_func(X)\n",
        "print('삼차 다항식 결정값: \\n', y)"
      ],
      "execution_count": null,
      "outputs": [
        {
          "output_type": "stream",
          "text": [
            "일차 단항식 계수 feature: \n",
            " [[0 1]\n",
            " [2 3]]\n",
            "삼차 다항식 결정값: \n",
            " [[ 1  5]\n",
            " [17 43]]\n"
          ],
          "name": "stdout"
        }
      ]
    },
    {
      "cell_type": "code",
      "metadata": {
        "id": "Guj2wfNeidiw",
        "colab": {
          "base_uri": "https://localhost:8080/"
        },
        "outputId": "fa731866-4144-484d-d7d2-d0de5cb9de54"
      },
      "source": [
        " #3 차 다항식 변환 \n",
        "poly_ftr = PolynomialFeatures(degree=3).fit_transform(X)\n",
        "print('3차 다항식 계수 feature: \\n',poly_ftr)\n",
        "\n",
        "# Linear Regression에 3차 다항식 계수 feature와 3차 다항식 결정값으로 학습 후 회귀 계수 확인\n",
        "model = LinearRegression()\n",
        "model.fit(poly_ftr,y)\n",
        "print('Polynomial 회귀 계수\\n' , np.round(model.coef_, 2))\n",
        "print('Polynomial 회귀 Shape :', model.coef_.shape)\n"
      ],
      "execution_count": null,
      "outputs": [
        {
          "output_type": "stream",
          "text": [
            "3차 다항식 계수 feature: \n",
            " [[ 1.  0.  1.  0.  0.  1.  0.  0.  0.  1.]\n",
            " [ 1.  2.  3.  4.  6.  9.  8. 12. 18. 27.]]\n",
            "Polynomial 회귀 계수\n",
            " [[0.   0.02 0.02 0.05 0.07 0.1  0.1  0.14 0.22 0.31]\n",
            " [0.   0.06 0.06 0.11 0.17 0.23 0.23 0.34 0.51 0.74]]\n",
            "Polynomial 회귀 Shape : (2, 10)\n"
          ],
          "name": "stdout"
        }
      ]
    },
    {
      "cell_type": "code",
      "metadata": {
        "colab": {
          "base_uri": "https://localhost:8080/"
        },
        "id": "nfkCvl58jrwq",
        "outputId": "deabda3a-0892-411f-da09-cde1e3a39c3f"
      },
      "source": [
        "from sklearn.preprocessing import PolynomialFeatures\n",
        "from sklearn.linear_model import LinearRegression\n",
        "from sklearn.pipeline import Pipeline\n",
        "import numpy as np\n",
        "\n",
        "def polynomial_func(X):\n",
        "    y = 1 + 2 * X + X ** 2 + X ** 3\n",
        "    return y\n",
        "\n",
        "# Pipeline 객체로 Streamline 하게 Polynomial Feature변환과 Linear Regression을 연결\n",
        "model = Pipeline([('poly', PolynomialFeatures(degree=3)),\n",
        "                  ('linear', LinearRegression())])\n",
        "X = np.arange(4).reshape(2,2)\n",
        "y = polynomial_func(X)\n",
        "\n",
        "model = model.fit(X, y)\n",
        "print('Polynomial 회귀 계수\\n', np.round(model.named_steps['linear'].coef_, 2))"
      ],
      "execution_count": null,
      "outputs": [
        {
          "output_type": "stream",
          "text": [
            "Polynomial 회귀 계수\n",
            " [[0.   0.02 0.02 0.05 0.07 0.1  0.1  0.14 0.22 0.31]\n",
            " [0.   0.06 0.06 0.11 0.17 0.23 0.23 0.34 0.51 0.74]]\n"
          ],
          "name": "stdout"
        }
      ]
    },
    {
      "cell_type": "markdown",
      "metadata": {
        "id": "M61ZnrCrjzK2"
      },
      "source": [
        "### Polynomial Regression 을 이용한 Underfitting, Overfitting 이해"
      ]
    },
    {
      "cell_type": "code",
      "metadata": {
        "id": "yTFhFmtXjvr1"
      },
      "source": [
        "import numpy as np\n",
        "import matplotlib.pyplot as plt\n",
        "#####################################\n",
        "from sklearn.pipeline import Pipeline\n",
        "from sklearn.preprocessing import PolynomialFeatures\n",
        "from sklearn.linear_model import LinearRegression\n",
        "from sklearn.model_selection import cross_val_score\n",
        "%matplotlib inline\n",
        "\n",
        "# random 값으로 구성된 X값에 대해 Cosine 변환값을 반환. \n",
        "def true_fun(X):\n",
        "    return np.cos(1.5 * np.pi * X)\n",
        "\n",
        "# X는 0 부터 1까지 30개의 random 값을 순서대로 sampling 한 데이타 입니다.  \n",
        "np.random.seed(0)\n",
        "n_samples = 30\n",
        "X = np.sort(np.random.rand(n_samples))\n",
        "\n",
        "# y 값은 cosine 기반의 true_fun() 에서 약간의 Noise 변동값을 더한 값입니다. \n",
        "y = true_fun(X) + np.random.randn(n_samples) * 0.1"
      ],
      "execution_count": null,
      "outputs": []
    },
    {
      "cell_type": "code",
      "metadata": {
        "colab": {
          "base_uri": "https://localhost:8080/"
        },
        "id": "QZdRkhfsj2Au",
        "outputId": "7add37b2-e02a-465c-8eb0-bbcc452c773d"
      },
      "source": [
        "plt.figure(figsize=(14, 5))\n",
        "degrees = [1, 4, 15]\n",
        "\n",
        "# 다항 회귀의 차수(degree)를 1, 4, 15로 각각 변화시키면서 비교합니다. / 다항회귀의 단점 : 오버피팅되기가 매우 쉬움\n",
        "for i in range(len(degrees)):\n",
        "    ax = plt.subplot(1, len(degrees), i + 1)\n",
        "    plt.setp(ax, xticks=(), yticks=())\n",
        "    \n",
        "    # 개별 degree별로 Polynomial 변환합니다. \n",
        "    # include_bias : y절편을 넣을것인가?\n",
        "    polynomial_features = PolynomialFeatures(degree=degrees[i], include_bias=False)\n",
        "    linear_regression = LinearRegression()\n",
        "    pipeline = Pipeline([(\"polynomial_features\", polynomial_features),\n",
        "                         (\"linear_regression\", linear_regression)])\n",
        "    pipeline.fit(X.reshape(-1, 1), y)\n",
        "    \n",
        "    # 교차 검증으로 다항 회귀를 평가합니다. \n",
        "    scores = cross_val_score(pipeline, X.reshape(-1,1), y,scoring=\"neg_mean_squared_error\", cv=10)\n",
        "    coefficients = pipeline.named_steps['linear_regression'].coef_\n",
        "    print('\\nDegree {0} 회귀 계수는 {1} 입니다.'.format(degrees[i], np.round(coefficients),2))\n",
        "    print('Degree {0} MSE 는 {1:.2f} 입니다.'.format(degrees[i] , -1*np.mean(scores)))\n",
        "    \n",
        "    # 0 부터 1까지 테스트 데이터 세트를 100개로 나눠 예측을 수행합니다. \n",
        "    # 테스트 데이터 세트에 회귀 예측을 수행하고 예측 곡선과 실제 곡선을 그려서 비교합니다.  \n",
        "    X_test = np.linspace(0, 1, 100)\n",
        "    # 예측값 곡선\n",
        "    plt.plot(X_test, pipeline.predict(X_test[:, np.newaxis]), label=\"Model\") \n",
        "    # 실제 값 곡선\n",
        "    plt.plot(X_test, true_fun(X_test), '--', label=\"True function\")\n",
        "    plt.scatter(X, y, edgecolor='b', s=20, label=\"Samples\")\n",
        "    \n",
        "    plt.xlabel(\"x\"); plt.ylabel(\"y\"); plt.xlim((0, 1)); plt.ylim((-2, 2)); plt.legend(loc=\"best\")\n",
        "    plt.title(\"Degree {}\\nMSE = {:.2e}(+/- {:.2e})\".format(degrees[i], -scores.mean(), scores.std()))\n",
        "\n",
        "plt.show()"
      ],
      "execution_count": null,
      "outputs": [
        {
          "output_type": "stream",
          "text": [
            "\n",
            "Degree 1 회귀 계수는 [-2.] 입니다.\n",
            "Degree 1 MSE 는 0.41 입니다.\n",
            "\n",
            "Degree 4 회귀 계수는 [  0. -18.  24.  -7.] 입니다.\n",
            "Degree 4 MSE 는 0.04 입니다.\n",
            "\n",
            "Degree 15 회귀 계수는 [-2.98300000e+03  1.03899000e+05 -1.87415100e+06  2.03715130e+07\n",
            " -1.44872551e+08  7.09311979e+08 -2.47064676e+09  6.24558367e+09\n",
            " -1.15676035e+10  1.56894317e+10 -1.54005437e+10  1.06456871e+10\n",
            " -4.91375763e+09  1.35919168e+09 -1.70380199e+08] 입니다.\n",
            "Degree 15 MSE 는 180526263.29 입니다.\n"
          ],
          "name": "stdout"
        },
        {
          "output_type": "display_data",
          "data": {
            "image/png": "[encoded data removed]",
            "text/plain": [
              "<Figure size 1008x360 with 3 Axes>"
            ]
          },
          "metadata": {
            "tags": []
          }
        }
      ]
    },
    {
      "cell_type": "markdown",
      "metadata": {
        "id": "SUvezwLvj9MP"
      },
      "source": [
        "## Regularized Linear Models – Ridge, Lasso\n",
        "### Regularized Linear Model - Ridge Regression"
      ]
    },
    {
      "cell_type": "code",
      "metadata": {
        "colab": {
          "base_uri": "https://localhost:8080/"
        },
        "id": "j1GaLUyJj4om",
        "outputId": "2d37743d-ac56-4a8e-cd10-2007920aa7ec"
      },
      "source": [
        "# 앞의 LinearRegression예제에서 분할한 feature 데이터 셋인 X_data과 Target 데이터 셋인 Y_target 데이터셋을 그대로 이용 \n",
        "from sklearn.linear_model import Ridge # Linear regression+Ridge(norm)^2\n",
        "from sklearn.model_selection import cross_val_score\n",
        "\n",
        "ridge = Ridge(alpha = 10)\n",
        "neg_mse_scores = cross_val_score(ridge, X_data, y_target, scoring=\"neg_mean_squared_error\", cv = 5)\n",
        "rmse_scores  = np.sqrt(-1 * neg_mse_scores)\n",
        "avg_rmse = np.mean(rmse_scores)\n",
        "print(' 5 folds 의 개별 Negative MSE scores: ', np.round(neg_mse_scores, 3))\n",
        "print(' 5 folds 의 개별 RMSE scores : ', np.round(rmse_scores,3))\n",
        "print(' 5 folds 의 평균 RMSE : {0:.3f} '.format(avg_rmse))"
      ],
      "execution_count": null,
      "outputs": [
        {
          "output_type": "stream",
          "text": [
            " 5 folds 의 개별 Negative MSE scores:  [-11.422 -24.294 -28.144 -74.599 -28.517]\n",
            " 5 folds 의 개별 RMSE scores :  [3.38  4.929 5.305 8.637 5.34 ]\n",
            " 5 folds 의 평균 RMSE : 5.518 \n"
          ],
          "name": "stdout"
        }
      ]
    },
    {
      "cell_type": "code",
      "metadata": {
        "colab": {
          "base_uri": "https://localhost:8080/"
        },
        "id": "3gedsmVPkBbY",
        "outputId": "32846bbd-c10d-4f6f-cc02-15ae91b8478b"
      },
      "source": [
        "# Ridge에 사용될 alpha 파라미터의 값들을 정의\n",
        "alphas = [0 , 0.1 , 1 , 10 , 100]\n",
        "\n",
        "# alphas list 값을 iteration하면서 alpha에 따른 평균 rmse 구함.\n",
        "for alpha in alphas :\n",
        "    ridge = Ridge(alpha = alpha)\n",
        "    \n",
        "    #cross_val_score를 이용하여 5 fold의 평균 RMSE 계산\n",
        "    neg_mse_scores = cross_val_score(ridge, X_data, y_target, scoring=\"neg_mean_squared_error\", cv = 5)\n",
        "    avg_rmse = np.mean(np.sqrt(-1 * neg_mse_scores))\n",
        "    print('alpha {0} 일 때 5 folds 의 평균 RMSE : {1:.3f} '.format(alpha,avg_rmse))"
      ],
      "execution_count": null,
      "outputs": [
        {
          "output_type": "stream",
          "text": [
            "alpha 0 일 때 5 folds 의 평균 RMSE : 5.829 \n",
            "alpha 0.1 일 때 5 folds 의 평균 RMSE : 5.788 \n",
            "alpha 1 일 때 5 folds 의 평균 RMSE : 5.653 \n",
            "alpha 10 일 때 5 folds 의 평균 RMSE : 5.518 \n",
            "alpha 100 일 때 5 folds 의 평균 RMSE : 5.330 \n"
          ],
          "name": "stdout"
        }
      ]
    },
    {
      "cell_type": "code",
      "metadata": {
        "colab": {
          "base_uri": "https://localhost:8080/"
        },
        "id": "Z9wINBevkDEi",
        "outputId": "ef962d79-0174-4a3d-b3e8-7f87ea24acf0"
      },
      "source": [
        "# 각 alpha에 따른 회귀 계수 값을 시각화하기 위해 5개의 열로 된 맷플롯립 축 생성  \n",
        "fig , axs = plt.subplots(figsize=(18,6) , nrows=1 , ncols=5)\n",
        "# 각 alpha에 따른 회귀 계수 값을 데이터로 저장하기 위한 DataFrame 생성  \n",
        "coeff_df = pd.DataFrame()\n",
        "\n",
        "# alphas 리스트 값을 차례로 입력해 회귀 계수 값 시각화 및 데이터 저장. pos는 axis의 위치 지정\n",
        "for pos , alpha in enumerate(alphas) :\n",
        "    ridge = Ridge(alpha = alpha)\n",
        "    ridge.fit(X_data , y_target)\n",
        "    # alpha에 따른 피처별 회귀 계수를 Series로 변환하고 이를 DataFrame의 컬럼으로 추가.  \n",
        "    coeff = pd.Series(data=ridge.coef_ , index=X_data.columns )\n",
        "    colname='alpha:'+str(alpha)\n",
        "    coeff_df[colname] = coeff\n",
        "    # 막대 그래프로 각 alpha 값에서의 회귀 계수를 시각화. 회귀 계수값이 높은 순으로 표현\n",
        "    coeff = coeff.sort_values(ascending=False)\n",
        "    axs[pos].set_title(colname)\n",
        "    axs[pos].set_xlim(-3,6)\n",
        "    sns.barplot(x=coeff.values , y=coeff.index, ax=axs[pos])\n",
        "\n",
        "# for 문 바깥에서 맷플롯립의 show 호출 및 alpha에 따른 피처별 회귀 계수를 DataFrame으로 표시\n",
        "plt.show()"
      ],
      "execution_count": null,
      "outputs": [
        {
          "output_type": "display_data",
          "data": {
            "image/png": "[encoded data removed]",
            "text/plain": [
              "<Figure size 1296x432 with 5 Axes>"
            ]
          },
          "metadata": {
            "tags": [],
            "needs_background": "light"
          }
        }
      ]
    },
    {
      "cell_type": "code",
      "metadata": {
        "colab": {
          "base_uri": "https://localhost:8080/"
        },
        "id": "RxvFFarvkFtp",
        "outputId": "b62687d5-8485-4dc0-ad48-5d3b09b51440"
      },
      "source": [
        "ridge_alphas = [0 , 0.1 , 1 , 10 , 100]\n",
        "sort_column = 'alpha:'+str(ridge_alphas[0])\n",
        "coeff_df.sort_values(by=sort_column, ascending=False)"
      ],
      "execution_count": null,
      "outputs": [
        {
          "output_type": "execute_result",
          "data": {
            "text/html": [
              "<div>\n",
              "<style scoped>\n",
              "    .dataframe tbody tr th:only-of-type {\n",
              "        vertical-align: middle;\n",
              "    }\n",
              "\n",
              "    .dataframe tbody tr th {\n",
              "        vertical-align: top;\n",
              "    }\n",
              "\n",
              "    .dataframe thead th {\n",
              "        text-align: right;\n",
              "    }\n",
              "</style>\n",
              "<table border=\"1\" class=\"dataframe\">\n",
              "  <thead>\n",
              "    <tr style=\"text-align: right;\">\n",
              "      <th></th>\n",
              "      <th>alpha:0</th>\n",
              "      <th>alpha:0.1</th>\n",
              "      <th>alpha:1</th>\n",
              "      <th>alpha:10</th>\n",
              "      <th>alpha:100</th>\n",
              "    </tr>\n",
              "  </thead>\n",
              "  <tbody>\n",
              "    <tr>\n",
              "      <th>RM</th>\n",
              "      <td>3.809865</td>\n",
              "      <td>3.818233</td>\n",
              "      <td>3.854000</td>\n",
              "      <td>3.702272</td>\n",
              "      <td>2.334536</td>\n",
              "    </tr>\n",
              "    <tr>\n",
              "      <th>CHAS</th>\n",
              "      <td>2.686734</td>\n",
              "      <td>2.670019</td>\n",
              "      <td>2.552393</td>\n",
              "      <td>1.952021</td>\n",
              "      <td>0.638335</td>\n",
              "    </tr>\n",
              "    <tr>\n",
              "      <th>RAD</th>\n",
              "      <td>0.306049</td>\n",
              "      <td>0.303515</td>\n",
              "      <td>0.290142</td>\n",
              "      <td>0.279596</td>\n",
              "      <td>0.315358</td>\n",
              "    </tr>\n",
              "    <tr>\n",
              "      <th>ZN</th>\n",
              "      <td>0.046420</td>\n",
              "      <td>0.046572</td>\n",
              "      <td>0.047443</td>\n",
              "      <td>0.049579</td>\n",
              "      <td>0.054496</td>\n",
              "    </tr>\n",
              "    <tr>\n",
              "      <th>INDUS</th>\n",
              "      <td>0.020559</td>\n",
              "      <td>0.015999</td>\n",
              "      <td>-0.008805</td>\n",
              "      <td>-0.042962</td>\n",
              "      <td>-0.052826</td>\n",
              "    </tr>\n",
              "    <tr>\n",
              "      <th>B</th>\n",
              "      <td>0.009312</td>\n",
              "      <td>0.009368</td>\n",
              "      <td>0.009673</td>\n",
              "      <td>0.010037</td>\n",
              "      <td>0.009393</td>\n",
              "    </tr>\n",
              "    <tr>\n",
              "      <th>AGE</th>\n",
              "      <td>0.000692</td>\n",
              "      <td>-0.000269</td>\n",
              "      <td>-0.005415</td>\n",
              "      <td>-0.010707</td>\n",
              "      <td>0.001212</td>\n",
              "    </tr>\n",
              "    <tr>\n",
              "      <th>TAX</th>\n",
              "      <td>-0.012335</td>\n",
              "      <td>-0.012421</td>\n",
              "      <td>-0.012912</td>\n",
              "      <td>-0.013993</td>\n",
              "      <td>-0.015856</td>\n",
              "    </tr>\n",
              "    <tr>\n",
              "      <th>CRIM</th>\n",
              "      <td>-0.108011</td>\n",
              "      <td>-0.107474</td>\n",
              "      <td>-0.104595</td>\n",
              "      <td>-0.101435</td>\n",
              "      <td>-0.102202</td>\n",
              "    </tr>\n",
              "    <tr>\n",
              "      <th>LSTAT</th>\n",
              "      <td>-0.524758</td>\n",
              "      <td>-0.525966</td>\n",
              "      <td>-0.533343</td>\n",
              "      <td>-0.559366</td>\n",
              "      <td>-0.660764</td>\n",
              "    </tr>\n",
              "    <tr>\n",
              "      <th>PTRATIO</th>\n",
              "      <td>-0.952747</td>\n",
              "      <td>-0.940759</td>\n",
              "      <td>-0.876074</td>\n",
              "      <td>-0.797945</td>\n",
              "      <td>-0.829218</td>\n",
              "    </tr>\n",
              "    <tr>\n",
              "      <th>DIS</th>\n",
              "      <td>-1.475567</td>\n",
              "      <td>-1.459626</td>\n",
              "      <td>-1.372654</td>\n",
              "      <td>-1.248808</td>\n",
              "      <td>-1.153390</td>\n",
              "    </tr>\n",
              "    <tr>\n",
              "      <th>NOX</th>\n",
              "      <td>-17.766611</td>\n",
              "      <td>-16.684645</td>\n",
              "      <td>-10.777015</td>\n",
              "      <td>-2.371619</td>\n",
              "      <td>-0.262847</td>\n",
              "    </tr>\n",
              "  </tbody>\n",
              "</table>\n",
              "</div>"
            ],
            "text/plain": [
              "           alpha:0  alpha:0.1    alpha:1  alpha:10  alpha:100\n",
              "RM        3.809865   3.818233   3.854000  3.702272   2.334536\n",
              "CHAS      2.686734   2.670019   2.552393  1.952021   0.638335\n",
              "RAD       0.306049   0.303515   0.290142  0.279596   0.315358\n",
              "ZN        0.046420   0.046572   0.047443  0.049579   0.054496\n",
              "INDUS     0.020559   0.015999  -0.008805 -0.042962  -0.052826\n",
              "B         0.009312   0.009368   0.009673  0.010037   0.009393\n",
              "AGE       0.000692  -0.000269  -0.005415 -0.010707   0.001212\n",
              "TAX      -0.012335  -0.012421  -0.012912 -0.013993  -0.015856\n",
              "CRIM     -0.108011  -0.107474  -0.104595 -0.101435  -0.102202\n",
              "LSTAT    -0.524758  -0.525966  -0.533343 -0.559366  -0.660764\n",
              "PTRATIO  -0.952747  -0.940759  -0.876074 -0.797945  -0.829218\n",
              "DIS      -1.475567  -1.459626  -1.372654 -1.248808  -1.153390\n",
              "NOX     -17.766611 -16.684645 -10.777015 -2.371619  -0.262847"
            ]
          },
          "metadata": {
            "tags": []
          },
          "execution_count": 48
        }
      ]
    },
    {
      "cell_type": "markdown",
      "metadata": {
        "id": "QzDJgrzKkM0C"
      },
      "source": [
        "### Lasso regression"
      ]
    },
    {
      "cell_type": "code",
      "metadata": {
        "id": "Jay_FEh3kKHi"
      },
      "source": [
        "from sklearn.linear_model import Lasso, ElasticNet\n",
        "\n",
        "# alpha값에 따른 회귀 모델의 폴드 평균 RMSE를 출력하고 회귀 계수값들을 DataFrame으로 반환 \n",
        "def get_linear_reg_eval(model_name, params=None, X_data_n=None, y_target_n=None, verbose=True):\n",
        "    coeff_df = pd.DataFrame()\n",
        "    if verbose : print('####### ', model_name , '#######')\n",
        "    for param in params:\n",
        "        if model_name =='Ridge': \n",
        "          model = Ridge(alpha=param)\n",
        "        elif model_name =='Lasso': \n",
        "          model = Lasso(alpha=param)\n",
        "        elif model_name =='ElasticNet': \n",
        "          model = ElasticNet(alpha=param, l1_ratio=0.7)\n",
        "        neg_mse_scores = cross_val_score(model, X_data_n, \n",
        "                                             y_target_n, scoring=\"neg_mean_squared_error\", cv = 5)\n",
        "        avg_rmse = np.mean(np.sqrt(-1 * neg_mse_scores))\n",
        "        print('alpha {0}일 때 5 폴드 세트의 평균 RMSE: {1:.3f} '.format(param, avg_rmse))\n",
        "        # cross_val_score는 evaluation metric만 반환하므로 모델을 다시 학습하여 회귀 계수 추출\n",
        "        model.fit(X_data , y_target)\n",
        "        # alpha에 따른 피처별 회귀 계수를 Series로 변환하고 이를 DataFrame의 컬럼으로 추가. \n",
        "        coeff = pd.Series(data=model.coef_ , index=X_data.columns )\n",
        "        colname='alpha:'+str(param)\n",
        "        coeff_df[colname] = coeff\n",
        "    return coeff_df\n",
        "# end of get_linear_regre_eval"
      ],
      "execution_count": null,
      "outputs": []
    },
    {
      "cell_type": "code",
      "metadata": {
        "colab": {
          "base_uri": "https://localhost:8080/"
        },
        "id": "koPkkmUykQrA",
        "outputId": "282a6035-34ad-434d-a7f7-fcd78f447c13"
      },
      "source": [
        " #라쏘에 사용될 alpha 파라미터의 값들을 정의하고 get_linear_reg_eval() 함수 호출\n",
        "lasso_alphas = [ 0.07, 0.1, 0.5, 1, 3]\n",
        "coeff_lasso_df =get_linear_reg_eval('Lasso', params=lasso_alphas, X_data_n=X_data, y_target_n=y_target)\n",
        "coeff_Ridge_df = get_linear_reg_eval('Ridge',params=lasso_alphas, X_data_n=X_data, y_target_n=y_target)"
      ],
      "execution_count": null,
      "outputs": [
        {
          "output_type": "stream",
          "text": [
            "#######  Lasso #######\n",
            "alpha 0.07일 때 5 폴드 세트의 평균 RMSE: 5.612 \n",
            "alpha 0.1일 때 5 폴드 세트의 평균 RMSE: 5.615 \n",
            "alpha 0.5일 때 5 폴드 세트의 평균 RMSE: 5.669 \n",
            "alpha 1일 때 5 폴드 세트의 평균 RMSE: 5.776 \n",
            "alpha 3일 때 5 폴드 세트의 평균 RMSE: 6.189 \n",
            "#######  Ridge #######\n",
            "alpha 0.07일 때 5 폴드 세트의 평균 RMSE: 5.799 \n",
            "alpha 0.1일 때 5 폴드 세트의 평균 RMSE: 5.788 \n",
            "alpha 0.5일 때 5 폴드 세트의 평균 RMSE: 5.700 \n",
            "alpha 1일 때 5 폴드 세트의 평균 RMSE: 5.653 \n",
            "alpha 3일 때 5 폴드 세트의 평균 RMSE: 5.589 \n"
          ],
          "name": "stdout"
        }
      ]
    },
    {
      "cell_type": "code",
      "metadata": {
        "colab": {
          "base_uri": "https://localhost:8080/"
        },
        "id": "dpy6isyTkTLf",
        "outputId": "b93f24ce-1086-4494-bcaf-e40ad65f8f1e"
      },
      "source": [
        "# 반환된 coeff_lasso_df를 첫번째 컬럼순으로 내림차순 정렬하여 회귀계수 DataFrame출력\n",
        "sort_column = 'alpha:'+str(lasso_alphas[0])\n",
        "coeff_lasso_df.sort_values(by=sort_column, ascending=False)"
      ],
      "execution_count": null,
      "outputs": [
        {
          "output_type": "execute_result",
          "data": {
            "text/html": [
              "<div>\n",
              "<style scoped>\n",
              "    .dataframe tbody tr th:only-of-type {\n",
              "        vertical-align: middle;\n",
              "    }\n",
              "\n",
              "    .dataframe tbody tr th {\n",
              "        vertical-align: top;\n",
              "    }\n",
              "\n",
              "    .dataframe thead th {\n",
              "        text-align: right;\n",
              "    }\n",
              "</style>\n",
              "<table border=\"1\" class=\"dataframe\">\n",
              "  <thead>\n",
              "    <tr style=\"text-align: right;\">\n",
              "      <th></th>\n",
              "      <th>alpha:0.07</th>\n",
              "      <th>alpha:0.1</th>\n",
              "      <th>alpha:0.5</th>\n",
              "      <th>alpha:1</th>\n",
              "      <th>alpha:3</th>\n",
              "    </tr>\n",
              "  </thead>\n",
              "  <tbody>\n",
              "    <tr>\n",
              "      <th>RM</th>\n",
              "      <td>3.789725</td>\n",
              "      <td>3.703202</td>\n",
              "      <td>2.498212</td>\n",
              "      <td>0.949811</td>\n",
              "      <td>0.000000</td>\n",
              "    </tr>\n",
              "    <tr>\n",
              "      <th>CHAS</th>\n",
              "      <td>1.434343</td>\n",
              "      <td>0.955190</td>\n",
              "      <td>0.000000</td>\n",
              "      <td>0.000000</td>\n",
              "      <td>0.000000</td>\n",
              "    </tr>\n",
              "    <tr>\n",
              "      <th>RAD</th>\n",
              "      <td>0.270936</td>\n",
              "      <td>0.274707</td>\n",
              "      <td>0.277451</td>\n",
              "      <td>0.264206</td>\n",
              "      <td>0.061864</td>\n",
              "    </tr>\n",
              "    <tr>\n",
              "      <th>ZN</th>\n",
              "      <td>0.049059</td>\n",
              "      <td>0.049211</td>\n",
              "      <td>0.049544</td>\n",
              "      <td>0.049165</td>\n",
              "      <td>0.037231</td>\n",
              "    </tr>\n",
              "    <tr>\n",
              "      <th>B</th>\n",
              "      <td>0.010248</td>\n",
              "      <td>0.010249</td>\n",
              "      <td>0.009469</td>\n",
              "      <td>0.008247</td>\n",
              "      <td>0.006510</td>\n",
              "    </tr>\n",
              "    <tr>\n",
              "      <th>NOX</th>\n",
              "      <td>-0.000000</td>\n",
              "      <td>-0.000000</td>\n",
              "      <td>-0.000000</td>\n",
              "      <td>-0.000000</td>\n",
              "      <td>0.000000</td>\n",
              "    </tr>\n",
              "    <tr>\n",
              "      <th>AGE</th>\n",
              "      <td>-0.011706</td>\n",
              "      <td>-0.010037</td>\n",
              "      <td>0.003604</td>\n",
              "      <td>0.020910</td>\n",
              "      <td>0.042495</td>\n",
              "    </tr>\n",
              "    <tr>\n",
              "      <th>TAX</th>\n",
              "      <td>-0.014290</td>\n",
              "      <td>-0.014570</td>\n",
              "      <td>-0.015442</td>\n",
              "      <td>-0.015212</td>\n",
              "      <td>-0.008602</td>\n",
              "    </tr>\n",
              "    <tr>\n",
              "      <th>INDUS</th>\n",
              "      <td>-0.042120</td>\n",
              "      <td>-0.036619</td>\n",
              "      <td>-0.005253</td>\n",
              "      <td>-0.000000</td>\n",
              "      <td>-0.000000</td>\n",
              "    </tr>\n",
              "    <tr>\n",
              "      <th>CRIM</th>\n",
              "      <td>-0.098193</td>\n",
              "      <td>-0.097894</td>\n",
              "      <td>-0.083289</td>\n",
              "      <td>-0.063437</td>\n",
              "      <td>-0.000000</td>\n",
              "    </tr>\n",
              "    <tr>\n",
              "      <th>LSTAT</th>\n",
              "      <td>-0.560431</td>\n",
              "      <td>-0.568769</td>\n",
              "      <td>-0.656290</td>\n",
              "      <td>-0.761115</td>\n",
              "      <td>-0.807679</td>\n",
              "    </tr>\n",
              "    <tr>\n",
              "      <th>PTRATIO</th>\n",
              "      <td>-0.765107</td>\n",
              "      <td>-0.770654</td>\n",
              "      <td>-0.758752</td>\n",
              "      <td>-0.722966</td>\n",
              "      <td>-0.265072</td>\n",
              "    </tr>\n",
              "    <tr>\n",
              "      <th>DIS</th>\n",
              "      <td>-1.176583</td>\n",
              "      <td>-1.160538</td>\n",
              "      <td>-0.936605</td>\n",
              "      <td>-0.668790</td>\n",
              "      <td>-0.000000</td>\n",
              "    </tr>\n",
              "  </tbody>\n",
              "</table>\n",
              "</div>"
            ],
            "text/plain": [
              "         alpha:0.07  alpha:0.1  alpha:0.5   alpha:1   alpha:3\n",
              "RM         3.789725   3.703202   2.498212  0.949811  0.000000\n",
              "CHAS       1.434343   0.955190   0.000000  0.000000  0.000000\n",
              "RAD        0.270936   0.274707   0.277451  0.264206  0.061864\n",
              "ZN         0.049059   0.049211   0.049544  0.049165  0.037231\n",
              "B          0.010248   0.010249   0.009469  0.008247  0.006510\n",
              "NOX       -0.000000  -0.000000  -0.000000 -0.000000  0.000000\n",
              "AGE       -0.011706  -0.010037   0.003604  0.020910  0.042495\n",
              "TAX       -0.014290  -0.014570  -0.015442 -0.015212 -0.008602\n",
              "INDUS     -0.042120  -0.036619  -0.005253 -0.000000 -0.000000\n",
              "CRIM      -0.098193  -0.097894  -0.083289 -0.063437 -0.000000\n",
              "LSTAT     -0.560431  -0.568769  -0.656290 -0.761115 -0.807679\n",
              "PTRATIO   -0.765107  -0.770654  -0.758752 -0.722966 -0.265072\n",
              "DIS       -1.176583  -1.160538  -0.936605 -0.668790 -0.000000"
            ]
          },
          "metadata": {
            "tags": []
          },
          "execution_count": 51
        }
      ]
    },
    {
      "cell_type": "markdown",
      "metadata": {
        "id": "6wg30CxckZDn"
      },
      "source": [
        "### 엘라스틱넷 회귀"
      ]
    },
    {
      "cell_type": "code",
      "metadata": {
        "colab": {
          "base_uri": "https://localhost:8080/"
        },
        "id": "xO1Pdnj9kXNG",
        "outputId": "bcc0ccec-0d9b-433c-d85a-ff5dfef1f503"
      },
      "source": [
        "# 엘라스틱넷에 사용될 alpha 파라미터의 값들을 정의하고 get_linear_reg_eval() 함수 호출\n",
        "# l1_ratio는 0.7로 고정\n",
        "elastic_alphas = [ 0.07, 0.1, 0.5, 1, 3]\n",
        "coeff_elastic_df =get_linear_reg_eval('ElasticNet', params=elastic_alphas,\n",
        "                                      X_data_n=X_data, y_target_n=y_target)"
      ],
      "execution_count": null,
      "outputs": [
        {
          "output_type": "stream",
          "text": [
            "#######  ElasticNet #######\n",
            "alpha 0.07일 때 5 폴드 세트의 평균 RMSE: 5.542 \n",
            "alpha 0.1일 때 5 폴드 세트의 평균 RMSE: 5.526 \n",
            "alpha 0.5일 때 5 폴드 세트의 평균 RMSE: 5.467 \n",
            "alpha 1일 때 5 폴드 세트의 평균 RMSE: 5.597 \n",
            "alpha 3일 때 5 폴드 세트의 평균 RMSE: 6.068 \n"
          ],
          "name": "stdout"
        }
      ]
    },
    {
      "cell_type": "code",
      "metadata": {
        "colab": {
          "base_uri": "https://localhost:8080/"
        },
        "id": "BHUJXZYxkbdi",
        "outputId": "fd23e5bc-ef9d-41cf-b36a-4436f0e71fad"
      },
      "source": [
        "# 반환된 coeff_elastic_df를 첫번째 컬럼순으로 내림차순 정렬하여 회귀계수 DataFrame출력\n",
        "sort_column = 'alpha:'+str(elastic_alphas[0])\n",
        "coeff_elastic_df.sort_values(by=sort_column, ascending=False)"
      ],
      "execution_count": null,
      "outputs": [
        {
          "output_type": "execute_result",
          "data": {
            "text/html": [
              "<div>\n",
              "<style scoped>\n",
              "    .dataframe tbody tr th:only-of-type {\n",
              "        vertical-align: middle;\n",
              "    }\n",
              "\n",
              "    .dataframe tbody tr th {\n",
              "        vertical-align: top;\n",
              "    }\n",
              "\n",
              "    .dataframe thead th {\n",
              "        text-align: right;\n",
              "    }\n",
              "</style>\n",
              "<table border=\"1\" class=\"dataframe\">\n",
              "  <thead>\n",
              "    <tr style=\"text-align: right;\">\n",
              "      <th></th>\n",
              "      <th>alpha:0.07</th>\n",
              "      <th>alpha:0.1</th>\n",
              "      <th>alpha:0.5</th>\n",
              "      <th>alpha:1</th>\n",
              "      <th>alpha:3</th>\n",
              "    </tr>\n",
              "  </thead>\n",
              "  <tbody>\n",
              "    <tr>\n",
              "      <th>RM</th>\n",
              "      <td>3.574162</td>\n",
              "      <td>3.414154</td>\n",
              "      <td>1.918419</td>\n",
              "      <td>0.938789</td>\n",
              "      <td>0.000000</td>\n",
              "    </tr>\n",
              "    <tr>\n",
              "      <th>CHAS</th>\n",
              "      <td>1.330724</td>\n",
              "      <td>0.979706</td>\n",
              "      <td>0.000000</td>\n",
              "      <td>0.000000</td>\n",
              "      <td>0.000000</td>\n",
              "    </tr>\n",
              "    <tr>\n",
              "      <th>RAD</th>\n",
              "      <td>0.278880</td>\n",
              "      <td>0.283443</td>\n",
              "      <td>0.300761</td>\n",
              "      <td>0.289299</td>\n",
              "      <td>0.146846</td>\n",
              "    </tr>\n",
              "    <tr>\n",
              "      <th>ZN</th>\n",
              "      <td>0.050107</td>\n",
              "      <td>0.050617</td>\n",
              "      <td>0.052878</td>\n",
              "      <td>0.052136</td>\n",
              "      <td>0.038268</td>\n",
              "    </tr>\n",
              "    <tr>\n",
              "      <th>B</th>\n",
              "      <td>0.010122</td>\n",
              "      <td>0.010067</td>\n",
              "      <td>0.009114</td>\n",
              "      <td>0.008320</td>\n",
              "      <td>0.007020</td>\n",
              "    </tr>\n",
              "    <tr>\n",
              "      <th>AGE</th>\n",
              "      <td>-0.010116</td>\n",
              "      <td>-0.008276</td>\n",
              "      <td>0.007760</td>\n",
              "      <td>0.020348</td>\n",
              "      <td>0.043446</td>\n",
              "    </tr>\n",
              "    <tr>\n",
              "      <th>TAX</th>\n",
              "      <td>-0.014522</td>\n",
              "      <td>-0.014814</td>\n",
              "      <td>-0.016046</td>\n",
              "      <td>-0.016218</td>\n",
              "      <td>-0.011417</td>\n",
              "    </tr>\n",
              "    <tr>\n",
              "      <th>INDUS</th>\n",
              "      <td>-0.044855</td>\n",
              "      <td>-0.042719</td>\n",
              "      <td>-0.023252</td>\n",
              "      <td>-0.000000</td>\n",
              "      <td>-0.000000</td>\n",
              "    </tr>\n",
              "    <tr>\n",
              "      <th>CRIM</th>\n",
              "      <td>-0.099468</td>\n",
              "      <td>-0.099213</td>\n",
              "      <td>-0.089070</td>\n",
              "      <td>-0.073577</td>\n",
              "      <td>-0.019058</td>\n",
              "    </tr>\n",
              "    <tr>\n",
              "      <th>NOX</th>\n",
              "      <td>-0.175072</td>\n",
              "      <td>-0.000000</td>\n",
              "      <td>-0.000000</td>\n",
              "      <td>-0.000000</td>\n",
              "      <td>-0.000000</td>\n",
              "    </tr>\n",
              "    <tr>\n",
              "      <th>LSTAT</th>\n",
              "      <td>-0.574822</td>\n",
              "      <td>-0.587702</td>\n",
              "      <td>-0.693861</td>\n",
              "      <td>-0.760457</td>\n",
              "      <td>-0.800368</td>\n",
              "    </tr>\n",
              "    <tr>\n",
              "      <th>PTRATIO</th>\n",
              "      <td>-0.779498</td>\n",
              "      <td>-0.784725</td>\n",
              "      <td>-0.790969</td>\n",
              "      <td>-0.738672</td>\n",
              "      <td>-0.423065</td>\n",
              "    </tr>\n",
              "    <tr>\n",
              "      <th>DIS</th>\n",
              "      <td>-1.189438</td>\n",
              "      <td>-1.173647</td>\n",
              "      <td>-0.975902</td>\n",
              "      <td>-0.725174</td>\n",
              "      <td>-0.031208</td>\n",
              "    </tr>\n",
              "  </tbody>\n",
              "</table>\n",
              "</div>"
            ],
            "text/plain": [
              "         alpha:0.07  alpha:0.1  alpha:0.5   alpha:1   alpha:3\n",
              "RM         3.574162   3.414154   1.918419  0.938789  0.000000\n",
              "CHAS       1.330724   0.979706   0.000000  0.000000  0.000000\n",
              "RAD        0.278880   0.283443   0.300761  0.289299  0.146846\n",
              "ZN         0.050107   0.050617   0.052878  0.052136  0.038268\n",
              "B          0.010122   0.010067   0.009114  0.008320  0.007020\n",
              "AGE       -0.010116  -0.008276   0.007760  0.020348  0.043446\n",
              "TAX       -0.014522  -0.014814  -0.016046 -0.016218 -0.011417\n",
              "INDUS     -0.044855  -0.042719  -0.023252 -0.000000 -0.000000\n",
              "CRIM      -0.099468  -0.099213  -0.089070 -0.073577 -0.019058\n",
              "NOX       -0.175072  -0.000000  -0.000000 -0.000000 -0.000000\n",
              "LSTAT     -0.574822  -0.587702  -0.693861 -0.760457 -0.800368\n",
              "PTRATIO   -0.779498  -0.784725  -0.790969 -0.738672 -0.423065\n",
              "DIS       -1.189438  -1.173647  -0.975902 -0.725174 -0.031208"
            ]
          },
          "metadata": {
            "tags": []
          },
          "execution_count": 53
        }
      ]
    },
    {
      "cell_type": "markdown",
      "metadata": {
        "id": "Gwtn0GBUkgTD"
      },
      "source": [
        "## 선형 회귀 모델을 위한 데이터 변환"
      ]
    },
    {
      "cell_type": "code",
      "metadata": {
        "id": "t6dj-zC8keZM"
      },
      "source": [
        "from sklearn.preprocessing import StandardScaler, MinMaxScaler, PolynomialFeatures\n",
        "\n",
        "# method는 표준 정규 분포 변환(Standard), 최대값/최소값 정규화(MinMax), 로그변환(Log) 결정\n",
        "# p_degree는 다향식 특성을 추가할 때 적용. p_degree는 2이상 부여하지 않음.\n",
        "# Robust scaler : 이상치 덜 민감함 \n",
        "# Robust sclaer : (X-mean) / (X_75% - X_25%)\n",
        "def get_scaled_data(method='None', p_degree=None, input_data=None):\n",
        "    if method == 'Standard':\n",
        "        scaled_data = StandardScaler().fit_transform(input_data)\n",
        "    elif method == 'MinMax':\n",
        "        scaled_data = MinMaxScaler().fit_transform(input_data)\n",
        "    elif method == 'Log':\n",
        "        scaled_data = np.log(input_data)\n",
        "    else:\n",
        "        scaled_data = input_data\n",
        "\n",
        "    if p_degree != None:\n",
        "        scaled_data = PolynomialFeatures(degree=p_degree, \n",
        "                                         include_bias=False).fit_transform(scaled_data)\n",
        "    \n",
        "    return scaled_data"
      ],
      "execution_count": null,
      "outputs": []
    },
    {
      "cell_type": "code",
      "metadata": {
        "colab": {
          "base_uri": "https://localhost:8080/"
        },
        "id": "7u6odpg8kkwE",
        "outputId": "aa8db6d4-bbe1-4a92-c27d-e111aee306ba"
      },
      "source": [
        "\n",
        "# Ridge의 alpha값을 다르게 적용하고 다양한 데이터 변환방법에 따른 RMSE 추출. \n",
        "alphas = [0.1, 1, 10, 100]\n",
        "#변환 방법은 모두 6개, 원본 그대로, 표준정규분포, 표준정규분포+다항식 특성\n",
        "# 최대/최소 정규화, 최대/최소 정규화+다항식 특성, 로그변환 \n",
        "scale_methods=[(None, None), ('Standard', None), ('Standard', 2), \n",
        "               ('MinMax', None), ('MinMax', 2), ('Log', None)]\n",
        "for scale_method in scale_methods:\n",
        "    X_data_scaled = get_scaled_data(method=scale_method[0], p_degree=scale_method[1], \n",
        "                                    input_data=X_data)\n",
        "    print('\\n## 변환 유형:{0}, Polynomial Degree:{1}'.format(scale_method[0], scale_method[1]))\n",
        "    get_linear_reg_eval('Ridge', params=alphas, X_data_n=X_data_scaled, \n",
        "                        y_target_n=y_target, verbose=False)\n",
        "    \n",
        "    print(get_linear_reg_eval)"
      ],
      "execution_count": null,
      "outputs": [
        {
          "output_type": "stream",
          "text": [
            "\n",
            "## 변환 유형:None, Polynomial Degree:None\n",
            "alpha 0.1일 때 5 폴드 세트의 평균 RMSE: 5.788 \n",
            "alpha 1일 때 5 폴드 세트의 평균 RMSE: 5.653 \n",
            "alpha 10일 때 5 폴드 세트의 평균 RMSE: 5.518 \n",
            "alpha 100일 때 5 폴드 세트의 평균 RMSE: 5.330 \n",
            "<function get_linear_reg_eval at 0x7f916e1f5c20>\n",
            "\n",
            "## 변환 유형:Standard, Polynomial Degree:None\n",
            "alpha 0.1일 때 5 폴드 세트의 평균 RMSE: 5.826 \n",
            "alpha 1일 때 5 폴드 세트의 평균 RMSE: 5.803 \n",
            "alpha 10일 때 5 폴드 세트의 평균 RMSE: 5.637 \n",
            "alpha 100일 때 5 폴드 세트의 평균 RMSE: 5.421 \n",
            "<function get_linear_reg_eval at 0x7f916e1f5c20>\n",
            "\n",
            "## 변환 유형:Standard, Polynomial Degree:2\n",
            "alpha 0.1일 때 5 폴드 세트의 평균 RMSE: 8.827 \n",
            "alpha 1일 때 5 폴드 세트의 평균 RMSE: 6.871 \n",
            "alpha 10일 때 5 폴드 세트의 평균 RMSE: 5.485 \n",
            "alpha 100일 때 5 폴드 세트의 평균 RMSE: 4.634 \n",
            "<function get_linear_reg_eval at 0x7f916e1f5c20>\n",
            "\n",
            "## 변환 유형:MinMax, Polynomial Degree:None\n",
            "alpha 0.1일 때 5 폴드 세트의 평균 RMSE: 5.764 \n",
            "alpha 1일 때 5 폴드 세트의 평균 RMSE: 5.465 \n",
            "alpha 10일 때 5 폴드 세트의 평균 RMSE: 5.754 \n",
            "alpha 100일 때 5 폴드 세트의 평균 RMSE: 7.635 \n",
            "<function get_linear_reg_eval at 0x7f916e1f5c20>\n",
            "\n",
            "## 변환 유형:MinMax, Polynomial Degree:2\n",
            "alpha 0.1일 때 5 폴드 세트의 평균 RMSE: 5.298 \n",
            "alpha 1일 때 5 폴드 세트의 평균 RMSE: 4.323 \n",
            "alpha 10일 때 5 폴드 세트의 평균 RMSE: 5.185 \n",
            "alpha 100일 때 5 폴드 세트의 평균 RMSE: 6.538 \n",
            "<function get_linear_reg_eval at 0x7f916e1f5c20>\n",
            "\n",
            "## 변환 유형:Log, Polynomial Degree:None\n",
            "alpha 0.1일 때 5 폴드 세트의 평균 RMSE: nan \n",
            "alpha 1일 때 5 폴드 세트의 평균 RMSE: nan \n",
            "alpha 10일 때 5 폴드 세트의 평균 RMSE: nan \n",
            "alpha 100일 때 5 폴드 세트의 평균 RMSE: nan \n",
            "<function get_linear_reg_eval at 0x7f916e1f5c20>\n"
          ],
          "name": "stdout"
        },
        {
          "output_type": "stream",
          "text": [
            "/usr/local/lib/python3.7/dist-packages/ipykernel_launcher.py:13: RuntimeWarning: divide by zero encountered in log\n",
            "  del sys.path[0]\n",
            "/usr/local/lib/python3.7/dist-packages/sklearn/model_selection/_validation.py:536: FitFailedWarning: Estimator fit failed. The score on this train-test partition for these parameters will be set to nan. Details: \n",
            "ValueError: Input contains NaN, infinity or a value too large for dtype('float64').\n",
            "\n",
            "  FitFailedWarning)\n",
            "/usr/local/lib/python3.7/dist-packages/sklearn/model_selection/_validation.py:536: FitFailedWarning: Estimator fit failed. The score on this train-test partition for these parameters will be set to nan. Details: \n",
            "ValueError: Input contains NaN, infinity or a value too large for dtype('float64').\n",
            "\n",
            "  FitFailedWarning)\n",
            "/usr/local/lib/python3.7/dist-packages/sklearn/model_selection/_validation.py:536: FitFailedWarning: Estimator fit failed. The score on this train-test partition for these parameters will be set to nan. Details: \n",
            "ValueError: Input contains NaN, infinity or a value too large for dtype('float64').\n",
            "\n",
            "  FitFailedWarning)\n",
            "/usr/local/lib/python3.7/dist-packages/sklearn/model_selection/_validation.py:536: FitFailedWarning: Estimator fit failed. The score on this train-test partition for these parameters will be set to nan. Details: \n",
            "ValueError: Input contains NaN, infinity or a value too large for dtype('float64').\n",
            "\n",
            "  FitFailedWarning)\n",
            "/usr/local/lib/python3.7/dist-packages/sklearn/model_selection/_validation.py:536: FitFailedWarning: Estimator fit failed. The score on this train-test partition for these parameters will be set to nan. Details: \n",
            "ValueError: Input contains NaN, infinity or a value too large for dtype('float64').\n",
            "\n",
            "  FitFailedWarning)\n",
            "/usr/local/lib/python3.7/dist-packages/sklearn/model_selection/_validation.py:536: FitFailedWarning: Estimator fit failed. The score on this train-test partition for these parameters will be set to nan. Details: \n",
            "ValueError: Input contains NaN, infinity or a value too large for dtype('float64').\n",
            "\n",
            "  FitFailedWarning)\n",
            "/usr/local/lib/python3.7/dist-packages/sklearn/model_selection/_validation.py:536: FitFailedWarning: Estimator fit failed. The score on this train-test partition for these parameters will be set to nan. Details: \n",
            "ValueError: Input contains NaN, infinity or a value too large for dtype('float64').\n",
            "\n",
            "  FitFailedWarning)\n",
            "/usr/local/lib/python3.7/dist-packages/sklearn/model_selection/_validation.py:536: FitFailedWarning: Estimator fit failed. The score on this train-test partition for these parameters will be set to nan. Details: \n",
            "ValueError: Input contains NaN, infinity or a value too large for dtype('float64').\n",
            "\n",
            "  FitFailedWarning)\n",
            "/usr/local/lib/python3.7/dist-packages/sklearn/model_selection/_validation.py:536: FitFailedWarning: Estimator fit failed. The score on this train-test partition for these parameters will be set to nan. Details: \n",
            "ValueError: Input contains NaN, infinity or a value too large for dtype('float64').\n",
            "\n",
            "  FitFailedWarning)\n",
            "/usr/local/lib/python3.7/dist-packages/sklearn/model_selection/_validation.py:536: FitFailedWarning: Estimator fit failed. The score on this train-test partition for these parameters will be set to nan. Details: \n",
            "ValueError: Input contains NaN, infinity or a value too large for dtype('float64').\n",
            "\n",
            "  FitFailedWarning)\n",
            "/usr/local/lib/python3.7/dist-packages/sklearn/model_selection/_validation.py:536: FitFailedWarning: Estimator fit failed. The score on this train-test partition for these parameters will be set to nan. Details: \n",
            "ValueError: Input contains NaN, infinity or a value too large for dtype('float64').\n",
            "\n",
            "  FitFailedWarning)\n",
            "/usr/local/lib/python3.7/dist-packages/sklearn/model_selection/_validation.py:536: FitFailedWarning: Estimator fit failed. The score on this train-test partition for these parameters will be set to nan. Details: \n",
            "ValueError: Input contains NaN, infinity or a value too large for dtype('float64').\n",
            "\n",
            "  FitFailedWarning)\n",
            "/usr/local/lib/python3.7/dist-packages/sklearn/model_selection/_validation.py:536: FitFailedWarning: Estimator fit failed. The score on this train-test partition for these parameters will be set to nan. Details: \n",
            "ValueError: Input contains NaN, infinity or a value too large for dtype('float64').\n",
            "\n",
            "  FitFailedWarning)\n",
            "/usr/local/lib/python3.7/dist-packages/sklearn/model_selection/_validation.py:536: FitFailedWarning: Estimator fit failed. The score on this train-test partition for these parameters will be set to nan. Details: \n",
            "ValueError: Input contains NaN, infinity or a value too large for dtype('float64').\n",
            "\n",
            "  FitFailedWarning)\n",
            "/usr/local/lib/python3.7/dist-packages/sklearn/model_selection/_validation.py:536: FitFailedWarning: Estimator fit failed. The score on this train-test partition for these parameters will be set to nan. Details: \n",
            "ValueError: Input contains NaN, infinity or a value too large for dtype('float64').\n",
            "\n",
            "  FitFailedWarning)\n",
            "/usr/local/lib/python3.7/dist-packages/sklearn/model_selection/_validation.py:536: FitFailedWarning: Estimator fit failed. The score on this train-test partition for these parameters will be set to nan. Details: \n",
            "ValueError: Input contains NaN, infinity or a value too large for dtype('float64').\n",
            "\n",
            "  FitFailedWarning)\n",
            "/usr/local/lib/python3.7/dist-packages/sklearn/model_selection/_validation.py:536: FitFailedWarning: Estimator fit failed. The score on this train-test partition for these parameters will be set to nan. Details: \n",
            "ValueError: Input contains NaN, infinity or a value too large for dtype('float64').\n",
            "\n",
            "  FitFailedWarning)\n",
            "/usr/local/lib/python3.7/dist-packages/sklearn/model_selection/_validation.py:536: FitFailedWarning: Estimator fit failed. The score on this train-test partition for these parameters will be set to nan. Details: \n",
            "ValueError: Input contains NaN, infinity or a value too large for dtype('float64').\n",
            "\n",
            "  FitFailedWarning)\n",
            "/usr/local/lib/python3.7/dist-packages/sklearn/model_selection/_validation.py:536: FitFailedWarning: Estimator fit failed. The score on this train-test partition for these parameters will be set to nan. Details: \n",
            "ValueError: Input contains NaN, infinity or a value too large for dtype('float64').\n",
            "\n",
            "  FitFailedWarning)\n",
            "/usr/local/lib/python3.7/dist-packages/sklearn/model_selection/_validation.py:536: FitFailedWarning: Estimator fit failed. The score on this train-test partition for these parameters will be set to nan. Details: \n",
            "ValueError: Input contains NaN, infinity or a value too large for dtype('float64').\n",
            "\n",
            "  FitFailedWarning)\n"
          ],
          "name": "stderr"
        }
      ]
    },
    {
      "cell_type": "markdown",
      "metadata": {
        "id": "2boHXnH9AxKG"
      },
      "source": [
        "## 데이터 셋: kaggle titanic(https://www.kaggle.com/c/titanic)"
      ]
    },
    {
      "cell_type": "code",
      "metadata": {
        "colab": {
          "base_uri": "https://localhost:8080/"
        },
        "id": "NuOg3ibtBN9l",
        "outputId": "020832c9-61d2-430f-a464-32f09866065f"
      },
      "source": [
        "from google.colab import drive\n",
        "drive.mount('/content/drive')"
      ],
      "execution_count": null,
      "outputs": [
        {
          "output_type": "stream",
          "text": [
            "Mounted at /content/drive\n"
          ],
          "name": "stdout"
        }
      ]
    },
    {
      "cell_type": "code",
      "metadata": {
        "id": "X_hSb6_2BZAr"
      },
      "source": [
        "import numpy as np\n",
        "import pandas as pd\n",
        "import matplotlib.pyplot as plt\n",
        "\n",
        "\n",
        "train = pd.read_csv('/content/drive/MyDrive/test/train.csv')\n",
        "test = pd.read_csv('/content/drive/MyDrive/test/test.csv')"
      ],
      "execution_count": null,
      "outputs": []
    },
    {
      "cell_type": "markdown",
      "metadata": {
        "id": "NeiTZzVXB13M"
      },
      "source": [
        "# 탐색적 자료 분석(Exploratory Data Analysis(EDA)\n",
        "\n",
        "\n",
        " - survived : 생존=1, 죽음=0\n",
        " - pclass : 승객 등급. 1등급=1, 2등급=2, 3등급=3\n",
        " - sibsp : 함께 탑승한 형제 또는 배우자 수\n",
        " - parch : 함께 탑승한 부모 또는 자녀 수\n",
        " - ticket : 티켓 번호\n",
        " - cabin : 선실 번호\n",
        " - embarked : 탑승장소 S=Southhampton, C=Cherbourg, Q=Queenstown\n"
      ]
    },
    {
      "cell_type": "code",
      "metadata": {
        "colab": {
          "base_uri": "https://localhost:8080/",
          "height": 198
        },
        "id": "YRjUfiNjBgLm",
        "outputId": "c5e5274a-9c32-4fda-e06e-7845ab401c3c"
      },
      "source": [
        "train.head()"
      ],
      "execution_count": null,
      "outputs": [
        {
          "output_type": "execute_result",
          "data": {
            "text/html": [
              "<div>\n",
              "<style scoped>\n",
              "    .dataframe tbody tr th:only-of-type {\n",
              "        vertical-align: middle;\n",
              "    }\n",
              "\n",
              "    .dataframe tbody tr th {\n",
              "        vertical-align: top;\n",
              "    }\n",
              "\n",
              "    .dataframe thead th {\n",
              "        text-align: right;\n",
              "    }\n",
              "</style>\n",
              "<table border=\"1\" class=\"dataframe\">\n",
              "  <thead>\n",
              "    <tr style=\"text-align: right;\">\n",
              "      <th></th>\n",
              "      <th>PassengerId</th>\n",
              "      <th>Survived</th>\n",
              "      <th>Pclass</th>\n",
              "      <th>Name</th>\n",
              "      <th>Sex</th>\n",
              "      <th>Age</th>\n",
              "      <th>SibSp</th>\n",
              "      <th>Parch</th>\n",
              "      <th>Ticket</th>\n",
              "      <th>Fare</th>\n",
              "      <th>Cabin</th>\n",
              "      <th>Embarked</th>\n",
              "    </tr>\n",
              "  </thead>\n",
              "  <tbody>\n",
              "    <tr>\n",
              "      <th>0</th>\n",
              "      <td>1</td>\n",
              "      <td>0</td>\n",
              "      <td>3</td>\n",
              "      <td>Braund, Mr. Owen Harris</td>\n",
              "      <td>male</td>\n",
              "      <td>22.0</td>\n",
              "      <td>1</td>\n",
              "      <td>0</td>\n",
              "      <td>A/5 21171</td>\n",
              "      <td>7.2500</td>\n",
              "      <td>NaN</td>\n",
              "      <td>S</td>\n",
              "    </tr>\n",
              "    <tr>\n",
              "      <th>1</th>\n",
              "      <td>2</td>\n",
              "      <td>1</td>\n",
              "      <td>1</td>\n",
              "      <td>Cumings, Mrs. John Bradley (Florence Briggs Th...</td>\n",
              "      <td>female</td>\n",
              "      <td>38.0</td>\n",
              "      <td>1</td>\n",
              "      <td>0</td>\n",
              "      <td>PC 17599</td>\n",
              "      <td>71.2833</td>\n",
              "      <td>C85</td>\n",
              "      <td>C</td>\n",
              "    </tr>\n",
              "    <tr>\n",
              "      <th>2</th>\n",
              "      <td>3</td>\n",
              "      <td>1</td>\n",
              "      <td>3</td>\n",
              "      <td>Heikkinen, Miss. Laina</td>\n",
              "      <td>female</td>\n",
              "      <td>26.0</td>\n",
              "      <td>0</td>\n",
              "      <td>0</td>\n",
              "      <td>STON/O2. 3101282</td>\n",
              "      <td>7.9250</td>\n",
              "      <td>NaN</td>\n",
              "      <td>S</td>\n",
              "    </tr>\n",
              "    <tr>\n",
              "      <th>3</th>\n",
              "      <td>4</td>\n",
              "      <td>1</td>\n",
              "      <td>1</td>\n",
              "      <td>Futrelle, Mrs. Jacques Heath (Lily May Peel)</td>\n",
              "      <td>female</td>\n",
              "      <td>35.0</td>\n",
              "      <td>1</td>\n",
              "      <td>0</td>\n",
              "      <td>113803</td>\n",
              "      <td>53.1000</td>\n",
              "      <td>C123</td>\n",
              "      <td>S</td>\n",
              "    </tr>\n",
              "    <tr>\n",
              "      <th>4</th>\n",
              "      <td>5</td>\n",
              "      <td>0</td>\n",
              "      <td>3</td>\n",
              "      <td>Allen, Mr. William Henry</td>\n",
              "      <td>male</td>\n",
              "      <td>35.0</td>\n",
              "      <td>0</td>\n",
              "      <td>0</td>\n",
              "      <td>373450</td>\n",
              "      <td>8.0500</td>\n",
              "      <td>NaN</td>\n",
              "      <td>S</td>\n",
              "    </tr>\n",
              "  </tbody>\n",
              "</table>\n",
              "</div>"
            ],
            "text/plain": [
              "   PassengerId  Survived  Pclass  ...     Fare Cabin  Embarked\n",
              "0            1         0       3  ...   7.2500   NaN         S\n",
              "1            2         1       1  ...  71.2833   C85         C\n",
              "2            3         1       3  ...   7.9250   NaN         S\n",
              "3            4         1       1  ...  53.1000  C123         S\n",
              "4            5         0       3  ...   8.0500   NaN         S\n",
              "\n",
              "[5 rows x 12 columns]"
            ]
          },
          "metadata": {
            "tags": []
          },
          "execution_count": 58
        }
      ]
    },
    {
      "cell_type": "code",
      "metadata": {
        "colab": {
          "base_uri": "https://localhost:8080/"
        },
        "id": "u1ba4uMKBgN3",
        "outputId": "f05996b8-522b-4829-b38c-3ac84e6879dc"
      },
      "source": [
        "print(train.shape,test.shape)"
      ],
      "execution_count": null,
      "outputs": [
        {
          "output_type": "stream",
          "text": [
            "(891, 12) (418, 11)\n"
          ],
          "name": "stdout"
        }
      ]
    },
    {
      "cell_type": "code",
      "metadata": {
        "colab": {
          "base_uri": "https://localhost:8080/"
        },
        "id": "R7dhc_sRBgP5",
        "outputId": "a1fc6aeb-7593-4691-e823-1458fe431f84"
      },
      "source": [
        "train.info()"
      ],
      "execution_count": null,
      "outputs": [
        {
          "output_type": "stream",
          "text": [
            "<class 'pandas.core.frame.DataFrame'>\n",
            "RangeIndex: 891 entries, 0 to 890\n",
            "Data columns (total 12 columns):\n",
            " #   Column       Non-Null Count  Dtype  \n",
            "---  ------       --------------  -----  \n",
            " 0   PassengerId  891 non-null    int64  \n",
            " 1   Survived     891 non-null    int64  \n",
            " 2   Pclass       891 non-null    int64  \n",
            " 3   Name         891 non-null    object \n",
            " 4   Sex          891 non-null    object \n",
            " 5   Age          714 non-null    float64\n",
            " 6   SibSp        891 non-null    int64  \n",
            " 7   Parch        891 non-null    int64  \n",
            " 8   Ticket       891 non-null    object \n",
            " 9   Fare         891 non-null    float64\n",
            " 10  Cabin        204 non-null    object \n",
            " 11  Embarked     889 non-null    object \n",
            "dtypes: float64(2), int64(5), object(5)\n",
            "memory usage: 83.7+ KB\n"
          ],
          "name": "stdout"
        }
      ]
    },
    {
      "cell_type": "code",
      "metadata": {
        "colab": {
          "base_uri": "https://localhost:8080/",
          "height": 288
        },
        "id": "Rp8GOBH_BgR9",
        "outputId": "630f36b4-4bd3-440a-e75e-ae8250d1e7e8"
      },
      "source": [
        "train.describe()"
      ],
      "execution_count": null,
      "outputs": [
        {
          "output_type": "execute_result",
          "data": {
            "text/html": [
              "<div>\n",
              "<style scoped>\n",
              "    .dataframe tbody tr th:only-of-type {\n",
              "        vertical-align: middle;\n",
              "    }\n",
              "\n",
              "    .dataframe tbody tr th {\n",
              "        vertical-align: top;\n",
              "    }\n",
              "\n",
              "    .dataframe thead th {\n",
              "        text-align: right;\n",
              "    }\n",
              "</style>\n",
              "<table border=\"1\" class=\"dataframe\">\n",
              "  <thead>\n",
              "    <tr style=\"text-align: right;\">\n",
              "      <th></th>\n",
              "      <th>PassengerId</th>\n",
              "      <th>Survived</th>\n",
              "      <th>Pclass</th>\n",
              "      <th>Age</th>\n",
              "      <th>SibSp</th>\n",
              "      <th>Parch</th>\n",
              "      <th>Fare</th>\n",
              "    </tr>\n",
              "  </thead>\n",
              "  <tbody>\n",
              "    <tr>\n",
              "      <th>count</th>\n",
              "      <td>891.000000</td>\n",
              "      <td>891.000000</td>\n",
              "      <td>891.000000</td>\n",
              "      <td>714.000000</td>\n",
              "      <td>891.000000</td>\n",
              "      <td>891.000000</td>\n",
              "      <td>891.000000</td>\n",
              "    </tr>\n",
              "    <tr>\n",
              "      <th>mean</th>\n",
              "      <td>446.000000</td>\n",
              "      <td>0.383838</td>\n",
              "      <td>2.308642</td>\n",
              "      <td>29.699118</td>\n",
              "      <td>0.523008</td>\n",
              "      <td>0.381594</td>\n",
              "      <td>32.204208</td>\n",
              "    </tr>\n",
              "    <tr>\n",
              "      <th>std</th>\n",
              "      <td>257.353842</td>\n",
              "      <td>0.486592</td>\n",
              "      <td>0.836071</td>\n",
              "      <td>14.526497</td>\n",
              "      <td>1.102743</td>\n",
              "      <td>0.806057</td>\n",
              "      <td>49.693429</td>\n",
              "    </tr>\n",
              "    <tr>\n",
              "      <th>min</th>\n",
              "      <td>1.000000</td>\n",
              "      <td>0.000000</td>\n",
              "      <td>1.000000</td>\n",
              "      <td>0.420000</td>\n",
              "      <td>0.000000</td>\n",
              "      <td>0.000000</td>\n",
              "      <td>0.000000</td>\n",
              "    </tr>\n",
              "    <tr>\n",
              "      <th>25%</th>\n",
              "      <td>223.500000</td>\n",
              "      <td>0.000000</td>\n",
              "      <td>2.000000</td>\n",
              "      <td>20.125000</td>\n",
              "      <td>0.000000</td>\n",
              "      <td>0.000000</td>\n",
              "      <td>7.910400</td>\n",
              "    </tr>\n",
              "    <tr>\n",
              "      <th>50%</th>\n",
              "      <td>446.000000</td>\n",
              "      <td>0.000000</td>\n",
              "      <td>3.000000</td>\n",
              "      <td>28.000000</td>\n",
              "      <td>0.000000</td>\n",
              "      <td>0.000000</td>\n",
              "      <td>14.454200</td>\n",
              "    </tr>\n",
              "    <tr>\n",
              "      <th>75%</th>\n",
              "      <td>668.500000</td>\n",
              "      <td>1.000000</td>\n",
              "      <td>3.000000</td>\n",
              "      <td>38.000000</td>\n",
              "      <td>1.000000</td>\n",
              "      <td>0.000000</td>\n",
              "      <td>31.000000</td>\n",
              "    </tr>\n",
              "    <tr>\n",
              "      <th>max</th>\n",
              "      <td>891.000000</td>\n",
              "      <td>1.000000</td>\n",
              "      <td>3.000000</td>\n",
              "      <td>80.000000</td>\n",
              "      <td>8.000000</td>\n",
              "      <td>6.000000</td>\n",
              "      <td>512.329200</td>\n",
              "    </tr>\n",
              "  </tbody>\n",
              "</table>\n",
              "</div>"
            ],
            "text/plain": [
              "       PassengerId    Survived      Pclass  ...       SibSp       Parch        Fare\n",
              "count   891.000000  891.000000  891.000000  ...  891.000000  891.000000  891.000000\n",
              "mean    446.000000    0.383838    2.308642  ...    0.523008    0.381594   32.204208\n",
              "std     257.353842    0.486592    0.836071  ...    1.102743    0.806057   49.693429\n",
              "min       1.000000    0.000000    1.000000  ...    0.000000    0.000000    0.000000\n",
              "25%     223.500000    0.000000    2.000000  ...    0.000000    0.000000    7.910400\n",
              "50%     446.000000    0.000000    3.000000  ...    0.000000    0.000000   14.454200\n",
              "75%     668.500000    1.000000    3.000000  ...    1.000000    0.000000   31.000000\n",
              "max     891.000000    1.000000    3.000000  ...    8.000000    6.000000  512.329200\n",
              "\n",
              "[8 rows x 7 columns]"
            ]
          },
          "metadata": {
            "tags": []
          },
          "execution_count": 61
        }
      ]
    },
    {
      "cell_type": "code",
      "metadata": {
        "colab": {
          "base_uri": "https://localhost:8080/"
        },
        "id": "93nf4eCBBgUC",
        "outputId": "27f49c66-ce1f-4510-b3a8-73a217c3a5f5"
      },
      "source": [
        "train.isna().sum()"
      ],
      "execution_count": null,
      "outputs": [
        {
          "output_type": "execute_result",
          "data": {
            "text/plain": [
              "PassengerId      0\n",
              "Survived         0\n",
              "Pclass           0\n",
              "Name             0\n",
              "Sex              0\n",
              "Age            177\n",
              "SibSp            0\n",
              "Parch            0\n",
              "Ticket           0\n",
              "Fare             0\n",
              "Cabin          687\n",
              "Embarked         2\n",
              "dtype: int64"
            ]
          },
          "metadata": {
            "tags": []
          },
          "execution_count": 62
        }
      ]
    },
    {
      "cell_type": "markdown",
      "metadata": {
        "id": "nnVsy4nSCp7c"
      },
      "source": [
        "# 문제? 연속형? 범주형\n",
        "\n",
        "-> 범주형에 대한 feature에 대한 막대차트\n",
        "\n",
        "1. Pclass\n",
        "2. sex\n",
        "3. sibsp\n",
        "4. parch\n",
        "5. embarked\n",
        "6.cabin\n"
      ]
    },
    {
      "cell_type": "code",
      "metadata": {
        "colab": {
          "base_uri": "https://localhost:8080/"
        },
        "id": "oI6jc8i8Enrw",
        "outputId": "094803cd-7ccb-4f21-abc6-18afb6bae34d"
      },
      "source": [
        "train[train['Survived'] ==1]['Sex']"
      ],
      "execution_count": null,
      "outputs": [
        {
          "output_type": "execute_result",
          "data": {
            "text/plain": [
              "1      female\n",
              "2      female\n",
              "3      female\n",
              "8      female\n",
              "9      female\n",
              "        ...  \n",
              "875    female\n",
              "879    female\n",
              "880    female\n",
              "887    female\n",
              "889      male\n",
              "Name: Sex, Length: 342, dtype: object"
            ]
          },
          "metadata": {
            "tags": []
          },
          "execution_count": 63
        }
      ]
    },
    {
      "cell_type": "code",
      "metadata": {
        "id": "IeHrqQZRBgWN"
      },
      "source": [
        "def bar_chart(feature):\n",
        "  survived = train[train['Survived'] ==1][feature].value_counts() # 생존자를 카운트\n",
        "  dead = train[train['Survived'] ==0][feature].value_counts() #사망자를 카운트\n",
        "  df = pd.DataFrame([survived,dead]) #[생존자,사망자]를 dataFrame\n",
        "  df.index = ['Survived','Dead'] # index화\n",
        "  df.plot(kind = 'bar',stacked = True, figsize = (10,5)) #그림을 그림"
      ],
      "execution_count": null,
      "outputs": []
    },
    {
      "cell_type": "code",
      "metadata": {
        "colab": {
          "base_uri": "https://localhost:8080/",
          "height": 361
        },
        "id": "UhCin-FZBgZf",
        "outputId": "92e702ba-12eb-463b-c842-5acdd3a5a105"
      },
      "source": [
        "bar_chart('Sex')"
      ],
      "execution_count": null,
      "outputs": [
        {
          "output_type": "display_data",
          "data": {
            "image/png": "[encoded data removed]",
            "text/plain": [
              "<Figure size 720x360 with 1 Axes>"
            ]
          },
          "metadata": {
            "tags": [],
            "needs_background": "light"
          }
        }
      ]
    },
    {
      "cell_type": "code",
      "metadata": {
        "colab": {
          "base_uri": "https://localhost:8080/",
          "height": 361
        },
        "id": "nBrxr1vJBgbW",
        "outputId": "638f2383-a55f-4fe4-8965-9bdcd51b1dc0"
      },
      "source": [
        "bar_chart('SibSp')"
      ],
      "execution_count": null,
      "outputs": [
        {
          "output_type": "display_data",
          "data": {
            "image/png": "[encoded data removed]",
            "text/plain": [
              "<Figure size 720x360 with 1 Axes>"
            ]
          },
          "metadata": {
            "tags": [],
            "needs_background": "light"
          }
        }
      ]
    },
    {
      "cell_type": "code",
      "metadata": {
        "id": "95oV35v7Bgct"
      },
      "source": [
        "train_test_data = [train,test]\n",
        "\n",
        "for dataset in train_test_data:\n",
        "  dataset['Title'] = dataset['Name'].str.extract('([A-Za-z]+)\\.',expand = False)"
      ],
      "execution_count": null,
      "outputs": []
    },
    {
      "cell_type": "code",
      "metadata": {
        "colab": {
          "base_uri": "https://localhost:8080/"
        },
        "id": "-drGuqqyFqhw",
        "outputId": "912a94d3-b315-4c80-e256-b18fe49acff0"
      },
      "source": [
        "train['Title'].value_counts()"
      ],
      "execution_count": null,
      "outputs": [
        {
          "output_type": "execute_result",
          "data": {
            "text/plain": [
              "Mr          517\n",
              "Miss        182\n",
              "Mrs         125\n",
              "Master       40\n",
              "Dr            7\n",
              "Rev           6\n",
              "Major         2\n",
              "Col           2\n",
              "Mlle          2\n",
              "Sir           1\n",
              "Don           1\n",
              "Mme           1\n",
              "Capt          1\n",
              "Ms            1\n",
              "Jonkheer      1\n",
              "Countess      1\n",
              "Lady          1\n",
              "Name: Title, dtype: int64"
            ]
          },
          "metadata": {
            "tags": []
          },
          "execution_count": 68
        }
      ]
    },
    {
      "cell_type": "markdown",
      "metadata": {
        "id": "hZ_EgR9dG64C"
      },
      "source": [
        "# one-hot encoding을 합니다."
      ]
    },
    {
      "cell_type": "code",
      "metadata": {
        "id": "yxM5lS5OFqjv"
      },
      "source": [
        "title_mapping = {'Mr':0, \"Miss\":1, 'Mrs':2,'Master':3,\n",
        "                 'Dr':3,'Rev':3,'Col':3,'Major':3,'Mlle':3,'Ms':3,'Sir':3,'Don':3,'Countess':3,\n",
        "                 'Capt':3,'Lady':3,'Jonkheer':3,'Mme':3}\n",
        "for dataset in train_test_data:\n",
        "  dataset['Title'] = dataset['Title'].map(title_mapping)"
      ],
      "execution_count": null,
      "outputs": []
    },
    {
      "cell_type": "code",
      "metadata": {
        "colab": {
          "base_uri": "https://localhost:8080/",
          "height": 361
        },
        "id": "CVxIbei9Fql5",
        "outputId": "e5c52b52-0267-4d67-ca17-edf261c074f6"
      },
      "source": [
        "bar_chart('Title')"
      ],
      "execution_count": null,
      "outputs": [
        {
          "output_type": "display_data",
          "data": {
            "image/png": "[encoded data removed]",
            "text/plain": [
              "<Figure size 720x360 with 1 Axes>"
            ]
          },
          "metadata": {
            "tags": [],
            "needs_background": "light"
          }
        }
      ]
    },
    {
      "cell_type": "code",
      "metadata": {
        "id": "gLD0ulUoFqoM"
      },
      "source": [
        "train.drop('Name',axis = 1, inplace = True)\n",
        "test.drop('Name',axis = 1, inplace = True)"
      ],
      "execution_count": null,
      "outputs": []
    },
    {
      "cell_type": "code",
      "metadata": {
        "id": "UEh0ZElQJq5V"
      },
      "source": [
        "train.drop('Ticket',axis = 1, inplace = True)\n",
        "test.drop('Ticket',axis = 1, inplace = True)"
      ],
      "execution_count": null,
      "outputs": []
    },
    {
      "cell_type": "code",
      "metadata": {
        "id": "7IDPGSV8JvMI"
      },
      "source": [
        "train.drop('Cabin',axis = 1, inplace = True)\n",
        "test.drop('Cabin',axis = 1, inplace = True)"
      ],
      "execution_count": null,
      "outputs": []
    },
    {
      "cell_type": "code",
      "metadata": {
        "id": "3AXCBFOXJ3s6"
      },
      "source": [
        "train.drop('Embarked',axis = 1, inplace = True)\n",
        "test.drop('Embarked',axis = 1, inplace = True)"
      ],
      "execution_count": null,
      "outputs": []
    },
    {
      "cell_type": "code",
      "metadata": {
        "colab": {
          "base_uri": "https://localhost:8080/",
          "height": 198
        },
        "id": "ZEGr7TlxFqp3",
        "outputId": "ac4818c7-c682-484c-f2a2-0b2c78f2f838"
      },
      "source": [
        "train.head()"
      ],
      "execution_count": null,
      "outputs": [
        {
          "output_type": "execute_result",
          "data": {
            "text/html": [
              "<div>\n",
              "<style scoped>\n",
              "    .dataframe tbody tr th:only-of-type {\n",
              "        vertical-align: middle;\n",
              "    }\n",
              "\n",
              "    .dataframe tbody tr th {\n",
              "        vertical-align: top;\n",
              "    }\n",
              "\n",
              "    .dataframe thead th {\n",
              "        text-align: right;\n",
              "    }\n",
              "</style>\n",
              "<table border=\"1\" class=\"dataframe\">\n",
              "  <thead>\n",
              "    <tr style=\"text-align: right;\">\n",
              "      <th></th>\n",
              "      <th>PassengerId</th>\n",
              "      <th>Survived</th>\n",
              "      <th>Pclass</th>\n",
              "      <th>Sex</th>\n",
              "      <th>Age</th>\n",
              "      <th>SibSp</th>\n",
              "      <th>Parch</th>\n",
              "      <th>Fare</th>\n",
              "      <th>Title</th>\n",
              "    </tr>\n",
              "  </thead>\n",
              "  <tbody>\n",
              "    <tr>\n",
              "      <th>0</th>\n",
              "      <td>1</td>\n",
              "      <td>0</td>\n",
              "      <td>3</td>\n",
              "      <td>male</td>\n",
              "      <td>22.0</td>\n",
              "      <td>1</td>\n",
              "      <td>0</td>\n",
              "      <td>7.2500</td>\n",
              "      <td>0</td>\n",
              "    </tr>\n",
              "    <tr>\n",
              "      <th>1</th>\n",
              "      <td>2</td>\n",
              "      <td>1</td>\n",
              "      <td>1</td>\n",
              "      <td>female</td>\n",
              "      <td>38.0</td>\n",
              "      <td>1</td>\n",
              "      <td>0</td>\n",
              "      <td>71.2833</td>\n",
              "      <td>2</td>\n",
              "    </tr>\n",
              "    <tr>\n",
              "      <th>2</th>\n",
              "      <td>3</td>\n",
              "      <td>1</td>\n",
              "      <td>3</td>\n",
              "      <td>female</td>\n",
              "      <td>26.0</td>\n",
              "      <td>0</td>\n",
              "      <td>0</td>\n",
              "      <td>7.9250</td>\n",
              "      <td>1</td>\n",
              "    </tr>\n",
              "    <tr>\n",
              "      <th>3</th>\n",
              "      <td>4</td>\n",
              "      <td>1</td>\n",
              "      <td>1</td>\n",
              "      <td>female</td>\n",
              "      <td>35.0</td>\n",
              "      <td>1</td>\n",
              "      <td>0</td>\n",
              "      <td>53.1000</td>\n",
              "      <td>2</td>\n",
              "    </tr>\n",
              "    <tr>\n",
              "      <th>4</th>\n",
              "      <td>5</td>\n",
              "      <td>0</td>\n",
              "      <td>3</td>\n",
              "      <td>male</td>\n",
              "      <td>35.0</td>\n",
              "      <td>0</td>\n",
              "      <td>0</td>\n",
              "      <td>8.0500</td>\n",
              "      <td>0</td>\n",
              "    </tr>\n",
              "  </tbody>\n",
              "</table>\n",
              "</div>"
            ],
            "text/plain": [
              "   PassengerId  Survived  Pclass     Sex   Age  SibSp  Parch     Fare  Title\n",
              "0            1         0       3    male  22.0      1      0   7.2500      0\n",
              "1            2         1       1  female  38.0      1      0  71.2833      2\n",
              "2            3         1       3  female  26.0      0      0   7.9250      1\n",
              "3            4         1       1  female  35.0      1      0  53.1000      2\n",
              "4            5         0       3    male  35.0      0      0   8.0500      0"
            ]
          },
          "metadata": {
            "tags": []
          },
          "execution_count": 75
        }
      ]
    },
    {
      "cell_type": "code",
      "metadata": {
        "id": "I9QwHx-lFqsR"
      },
      "source": [
        "sex_mapping = {'male':0,'female':1}\n",
        "for dataset in train_test_data:\n",
        "  dataset['Sex'] = dataset['Sex'].map(sex_mapping)"
      ],
      "execution_count": null,
      "outputs": []
    },
    {
      "cell_type": "code",
      "metadata": {
        "colab": {
          "base_uri": "https://localhost:8080/",
          "height": 361
        },
        "id": "AhmXC4_eFquX",
        "outputId": "f73dfbc2-ae9e-4b54-87d5-fb88ebe938a8"
      },
      "source": [
        "bar_chart('Sex')"
      ],
      "execution_count": null,
      "outputs": [
        {
          "output_type": "display_data",
          "data": {
            "image/png": "[encoded data removed]",
            "text/plain": [
              "<Figure size 720x360 with 1 Axes>"
            ]
          },
          "metadata": {
            "tags": [],
            "needs_background": "light"
          }
        }
      ]
    },
    {
      "cell_type": "code",
      "metadata": {
        "id": "q7XatVSPKWLL"
      },
      "source": [
        "#missing Age를 각 Title에 대한 연령의 중간값으로 채움(Mr,Mrs,Miss,others)\n",
        "train['Age'].fillna(train.groupby('Title')['Age'].transform('median'),inplace = True)\n",
        "\n",
        "test['Age'].fillna(test.groupby('Title')['Age'].transform('median'),inplace = True)"
      ],
      "execution_count": null,
      "outputs": []
    },
    {
      "cell_type": "code",
      "metadata": {
        "colab": {
          "base_uri": "https://localhost:8080/",
          "height": 225
        },
        "id": "OKduxSdFKxj6",
        "outputId": "75b253b3-53bb-4f84-87a7-444917ca0356"
      },
      "source": [
        "import matplotlib.pyplot as plt\n",
        "import seaborn as sns\n",
        "\n",
        "#변수의 분포를 시각화하거나, 여러 변수들 사이의 상관관계를 여러개의 그래프로 쪼개서 표현할때 유용함\n",
        "# FeactGrid는 Colum,row, hue를 통한 의미구분을 통해 총 3차원까지 구현이 가능함.\n",
        "#aspect : subplot의 세로 대비 가로의 비율.\n",
        "facet = sns.FacetGrid(train, hue ='Survived', aspect=4)\n",
        "facet.map(sns.kdeplot,'Age',shade = True) # kde : 이차원 밀집도 그래프\n",
        "facet.set(xlim=(0,train['Age'].max()))\n",
        "facet.add_legend()\n",
        "sns.axes_style('dark')\n",
        "\n",
        "plt.show()"
      ],
      "execution_count": null,
      "outputs": [
        {
          "output_type": "display_data",
          "data": {
            "image/png": "[encoded data removed]",
            "text/plain": [
              "<Figure size 925.55x216 with 1 Axes>"
            ]
          },
          "metadata": {
            "tags": [],
            "needs_background": "light"
          }
        }
      ]
    },
    {
      "cell_type": "code",
      "metadata": {
        "colab": {
          "base_uri": "https://localhost:8080/",
          "height": 225
        },
        "id": "5_xs1mmlKxmB",
        "outputId": "c22766b7-be0c-4fa6-ebc7-bd0e0530aa92"
      },
      "source": [
        "facet = sns.FacetGrid(train, hue ='Survived', aspect=4)\n",
        "facet.map(sns.kdeplot,'Age',shade = True) # kde : 이차원 밀집도 그래프\n",
        "facet.set(xlim=(0,train['Age'].max()))\n",
        "facet.add_legend()\n",
        "sns.axes_style('dark')\n",
        "\n",
        "plt.xlim(0,20)\n",
        "\n",
        "plt.show()"
      ],
      "execution_count": null,
      "outputs": [
        {
          "output_type": "display_data",
          "data": {
            "image/png": "[encoded data removed]",
            "text/plain": [
              "<Figure size 925.55x216 with 1 Axes>"
            ]
          },
          "metadata": {
            "tags": [],
            "needs_background": "light"
          }
        }
      ]
    },
    {
      "cell_type": "code",
      "metadata": {
        "colab": {
          "base_uri": "https://localhost:8080/",
          "height": 225
        },
        "id": "R_4pBgmFKxoE",
        "outputId": "09c4aa9a-e69a-4cd8-c6dc-93ce693abe9f"
      },
      "source": [
        "facet = sns.FacetGrid(train, hue ='Survived', aspect=4)\n",
        "facet.map(sns.kdeplot,'Age',shade = True) # kde : 이차원 밀집도 그래프\n",
        "facet.set(xlim=(0,train['Age'].max()))\n",
        "facet.add_legend()\n",
        "sns.axes_style('dark')\n",
        "\n",
        "plt.xlim(20,30)\n",
        "\n",
        "plt.show()"
      ],
      "execution_count": null,
      "outputs": [
        {
          "output_type": "display_data",
          "data": {
            "image/png": "[encoded data removed]",
            "text/plain": [
              "<Figure size 925.55x216 with 1 Axes>"
            ]
          },
          "metadata": {
            "tags": [],
            "needs_background": "light"
          }
        }
      ]
    },
    {
      "cell_type": "markdown",
      "metadata": {
        "id": "SrCef4xGOz1j"
      },
      "source": [
        "0~80세까지 들어있음. 너무 많다. Pandas ->Binning 기술을 씀 (연속형 변수를 특정한 구간으로 잘라서 범주형으로 만들어주는 기술)\n",
        "\n",
        "잇달아 일어나는 형태의 데이터는 많은 정보를 주지 못하므로 이럴땐 각각 하나의 카테고리에 나이를 담아 정보를 보다 명확하게 확인할 수 있는 방법"
      ]
    },
    {
      "cell_type": "code",
      "metadata": {
        "colab": {
          "base_uri": "https://localhost:8080/"
        },
        "id": "x-8k11yvQOmy",
        "outputId": "c17ea8b8-cc6a-4d3c-d81c-1f8e80c6ee98"
      },
      "source": [
        "train.info()"
      ],
      "execution_count": null,
      "outputs": [
        {
          "output_type": "stream",
          "text": [
            "<class 'pandas.core.frame.DataFrame'>\n",
            "RangeIndex: 891 entries, 0 to 890\n",
            "Data columns (total 9 columns):\n",
            " #   Column       Non-Null Count  Dtype  \n",
            "---  ------       --------------  -----  \n",
            " 0   PassengerId  891 non-null    int64  \n",
            " 1   Survived     891 non-null    int64  \n",
            " 2   Pclass       891 non-null    int64  \n",
            " 3   Sex          891 non-null    int64  \n",
            " 4   Age          891 non-null    float64\n",
            " 5   SibSp        891 non-null    int64  \n",
            " 6   Parch        891 non-null    int64  \n",
            " 7   Fare         891 non-null    float64\n",
            " 8   Title        891 non-null    int64  \n",
            "dtypes: float64(2), int64(7)\n",
            "memory usage: 62.8 KB\n"
          ],
          "name": "stdout"
        }
      ]
    },
    {
      "cell_type": "code",
      "metadata": {
        "colab": {
          "base_uri": "https://localhost:8080/",
          "height": 360
        },
        "id": "O7V0xeeiQqiq",
        "outputId": "2e165efb-fb52-431e-cbb4-aba55f0c3baa"
      },
      "source": [
        "for dataset in train_test_data:\n",
        "  dataset.loc[ dataset['Age'] <=16, 'Age']=0,\n",
        "  dataset.loc[ ((dataset['Age'] >16) and  (dataset['Age'] <=26)),'Age']=1"
      ],
      "execution_count": null,
      "outputs": [
        {
          "output_type": "error",
          "ename": "ValueError",
          "evalue": "ignored",
          "traceback": [
            "\u001b[0;31m---------------------------------------------------------------------------\u001b[0m",
            "\u001b[0;31mValueError\u001b[0m                                Traceback (most recent call last)",
            "\u001b[0;32m<ipython-input-83-2bc7fa60dff7>\u001b[0m in \u001b[0;36m<module>\u001b[0;34m()\u001b[0m\n\u001b[1;32m      1\u001b[0m \u001b[0;32mfor\u001b[0m \u001b[0mdataset\u001b[0m \u001b[0;32min\u001b[0m \u001b[0mtrain_test_data\u001b[0m\u001b[0;34m:\u001b[0m\u001b[0;34m\u001b[0m\u001b[0;34m\u001b[0m\u001b[0m\n\u001b[0;32m----> 2\u001b[0;31m   \u001b[0mdataset\u001b[0m\u001b[0;34m.\u001b[0m\u001b[0mloc\u001b[0m\u001b[0;34m[\u001b[0m \u001b[0mdataset\u001b[0m\u001b[0;34m[\u001b[0m\u001b[0;34m'Age'\u001b[0m\u001b[0;34m]\u001b[0m \u001b[0;34m<=\u001b[0m\u001b[0;36m16\u001b[0m\u001b[0;34m,\u001b[0m \u001b[0;34m'Age'\u001b[0m\u001b[0;34m]\u001b[0m\u001b[0;34m=\u001b[0m\u001b[0;36m0\u001b[0m\u001b[0;34m,\u001b[0m\u001b[0;34m\u001b[0m\u001b[0;34m\u001b[0m\u001b[0m\n\u001b[0m\u001b[1;32m      3\u001b[0m   \u001b[0mdataset\u001b[0m\u001b[0;34m.\u001b[0m\u001b[0mloc\u001b[0m\u001b[0;34m[\u001b[0m \u001b[0;34m(\u001b[0m\u001b[0;34m(\u001b[0m\u001b[0mdataset\u001b[0m\u001b[0;34m[\u001b[0m\u001b[0;34m'Age'\u001b[0m\u001b[0;34m]\u001b[0m \u001b[0;34m>\u001b[0m\u001b[0;36m16\u001b[0m\u001b[0;34m)\u001b[0m \u001b[0;32mand\u001b[0m  \u001b[0;34m(\u001b[0m\u001b[0mdataset\u001b[0m\u001b[0;34m[\u001b[0m\u001b[0;34m'Age'\u001b[0m\u001b[0;34m]\u001b[0m \u001b[0;34m<=\u001b[0m\u001b[0;36m26\u001b[0m\u001b[0;34m)\u001b[0m\u001b[0;34m)\u001b[0m\u001b[0;34m,\u001b[0m\u001b[0;34m'Age'\u001b[0m\u001b[0;34m]\u001b[0m\u001b[0;34m=\u001b[0m\u001b[0;36m1\u001b[0m\u001b[0;34m\u001b[0m\u001b[0;34m\u001b[0m\u001b[0m\n",
            "\u001b[0;32m/usr/local/lib/python3.7/dist-packages/pandas/core/indexing.py\u001b[0m in \u001b[0;36m__setitem__\u001b[0;34m(self, key, value)\u001b[0m\n\u001b[1;32m    668\u001b[0m \u001b[0;34m\u001b[0m\u001b[0m\n\u001b[1;32m    669\u001b[0m         \u001b[0miloc\u001b[0m \u001b[0;34m=\u001b[0m \u001b[0mself\u001b[0m \u001b[0;32mif\u001b[0m \u001b[0mself\u001b[0m\u001b[0;34m.\u001b[0m\u001b[0mname\u001b[0m \u001b[0;34m==\u001b[0m \u001b[0;34m\"iloc\"\u001b[0m \u001b[0;32melse\u001b[0m \u001b[0mself\u001b[0m\u001b[0;34m.\u001b[0m\u001b[0mobj\u001b[0m\u001b[0;34m.\u001b[0m\u001b[0miloc\u001b[0m\u001b[0;34m\u001b[0m\u001b[0;34m\u001b[0m\u001b[0m\n\u001b[0;32m--> 670\u001b[0;31m         \u001b[0miloc\u001b[0m\u001b[0;34m.\u001b[0m\u001b[0m_setitem_with_indexer\u001b[0m\u001b[0;34m(\u001b[0m\u001b[0mindexer\u001b[0m\u001b[0;34m,\u001b[0m \u001b[0mvalue\u001b[0m\u001b[0;34m)\u001b[0m\u001b[0;34m\u001b[0m\u001b[0;34m\u001b[0m\u001b[0m\n\u001b[0m\u001b[1;32m    671\u001b[0m \u001b[0;34m\u001b[0m\u001b[0m\n\u001b[1;32m    672\u001b[0m     \u001b[0;32mdef\u001b[0m \u001b[0m_validate_key\u001b[0m\u001b[0;34m(\u001b[0m\u001b[0mself\u001b[0m\u001b[0;34m,\u001b[0m \u001b[0mkey\u001b[0m\u001b[0;34m,\u001b[0m \u001b[0maxis\u001b[0m\u001b[0;34m:\u001b[0m \u001b[0mint\u001b[0m\u001b[0;34m)\u001b[0m\u001b[0;34m:\u001b[0m\u001b[0;34m\u001b[0m\u001b[0;34m\u001b[0m\u001b[0m\n",
            "\u001b[0;32m/usr/local/lib/python3.7/dist-packages/pandas/core/indexing.py\u001b[0m in \u001b[0;36m_setitem_with_indexer\u001b[0;34m(self, indexer, value)\u001b[0m\n\u001b[1;32m   1665\u001b[0m                     \u001b[0;31m# Exclude zero-len for e.g. boolean masking that is all-false\u001b[0m\u001b[0;34m\u001b[0m\u001b[0;34m\u001b[0m\u001b[0;34m\u001b[0m\u001b[0m\n\u001b[1;32m   1666\u001b[0m                     raise ValueError(\n\u001b[0;32m-> 1667\u001b[0;31m                         \u001b[0;34m\"cannot set using a multi-index \"\u001b[0m\u001b[0;34m\u001b[0m\u001b[0;34m\u001b[0m\u001b[0m\n\u001b[0m\u001b[1;32m   1668\u001b[0m                         \u001b[0;34m\"selection indexer with a different \"\u001b[0m\u001b[0;34m\u001b[0m\u001b[0;34m\u001b[0m\u001b[0m\n\u001b[1;32m   1669\u001b[0m                         \u001b[0;34m\"length than the value\"\u001b[0m\u001b[0;34m\u001b[0m\u001b[0;34m\u001b[0m\u001b[0m\n",
            "\u001b[0;31mValueError\u001b[0m: cannot set using a multi-index selection indexer with a different length than the value"
          ]
        }
      ]
    },
    {
      "cell_type": "markdown",
      "metadata": {
        "id": "A_2Gt6KBtOxk"
      },
      "source": [
        "#컴마로 연결을 해버리니깐, multi index로 받아들여서 처리가 안됨"
      ]
    },
    {
      "cell_type": "code",
      "metadata": {
        "id": "mnno5TsgrF-F"
      },
      "source": [
        "for dataset in train_test_data: \n",
        "  dataset.loc[ dataset['Age'] <= 16, 'Age'] = 0 \n",
        "  dataset.loc[(dataset['Age'] > 16) & (dataset['Age'] <= 32), 'Age'] = 1 \n",
        "  dataset.loc[(dataset['Age'] > 32) & (dataset['Age'] <= 48), 'Age'] = 2 \n",
        "  dataset.loc[(dataset['Age'] > 48) & (dataset['Age'] <= 64), 'Age'] = 3 \n",
        "  dataset.loc[ dataset['Age'] > 64, 'Age'] = 4 \n",
        "  dataset['Age'] = dataset['Age'].map( { 0: 'Child', 1: 'Young', 2: 'Middle', 3: 'Prime', 4: 'Old'} ).astype(str)"
      ],
      "execution_count": null,
      "outputs": []
    },
    {
      "cell_type": "code",
      "metadata": {
        "colab": {
          "base_uri": "https://localhost:8080/",
          "height": 407
        },
        "id": "zL0ZgdarKxqL",
        "outputId": "97c12838-e886-4c86-eb07-6b00907f8e2e"
      },
      "source": [
        "train2= train.copy()\n",
        "train2.loc[(train2.Age<=16),\"Age_bin\"]=0\n",
        "train2.loc[(train2.Age>16) & (train2.Age<=26),\"Age_bin\"]=1\n",
        "train2.loc[(train2.Age>26) & (train2.Age<=36),\"Age_bin\"]=2\n",
        "train2.loc[(train2.Age>36) & (train2.Age<=46),\"Age_bin\"]=3\n",
        "train2.loc[(train2.Age>46),\"Age_bin\"]=4\n",
        "train2\n",
        "\n",
        "Test2= train.copy()\n",
        "Test2.loc[(train2.Age<=16),\"Age_bin\"]=0\n",
        "Test2.loc[(train2.Age>16) & (train2.Age<=26),\"Age_bin\"]=1\n",
        "Test2.loc[(train2.Age>26) & (train2.Age<=36),\"Age_bin\"]=2\n",
        "Test2.loc[(train2.Age>36) & (train2.Age<=46),\"Age_bin\"]=3\n",
        "Test2.loc[(train2.Age>46),\"Age_bin\"]=4\n",
        "Test2\n"
      ],
      "execution_count": null,
      "outputs": [
        {
          "output_type": "execute_result",
          "data": {
            "text/html": [
              "<div>\n",
              "<style scoped>\n",
              "    .dataframe tbody tr th:only-of-type {\n",
              "        vertical-align: middle;\n",
              "    }\n",
              "\n",
              "    .dataframe tbody tr th {\n",
              "        vertical-align: top;\n",
              "    }\n",
              "\n",
              "    .dataframe thead th {\n",
              "        text-align: right;\n",
              "    }\n",
              "</style>\n",
              "<table border=\"1\" class=\"dataframe\">\n",
              "  <thead>\n",
              "    <tr style=\"text-align: right;\">\n",
              "      <th></th>\n",
              "      <th>PassengerId</th>\n",
              "      <th>Survived</th>\n",
              "      <th>Pclass</th>\n",
              "      <th>Sex</th>\n",
              "      <th>Age</th>\n",
              "      <th>SibSp</th>\n",
              "      <th>Parch</th>\n",
              "      <th>Fare</th>\n",
              "      <th>Title</th>\n",
              "      <th>Age_bin</th>\n",
              "    </tr>\n",
              "  </thead>\n",
              "  <tbody>\n",
              "    <tr>\n",
              "      <th>0</th>\n",
              "      <td>1</td>\n",
              "      <td>0</td>\n",
              "      <td>3</td>\n",
              "      <td>0</td>\n",
              "      <td>22.0</td>\n",
              "      <td>1</td>\n",
              "      <td>0</td>\n",
              "      <td>7.2500</td>\n",
              "      <td>0</td>\n",
              "      <td>1.0</td>\n",
              "    </tr>\n",
              "    <tr>\n",
              "      <th>1</th>\n",
              "      <td>2</td>\n",
              "      <td>1</td>\n",
              "      <td>1</td>\n",
              "      <td>1</td>\n",
              "      <td>38.0</td>\n",
              "      <td>1</td>\n",
              "      <td>0</td>\n",
              "      <td>71.2833</td>\n",
              "      <td>2</td>\n",
              "      <td>3.0</td>\n",
              "    </tr>\n",
              "    <tr>\n",
              "      <th>2</th>\n",
              "      <td>3</td>\n",
              "      <td>1</td>\n",
              "      <td>3</td>\n",
              "      <td>1</td>\n",
              "      <td>26.0</td>\n",
              "      <td>0</td>\n",
              "      <td>0</td>\n",
              "      <td>7.9250</td>\n",
              "      <td>1</td>\n",
              "      <td>1.0</td>\n",
              "    </tr>\n",
              "    <tr>\n",
              "      <th>3</th>\n",
              "      <td>4</td>\n",
              "      <td>1</td>\n",
              "      <td>1</td>\n",
              "      <td>1</td>\n",
              "      <td>35.0</td>\n",
              "      <td>1</td>\n",
              "      <td>0</td>\n",
              "      <td>53.1000</td>\n",
              "      <td>2</td>\n",
              "      <td>2.0</td>\n",
              "    </tr>\n",
              "    <tr>\n",
              "      <th>4</th>\n",
              "      <td>5</td>\n",
              "      <td>0</td>\n",
              "      <td>3</td>\n",
              "      <td>0</td>\n",
              "      <td>35.0</td>\n",
              "      <td>0</td>\n",
              "      <td>0</td>\n",
              "      <td>8.0500</td>\n",
              "      <td>0</td>\n",
              "      <td>2.0</td>\n",
              "    </tr>\n",
              "    <tr>\n",
              "      <th>...</th>\n",
              "      <td>...</td>\n",
              "      <td>...</td>\n",
              "      <td>...</td>\n",
              "      <td>...</td>\n",
              "      <td>...</td>\n",
              "      <td>...</td>\n",
              "      <td>...</td>\n",
              "      <td>...</td>\n",
              "      <td>...</td>\n",
              "      <td>...</td>\n",
              "    </tr>\n",
              "    <tr>\n",
              "      <th>886</th>\n",
              "      <td>887</td>\n",
              "      <td>0</td>\n",
              "      <td>2</td>\n",
              "      <td>0</td>\n",
              "      <td>27.0</td>\n",
              "      <td>0</td>\n",
              "      <td>0</td>\n",
              "      <td>13.0000</td>\n",
              "      <td>3</td>\n",
              "      <td>2.0</td>\n",
              "    </tr>\n",
              "    <tr>\n",
              "      <th>887</th>\n",
              "      <td>888</td>\n",
              "      <td>1</td>\n",
              "      <td>1</td>\n",
              "      <td>1</td>\n",
              "      <td>19.0</td>\n",
              "      <td>0</td>\n",
              "      <td>0</td>\n",
              "      <td>30.0000</td>\n",
              "      <td>1</td>\n",
              "      <td>1.0</td>\n",
              "    </tr>\n",
              "    <tr>\n",
              "      <th>888</th>\n",
              "      <td>889</td>\n",
              "      <td>0</td>\n",
              "      <td>3</td>\n",
              "      <td>1</td>\n",
              "      <td>21.0</td>\n",
              "      <td>1</td>\n",
              "      <td>2</td>\n",
              "      <td>23.4500</td>\n",
              "      <td>1</td>\n",
              "      <td>1.0</td>\n",
              "    </tr>\n",
              "    <tr>\n",
              "      <th>889</th>\n",
              "      <td>890</td>\n",
              "      <td>1</td>\n",
              "      <td>1</td>\n",
              "      <td>0</td>\n",
              "      <td>26.0</td>\n",
              "      <td>0</td>\n",
              "      <td>0</td>\n",
              "      <td>30.0000</td>\n",
              "      <td>0</td>\n",
              "      <td>1.0</td>\n",
              "    </tr>\n",
              "    <tr>\n",
              "      <th>890</th>\n",
              "      <td>891</td>\n",
              "      <td>0</td>\n",
              "      <td>3</td>\n",
              "      <td>0</td>\n",
              "      <td>32.0</td>\n",
              "      <td>0</td>\n",
              "      <td>0</td>\n",
              "      <td>7.7500</td>\n",
              "      <td>0</td>\n",
              "      <td>2.0</td>\n",
              "    </tr>\n",
              "  </tbody>\n",
              "</table>\n",
              "<p>891 rows × 10 columns</p>\n",
              "</div>"
            ],
            "text/plain": [
              "     PassengerId  Survived  Pclass  Sex  ...  Parch     Fare  Title  Age_bin\n",
              "0              1         0       3    0  ...      0   7.2500      0      1.0\n",
              "1              2         1       1    1  ...      0  71.2833      2      3.0\n",
              "2              3         1       3    1  ...      0   7.9250      1      1.0\n",
              "3              4         1       1    1  ...      0  53.1000      2      2.0\n",
              "4              5         0       3    0  ...      0   8.0500      0      2.0\n",
              "..           ...       ...     ...  ...  ...    ...      ...    ...      ...\n",
              "886          887         0       2    0  ...      0  13.0000      3      2.0\n",
              "887          888         1       1    1  ...      0  30.0000      1      1.0\n",
              "888          889         0       3    1  ...      2  23.4500      1      1.0\n",
              "889          890         1       1    0  ...      0  30.0000      0      1.0\n",
              "890          891         0       3    0  ...      0   7.7500      0      2.0\n",
              "\n",
              "[891 rows x 10 columns]"
            ]
          },
          "metadata": {
            "tags": []
          },
          "execution_count": 84
        }
      ]
    },
    {
      "cell_type": "code",
      "metadata": {
        "id": "T3q8uSvaVNij"
      },
      "source": [
        "def bar_chart2(feature):\n",
        "  survived = train2[train2['Survived'] ==1][feature].value_counts() # 생존자를 카운트\n",
        "  dead = train2[train2['Survived'] ==0][feature].value_counts() #사망자를 카운트\n",
        "  df = pd.DataFrame([survived,dead]) #[생존자,사망자]를 dataFrame\n",
        "  df.index = ['Survived','Dead'] # index화\n",
        "  df.plot(kind = 'bar',stacked = True, figsize = (10,5)) #그림을 그림"
      ],
      "execution_count": null,
      "outputs": []
    },
    {
      "cell_type": "code",
      "metadata": {
        "colab": {
          "base_uri": "https://localhost:8080/",
          "height": 361
        },
        "id": "8yM_D_zBKxsQ",
        "outputId": "2163ec3a-74bd-488d-f0d7-48e7abad6200"
      },
      "source": [
        "bar_chart2('Age_bin')"
      ],
      "execution_count": null,
      "outputs": [
        {
          "output_type": "display_data",
          "data": {
            "image/png": "[encoded data removed]",
            "text/plain": [
              "<Figure size 720x360 with 1 Axes>"
            ]
          },
          "metadata": {
            "tags": [],
            "needs_background": "light"
          }
        }
      ]
    },
    {
      "cell_type": "code",
      "metadata": {
        "colab": {
          "base_uri": "https://localhost:8080/",
          "height": 407
        },
        "id": "CQa-JiZCVkFE",
        "outputId": "43dbbe51-921f-4593-bc3b-4f394c23e22d"
      },
      "source": [
        "train"
      ],
      "execution_count": null,
      "outputs": [
        {
          "output_type": "execute_result",
          "data": {
            "text/html": [
              "<div>\n",
              "<style scoped>\n",
              "    .dataframe tbody tr th:only-of-type {\n",
              "        vertical-align: middle;\n",
              "    }\n",
              "\n",
              "    .dataframe tbody tr th {\n",
              "        vertical-align: top;\n",
              "    }\n",
              "\n",
              "    .dataframe thead th {\n",
              "        text-align: right;\n",
              "    }\n",
              "</style>\n",
              "<table border=\"1\" class=\"dataframe\">\n",
              "  <thead>\n",
              "    <tr style=\"text-align: right;\">\n",
              "      <th></th>\n",
              "      <th>PassengerId</th>\n",
              "      <th>Survived</th>\n",
              "      <th>Pclass</th>\n",
              "      <th>Sex</th>\n",
              "      <th>Age</th>\n",
              "      <th>SibSp</th>\n",
              "      <th>Parch</th>\n",
              "      <th>Fare</th>\n",
              "      <th>Title</th>\n",
              "    </tr>\n",
              "  </thead>\n",
              "  <tbody>\n",
              "    <tr>\n",
              "      <th>0</th>\n",
              "      <td>1</td>\n",
              "      <td>0</td>\n",
              "      <td>3</td>\n",
              "      <td>0</td>\n",
              "      <td>22.0</td>\n",
              "      <td>1</td>\n",
              "      <td>0</td>\n",
              "      <td>7.2500</td>\n",
              "      <td>0</td>\n",
              "    </tr>\n",
              "    <tr>\n",
              "      <th>1</th>\n",
              "      <td>2</td>\n",
              "      <td>1</td>\n",
              "      <td>1</td>\n",
              "      <td>1</td>\n",
              "      <td>38.0</td>\n",
              "      <td>1</td>\n",
              "      <td>0</td>\n",
              "      <td>71.2833</td>\n",
              "      <td>2</td>\n",
              "    </tr>\n",
              "    <tr>\n",
              "      <th>2</th>\n",
              "      <td>3</td>\n",
              "      <td>1</td>\n",
              "      <td>3</td>\n",
              "      <td>1</td>\n",
              "      <td>26.0</td>\n",
              "      <td>0</td>\n",
              "      <td>0</td>\n",
              "      <td>7.9250</td>\n",
              "      <td>1</td>\n",
              "    </tr>\n",
              "    <tr>\n",
              "      <th>3</th>\n",
              "      <td>4</td>\n",
              "      <td>1</td>\n",
              "      <td>1</td>\n",
              "      <td>1</td>\n",
              "      <td>35.0</td>\n",
              "      <td>1</td>\n",
              "      <td>0</td>\n",
              "      <td>53.1000</td>\n",
              "      <td>2</td>\n",
              "    </tr>\n",
              "    <tr>\n",
              "      <th>4</th>\n",
              "      <td>5</td>\n",
              "      <td>0</td>\n",
              "      <td>3</td>\n",
              "      <td>0</td>\n",
              "      <td>35.0</td>\n",
              "      <td>0</td>\n",
              "      <td>0</td>\n",
              "      <td>8.0500</td>\n",
              "      <td>0</td>\n",
              "    </tr>\n",
              "    <tr>\n",
              "      <th>...</th>\n",
              "      <td>...</td>\n",
              "      <td>...</td>\n",
              "      <td>...</td>\n",
              "      <td>...</td>\n",
              "      <td>...</td>\n",
              "      <td>...</td>\n",
              "      <td>...</td>\n",
              "      <td>...</td>\n",
              "      <td>...</td>\n",
              "    </tr>\n",
              "    <tr>\n",
              "      <th>886</th>\n",
              "      <td>887</td>\n",
              "      <td>0</td>\n",
              "      <td>2</td>\n",
              "      <td>0</td>\n",
              "      <td>27.0</td>\n",
              "      <td>0</td>\n",
              "      <td>0</td>\n",
              "      <td>13.0000</td>\n",
              "      <td>3</td>\n",
              "    </tr>\n",
              "    <tr>\n",
              "      <th>887</th>\n",
              "      <td>888</td>\n",
              "      <td>1</td>\n",
              "      <td>1</td>\n",
              "      <td>1</td>\n",
              "      <td>19.0</td>\n",
              "      <td>0</td>\n",
              "      <td>0</td>\n",
              "      <td>30.0000</td>\n",
              "      <td>1</td>\n",
              "    </tr>\n",
              "    <tr>\n",
              "      <th>888</th>\n",
              "      <td>889</td>\n",
              "      <td>0</td>\n",
              "      <td>3</td>\n",
              "      <td>1</td>\n",
              "      <td>21.0</td>\n",
              "      <td>1</td>\n",
              "      <td>2</td>\n",
              "      <td>23.4500</td>\n",
              "      <td>1</td>\n",
              "    </tr>\n",
              "    <tr>\n",
              "      <th>889</th>\n",
              "      <td>890</td>\n",
              "      <td>1</td>\n",
              "      <td>1</td>\n",
              "      <td>0</td>\n",
              "      <td>26.0</td>\n",
              "      <td>0</td>\n",
              "      <td>0</td>\n",
              "      <td>30.0000</td>\n",
              "      <td>0</td>\n",
              "    </tr>\n",
              "    <tr>\n",
              "      <th>890</th>\n",
              "      <td>891</td>\n",
              "      <td>0</td>\n",
              "      <td>3</td>\n",
              "      <td>0</td>\n",
              "      <td>32.0</td>\n",
              "      <td>0</td>\n",
              "      <td>0</td>\n",
              "      <td>7.7500</td>\n",
              "      <td>0</td>\n",
              "    </tr>\n",
              "  </tbody>\n",
              "</table>\n",
              "<p>891 rows × 9 columns</p>\n",
              "</div>"
            ],
            "text/plain": [
              "     PassengerId  Survived  Pclass  Sex   Age  SibSp  Parch     Fare  Title\n",
              "0              1         0       3    0  22.0      1      0   7.2500      0\n",
              "1              2         1       1    1  38.0      1      0  71.2833      2\n",
              "2              3         1       3    1  26.0      0      0   7.9250      1\n",
              "3              4         1       1    1  35.0      1      0  53.1000      2\n",
              "4              5         0       3    0  35.0      0      0   8.0500      0\n",
              "..           ...       ...     ...  ...   ...    ...    ...      ...    ...\n",
              "886          887         0       2    0  27.0      0      0  13.0000      3\n",
              "887          888         1       1    1  19.0      0      0  30.0000      1\n",
              "888          889         0       3    1  21.0      1      2  23.4500      1\n",
              "889          890         1       1    0  26.0      0      0  30.0000      0\n",
              "890          891         0       3    0  32.0      0      0   7.7500      0\n",
              "\n",
              "[891 rows x 9 columns]"
            ]
          },
          "metadata": {
            "tags": []
          },
          "execution_count": 87
        }
      ]
    },
    {
      "cell_type": "markdown",
      "metadata": {
        "id": "oTHzfa9wVeyk"
      },
      "source": [
        "#Embarked"
      ]
    },
    {
      "cell_type": "code",
      "metadata": {
        "colab": {
          "base_uri": "https://localhost:8080/"
        },
        "id": "xAGtJpYjKxul",
        "outputId": "517ccfeb-0bac-40f1-cefd-d91d1c9a5ff1"
      },
      "source": [
        "train2.isna().sum()"
      ],
      "execution_count": null,
      "outputs": [
        {
          "output_type": "execute_result",
          "data": {
            "text/plain": [
              "PassengerId    0\n",
              "Survived       0\n",
              "Pclass         0\n",
              "Sex            0\n",
              "Age            0\n",
              "SibSp          0\n",
              "Parch          0\n",
              "Fare           0\n",
              "Title          0\n",
              "Age_bin        0\n",
              "dtype: int64"
            ]
          },
          "metadata": {
            "tags": []
          },
          "execution_count": 88
        }
      ]
    },
    {
      "cell_type": "markdown",
      "metadata": {
        "id": "qYcTRnppVvTV"
      },
      "source": [
        "# FamilySize\n",
        "함께 동승한 부모님과 아리들의 수화 형제와 배우자의 수\n",
        "\n",
        "혼자탄거랑 가족들이랑 탄건랑 어떻게 다른지?\n",
        "\n",
        "Sibsp+parch"
      ]
    },
    {
      "cell_type": "code",
      "metadata": {
        "id": "waC38RW3Kxwk"
      },
      "source": [
        "train2['FamilySize'] = train2['SibSp']+train2['Parch']+1\n",
        "Test2['FamilySize'] = Test2['SibSp']+Test2['Parch']+1"
      ],
      "execution_count": null,
      "outputs": []
    },
    {
      "cell_type": "code",
      "metadata": {
        "colab": {
          "base_uri": "https://localhost:8080/",
          "height": 225
        },
        "id": "X6L70HIcWOWD",
        "outputId": "3a513ea6-1ea4-44f6-979e-e308ea5ff29e"
      },
      "source": [
        "facet = sns.FacetGrid(train2, hue ='Survived', aspect=4)\n",
        "facet.map(sns.kdeplot,'FamilySize',shade = True) # kde : 이차원 밀집도 그래프\n",
        "facet.set(xlim=(0,train2['FamilySize'].max()))\n",
        "facet.add_legend()\n",
        "\n",
        "plt.show()"
      ],
      "execution_count": null,
      "outputs": [
        {
          "output_type": "display_data",
          "data": {
            "image/png": "[encoded data removed]",
            "text/plain": [
              "<Figure size 925.55x216 with 1 Axes>"
            ]
          },
          "metadata": {
            "tags": [],
            "needs_background": "light"
          }
        }
      ]
    },
    {
      "cell_type": "markdown",
      "metadata": {
        "id": "HJkGkWQeWivN"
      },
      "source": [
        "# 혼자일경우는 사망률이 높음"
      ]
    },
    {
      "cell_type": "code",
      "metadata": {
        "id": "kZImLezUZVs4"
      },
      "source": [
        "X_train = train.drop(['Survived','PassengerId'],axis=1)\n",
        "Y_train = train['Survived']\n",
        "X_test = test.drop('PassengerId',axis = 1).copy()"
      ],
      "execution_count": null,
      "outputs": []
    },
    {
      "cell_type": "code",
      "metadata": {
        "colab": {
          "base_uri": "https://localhost:8080/",
          "height": 407
        },
        "id": "XTAxa97TZXFl",
        "outputId": "3b6479fd-20ea-4b5e-987c-1a60131a567e"
      },
      "source": [
        "X_train"
      ],
      "execution_count": null,
      "outputs": [
        {
          "output_type": "execute_result",
          "data": {
            "text/html": [
              "<div>\n",
              "<style scoped>\n",
              "    .dataframe tbody tr th:only-of-type {\n",
              "        vertical-align: middle;\n",
              "    }\n",
              "\n",
              "    .dataframe tbody tr th {\n",
              "        vertical-align: top;\n",
              "    }\n",
              "\n",
              "    .dataframe thead th {\n",
              "        text-align: right;\n",
              "    }\n",
              "</style>\n",
              "<table border=\"1\" class=\"dataframe\">\n",
              "  <thead>\n",
              "    <tr style=\"text-align: right;\">\n",
              "      <th></th>\n",
              "      <th>Pclass</th>\n",
              "      <th>Sex</th>\n",
              "      <th>Age</th>\n",
              "      <th>SibSp</th>\n",
              "      <th>Parch</th>\n",
              "      <th>Fare</th>\n",
              "      <th>Title</th>\n",
              "    </tr>\n",
              "  </thead>\n",
              "  <tbody>\n",
              "    <tr>\n",
              "      <th>0</th>\n",
              "      <td>3</td>\n",
              "      <td>0</td>\n",
              "      <td>22.0</td>\n",
              "      <td>1</td>\n",
              "      <td>0</td>\n",
              "      <td>7.2500</td>\n",
              "      <td>0</td>\n",
              "    </tr>\n",
              "    <tr>\n",
              "      <th>1</th>\n",
              "      <td>1</td>\n",
              "      <td>1</td>\n",
              "      <td>38.0</td>\n",
              "      <td>1</td>\n",
              "      <td>0</td>\n",
              "      <td>71.2833</td>\n",
              "      <td>2</td>\n",
              "    </tr>\n",
              "    <tr>\n",
              "      <th>2</th>\n",
              "      <td>3</td>\n",
              "      <td>1</td>\n",
              "      <td>26.0</td>\n",
              "      <td>0</td>\n",
              "      <td>0</td>\n",
              "      <td>7.9250</td>\n",
              "      <td>1</td>\n",
              "    </tr>\n",
              "    <tr>\n",
              "      <th>3</th>\n",
              "      <td>1</td>\n",
              "      <td>1</td>\n",
              "      <td>35.0</td>\n",
              "      <td>1</td>\n",
              "      <td>0</td>\n",
              "      <td>53.1000</td>\n",
              "      <td>2</td>\n",
              "    </tr>\n",
              "    <tr>\n",
              "      <th>4</th>\n",
              "      <td>3</td>\n",
              "      <td>0</td>\n",
              "      <td>35.0</td>\n",
              "      <td>0</td>\n",
              "      <td>0</td>\n",
              "      <td>8.0500</td>\n",
              "      <td>0</td>\n",
              "    </tr>\n",
              "    <tr>\n",
              "      <th>...</th>\n",
              "      <td>...</td>\n",
              "      <td>...</td>\n",
              "      <td>...</td>\n",
              "      <td>...</td>\n",
              "      <td>...</td>\n",
              "      <td>...</td>\n",
              "      <td>...</td>\n",
              "    </tr>\n",
              "    <tr>\n",
              "      <th>886</th>\n",
              "      <td>2</td>\n",
              "      <td>0</td>\n",
              "      <td>27.0</td>\n",
              "      <td>0</td>\n",
              "      <td>0</td>\n",
              "      <td>13.0000</td>\n",
              "      <td>3</td>\n",
              "    </tr>\n",
              "    <tr>\n",
              "      <th>887</th>\n",
              "      <td>1</td>\n",
              "      <td>1</td>\n",
              "      <td>19.0</td>\n",
              "      <td>0</td>\n",
              "      <td>0</td>\n",
              "      <td>30.0000</td>\n",
              "      <td>1</td>\n",
              "    </tr>\n",
              "    <tr>\n",
              "      <th>888</th>\n",
              "      <td>3</td>\n",
              "      <td>1</td>\n",
              "      <td>21.0</td>\n",
              "      <td>1</td>\n",
              "      <td>2</td>\n",
              "      <td>23.4500</td>\n",
              "      <td>1</td>\n",
              "    </tr>\n",
              "    <tr>\n",
              "      <th>889</th>\n",
              "      <td>1</td>\n",
              "      <td>0</td>\n",
              "      <td>26.0</td>\n",
              "      <td>0</td>\n",
              "      <td>0</td>\n",
              "      <td>30.0000</td>\n",
              "      <td>0</td>\n",
              "    </tr>\n",
              "    <tr>\n",
              "      <th>890</th>\n",
              "      <td>3</td>\n",
              "      <td>0</td>\n",
              "      <td>32.0</td>\n",
              "      <td>0</td>\n",
              "      <td>0</td>\n",
              "      <td>7.7500</td>\n",
              "      <td>0</td>\n",
              "    </tr>\n",
              "  </tbody>\n",
              "</table>\n",
              "<p>891 rows × 7 columns</p>\n",
              "</div>"
            ],
            "text/plain": [
              "     Pclass  Sex   Age  SibSp  Parch     Fare  Title\n",
              "0         3    0  22.0      1      0   7.2500      0\n",
              "1         1    1  38.0      1      0  71.2833      2\n",
              "2         3    1  26.0      0      0   7.9250      1\n",
              "3         1    1  35.0      1      0  53.1000      2\n",
              "4         3    0  35.0      0      0   8.0500      0\n",
              "..      ...  ...   ...    ...    ...      ...    ...\n",
              "886       2    0  27.0      0      0  13.0000      3\n",
              "887       1    1  19.0      0      0  30.0000      1\n",
              "888       3    1  21.0      1      2  23.4500      1\n",
              "889       1    0  26.0      0      0  30.0000      0\n",
              "890       3    0  32.0      0      0   7.7500      0\n",
              "\n",
              "[891 rows x 7 columns]"
            ]
          },
          "metadata": {
            "tags": []
          },
          "execution_count": 92
        }
      ]
    },
    {
      "cell_type": "code",
      "metadata": {
        "id": "o_iALkwxadr4"
      },
      "source": [
        "X_test['Fare'].fillna(0,inplace = True)\n",
        "X_test['Title'].fillna(0,inplace = True)"
      ],
      "execution_count": null,
      "outputs": []
    },
    {
      "cell_type": "code",
      "metadata": {
        "colab": {
          "base_uri": "https://localhost:8080/"
        },
        "id": "eJ62tRhCaMo9",
        "outputId": "19d88de8-2643-4b1a-8224-1679ea702dd1"
      },
      "source": [
        "X_test.isna().sum()"
      ],
      "execution_count": null,
      "outputs": [
        {
          "output_type": "execute_result",
          "data": {
            "text/plain": [
              "Pclass    0\n",
              "Sex       0\n",
              "Age       0\n",
              "SibSp     0\n",
              "Parch     0\n",
              "Fare      0\n",
              "Title     0\n",
              "dtype: int64"
            ]
          },
          "metadata": {
            "tags": []
          },
          "execution_count": 94
        }
      ]
    },
    {
      "cell_type": "code",
      "metadata": {
        "colab": {
          "base_uri": "https://localhost:8080/"
        },
        "id": "z1Ysl17RWOYE",
        "outputId": "87279aef-d359-4cc2-e761-627a4334d01e"
      },
      "source": [
        "from sklearn.linear_model import LinearRegression\n",
        "# 데이터가 정렬되어있을 경우도 있기 때문에 데이터를 shuffle 해줌\n",
        "from sklearn.utils import shuffle\n",
        "\n",
        "\n",
        "lig_reg = LinearRegression()\n",
        "lig_reg.fit(X_train,Y_train)\n",
        "\n",
        "lig_reg.score(X_train,Y_train)\n"
      ],
      "execution_count": null,
      "outputs": [
        {
          "output_type": "execute_result",
          "data": {
            "text/plain": [
              "0.4238266741773411"
            ]
          },
          "metadata": {
            "tags": []
          },
          "execution_count": 95
        }
      ]
    },
    {
      "cell_type": "code",
      "metadata": {
        "id": "rwy6TZIYYoZ-"
      },
      "source": [
        "Y_pred = lig_reg.predict(X_test)"
      ],
      "execution_count": null,
      "outputs": []
    },
    {
      "cell_type": "code",
      "metadata": {
        "colab": {
          "base_uri": "https://localhost:8080/"
        },
        "id": "fPpN_s-kWOaO",
        "outputId": "1c7dd396-de05-46b9-9581-e40ad84e50ff"
      },
      "source": [
        "Y_pred"
      ],
      "execution_count": null,
      "outputs": [
        {
          "output_type": "execute_result",
          "data": {
            "text/plain": [
              "array([ 0.06879961,  0.5575395 ,  0.0698193 ,  0.10933363,  0.65407837,\n",
              "        0.17901319,  0.60332177,  0.17142895,  0.77509554,  0.02591674,\n",
              "        0.10083259,  0.31225759,  1.0277804 ,  0.01241457,  0.88596577,\n",
              "        0.84019491,  0.21552012,  0.14037838,  0.55671985,  0.63114128,\n",
              "        0.22342747,  0.48564397,  0.98536105,  0.42856743,  0.8921567 ,\n",
              "       -0.07224723,  0.93429176,  0.13238108,  0.34187189, -0.01569316,\n",
              "        0.08172456,  0.16116727,  0.56065299,  0.54388155,  0.3556318 ,\n",
              "        0.15370998,  0.64625054,  0.6519845 ,  0.12054696,  0.13276393,\n",
              "        0.00825525,  0.40592086,  0.03415828,  0.86132466,  0.89096477,\n",
              "        0.11951215,  0.32002012,  0.10073679,  0.8893787 ,  0.60437768,\n",
              "        0.38909933,  0.25993541,  0.6473468 ,  0.80578174,  0.25229677,\n",
              "        0.24620143,  0.0661776 ,  0.11933147,  0.04343206,  1.03153856,\n",
              "        0.16214526,  0.23227031,  0.15671793,  0.64603701,  0.76164779,\n",
              "        0.83192586,  0.66746447,  0.31770124,  0.39389785,  0.78836533,\n",
              "        0.63539036,  0.14081911,  0.60884765,  0.4066901 ,  1.00344403,\n",
              "        0.50611122,  0.1009339 ,  0.75721468,  0.24260487,  0.63539036,\n",
              "        0.44678126,  0.26613599,  0.29626298,  0.10083259,  0.24909647,\n",
              "        0.04235073,  0.61948064,  0.66757669,  0.92881392,  0.61961811,\n",
              "        0.69536138,  0.10075322,  0.9061212 ,  0.1009339 ,  0.42421987,\n",
              "        0.11942726,  0.74296409,  0.098186  ,  0.65678497,  0.07694198,\n",
              "        0.903525  ,  0.20434991,  0.10073679,  0.11408206,  0.68359009,\n",
              "        0.11311008,  0.14076984,  0.10073679,  0.10136918,  0.30391755,\n",
              "        0.1853021 ,  0.64607262,  0.87996598,  0.66440718,  0.90618192,\n",
              "        0.09833187,  0.09987445,  0.66088163,  0.39792592,  0.81240662,\n",
              "        0.851041  ,  0.03794591,  0.94769391,  0.10307405,  0.10073679,\n",
              "        0.63797371,  0.13542187,  0.53065554,  0.17862643,  0.12492582,\n",
              "        0.08227352,  0.60075381,  0.52755034,  0.03708357,  0.0235253 ,\n",
              "        0.12479717,  0.11105493,  0.26393102,  0.640919  , -0.23898565,\n",
              "        0.34135282,  0.97471854,  0.20412693,  0.26180925,  0.33394511,\n",
              "       -0.0942302 ,  0.42255176,  0.13558889,  0.40592086,  0.47230615,\n",
              "        1.05093353,  0.10083259, -0.07496432,  0.60193572,  0.19146978,\n",
              "        0.1245973 ,  1.04218692,  0.64079036,  0.33394511,  0.65629687,\n",
              "        0.64604246,  0.44144973,  0.77492118,  0.10024402,  0.50813238,\n",
              "        0.63914999,  0.31768884, -0.0318177 ,  0.98275759,  0.64685007,\n",
              "        0.10060539,  0.10838916,  0.07131006,  0.10039461, -0.20895417,\n",
              "        0.76987507,  0.8221862 ,  0.22615831,  0.72574737,  0.79211695,\n",
              "        0.24260487,  0.29478134,  1.03527488,  0.10073679,  1.07480653,\n",
              "        0.19126057,  0.76628298,  0.03666481,  0.10388332,  0.1892895 ,\n",
              "        0.16702915,  0.40555949,  0.4169678 ,  0.07690016,  0.61643794,\n",
              "        0.07681334,  0.84053343,  0.66739601,  0.27828307,  0.67704246,\n",
              "        0.65114537,  0.49902269,  0.70071627,  0.7760872 ,  0.26762   ,\n",
              "        0.40538978,  0.57674345,  0.27295153,  0.89335983,  0.11949297,\n",
              "        0.09178394,  0.10027688,  0.35166478,  0.64712897,  0.22915462,\n",
              "        0.34442463,  0.64613832,  0.24183494,  0.92851467,  0.1009339 ,\n",
              "        0.69103956,  0.14092043,  0.9023344 ,  0.14075341,  0.89460655,\n",
              "        0.60128208,  0.13009034,  0.64605343,  0.04158747,  0.21061565,\n",
              "        0.36207469,  0.95656903,  0.0771084 ,  0.10082168,  0.31653967,\n",
              "        0.14612332,  0.18585746,  0.14570992,  0.71423052,  0.91036455,\n",
              "        0.88412416,  0.71207389,  0.28586175,  0.10082713,  0.39328768,\n",
              "        0.29311667,  0.90923314,  0.08842395,  0.81240662,  0.61841822,\n",
              "        0.77476071,  0.14616984,  0.42355046,  0.12576352,  0.08056044,\n",
              "        0.10060539,  0.10073679,  0.10359967,  0.81191343,  0.14073975,\n",
              "        0.00163389,  0.14079178,  0.79277931,  0.65791405,  0.2424324 ,\n",
              "        0.10083259,  0.38847688,  0.10060539,  0.64625054,  0.162649  ,\n",
              "        0.34461055,  0.10073679,  1.04760179,  0.58835448,  0.10039185,\n",
              "        0.75233232,  0.25162539,  0.13503993,  0.18507018,  0.28361461,\n",
              "        0.64132143,  0.47380548,  0.64605343,  0.61727389,  0.65785789,\n",
              "        0.06042175,  0.10040828,  0.40372908,  0.10039461,  0.1009339 ,\n",
              "        0.41449501,  0.60287552,  0.10039461,  0.53279703,  0.06190006,\n",
              "        0.11416143,  0.7834203 , -0.01569316,  0.41037415,  0.09813949,\n",
              "        0.08209284,  0.25194631,  0.13832752,  0.12532824,  0.64605343,\n",
              "        0.73235664,  0.3368135 ,  0.53326251,  0.20560841,  0.57287289,\n",
              "        0.15731746,  0.13504685,  0.10062181,  0.56608038,  0.95502521,\n",
              "        0.67270015,  0.27000481,  0.29960922,  0.10880256,  0.17183034,\n",
              "        0.11408206,  0.11905499,  0.26393102,  0.38192894,  0.98201111,\n",
              "        0.12960033,  0.70051148,  0.34721125,  0.19368683,  0.2905887 ,\n",
              "        0.70051418,  0.35200934,  0.10039185,  0.67234248,  0.10882989,\n",
              "        0.39756219,  0.2319418 , -0.03603364,  0.28141749,  0.52586823,\n",
              "        0.30494076,  0.08196419, -0.28346207,  1.14630513,  0.42763088,\n",
              "        0.67797695,  0.26393102,  0.6684648 ,  0.2749226 ,  0.75319117,\n",
              "        0.92063064,  0.26762   ,  0.34633324,  0.03223289,  0.62762921,\n",
              "        0.29093145,  0.75282607,  0.10082168,  0.10073679,  0.65379318,\n",
              "       -0.04261739,  0.80607077,  0.86124931,  0.10933363,  0.99949267,\n",
              "        0.29260542,  0.04235342,  0.66703712,  0.91802995,  0.24850033,\n",
              "        0.22681229,  0.97417936,  0.27918037,  0.16796335,  0.82201087,\n",
              "        0.98355473,  0.5210712 ,  0.28960317,  0.28004233,  0.23412207,\n",
              "        0.10073679,  0.11415052,  0.68123919,  0.71280145,  0.25052005,\n",
              "        0.67618297,  0.12474513,  0.09865337,  0.14072332,  0.32502942,\n",
              "        0.47923204,  0.87290026,  0.4353157 ,  0.15032618, -0.12114617,\n",
              "        1.03980834,  0.1244002 ,  0.85225352,  0.13540821,  0.08739698,\n",
              "        0.99946253,  0.14241788,  0.93259716,  0.48073537,  0.26659193,\n",
              "        0.29648692,  0.21549219,  0.30979488,  0.64603425,  0.64829676,\n",
              "        0.64605343,  0.95821984,  0.61408064,  0.1009339 ,  0.80664912,\n",
              "        0.04709291,  0.1009339 ,  0.43279396])"
            ]
          },
          "metadata": {
            "tags": []
          },
          "execution_count": 97
        }
      ]
    },
    {
      "cell_type": "markdown",
      "metadata": {
        "id": "fXjo4v_luS39"
      },
      "source": [
        "# 캐글 API이용하여 데이터 다운로드\n",
        "\n",
        "!pip install kaggle --upgrade\n",
        "\n",
        "Kaggle API 다운로드(.json 파일)\n",
        "\n",
        "\n",
        "참고 : https://medium.com/hyunjulie/%EC%BA%90%EA%B8%80%EA%B3%BC-%EA%B5%AC%EA%B8%80-colab-%EC%97%B0%EA%B2%B0%ED%95%B4%EC%A3%BC%EA%B8%B0-6a274f6de81d\n"
      ]
    },
    {
      "cell_type": "code",
      "metadata": {
        "colab": {
          "resources": {
            "http://localhost:8080/nbextensions/google.colab/files.js": {
              "data": "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",
              "ok": true,
              "headers": [
                [
                  "content-type",
                  "application/javascript"
                ]
              ],
              "status": 200,
              "status_text": ""
            }
          },
          "base_uri": "https://localhost:8080/",
          "height": 279
        },
        "id": "toS9D9xVvYuC",
        "outputId": "1be948e6-cb5b-49fa-8e76-e3aa31064d2f"
      },
      "source": [
        "!pip install kaggle\n",
        "from google.colab import files\n",
        "files.upload()"
      ],
      "execution_count": null,
      "outputs": [
        {
          "output_type": "stream",
          "text": [
            "Requirement already satisfied: kaggle in /usr/local/lib/python3.7/dist-packages (1.5.12)\n",
            "Requirement already satisfied: python-slugify in /usr/local/lib/python3.7/dist-packages (from kaggle) (4.0.1)\n",
            "Requirement already satisfied: six>=1.10 in /usr/local/lib/python3.7/dist-packages (from kaggle) (1.15.0)\n",
            "Requirement already satisfied: urllib3 in /usr/local/lib/python3.7/dist-packages (from kaggle) (1.24.3)\n",
            "Requirement already satisfied: requests in /usr/local/lib/python3.7/dist-packages (from kaggle) (2.23.0)\n",
            "Requirement already satisfied: tqdm in /usr/local/lib/python3.7/dist-packages (from kaggle) (4.41.1)\n",
            "Requirement already satisfied: python-dateutil in /usr/local/lib/python3.7/dist-packages (from kaggle) (2.8.1)\n",
            "Requirement already satisfied: certifi in /usr/local/lib/python3.7/dist-packages (from kaggle) (2020.12.5)\n",
            "Requirement already satisfied: text-unidecode>=1.3 in /usr/local/lib/python3.7/dist-packages (from python-slugify->kaggle) (1.3)\n",
            "Requirement already satisfied: chardet<4,>=3.0.2 in /usr/local/lib/python3.7/dist-packages (from requests->kaggle) (3.0.4)\n",
            "Requirement already satisfied: idna<3,>=2.5 in /usr/local/lib/python3.7/dist-packages (from requests->kaggle) (2.10)\n"
          ],
          "name": "stdout"
        },
        {
          "output_type": "display_data",
          "data": {
            "text/html": [
              "\n",
              "     <input type=\"file\" id=\"files-ec93a2f3-deea-4cd1-b743-1f12234ec69e\" name=\"files[]\" multiple disabled\n",
              "        style=\"border:none\" />\n",
              "     <output id=\"result-ec93a2f3-deea-4cd1-b743-1f12234ec69e\">\n",
              "      Upload widget is only available when the cell has been executed in the\n",
              "      current browser session. Please rerun this cell to enable.\n",
              "      </output>\n",
              "      <script src=\"/nbextensions/google.colab/files.js\"></script> "
            ],
            "text/plain": [
              "<IPython.core.display.HTML object>"
            ]
          },
          "metadata": {
            "tags": []
          }
        },
        {
          "output_type": "execute_result",
          "data": {
            "text/plain": [
              "{}"
            ]
          },
          "metadata": {
            "tags": []
          },
          "execution_count": 98
        }
      ]
    },
    {
      "cell_type": "code",
      "metadata": {
        "colab": {
          "base_uri": "https://localhost:8080/"
        },
        "id": "RunAq26LufpJ",
        "outputId": "480c23a7-6375-4f9a-9328-4b0bde6454b7"
      },
      "source": [
        "!ls -1ha kaggle.json\n",
        "\n",
        "!mkdir -p ~/.kaggle\n",
        "!cp /content/drive/MyDrive/kaggle.json ~/.kaggle/\n",
        "# Permission Warning 이 일어나지 않도록 \n",
        "!chmod 600 ~/.kaggle/kaggle.json\n",
        "# 본인이 참가한 모든 대회 보기 \n",
        "!kaggle competitions list"
      ],
      "execution_count": null,
      "outputs": [
        {
          "output_type": "stream",
          "text": [
            "ls: cannot access 'kaggle.json': No such file or directory\n",
            "401 - Unauthorized\n"
          ],
          "name": "stdout"
        }
      ]
    },
    {
      "cell_type": "code",
      "metadata": {
        "id": "6KVzfikCvtHj"
      },
      "source": [
        "!kaggle competitions download -c bike-sharing-demand"
      ],
      "execution_count": null,
      "outputs": []
    },
    {
      "cell_type": "markdown",
      "metadata": {
        "id": "Na7gTIQetaH3"
      },
      "source": [
        "# 회귀분석 실습 2\n",
        "## 공공 자전거 수요 예측(Bike Sharing Demand)\n",
        "\n",
        "###https://www.kaggle.com/c/bike-sharing-demand/overview\n",
        "\n",
        " - 데이터 소개\n",
        "  - 날짜 및 시간, 기온, 습도, 풍속 등의 정보를 정보를 기반으로 1시간 간격으로 자전거 대여 횟수를 기록한 데이터.\n",
        "  - 기록 날짜는 2011년 1월 ~ 2012년 12월까지\n",
        "  - 데이터에 자세한 정보는 소개된 캐글 사이트에서 확인 가능.\n"
      ]
    },
    {
      "cell_type": "code",
      "metadata": {
        "id": "qFaqA84etZWT"
      },
      "source": [
        "import numpy as np\n",
        "import pandas as pd\n",
        "import matplotlib.pyplot as plt\n",
        "import seaborn as sns\n",
        "\n",
        "df_train = pd.read_csv('/content/train.csv')\n",
        "df_test = pd.read_csv('/content/test.csv')"
      ],
      "execution_count": null,
      "outputs": []
    },
    {
      "cell_type": "code",
      "metadata": {
        "id": "nr9yDbtHtZap"
      },
      "source": [
        "df_train.shape,df_test.shape"
      ],
      "execution_count": null,
      "outputs": []
    },
    {
      "cell_type": "code",
      "metadata": {
        "id": "BouOHqaWtZfC"
      },
      "source": [
        "df_train.info()"
      ],
      "execution_count": null,
      "outputs": []
    },
    {
      "cell_type": "markdown",
      "metadata": {
        "id": "iHT-FZcZwQl6"
      },
      "source": [
        "타입 확인 결과 날짜 데이터가 object 타입.\n",
        "\n",
        "날짜 데이터를 보다 쉽게 조회하기 위해 datetime으로 변경 함\n",
        "\n",
        "시계열데이터에 slicing이 가능하게 함\n"
      ]
    },
    {
      "cell_type": "code",
      "metadata": {
        "id": "uMkln1j2tZjE"
      },
      "source": [
        "df_train_1 = df_train.copy() \n",
        "df_test_1 = df_test.copy()\n",
        "\n",
        "df_train_1['datetime'] = pd.to_datetime(df_train_1['datetime'])\n",
        "df_train_1.dtypes"
      ],
      "execution_count": null,
      "outputs": []
    },
    {
      "cell_type": "code",
      "metadata": {
        "id": "p3-5F9iPtZny"
      },
      "source": [
        "df_train_1.isna().sum()\n",
        "#df_train_1.isnull().sum"
      ],
      "execution_count": null,
      "outputs": []
    },
    {
      "cell_type": "markdown",
      "metadata": {
        "id": "64uIybanxtDF"
      },
      "source": [
        "날짜라는 시계열이기 때문에 선형회귀는 불가\n",
        "\n",
        "왜냐하면, 선형회귀는 정수형 혹은 실수형 데이터만 다루기 때문에\n",
        "\n",
        "날짜 데이터를 정수형태로 변환하고 새로운 feature를 생성"
      ]
    },
    {
      "cell_type": "code",
      "metadata": {
        "id": "DWEpfsHIxhQK"
      },
      "source": [
        "df_train_1['year'] = df_train_1['datetime'].dt.year\n",
        "df_train_1['month'] = df_train_1['datetime'].dt.month\n",
        "df_train_1['day'] = df_train_1['datetime'].dt.day\n",
        "df_train_1['hour'] = df_train_1['datetime'].dt.hour\n",
        "df_train_1['minute'] = df_train_1['datetime'].dt.minute\n",
        "df_train_1['second'] = df_train_1['datetime'].dt.second\n",
        "\n",
        "#요일 데이터 -일요일은 0\n",
        "df_train_1['dayofweek'] = df_train_1['datetime'].dt.dayofweek"
      ],
      "execution_count": null,
      "outputs": []
    },
    {
      "cell_type": "code",
      "metadata": {
        "id": "e9MndHwFxhU3"
      },
      "source": [
        "df_train_1"
      ],
      "execution_count": null,
      "outputs": []
    },
    {
      "cell_type": "code",
      "metadata": {
        "id": "-WL0H3F1xhbA"
      },
      "source": [
        "df_train_1.describe()"
      ],
      "execution_count": null,
      "outputs": []
    },
    {
      "cell_type": "code",
      "metadata": {
        "id": "lFm5iLHCxhf2"
      },
      "source": [
        "figure, ((ax1, ax2, ax3),(ax4, ax5,ax6))=plt.subplots(nrows=2,ncols=3)\n",
        "figure.set_size_inches(18,8)\n",
        "\n",
        "sns.barplot(data=df_train_1, x=\"year\", y=\"count\", ax=ax1)\n",
        "sns.barplot(data=df_train_1, x=\"month\", y=\"count\", ax=ax2)\n",
        "sns.barplot(data=df_train_1, x=\"day\", y=\"count\", ax=ax3)\n",
        "sns.barplot(data=df_train_1, x=\"hour\", y=\"count\", ax=ax4)\n",
        "sns.barplot(data=df_train_1, x=\"minute\", y=\"count\", ax=ax5)\n",
        "sns.barplot(data=df_train_1, x=\"second\", y=\"count\", ax=ax6)\n",
        "\n",
        "ax1.set(ylabel='Count', title =\"Year rental amount\")\n",
        "ax2.set(ylabel='month', title =\"Month rental amount\")\n",
        "ax3.set(ylabel='day', title =\"Day rental amount\")\n",
        "ax4.set(ylabel='hour', title =\"Hour rental amount\")"
      ],
      "execution_count": null,
      "outputs": []
    },
    {
      "cell_type": "markdown",
      "metadata": {
        "id": "X14t9Xxkzrs-"
      },
      "source": [
        "Month rental amount을 보면, 겨울로 분리되는 12월의 경우 초봄인 3~4월의 대여량과 비슷하다는 점이었다. 워싱턴의 날씨 변화는 우리나라의 사계절과 비슷하다.\n",
        "\n",
        "또한 hour 파트에서 아침7시와 저녁 6~7시의 수요량이 다른 시간대들과 비교했을 때 굉장히 높은 것을 알 수 있다. 이는 출퇴근길에 자전거를 많이 이용하는 사람들이 많다고 예측해 볼 수 있다. (주말과 나눠서 보는 것이 필요하다.)\n",
        "\n",
        "일별 대여량은 1일부터 19일까지만 있고 나머지 날짜의 경우는 test데이터에 들어가있다. 따라서 이 변수는 피쳐로 사용하면 안 된다!"
      ]
    },
    {
      "cell_type": "code",
      "metadata": {
        "id": "VhgXJ6iFxhlK"
      },
      "source": [
        "fig, axes = plt.subplots(nrows=2, ncols=2)\n",
        "fig.set_size_inches(12,10)\n",
        "sns.boxplot(data=df_train_1, y=\"count\", orient= \"v\", ax=axes[0][0])\n",
        "sns.boxplot(data=df_train_1, y=\"count\", x = \"season\",orient= \"v\", ax=axes[0][1])\n",
        "sns.boxplot(data=df_train_1, y=\"count\", x=\"hour\",orient= \"v\", ax=axes[1][0])\n",
        "sns.boxplot(data=df_train_1, y=\"count\", x=\"workingday\",orient= \"v\", ax=axes[1][1])\n",
        "\n",
        "axes[0][0].set(ylabel='Count',title=\"Rental amount\")\n",
        "axes[0][1].set(xlabel='Season',ylabel='Count',title=\"Seasonal Rental amount\")\n",
        "axes[1][0].set(xlabel='Hour of The Day',ylabel='Count',title=\"Hour Rental amount\")\n",
        "axes[1][1].set(xlabel='Working Day',ylabel='Count',title=\"Working or not Rental amount\")"
      ],
      "execution_count": null,
      "outputs": []
    },
    {
      "cell_type": "markdown",
      "metadata": {
        "id": "IUXdmt2-0XXu"
      },
      "source": [
        "위 그래프를 보면 대여량은 특정 기간에 머물러 있고 특히 근무일이 아닐 때 대여량이 더 많은 것을 알 수 있다."
      ]
    },
    {
      "cell_type": "code",
      "metadata": {
        "id": "1U3V032kxhqA"
      },
      "source": [
        "fig, (ax1,ax2,ax3,ax4,ax5)=plt.subplots(nrows=5)\n",
        "fig.set_size_inches(18,25)\n",
        "\n",
        "\n",
        "sns.pointplot(data=df_train_1, x=\"hour\",y=\"count\",ax=ax1)\n",
        "\n",
        "sns.pointplot(data=df_train_1, x=\"hour\",y=\"count\", hue=\"workingday\",ax=ax2)\n",
        "\n",
        "sns.pointplot(data=df_train_1, x=\"hour\",y=\"count\", hue=\"dayofweek\",ax=ax3)\n",
        "\n",
        "sns.pointplot(data=df_train_1, x=\"hour\",y=\"count\", hue=\"weather\",ax=ax4)\n",
        "\n",
        "sns.pointplot(data=df_train_1, x=\"hour\",y=\"count\", hue=\"season\",ax=ax5)"
      ],
      "execution_count": null,
      "outputs": []
    },
    {
      "cell_type": "code",
      "metadata": {
        "id": "IIrDMOfSxhu8"
      },
      "source": [
        "# corrMatt = train[[\"temp\",\"atemp\",\"casual\",\"registered\",\"humidity\",\"windspeed\",\"count\"]]\n",
        "corrMatt = df_train_1.corr()\n",
        "print(corrMatt)\n",
        "mask =np.array(corrMatt)\n",
        "#Return the indices for the upper-triangle of arr.\n",
        "mask[np.tril_indices_from(mask)]=False"
      ],
      "execution_count": null,
      "outputs": []
    },
    {
      "cell_type": "code",
      "metadata": {
        "id": "wmlEYGAIxhzJ"
      },
      "source": [
        "fig,ax = plt.subplots()\n",
        "fig.set_size_inches(20,10)\n",
        "sns.heatmap(corrMatt, mask=mask,vmax=.8,square= True, annot=True)"
      ],
      "execution_count": null,
      "outputs": []
    },
    {
      "cell_type": "markdown",
      "metadata": {
        "id": "I2q0LjUX1Lth"
      },
      "source": [
        "1. temp, humidity, windspeed는 상관관계가 거의 없다.\n",
        "2. registered, casual는 상관관계가 높다!\n",
        "3. atemp와 temp는 0.98로 상관관계가 높지만 온도와 체감온도로 피쳐로 사용하기에 적합하지 않을 수 있다.\n",
        "\n",
        "#regplot으로 산점도 plot을 그림"
      ]
    },
    {
      "cell_type": "code",
      "metadata": {
        "id": "Hva8e5sLxh4B"
      },
      "source": [
        "fig,(ax1,ax2,ax3) = plt.subplots(ncols=3)\n",
        "fig.set_size_inches(12,5)\n",
        "sns.regplot(x=\"temp\",y=\"count\",data=df_train_1, ax=ax1)\n",
        "sns.regplot(x=\"windspeed\",y=\"count\",data=df_train_1, ax=ax2)\n",
        "sns.regplot(x=\"humidity\",y=\"count\",data=df_train_1, ax=ax3)"
      ],
      "execution_count": null,
      "outputs": []
    },
    {
      "cell_type": "markdown",
      "metadata": {
        "id": "31HlAAQ814Ih"
      },
      "source": [
        "windspeed의 경우 0에 숫자가 몰려 있는 것으로 보아, 아마도 관측되지 않은 수치에 대해 0으로 기록된 것이 아닐까 추측한다. "
      ]
    },
    {
      "cell_type": "code",
      "metadata": {
        "id": "1ZhS4KQUxh9p"
      },
      "source": [
        "# 월별 데이터 모아보기\n",
        "def concatenate_year_month(datetime):\n",
        "    return \"{0}-{1}\".format(datetime.year, datetime.month)\n",
        "df_train_1[\"year_month\"] = df_train_1[\"datetime\"].apply(concatenate_year_month)\n",
        "print(df_train_1.shape)\n",
        "df_train_1[[\"datetime\", \"year_month\"]].head()"
      ],
      "execution_count": null,
      "outputs": []
    },
    {
      "cell_type": "code",
      "metadata": {
        "id": "iG80F8Zk4Dx6"
      },
      "source": [
        "fig, (ax1, ax2) =plt.subplots(nrows=1,ncols=2)\n",
        "fig.set_size_inches(18,4)\n",
        "\n",
        "sns.barplot(data=df_train_1, x=\"year\",y=\"count\",ax=ax1)\n",
        "sns.barplot(data=df_train_1, x=\"month\",y=\"count\",ax=ax2)\n",
        "\n",
        "fig, ax3 = plt.subplots(nrows=1, ncols=1)\n",
        "fig.set_size_inches(18,4)\n",
        "\n",
        "sns.barplot(data=df_train_1, x=\"year_month\",y=\"count\",ax=ax3)"
      ],
      "execution_count": null,
      "outputs": []
    },
    {
      "cell_type": "markdown",
      "metadata": {
        "id": "wZYuruZr5W2s"
      },
      "source": [
        "분석 결과 : 2011년보다 2012년에 대여량이 더 많다."
      ]
    },
    {
      "cell_type": "markdown",
      "metadata": {
        "id": "85Yc-P265jRj"
      },
      "source": [
        "#이상치 처리\n",
        "\n",
        "##방법1) IQR(Interquartile Range)  = Q3-Q1\n",
        "\n",
        "Q1-1.5*IQR : 최소 제한선\n",
        "Q3+1.5*IQR : 최대 제한선\n",
        "\n",
        "범위를 좀 더 조정"
      ]
    },
    {
      "cell_type": "code",
      "metadata": {
        "id": "pCFYhGoL4D4-"
      },
      "source": [
        "# 'count' 데이터에서 전체의 25%에 해당하는 데이터 조회\n",
        "count_q1 = np.percentile(df_train_1['count'], 25)\n",
        "count_q1\n",
        "\n",
        "# 'count' 데이터에서 전체의 75%에 해당하는 데이터 조회\n",
        "count_q3 = np.percentile(df_train_1['count'], 75)\n",
        "count_q3\n",
        "\n",
        "# IQR = Q3 - Q1\n",
        "count_IQR = count_q3 - count_q1\n",
        "count_IQR\n",
        "\n",
        "# 이상치를 제외한(이상치가 아닌 구간에 있는) 데이터만 조회\n",
        "df_train_1_IQR = df_train_1[(df_train_1['count'] >= (count_q1 - (1.5 * count_IQR))) & (df_train_1['count'] <= (count_q3 + (1.5 * count_IQR)))]\n",
        "print(df_train_1_IQR)"
      ],
      "execution_count": null,
      "outputs": []
    },
    {
      "cell_type": "markdown",
      "metadata": {
        "id": "7vjWtiaM6ghd"
      },
      "source": [
        "## 방법2) 3-sigma, 평균 $\\pm$ 3* 표준편차차"
      ]
    },
    {
      "cell_type": "code",
      "metadata": {
        "id": "e_AkUog24D_R"
      },
      "source": [
        "df_train_1_sigma = df_train_1[np.abs(df_train_1[\"count\"] - df_train_1[\"count\"].mean()) <= (3*df_train_1[\"count\"].std())]\n",
        "print(df_train_1_sigma)"
      ],
      "execution_count": null,
      "outputs": []
    },
    {
      "cell_type": "markdown",
      "metadata": {
        "id": "IU0dHYTW7LQp"
      },
      "source": [
        "#IQR을 적용했을 떄의 그림"
      ]
    },
    {
      "cell_type": "code",
      "metadata": {
        "id": "gbmSs2j94ERx"
      },
      "source": [
        "fig, axes = plt.subplots(nrows=2, ncols=2)\n",
        "fig.set_size_inches(12,10)\n",
        "sns.boxplot(data=df_train_1_IQR, y=\"count\", orient= \"v\", ax=axes[0][0])\n",
        "sns.boxplot(data=df_train_1_IQR, y=\"count\", x = \"season\",orient= \"v\", ax=axes[0][1])\n",
        "sns.boxplot(data=df_train_1_IQR, y=\"count\", x=\"hour\",orient= \"v\", ax=axes[1][0])\n",
        "sns.boxplot(data=df_train_1_IQR, y=\"count\", x=\"workingday\",orient= \"v\", ax=axes[1][1])\n",
        "\n",
        "axes[0][0].set(ylabel='Count',title=\"Rental amount\")\n",
        "axes[0][1].set(xlabel='Season',ylabel='Count',title=\"Seasonal Rental amount\")\n",
        "axes[1][0].set(xlabel='Hour of The Day',ylabel='Count',title=\"Hour Rental amount\")\n",
        "axes[1][1].set(xlabel='Working Day',ylabel='Count',title=\"Working or not Rental amount\")"
      ],
      "execution_count": null,
      "outputs": []
    },
    {
      "cell_type": "markdown",
      "metadata": {
        "id": "Xkdpmybl7Xcl"
      },
      "source": [
        "#3-sigma를 적용하였을 때"
      ]
    },
    {
      "cell_type": "code",
      "metadata": {
        "id": "qZkc70vf4EWN"
      },
      "source": [
        "fig, axes = plt.subplots(nrows=2, ncols=2)\n",
        "fig.set_size_inches(12,10)\n",
        "sns.boxplot(data=df_train_1_sigma, y=\"count\", orient= \"v\", ax=axes[0][0])\n",
        "sns.boxplot(data=df_train_1_sigma, y=\"count\", x = \"season\",orient= \"v\", ax=axes[0][1])\n",
        "sns.boxplot(data=df_train_1_sigma, y=\"count\", x=\"hour\",orient= \"v\", ax=axes[1][0])\n",
        "sns.boxplot(data=df_train_1_sigma, y=\"count\", x=\"workingday\",orient= \"v\", ax=axes[1][1])\n",
        "\n",
        "axes[0][0].set(ylabel='Count',title=\"Rental amount\")\n",
        "axes[0][1].set(xlabel='Season',ylabel='Count',title=\"Seasonal Rental amount\")\n",
        "axes[1][0].set(xlabel='Hour of The Day',ylabel='Count',title=\"Hour Rental amount\")\n",
        "axes[1][1].set(xlabel='Working Day',ylabel='Count',title=\"Working or not Rental amount\")"
      ],
      "execution_count": null,
      "outputs": []
    },
    {
      "cell_type": "markdown",
      "metadata": {
        "id": "wn61QjWu7h6h"
      },
      "source": [
        "선형회귀에서는 datetime 타입의 데이터를 사용할 수 없음\n",
        "\n",
        "따라서 날짜 데이터를 숫자형 데이터타입으로 변환"
      ]
    },
    {
      "cell_type": "code",
      "metadata": {
        "id": "wXAP0oWN4Ebl"
      },
      "source": [
        "#datetime -> integer 타입으로 변환하는 custom fun\n",
        "def to_integer(datetime):\n",
        "  return 10000*datetime.year +100*datetime.month+datetime.day\n",
        "\n",
        "#데이터 타입 변경\n",
        "df_train_1_IQR_int = df_train_1_IQR['datetime'].apply(lambda x: to_integer(x))\n",
        "df_train_1_IQR['datetime'] = pd.Series(df_train_1_IQR_int)"
      ],
      "execution_count": null,
      "outputs": []
    },
    {
      "cell_type": "code",
      "metadata": {
        "id": "GMzoB5CP4EgU"
      },
      "source": [
        "df_train_1_IQR"
      ],
      "execution_count": null,
      "outputs": []
    },
    {
      "cell_type": "markdown",
      "metadata": {
        "id": "h-DU-GHI-NqW"
      },
      "source": [
        "# 모델 적용"
      ]
    },
    {
      "cell_type": "code",
      "metadata": {
        "id": "f3kxdFu3-qqV"
      },
      "source": [
        "df_train_1_IQR"
      ],
      "execution_count": null,
      "outputs": []
    },
    {
      "cell_type": "code",
      "metadata": {
        "id": "kJ30Xvua-Pa0"
      },
      "source": [
        "# target과 features 구분\n",
        "target = 'count'\n",
        "features = df_train_1_IQR.drop(['count'],axis = 1)\n",
        "\n",
        "X = df_train_1_IQR[features].copy()\n",
        "y = df_train_1_IQR[target].copy()\n",
        "\n",
        "X_test = test.copy()\n",
        "\n",
        "# 데이터를 편리하게 분할해주는 라이브러리 활용\n",
        "from sklearn.model_selection import train_test_split\n",
        "\n",
        "# 훈련 데이터의 25%를 검증 데이터로 활용\n",
        "X_train, X_val, y_train, y_val = train_test_split(X, y, test_size=.2, random_state=42)"
      ],
      "execution_count": null,
      "outputs": []
    },
    {
      "cell_type": "code",
      "metadata": {
        "id": "Z5XIO3zY9xJ8"
      },
      "source": [
        "from sklearn.metrics import make_scorer\n",
        "\n",
        "def rmsle(predicted_values, actual_values):\n",
        "    # 넘파이로 배열 형태로 바꿔준다.\n",
        "    predicted_values = np.array(predicted_values)\n",
        "    actual_values = np.array(actual_values)\n",
        "    \n",
        "    # 예측값과 실제 값에 1을 더하고 로그를 씌워준다.\n",
        "    log_predict = np.log(predicted_values + 1)\n",
        "    log_actual = np.log(actual_values + 1)\n",
        "    \n",
        "    # 위에서 계산한 예측값에서 실제값을 빼주고 제곱을 해준다.\n",
        "    # difference = log_predict - log_actual\n",
        "    # difference = (log_predict - log_actual) ** 2\n",
        "    difference = np.square(difference)\n",
        "    \n",
        "    # 평균을 낸다.\n",
        "    mean_difference = difference.mean()\n",
        "    \n",
        "    # 다시 루트를 씌운다.\n",
        "    score = np.sqrt(mean_difference)\n",
        "    \n",
        "    return score\n",
        "\n",
        "rmsle_scorer = make_scorer(rmsle)\n",
        "rmsle_scorer"
      ],
      "execution_count": null,
      "outputs": []
    },
    {
      "cell_type": "code",
      "metadata": {
        "id": "11cadPDA-EdW"
      },
      "source": [
        "from sklearn.model_selection import KFold\n",
        "from sklearn.model_selection import cross_val_score\n",
        "\n",
        "k_fold = KFold(n_splits=10, shuffle=True, random_state=0)"
      ],
      "execution_count": null,
      "outputs": []
    },
    {
      "cell_type": "code",
      "metadata": {
        "id": "zg-YDEUq-Fvm"
      },
      "source": [
        "from sklearn.linear_model import LinearRegression\n"
      ],
      "execution_count": null,
      "outputs": []
    },
    {
      "cell_type": "markdown",
      "metadata": {
        "id": "2NmfrdWgSZnp"
      },
      "source": [
        "## Logistic Regression\n",
        "\n",
        "위스콘신 유방암 예측\n",
        "\n",
        "- 총 309개의 속성솨 malignant(악성), benign(양성)의 타겟값을 가지고 있다\n",
        "\n",
        "**데이터셋 조회**\n",
        "\n",
        "빌트인 데이터셋은 sklearn.utils.Bunch 라는 자료구조를 활용합니다.\n",
        "\n",
        "key-value 형식으로 구성되어 있으며, 사전(dict)형 타입과 유사한 구조를 가지고 있습니다.\n",
        "\n",
        "공통 key는 다음과 같습니다.\n",
        "\n",
        "- data: 샘플 데이터, Numpy 배열로 이루어져 있습니다.\n",
        "- target: Label 데이터, Numpy 배열로 이루어져 있습니다.\n",
        "- feature_names: Feature 데이터의 이름\n",
        "- target_names: Label 데이터의 이름\n",
        "- DESCR: 데이터 셋의 설명\n",
        "- filename: 데이터 셋의 파일 저장 위치 (csv)"
      ]
    },
    {
      "cell_type": "code",
      "metadata": {
        "id": "KasTdCWkUmFs"
      },
      "source": [
        "import numpy as np\n",
        "import pandas as pd\n",
        "import matplotlib.pyplot as plt\n",
        "from sklearn.model_selection import train_test_split\n",
        "from sklearn.datasets import load_breast_cancer\n",
        "\n",
        "cancer = load_breast_cancer()"
      ],
      "execution_count": null,
      "outputs": []
    },
    {
      "cell_type": "code",
      "metadata": {
        "id": "PkHW20E8UmH0"
      },
      "source": [
        "type(cancer)"
      ],
      "execution_count": null,
      "outputs": []
    },
    {
      "cell_type": "code",
      "metadata": {
        "id": "RWJ83guKUmJ_"
      },
      "source": [
        "dir(cancer)"
      ],
      "execution_count": null,
      "outputs": []
    },
    {
      "cell_type": "code",
      "metadata": {
        "id": "-DYsS0UtUmMR"
      },
      "source": [
        "cancer.data.shape"
      ],
      "execution_count": null,
      "outputs": []
    },
    {
      "cell_type": "code",
      "metadata": {
        "id": "njD19atrUmRP"
      },
      "source": [
        "cancer.feature_names"
      ],
      "execution_count": null,
      "outputs": []
    },
    {
      "cell_type": "code",
      "metadata": {
        "id": "wl9Zo0eMcdth"
      },
      "source": [
        "cancer.target_names # malignant : 악성 / benign : 양성"
      ],
      "execution_count": null,
      "outputs": []
    },
    {
      "cell_type": "code",
      "metadata": {
        "id": "ZRJv9NtWcdvi"
      },
      "source": [
        "cancer.target"
      ],
      "execution_count": null,
      "outputs": []
    },
    {
      "cell_type": "code",
      "metadata": {
        "id": "HHZi2RB1cdx6"
      },
      "source": [
        "np.bincount(cancer.target) # 빈도수"
      ],
      "execution_count": null,
      "outputs": []
    },
    {
      "cell_type": "code",
      "metadata": {
        "id": "0iLqOmJncd0F"
      },
      "source": [
        "print(cancer.DESCR)"
      ],
      "execution_count": null,
      "outputs": []
    },
    {
      "cell_type": "code",
      "metadata": {
        "id": "bO3Umj10cd2V"
      },
      "source": [
        "for i,name in enumerate(cancer.feature_names):\n",
        "  print('%02d : %s' %(i,name))"
      ],
      "execution_count": null,
      "outputs": []
    },
    {
      "cell_type": "code",
      "metadata": {
        "id": "Pkwg2JqseE74"
      },
      "source": [
        "print('data =>',cancer.data.shape)\n",
        "print('target =>',cancer.target.shape)\n",
        "\n",
        "malignant = cancer.data[cancer.target==0]\n",
        "benign = cancer.data[cancer.target==1]\n",
        "\n",
        "print('malignant(악성) =>',malignant.shape)\n",
        "print('benign(양성) =>',benign.shape)"
      ],
      "execution_count": null,
      "outputs": []
    },
    {
      "cell_type": "code",
      "metadata": {
        "id": "kriR2NyQeE-K"
      },
      "source": [
        "_, bins=np.histogram(cancer.data[:,0], bins=20)\n",
        "np.histogram(cancer.data[:,0], bins=20)"
      ],
      "execution_count": null,
      "outputs": []
    },
    {
      "cell_type": "code",
      "metadata": {
        "id": "oRbah7rBeE_7"
      },
      "source": [
        "plt.hist(malignant[:,0],bins=bins, alpha=0.3)\n",
        "plt.hist(benign[:,0], bins=bins ,alpha=0.3)\n",
        "plt.title(cancer.feature_names[0])"
      ],
      "execution_count": null,
      "outputs": []
    },
    {
      "cell_type": "code",
      "metadata": {
        "id": "YDgMiVjIeFCc"
      },
      "source": [
        "plt.figure(figsize=[20,15])\n",
        "\n",
        "for col in range(30):\n",
        "    plt.subplot(8,4,col+1)\n",
        "    _, bins=np.histogram(cancer.data[:,col], bins=20)\n",
        "\n",
        "    plt.hist(malignant[:,col],bins=bins, alpha=0.3)\n",
        "    plt.hist(benign[:,col], bins=bins ,alpha=0.3)\n",
        "    plt.title(cancer.feature_names[col])\n",
        "    if col==0: plt.legend(cancer.target_names)\n",
        "    plt.xticks([])"
      ],
      "execution_count": null,
      "outputs": []
    },
    {
      "cell_type": "code",
      "metadata": {
        "id": "-WdJBGQXeFEp"
      },
      "source": [
        "from sklearn.linear_model import LogisticRegression\n",
        "\n",
        "scores = []\n",
        "\n",
        "for i in range(10):\n",
        "    X_train,X_test,y_train,y_test = train_test_split(cancer.data,cancer.target,test_size=0.2,random_state = 777)\n",
        "\n",
        "    model = LogisticRegression(max_iter = 5000)\n",
        "    model.fit(X_train,y_train)\n",
        "\n",
        "    score = model.score(X_test,y_test)\n",
        "    scores.append(score)\n",
        "\n",
        "print('scores =', scores)"
      ],
      "execution_count": null,
      "outputs": []
    },
    {
      "cell_type": "code",
      "metadata": {
        "id": "XlOzh_KPeFF9"
      },
      "source": [
        "fig=plt.figure(figsize=[14,14])\n",
        "fig.suptitle('Breast Cancer - feature analysis', fontsize=20)\n",
        "\n",
        "for col in range(cancer.feature_names.shape[0]): # 30 features\n",
        "    plt.subplot(8,4,col+1)\n",
        "    _,bins=np.histogram(cancer.data[:,col],bins=50)\n",
        "    plt.hist(malignant[:,col], bins=bins, alpha=0.5, label='malignant', color='red')\n",
        "    plt.hist(benign[:,col], bins=bins, alpha=0.5, label='benign', color='green')\n",
        "    \n",
        "    plt.title(cancer.feature_names[col]+('(%d)' % col))\n",
        "    plt.xticks([])\n",
        "    plt.yticks([])\n",
        "    if col==0: plt.legend()"
      ],
      "execution_count": null,
      "outputs": []
    },
    {
      "cell_type": "code",
      "metadata": {
        "id": "CvW2GS8dfeaE"
      },
      "source": [
        "fig=plt.figure(figsize=[14,14])\n",
        "fig.suptitle('Breast Cancer - feature analysis', fontsize=20)\n",
        "\n",
        "for col in range(cancer.feature_names.shape[0]): # 30 features\n",
        "    plt.subplot(8,4,col+1)\n",
        "#     f_,bins=np.histogram(cancer.data[:,col],bins=50)\n",
        "#     plt.hist(malignant[:,col], bins=bins, alpha=0.5, label='malignant', color='red')\n",
        "#     plt.hist(benign[:,col], bins=bins, alpha=0.5, label='benign', color='green')\n",
        "    plt.scatter(cancer.data[:,col], cancer.target, c=cancer.target, alpha=0.5)\n",
        "    \n",
        "    \n",
        "    plt.title(cancer.feature_names[col]+('(%d)' % col))\n",
        "    plt.xticks([])\n",
        "    plt.yticks([])\n",
        "#     if col==0: plt.legend()"
      ],
      "execution_count": null,
      "outputs": []
    },
    {
      "cell_type": "code",
      "metadata": {
        "id": "KPwX5yYpfhvE"
      },
      "source": [
        "#모든 속성에 대해서 한번에 그래프를 그릴수 없으므로 상관관계를 수치를 통해 데이터를 파악한다.\n",
        "mat=np.corrcoef(cancer.data.T)  # 열로 읽으므로 Transpose 시켜줘야 한다.\n",
        "mat\n",
        "\n",
        "#상관계수: 모든 점에 대해서 (c1-c1')(c2-c2')을 나눠준 값의 합을 표준편차1,표준편차2,n으로 나눠준다."
      ],
      "execution_count": null,
      "outputs": []
    },
    {
      "cell_type": "code",
      "metadata": {
        "id": "yg_hMqYAfo2k"
      },
      "source": [
        "from sklearn.linear_model import LogisticRegression\n",
        "\n",
        "model = LogisticRegression()\n",
        "model.fit(X_train,y_train)\n",
        "score = model.score(X_test,y_test)\n",
        "score"
      ],
      "execution_count": null,
      "outputs": []
    },
    {
      "cell_type": "markdown",
      "metadata": {
        "id": "Rnr6dfW4kvWn"
      },
      "source": [
        "#### HW) Kaggle 숙제 House advanced regression problem \n",
        "\n",
        "(https://www.kaggle.com/c/house-prices-advanced-regression-techniques)"
      ]
    },
    {
      "cell_type": "code",
      "metadata": {
        "id": "-JlnhVQBkmy_"
      },
      "source": [
        ""
      ],
      "execution_count": null,
      "outputs": []
    }
  ]
}