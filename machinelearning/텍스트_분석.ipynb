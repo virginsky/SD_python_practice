{
  "nbformat": 4,
  "nbformat_minor": 0,
  "metadata": {
    "colab": {
      "name": "텍스트 분석.ipynb",
      "provenance": [],
      "collapsed_sections": []
    },
    "kernelspec": {
      "name": "python3",
      "display_name": "Python 3"
    },
    "language_info": {
      "name": "python"
    }
  },
  "cells": [
    {
      "cell_type": "markdown",
      "metadata": {
        "id": "S3hmyq0QphHq"
      },
      "source": [
        "#  NLP(Natural Language Processing) 와 텍스트 분석(Text analysis,Text mining))\n",
        "\n",
        "\n",
        "참고 : 파이썬 머신러닝 완벽 가이드\n",
        "\n",
        "## NLP\n",
        "- 인간의 언어를 이해하고 해석하는데 저 중점을 두고 기술이 발전 해 옴.\n",
        "- NLP 기술의 발전으로 텍스트 분석도 더욱 정교하게 발전\n",
        "\n",
        "## Text analysis\n",
        "- 머신러닝, 언어 이해, 통계 등을 활용해 모델을 수립하고 정보를 추출해 Business Intelligence)나 예측 분석 등의 분석 작업을 주로 수행.\n",
        "\n",
        "\n",
        "참고 : https://kerneler.tistory.com/142\n",
        "\n",
        "\n",
        "- 텍스트 마이닝은 비,반 정형 텍스트 데이터를 자연어 처리 기술에 기반하여 유용한 정보를 추출하여 가공하는 것을 목적으로 하는 기술.\n",
        "\n",
        "- 기술을 통하여 방대한 텍스트 뭉치에서 의미있는 정보를 추출해 내고, 다른 정보와의 연계성을 파악하며, 텍스트가 가진 카테고리를 찾아내는 등 단순한 정보 검색 그 이상의 결과를 얻어 낼 수 있다. 텍스트 마이닝 과정은 다음과 같은 단계를 거친다\n",
        "\n",
        "\n",
        "\n",
        "### **텍스트 문서-> 전처리 ->의미정보 변환 -> 의미정보 추출 -> 패턴 및 경향 분석 -> 정보 교환 및 평가**\n",
        "\n",
        "\n",
        "\n",
        "- 텍스트 분석에는 구조화 과정이 필요한데, 구조화된 데이터(ex. 수치)는 컴퓨터가 직접적으로 처리 할 수 있지만, 텍스트 데이터는 구조화된 수치 데이터와 달리 자연어로 구성되어 있기 때문에 비 구조적 데이터. 그리하여 텍스트 데이터(문서-문단-문장-단어)를 바로 처리 할 수 없다. 텍스트를 분석하려면, 데이터는 컴퓨터가 처리 할 수 있는 구조로 표현해 주어야 함.\n",
        "\n",
        "- 텍스트 데이터는 '구조화 시키는 과정'이 필수적.\n",
        "\n",
        "\n",
        "### 텍스트 마이닝 응용 분야\n",
        "\n",
        "1. 분류(Categorization)\n",
        "- 주어진 텍스트의 내용을 분석 해, 사전에 정의된 범주를 적절히 부여하는 과정\n",
        "\n",
        "ex)뉴스 기사 분석->정치/사회/생활/스포츠/IT/연예 등의 범주로 자동 분류\n",
        "\n",
        "- 다량의 문서는 내용들을 직접 일일이 파악하고, 분류하기에는 많은 시간이 소요, 또한 전문적인 내용의 경우 세부 분류는 전문가만이 수행이 가능함. ->이럴때 텍스트 마이닝을 쓰는게 적절함.\n",
        "\n",
        "- 분류 기법 : 문서 유사도, 패턴 인식, 정보 검색 기반\n",
        "\n",
        "2. 감성 분석(Sentiment Analysis) : 텍스트에서 나타나는 감정/판단/믿음/의견/기분 등의 주관적인 요소를 분석하는 기법. 소셜 미디어 감정 분석, 영화나 제품에 대한 긍정 또는 리뷰, 여론조사 의견 분석 등의 다양한 영역에서 활용 됨.\n",
        "\n",
        "2. 요약(Summarization)\n",
        "- 문서의 전체 내용을 대표할 수 있는 내용을 추출하는 과정 / 다량/대용량 문서의 내용 파악을 도와 필요한 문서에 접근하는 시간을 단축 해 줄 수 있음.\n",
        "\n",
        "-요약 기법 : 토픽 모델링, 표면 수준접근(surface level approach), 개체 수준 접근(entiry level approach), 화법수준접근(discourse level approach)\n",
        "\n",
        "3. 군집화(Clustering)\n",
        "- 텍스트 집단을 내용의 유사도에 따라 여러 개의 소집단으로 분할하는 과정\n",
        "- 군집화를 통해 텍스트 분류의 예비 작업(범주체계 정의, 표본 텍스트 관리)을 자동화시켜줄 수 있다.\n",
        "\n",
        "\n",
        "\n",
        "#### Text문서를 Feature Vectorization을 해야 되는데 대표적인 두 방법이다.\n",
        "\n",
        "<figure>\n",
        "<img src = 'https://statkclee.github.io/ds-authoring/fig/nlp-python-korean.png'>\n",
        "<figure>\n",
        "\n",
        "출처 : https://statkclee.github.io/ds-authoring/ds_kpf.html\n",
        "\n",
        "### Word2Vec\n",
        "\n",
        "<figure>\n",
        "<img src ='https://miro.medium.com/max/3902/1*hELlVp9hmZbDZVFstS61pg.png'>\n",
        "<figure>\n",
        "\n",
        "출처 : https://medium.com/analytics-vidhya/implementing-word2vec-in-tensorflow-44f93cf2665f"
      ]
    },
    {
      "cell_type": "markdown",
      "metadata": {
        "id": "1UvBMD8nvzbs"
      },
      "source": [
        "**말뭉치 또는 코퍼스(Corpus)는 자연언어 연구를 위해 특정한 목적을 가지고 언어의 표본을 추출한 집합이다.**\n",
        "\n",
        "# 파이썬 기반의 NLP, 텍스트 분석만을 위한 패키지\n",
        "\n",
        "- NLTK(National Language Toolkit for python) : 파이썬의 가장 대표적인 NLP 패키지. 방대한 데이터 세트와 서브 모듈을 가지고 있으며 NLP의 거의 모든 영역을 커버하고 있음. 많은 NLP 패키지가 NLTK의 영향을 받아 작성되고 있음. 수행속도 측면에서 아쉬운 부분이 있어서 실제 대량의 데이터 기반에서는 제대로 활용되지 못하고 있음.\n",
        "\n",
        "- Gensim : 토픽 모델링 분야 에서 가장 두각을 나타내는 패키지. 오래전부터 토픽 모델링을 쉽게 구현할 수 있는 기능을 제공해왔으며, Word2Vec 구현 등의 다양한 신기능도 제공. SpaCy와 함께 가장 많이 사용되는 NLP 패키지.\n",
        "\n",
        "- SpaCy : 뛰어난 수행 성능으로 최근 가장 주목을 받는 NLP 패키지. 많은 NLP 애플리케이션에서 SpaCy를 사용하는 사례가 늘고 있음.\n",
        "\n",
        "- Word Colud : '핵심 단어'시각화 하는 기법. 문서의 키워드, 개념 등을 직관적으로 파악할 수 있도록 핵심 단어를 시각적으로 돋보이게 하는 기법.\n",
        "\n",
        "**토큰(token)이란 문법적으로 더 이상 나눌 수 없는 언어요소를 뜻함. 텍스트 토큰화(Text Toeknization)란 말뭉치로부터 토큰을 분리하는 작업을 뜻함.**\n",
        "\n",
        "## 텍스트 전처리 - 텍스트 정규화\n",
        "\n",
        "- Cleansing : 텍스트에서 분석에 오히려 방해가 되는 불필요한 문자, 기호 등을 사전에 제거하는 작업. 예를 들어 HTML, XML 태크나 특정 기호 등을 사전에 제거\n",
        "\n",
        "- Tokenization : 문장 토큰화, 단어 코튼화, N-gram\n",
        "\n",
        "- 필터링 /스톱 워드 제거 / 철자 수정 : 불필요한 단어나 분석에 큰 의미가 없는 단어(a, the, is, will등) 그리고 잘못된 철자 수정\n",
        "\n",
        "- Stemming / Lemmatization : 어근(단어 원형) 추출, Lemmatization이 Stemming보다 정교하고 의미론적 기반에서 단어원형을 찾아줌.\n",
        "\n",
        "### N-gram\n",
        "\n",
        "- 문장을 개별 단어 별로 하나씩 토큰화 할 경우 문맥적인 의미는 무시 될 수 밖에 없음. 이러한 문제를 조금이라도 해결해보자->N-garm 도입\n",
        "\n",
        "- N-gram은 연속된 n개의 단어를 하나의 토큰화 단위로 분리하는 것. n개 단어 크기 윈도우를 만들어 문장의 처음부터 오른쪽으로 움직이면서 토큰화 수행.\n",
        "\n",
        "ex) 'Here is a dog'라는 문장을 문자 절단 단위의 \"Her\", \"ere\", \"re_\", \"e_i\", \"_is\", \"is_\", \"s_a\", \"_a_\", \"a_d\", \"_do\", \"dog\" 로 만들 수 있다. \n",
        "같은 작업을 단어 단위의 2-gram으로 만든다면,\n",
        "\"Here is\", \"is a\", \"a dog\" 가 된다."
      ]
    },
    {
      "cell_type": "markdown",
      "metadata": {
        "id": "0jjfLeC6AgJg"
      },
      "source": [
        "## 토큰화에서 고려해야할 사항.\n",
        "\n",
        "토큰화 작업은 단순하게 코퍼스에서 구두점을 제외하고 공백 기준으로 잘라내는 작업이라고 간주할 수 없음. 섬세하게 알고리즘이 필요함.\n",
        "\n",
        "1. 구두점이나 특수문자를 단순 제외해서는 안됨.\n",
        "- 코퍼스에서 단어들을 걸러낼떄, 구두점이나 특수 문자를 단순히 제외하는 것은 옳지 않음.\n",
        "- 코퍼스에 대한 정제 작업을 진행하다보면, 구두점조차도 하나의 토큰으로 분류하기도 함.\n",
        "\n",
        "2. 줄임말과 단어 내에 띄어쓰기가 있는 경우\n",
        "- 토큰화 작업에서 종종 영어권 언어의 아포스트로피(')는 압축된 단어를 다시 펼치는 역할\n",
        "\n",
        "3. 표준 토큰화 예제\n",
        "- 표준으로 쓰이고 있는 토큰화 방법 중 하나인 Penn Treebank Tokenization의 규칙에 대해서 소개하고, 토큰화의 결과를 보도록 하겠습니다.\n",
        "\n",
        "- 규칙 1. 하이푼으로 구성된 단어는 하나로 유지한다.\n",
        "- 규칙 2. doesn't와 같이 아포스트로피로 '접어'가 함께하는 단어는 분리해준다."
      ]
    },
    {
      "cell_type": "code",
      "metadata": {
        "colab": {
          "base_uri": "https://localhost:8080/"
        },
        "id": "nlA91G8YMeps",
        "outputId": "185b3474-a104-405c-cc79-154f798771ee"
      },
      "source": [
        "from nltk.tokenize import TreebankWordTokenizer\n",
        "tokenizer=TreebankWordTokenizer()\n",
        "text=\"Starting a home-based restaurant may be an ideal. it doesn't have a food chain or restaurant of their own.\"\n",
        "print(tokenizer.tokenize(text))"
      ],
      "execution_count": null,
      "outputs": [
        {
          "output_type": "stream",
          "text": [
            "['Starting', 'a', 'home-based', 'restaurant', 'may', 'be', 'an', 'ideal.', 'it', 'does', \"n't\", 'have', 'a', 'food', 'chain', 'or', 'restaurant', 'of', 'their', 'own', '.']\n"
          ],
          "name": "stdout"
        }
      ]
    },
    {
      "cell_type": "markdown",
      "metadata": {
        "id": "FlDWit2y1wvK"
      },
      "source": [
        "## 텍스트 전처리 실습"
      ]
    },
    {
      "cell_type": "code",
      "metadata": {
        "colab": {
          "base_uri": "https://localhost:8080/"
        },
        "id": "5v48yxOepfW-",
        "outputId": "250d451d-49a8-4e7a-8ade-6876258a8a88"
      },
      "source": [
        "!pip install nltk"
      ],
      "execution_count": null,
      "outputs": [
        {
          "output_type": "stream",
          "text": [
            "Requirement already satisfied: nltk in /usr/local/lib/python3.7/dist-packages (3.2.5)\n",
            "Requirement already satisfied: six in /usr/local/lib/python3.7/dist-packages (from nltk) (1.15.0)\n"
          ],
          "name": "stdout"
        }
      ]
    },
    {
      "cell_type": "markdown",
      "metadata": {
        "id": "128VQ6ad3hDJ"
      },
      "source": [
        "- Text Tokenization"
      ]
    },
    {
      "cell_type": "code",
      "metadata": {
        "colab": {
          "base_uri": "https://localhost:8080/"
        },
        "id": "oCdUr7QH3PhF",
        "outputId": "30dc1d7d-c63f-481a-9d79-fa38653cbdb6"
      },
      "source": [
        "from nltk import sent_tokenize\n",
        "\n",
        "import nltk\n",
        "nltk.download('punkt')\n",
        "\n",
        "text_sample = 'The Matrix is everywhere its all around us, here even in this room. \\\n",
        "               You can see it out your window or on your television. \\\n",
        "               You feel it when you go to work, or go to church or pay your taxes.'\n",
        "sentences = sent_tokenize(text=text_sample)\n",
        "print(type(sentences),len(sentences))\n",
        "print(sentences)"
      ],
      "execution_count": null,
      "outputs": [
        {
          "output_type": "stream",
          "text": [
            "[nltk_data] Downloading package punkt to /root/nltk_data...\n",
            "[nltk_data]   Unzipping tokenizers/punkt.zip.\n",
            "<class 'list'> 3\n",
            "['The Matrix is everywhere its all around us, here even in this room.', 'You can see it out your window or on your television.', 'You feel it when you go to work, or go to church or pay your taxes.']\n"
          ],
          "name": "stdout"
        }
      ]
    },
    {
      "cell_type": "code",
      "metadata": {
        "colab": {
          "base_uri": "https://localhost:8080/"
        },
        "id": "pkHKX5VT3lGa",
        "outputId": "dbb68386-3a6c-4603-d627-efdb9e92c3f6"
      },
      "source": [
        "from nltk import word_tokenize\n",
        "\n",
        "sentence = \"The Matrix is everywhere its all around us, here even in this room.\"\n",
        "words = word_tokenize(sentence)\n",
        "print(type(words), len(words))\n",
        "print(words)"
      ],
      "execution_count": null,
      "outputs": [
        {
          "output_type": "stream",
          "text": [
            "<class 'list'> 15\n",
            "['The', 'Matrix', 'is', 'everywhere', 'its', 'all', 'around', 'us', ',', 'here', 'even', 'in', 'this', 'room', '.']\n"
          ],
          "name": "stdout"
        }
      ]
    },
    {
      "cell_type": "code",
      "metadata": {
        "colab": {
          "base_uri": "https://localhost:8080/"
        },
        "id": "r_BeaZaQ3n0w",
        "outputId": "15987855-53af-442e-b160-5bd523eb5b8f"
      },
      "source": [
        "from nltk import word_tokenize, sent_tokenize\n",
        "\n",
        "#여러개의 문장으로 된 입력 데이터를 문장별로 단어 토큰화 만드는 함수 생성\n",
        "def tokenize_text(text):\n",
        "    \n",
        "    # 문장별로 분리 토큰\n",
        "    sentences = sent_tokenize(text)\n",
        "    # 분리된 문장별 단어 토큰화\n",
        "    word_tokens = [word_tokenize(sentence) for sentence in sentences]\n",
        "    return word_tokens\n",
        "\n",
        "#여러 문장들에 대해 문장별 단어 토큰화 수행. \n",
        "word_tokens = tokenize_text(text_sample)\n",
        "print(type(word_tokens),len(word_tokens))\n",
        "print(word_tokens)"
      ],
      "execution_count": null,
      "outputs": [
        {
          "output_type": "stream",
          "text": [
            "<class 'list'> 3\n",
            "[['The', 'Matrix', 'is', 'everywhere', 'its', 'all', 'around', 'us', ',', 'here', 'even', 'in', 'this', 'room', '.'], ['You', 'can', 'see', 'it', 'out', 'your', 'window', 'or', 'on', 'your', 'television', '.'], ['You', 'feel', 'it', 'when', 'you', 'go', 'to', 'work', ',', 'or', 'go', 'to', 'church', 'or', 'pay', 'your', 'taxes', '.']]\n"
          ],
          "name": "stdout"
        }
      ]
    },
    {
      "cell_type": "markdown",
      "metadata": {
        "id": "kbx4m61iMxIU"
      },
      "source": [
        "참고 : 딥러닝을 위한 자연어 처리 입문(https://wikidocs.net/21698)\n",
        "\n",
        "# 한국어에서의 토큰화의 어려움\n",
        "\n",
        "1) 한국어는 교착어.\n",
        "- 대부분의 한국어 NLP에서 조사는 분리해야 함.\n",
        "- 띄어쓰기 단위가 영어처럼 독립적인 단어라면 띄어쓰기 단위로 토큰화를 하면 되겠지만 한국어는 어절이 독립적인 단어로 구성되는 것이 아니라 조사 등의 무언가가 붙어있는 경우가 많아서 이를 전부 분리해줘야 한다는 의미.\n",
        "\n",
        "- 한국어 토큰화에서는 형태소(morpheme)란 개념을 이해해야 함. 형태소(morpheme)란 뜻을 가진 가장 작은 말의 단위를 말함.이 형태소에는 두 가지 형태소가 있는데 자립 형태소와 의존 형태소입니다.\n",
        "\n",
        "- 자립 형태소 : 접사, 어미, 조사와 상관없이 자립하여 사용할 수 있는 형태소. 그 자체로 단어가 된다. 체언(명사, 대명사, 수사), 수식언(관형사, 부사), 감탄사 등이 있다.\n",
        "- 의존 형태소 : 다른 형태소와 결합하여 사용되는 형태소. 접사, 어미, 조사, 어간를 말한다.\n",
        "\n",
        "예를 들어 다음과 같은 문장이 있다고 합시다.\n",
        "\n",
        "- 문장 : 에디가 딥러닝책을 읽었다\n",
        "이를 형태소 단위로 분해하면 다음과 같습니다.\n",
        "\n",
        "- 자립 형태소 : 에디, 딥러닝책\n",
        "- 의존 형태소 : -가, -을, 읽-, -었, -다\n",
        "\n",
        "이를 통해 유추할 수 있는 것은 한국어에서 영어에서의 단어 토큰화와 유사한 형태를 얻으려면 어절 토큰화가 아니라 형태소 토큰화를 수행해야한다는 겁니다.\n",
        "\n",
        "2) 한국어는 띄어쓰기가 영어보다 잘 지켜지지 않는다.\n",
        "\n",
        "- 사용하는 한국어 코퍼스가 뉴스 기사와 같이 띄어쓰기를 철저하게 지키려고 노력하는 글이라면 좋겠지만, 많은 경우에 띄어쓰기가 틀렸거나, 지켜지지 않는 코퍼스가 많습니다.\n",
        "\n",
        "- 한국어는 영어권 언어와 비교하여 띄어쓰기가 어렵고, 또 잘 지켜지지 않는 경향이 있습니다. 그 이유는 여러 견해가 있으나, 가장 기본적인 견해는 한국어의 경우 띄어쓰기가 지켜지지 않아도 글을 쉽게 이해할 수 있는 언어라는 점입니다. 사실, 띄어쓰기가 없던 한국어에 띄어쓰기가 보편화된 것도 근대(1933년, 한글맞춤법통일안)의 일입니다.\n",
        "\n",
        "\n",
        "# 품사 태깅(Part-of-Speech tagging)\n",
        "\n",
        "\n",
        "단어는 표기는 같지만, 품사에 따라서 단어의 의미가 달라지기도 합니다. 예를 들어서 영어 단어 'fly'는 동사로는 '날다'라는 의미를 갖지만, 명사로는 '파리'라는 의미를 갖고있습니다. 한국어도 마찬가지입니다. '못'이라는 단어는 명사로서는 망치를 사용해서 목재 따위를 고정하는 물건을 의미합니다. 하지만 부사로서의 '못'은 '먹는다', '달린다'와 같은 동작 동사를 할 수 없다는 의미로 쓰입니다. 즉, 결국 단어의 의미를 제대로 파악하기 위해서는 해당 단어가 어떤 품사로 쓰였는지 보는 것이 주요 지표가 될 수도 있습니다. 그에 따라 단어 토큰화 과정에서 각 단어가 어떤 품사로 쓰였는지를 구분해놓기도 하는데, 이 작업을 품사 태깅(part-of-speech tagging)이라고 합니다. NLTK에서는 어떻게 품사 태깅이 되는지 실습을 통해서 알아보도록 하겠습니다."
      ]
    },
    {
      "cell_type": "code",
      "metadata": {
        "colab": {
          "base_uri": "https://localhost:8080/"
        },
        "id": "hPp_IMdCN70c",
        "outputId": "ba39fca2-d15a-48e5-f962-252cb88eca4b"
      },
      "source": [
        "import nltk\n",
        "nltk.download('punkt')"
      ],
      "execution_count": null,
      "outputs": [
        {
          "output_type": "stream",
          "text": [
            "[nltk_data] Downloading package punkt to /root/nltk_data...\n",
            "[nltk_data]   Package punkt is already up-to-date!\n"
          ],
          "name": "stdout"
        },
        {
          "output_type": "execute_result",
          "data": {
            "text/plain": [
              "True"
            ]
          },
          "metadata": {
            "tags": []
          },
          "execution_count": 6
        }
      ]
    },
    {
      "cell_type": "code",
      "metadata": {
        "id": "hpzjYdZuAB2D",
        "colab": {
          "base_uri": "https://localhost:8080/"
        },
        "outputId": "631d335d-6377-416c-d8b3-a3f038bfe4e3"
      },
      "source": [
        "from nltk.tokenize import word_tokenize\n",
        "text=\"I am actively looking for Ph.D. students. and you are a Ph.D. student.\"\n",
        "print(word_tokenize(text))"
      ],
      "execution_count": null,
      "outputs": [
        {
          "output_type": "stream",
          "text": [
            "['I', 'am', 'actively', 'looking', 'for', 'Ph.D.', 'students', '.', 'and', 'you', 'are', 'a', 'Ph.D.', 'student', '.']\n"
          ],
          "name": "stdout"
        }
      ]
    },
    {
      "cell_type": "code",
      "metadata": {
        "id": "EVFNXzVoNz0p",
        "colab": {
          "base_uri": "https://localhost:8080/"
        },
        "outputId": "72653f9e-ee91-41d4-dcee-0b883d499129"
      },
      "source": [
        "from nltk.tag import pos_tag\n",
        "import nltk\n",
        "nltk.download('averaged_perceptron_tagger')\n",
        "x=word_tokenize(text)\n",
        "pos_tag(x)"
      ],
      "execution_count": null,
      "outputs": [
        {
          "output_type": "stream",
          "text": [
            "[nltk_data] Downloading package averaged_perceptron_tagger to\n",
            "[nltk_data]     /root/nltk_data...\n",
            "[nltk_data]   Unzipping taggers/averaged_perceptron_tagger.zip.\n"
          ],
          "name": "stdout"
        },
        {
          "output_type": "execute_result",
          "data": {
            "text/plain": [
              "[('I', 'PRP'),\n",
              " ('am', 'VBP'),\n",
              " ('actively', 'RB'),\n",
              " ('looking', 'VBG'),\n",
              " ('for', 'IN'),\n",
              " ('Ph.D.', 'NNP'),\n",
              " ('students', 'NNS'),\n",
              " ('.', '.'),\n",
              " ('and', 'CC'),\n",
              " ('you', 'PRP'),\n",
              " ('are', 'VBP'),\n",
              " ('a', 'DT'),\n",
              " ('Ph.D.', 'NNP'),\n",
              " ('student', 'NN'),\n",
              " ('.', '.')]"
            ]
          },
          "metadata": {
            "tags": []
          },
          "execution_count": 8
        }
      ]
    },
    {
      "cell_type": "markdown",
      "metadata": {
        "id": "N5cGomarZpPH"
      },
      "source": [
        "- 영어 문장에 대해서 토큰화를 수행하고, 이어서 품사 태깅을 수행하였습니다. Penn Treebank POG Tags에서 PRP는 인칭 대명사, VBP는 동사, RB는 부사, VBG는 현재부사, IN은 전치사, NNP는 고유 명사, NNS는 복수형 명사, CC는 접속사, DT는 관사를 의미합니다.\n",
        "\n",
        "- 한국어 자연어 처리를 위해서는 KoNLPy(\"코엔엘파이\"라고 읽습니다)라는 파이썬 패키지를 사용할 수 있습니다. 코엔엘파이를 통해서 사용할 수 있는 형태소 분석기로 Okt(Open Korea Text), 메캅(Mecab), 코모란(Komoran), 한나눔(Hannanum), 꼬꼬마(Kkma)가 있습니다.\n",
        "\n",
        "- 한국어 NLP에서 형태소 분석기를 사용한다는 것은 단어 토큰화가 아니라 정확히는 형태소(morpheme) 단위로 형태소 토큰화(morpheme tokenization)를 수행하게 됨을 뜻합니다. 여기선 이 중에서 Okt와 꼬꼬마를 통해서 토큰화를 수행해보도록 하겠습니다. (Okt는 기존에는 Twitter라는 이름을 갖고있었으나 0.5.0 버전부터 이름이 변경되어 인터넷에는 아직 Twitter로 많이 알려져있으므로 학습 시 참고바랍니다.)"
      ]
    },
    {
      "cell_type": "code",
      "metadata": {
        "colab": {
          "base_uri": "https://localhost:8080/"
        },
        "id": "u780Vl06aFA9",
        "outputId": "fa4262d1-dc05-4a9c-9437-3b9e96207dae"
      },
      "source": [
        "!pip install konlpy"
      ],
      "execution_count": null,
      "outputs": [
        {
          "output_type": "stream",
          "text": [
            "Collecting konlpy\n",
            "\u001b[?25l  Downloading https://files.pythonhosted.org/packages/85/0e/f385566fec837c0b83f216b2da65db9997b35dd675e107752005b7d392b1/konlpy-0.5.2-py2.py3-none-any.whl (19.4MB)\n",
            "\u001b[K     |████████████████████████████████| 19.4MB 1.6MB/s \n",
            "\u001b[?25hCollecting colorama\n",
            "  Downloading https://files.pythonhosted.org/packages/44/98/5b86278fbbf250d239ae0ecb724f8572af1c91f4a11edf4d36a206189440/colorama-0.4.4-py2.py3-none-any.whl\n",
            "Collecting beautifulsoup4==4.6.0\n",
            "\u001b[?25l  Downloading https://files.pythonhosted.org/packages/9e/d4/10f46e5cfac773e22707237bfcd51bbffeaf0a576b0a847ec7ab15bd7ace/beautifulsoup4-4.6.0-py3-none-any.whl (86kB)\n",
            "\u001b[K     |████████████████████████████████| 92kB 10.1MB/s \n",
            "\u001b[?25hRequirement already satisfied: tweepy>=3.7.0 in /usr/local/lib/python3.7/dist-packages (from konlpy) (3.10.0)\n",
            "Requirement already satisfied: lxml>=4.1.0 in /usr/local/lib/python3.7/dist-packages (from konlpy) (4.2.6)\n",
            "Collecting JPype1>=0.7.0\n",
            "\u001b[?25l  Downloading https://files.pythonhosted.org/packages/cd/a5/9781e2ef4ca92d09912c4794642c1653aea7607f473e156cf4d423a881a1/JPype1-1.2.1-cp37-cp37m-manylinux2010_x86_64.whl (457kB)\n",
            "\u001b[K     |████████████████████████████████| 460kB 34.8MB/s \n",
            "\u001b[?25hRequirement already satisfied: numpy>=1.6 in /usr/local/lib/python3.7/dist-packages (from konlpy) (1.19.5)\n",
            "Requirement already satisfied: requests-oauthlib>=0.7.0 in /usr/local/lib/python3.7/dist-packages (from tweepy>=3.7.0->konlpy) (1.3.0)\n",
            "Requirement already satisfied: requests[socks]>=2.11.1 in /usr/local/lib/python3.7/dist-packages (from tweepy>=3.7.0->konlpy) (2.23.0)\n",
            "Requirement already satisfied: six>=1.10.0 in /usr/local/lib/python3.7/dist-packages (from tweepy>=3.7.0->konlpy) (1.15.0)\n",
            "Requirement already satisfied: typing-extensions; python_version < \"3.8\" in /usr/local/lib/python3.7/dist-packages (from JPype1>=0.7.0->konlpy) (3.7.4.3)\n",
            "Requirement already satisfied: oauthlib>=3.0.0 in /usr/local/lib/python3.7/dist-packages (from requests-oauthlib>=0.7.0->tweepy>=3.7.0->konlpy) (3.1.0)\n",
            "Requirement already satisfied: idna<3,>=2.5 in /usr/local/lib/python3.7/dist-packages (from requests[socks]>=2.11.1->tweepy>=3.7.0->konlpy) (2.10)\n",
            "Requirement already satisfied: certifi>=2017.4.17 in /usr/local/lib/python3.7/dist-packages (from requests[socks]>=2.11.1->tweepy>=3.7.0->konlpy) (2020.12.5)\n",
            "Requirement already satisfied: urllib3!=1.25.0,!=1.25.1,<1.26,>=1.21.1 in /usr/local/lib/python3.7/dist-packages (from requests[socks]>=2.11.1->tweepy>=3.7.0->konlpy) (1.24.3)\n",
            "Requirement already satisfied: chardet<4,>=3.0.2 in /usr/local/lib/python3.7/dist-packages (from requests[socks]>=2.11.1->tweepy>=3.7.0->konlpy) (3.0.4)\n",
            "Requirement already satisfied: PySocks!=1.5.7,>=1.5.6; extra == \"socks\" in /usr/local/lib/python3.7/dist-packages (from requests[socks]>=2.11.1->tweepy>=3.7.0->konlpy) (1.7.1)\n",
            "Installing collected packages: colorama, beautifulsoup4, JPype1, konlpy\n",
            "  Found existing installation: beautifulsoup4 4.6.3\n",
            "    Uninstalling beautifulsoup4-4.6.3:\n",
            "      Successfully uninstalled beautifulsoup4-4.6.3\n",
            "Successfully installed JPype1-1.2.1 beautifulsoup4-4.6.0 colorama-0.4.4 konlpy-0.5.2\n"
          ],
          "name": "stdout"
        }
      ]
    },
    {
      "cell_type": "code",
      "metadata": {
        "colab": {
          "base_uri": "https://localhost:8080/"
        },
        "id": "uLh3AkQvQfA2",
        "outputId": "82f026e5-bd51-4566-dfed-cd56b86f9e3e"
      },
      "source": [
        "from konlpy.tag import Okt  \n",
        "okt=Okt()  \n",
        "print(okt.morphs(\"열심히 코딩한 당신, 연휴에는 여행을 가봐요\"))\n",
        "# 텍ㅌ스트를 형태로 단위로 나누는데,이때 각 단어에서 어간을 추출"
      ],
      "execution_count": null,
      "outputs": [
        {
          "output_type": "stream",
          "text": [
            "['열심히', '코딩', '한', '당신', ',', '연휴', '에는', '여행', '을', '가봐요']\n"
          ],
          "name": "stdout"
        }
      ]
    },
    {
      "cell_type": "code",
      "metadata": {
        "id": "yOOsZK_baEQ8",
        "colab": {
          "base_uri": "https://localhost:8080/"
        },
        "outputId": "0723f222-3beb-4f7b-f5e9-3ad0d78e2bbd"
      },
      "source": [
        "print(okt.pos('열심히 코딩한 당신, 연휴에는 여행을 가봐요'))\n",
        "# 품사추출."
      ],
      "execution_count": null,
      "outputs": [
        {
          "output_type": "stream",
          "text": [
            "[('열심히', 'Adverb'), ('코딩', 'Noun'), ('한', 'Josa'), ('당신', 'Noun'), (',', 'Punctuation'), ('연휴', 'Noun'), ('에는', 'Josa'), ('여행', 'Noun'), ('을', 'Josa'), ('가봐요', 'Verb')]\n"
          ],
          "name": "stdout"
        }
      ]
    },
    {
      "cell_type": "markdown",
      "metadata": {
        "id": "a-_ERx0nfG56"
      },
      "source": [
        "1) morphs : 형태소 추출\n",
        "\n",
        "2) pos : 품사 태깅\n",
        "\n",
        "3) nouns : 명사 추출\n",
        "\n",
        "\n",
        "이번에는 꼬꼬마 형태소 분석기를 사용하여 같은 문장에 대해서 토큰화를 진행해 보자."
      ]
    },
    {
      "cell_type": "code",
      "metadata": {
        "colab": {
          "base_uri": "https://localhost:8080/"
        },
        "id": "8DXkiL4AfRp3",
        "outputId": "9deca77f-8753-4f6a-bd4e-8f9718d6a941"
      },
      "source": [
        "from konlpy.tag import Kkma  \n",
        "kkma=Kkma()  \n",
        "print(kkma.morphs(\"열심히 코딩한 당신, 연휴에는 여행을 가봐요\"))"
      ],
      "execution_count": null,
      "outputs": [
        {
          "output_type": "stream",
          "text": [
            "['열심히', '코딩', '하', 'ㄴ', '당신', ',', '연휴', '에', '는', '여행', '을', '가보', '아요']\n"
          ],
          "name": "stdout"
        }
      ]
    },
    {
      "cell_type": "code",
      "metadata": {
        "colab": {
          "base_uri": "https://localhost:8080/"
        },
        "id": "5oDxkMfvfVQd",
        "outputId": "92606df2-11e5-4c91-cd74-a81cd421f39e"
      },
      "source": [
        "print(kkma.pos(\"열심히 코딩한 당신, 연휴에는 여행을 가봐요\"))  "
      ],
      "execution_count": null,
      "outputs": [
        {
          "output_type": "stream",
          "text": [
            "[('열심히', 'MAG'), ('코딩', 'NNG'), ('하', 'XSV'), ('ㄴ', 'ETD'), ('당신', 'NP'), (',', 'SP'), ('연휴', 'NNG'), ('에', 'JKM'), ('는', 'JX'), ('여행', 'NNG'), ('을', 'JKO'), ('가보', 'VV'), ('아요', 'EFN')]\n"
          ],
          "name": "stdout"
        }
      ]
    },
    {
      "cell_type": "markdown",
      "metadata": {
        "id": "FUe1AGHVfbI9"
      },
      "source": [
        "앞서 사용한 Okt 형태소 분석기와 결과가 다른 것을 볼 수 있습니다. 각 형태소 분석기는 성능과 결과가 다르게 나오기 때문에, 형태소 분석기의 선택은 사용하고자 하는 필요 용도에 어떤 형태소 분석기가 가장 적절한지를 판단하고 사용하면 됩니다. 예를 들어서 속도를 중시한다면 메캅을 사용할 수 있습니다."
      ]
    },
    {
      "cell_type": "markdown",
      "metadata": {
        "id": "F1ijHA6nffB9"
      },
      "source": [
        "# 2) 정제(Clearning) and 정규화(Normalization)\n",
        "\n",
        "코퍼스에서 용도에 맞게 토큰을 분류하는 작업을 토큰화(tokenization)라고 하며, 토큰화 작업 전, 후에는 텍스트 데이터를 용도에 맞게 정제(cleaning) 및 정규화(normalization)하는 일이 항상 함께합니다\n",
        "\n",
        " - 정제(Clearning) : 갖고 있는 코퍼스로부터 노이즈 데이터를 제거한다.\n",
        " - 정규화(Normalization) : 표현 방법이 다른 단어들을 통합시켜서 같은 단어로 만들어 줌.\n",
        "\n",
        "\n",
        " 정제 작업은 토큰화 작업에 방해가 되는 부분들을 배제시키고 토큰화 작업을 수행하기 위해서 토큰화 작업보다 앞서 이루어지기도 하지만, 토큰화 작업 이후에도 여전히 남아있는 노이즈들을 제거하기위해 지속적으로 이루어지기도 합니다. 사실 완벽한 정제 작업은 어려운 편이라서, 대부분의 경우 이 정도면 됐다.라는 일종의 합의점을 찾기도 합니다.\n",
        "\n",
        "# 1. 규칙에 기반한 표기가 다른 단어들의 통합.\n",
        " - USA와 US는 같은 의미를 가지므로, 하나의 단어로 정규화해볼 수 있습니다. uh-huh와 uhhuh는 형태는 다르지만 여전히 같은 의미를 갖고 있습니다. 이러한 정규화를 거치게 되면, US를 찾아도 USA도 함께 찾을 수 있을 것입니다. \n",
        "\n",
        "# 2. 대, 소문자 통합\n",
        " - 소문자 변환이 왜 유용한지 예를 들어보도록 하겠습니다. 가령, Automobile이라는 단어가 문장의 첫 단어였기때문에 A가 대문자였다고 생각해봅시다. 여기에 소문자 변환을 사용하면, automobile을 찾는 질의(query)에서, 결과로서 Automobile도 찾을 수 있게 됩니다.\n",
        "\n",
        " - 이러한 작업은 더 많은 변수를 사용해서 소문자 변환을 언제 사용할지 결정하는 머신 러닝 시퀀스 모델로 더 정확하게 진행시킬 수 있습니다. 하지만 만약 올바른 대문자 단어를 얻고 싶은 상황에서, 훈련에 사용하는 코퍼스가 사용자들이 단어의 대문자, 소문자의 올바른 사용 방법과 상관없이 소문자를 사용하는 사람들로부터 나온 데이터라면 이러한 방법 또한 그다지 도움이 되지 않을 수 있습니다. 결국에는 예외 사항을 크게 고려하지 않고, 모든 코퍼스를 소문자로 바꾸는 것이 종종 더 실용적인 해결책이 되기도 합니다.\n",
        "\n",
        "# 3. 불필요한 단어의 제거(Removing Unnecessary Words)\n",
        "\n",
        "- 정제 작업에서 제거해야하는 노이즈 데이터(noise data)는 자연어가 아니면서 아무 의미도 갖지 않는 글자들(특수 문자 등)을 의미하기도 하지만, 분석하고자 하는 목적에 맞지 않는 불필요 단어들을 노이즈 데이터라고 하기도 함.\n",
        "\n",
        "1) 등장 빈도가 적은 단어(Removing Rare Words)\n",
        "- 텍스트 데이터에서 너무 적게 등장해서 자연어 처리에 도움이 되지 않는 단어들이 존재함\n",
        "\n",
        "ex) 총 100,000개개의 메일을 가지고 정상 메일을 판단하는 모델을 설계하려고 하는데 특정 단어가 5번 미만으로 등장하면 분류에 도움이 되지 않음.\n",
        "\n",
        "2) 길이가 짧은 단어(Removin words with very a short lenghth)\n"
      ]
    },
    {
      "cell_type": "code",
      "metadata": {
        "colab": {
          "base_uri": "https://localhost:8080/"
        },
        "id": "PpjvokC7fYcz",
        "outputId": "f33094c5-bbd1-4dec-f431-172cb2b802b9"
      },
      "source": [
        "# 길이가 1~2인 단어들을 정규 표현식을 이용하여 삭제\n",
        "import re\n",
        "text = \"I was wondering if anyone out there could enlighten me on this car.\"\n",
        "shortword = re.compile(r'\\W*\\b\\w{1,2}\\b')\n",
        "print(shortword.sub('', text))"
      ],
      "execution_count": null,
      "outputs": [
        {
          "output_type": "stream",
          "text": [
            " was wondering anyone out there could enlighten this car.\n"
          ],
          "name": "stdout"
        }
      ]
    },
    {
      "cell_type": "markdown",
      "metadata": {
        "id": "35mx566Aj7-j"
      },
      "source": [
        "4. 정규표현식(Regular Expression)\n",
        "-  HTML 문서로부터 가져온 코퍼스라면 문서 여기저기에 HTML 태그가 있습니다. 뉴스 기사를 크롤링 했다면, 기사마다 게재 시간이 적혀져 있을 수 있습니다. 정규 표현식은 이러한 코퍼스 내에 계속해서 등장하는 글자들을 규칙에 기반하여 한 번에 제거하는 방식으로서 매우 유용합니다.\n"
      ]
    },
    {
      "cell_type": "markdown",
      "metadata": {
        "id": "cTF-AzJV6K1P"
      },
      "source": [
        "## Stemming(어간 추출)과 Lemmatization(표제어 추출)\n",
        "\n",
        "- 표제어(lemma)는 한글로는 '표제어'또는 '기본 사전형 단어' 정도의 의미를 갖음. 표제어 추출은 단어들로부터 표제어를 찾아가는 과정. 표제어 추출은 단어들이 다른 형태를 가지더라도, 그 뿌리 단어를 찾아가서 단어의 개수를 줄일 수 있는지 판단.\n",
        "\n",
        "-예를 들어 am,are,is는 서로 다른 스펠링이지만, 그 뿌리 단어는 be라고 볼 수 있음. 이때, 이 단어들의 표제어는 be라고 함.\n",
        "\n",
        "-표제어 추출을 하는 가장 섬세한 방법은 단어의 형태학적 파싱을 먼저 진행하는 것. 형태소란 '의미를 가진 가장 작은 단위'뜻함.\n",
        "\n",
        "- 형태소는 두 가지 종류가 있음. 각각 어간(stem)과 접사(affix)입니다.\n",
        "\n",
        "1. 어간(stem) : 단어의 의미를 담고 있는 단어의 핵심 부분\n",
        "2. 접사(affix) : 단어에 추가적인 의미를 주는 부분\n",
        "\n",
        "- 형태학적 파싱은 이 두가지 구성 요소를 분리하는 작업. \n",
        "\n",
        "- 가령, cats라는 단어에 대해 형태학적 파싱을 수행한다면, 형태학적 파싱은 결과로 cat(어간)와 -s(접사)를 분리. 꼭 두가지로 분리되지 않는 경우도 있음. 단어 fox는 형태학적 파싱을 한다고 하더라도 분리할 수 없음."
      ]
    },
    {
      "cell_type": "code",
      "metadata": {
        "colab": {
          "base_uri": "https://localhost:8080/"
        },
        "id": "Ex6hDBU96JLr",
        "outputId": "dfe0528c-b59f-408d-f9c5-79d4757fa6c5"
      },
      "source": [
        "from nltk.stem import LancasterStemmer\n",
        "stemmer = LancasterStemmer()\n",
        "\n",
        "print(stemmer.stem('working'),stemmer.stem('works'),stemmer.stem('worked'))\n",
        "print(stemmer.stem('amusing'),stemmer.stem('amuses'),stemmer.stem('amused'))\n",
        "print(stemmer.stem('happier'),stemmer.stem('happiest'))\n",
        "print(stemmer.stem('fancier'),stemmer.stem('fanciest'))"
      ],
      "execution_count": null,
      "outputs": [
        {
          "output_type": "stream",
          "text": [
            "work work work\n",
            "amus amus amus\n",
            "happy happiest\n",
            "fant fanciest\n"
          ],
          "name": "stdout"
        }
      ]
    },
    {
      "cell_type": "code",
      "metadata": {
        "colab": {
          "base_uri": "https://localhost:8080/"
        },
        "id": "spBqjCXz6MuA",
        "outputId": "7dc5dd47-c1dc-4d0b-9ebd-89e4927fe02f"
      },
      "source": [
        "from nltk.stem import WordNetLemmatizer\n",
        "\n",
        "import nltk\n",
        "nltk.download('wordnet')\n",
        "\n",
        "lemma = WordNetLemmatizer()\n",
        "print(lemma.lemmatize('amusing','v'),lemma.lemmatize('amuses','v'),lemma.lemmatize('amused','v'))\n",
        "print(lemma.lemmatize('happier','a'),lemma.lemmatize('happiest','a'))\n",
        "print(lemma.lemmatize('fancier','a'),lemma.lemmatize('fanciest','a'))"
      ],
      "execution_count": null,
      "outputs": [
        {
          "output_type": "stream",
          "text": [
            "[nltk_data] Downloading package wordnet to /root/nltk_data...\n",
            "[nltk_data]   Unzipping corpora/wordnet.zip.\n",
            "amuse amuse amuse\n",
            "happy happy\n",
            "fancy fancy\n"
          ],
          "name": "stdout"
        }
      ]
    },
    {
      "cell_type": "code",
      "metadata": {
        "colab": {
          "base_uri": "https://localhost:8080/"
        },
        "id": "dykrXx6pwnKU",
        "outputId": "c76d891f-b3e9-48d7-dabe-a7670a39c698"
      },
      "source": [
        "from nltk.stem import WordNetLemmatizer\n",
        "n=WordNetLemmatizer()\n",
        "words=['policy', 'doing', 'organization', 'have', 'going', 'love', 'lives', 'fly', 'dies', 'watched', 'has', 'starting']\n",
        "print([n.lemmatize(w) for w in words])"
      ],
      "execution_count": null,
      "outputs": [
        {
          "output_type": "stream",
          "text": [
            "['policy', 'doing', 'organization', 'have', 'going', 'love', 'life', 'fly', 'dy', 'watched', 'ha', 'starting']\n"
          ],
          "name": "stdout"
        }
      ]
    },
    {
      "cell_type": "markdown",
      "metadata": {
        "id": "rf4rawtmwrlj"
      },
      "source": [
        "잠시 후 어간 추출(stemming)에 대해서 배우고, 같은 입력에 대한 결과를 비교해보시면 알겠지만 표제어 추출은 어간 추출과는 달리 단어의 형태가 적절히 보존되는 양상을 보이는 특징이 있습니다. 하지만 그럼에도 위의 결과에서는 dy나 ha와 같이 의미를 알 수 없는 적절하지 못한 단어를 출력하고 있습니다. 이는 표제어 추출기(lemmatizer)가 본래 단어의 품사 정보를 알아야만 정확한 결과를 얻을 수 있기 때문입니다.\n",
        "\n",
        "WordNetLemmatizer는 입력으로 단어가 동사 품사라는 사실을 알려줄 수 있습니다. 즉, dies와 watched, has가 문장에서 동사로 쓰였다는 것을 알려준다면 표제어 추출기는 품사의 정보를 보존하면서 정확한 Lemma를 출력하게 됩니다."
      ]
    },
    {
      "cell_type": "code",
      "metadata": {
        "colab": {
          "base_uri": "https://localhost:8080/",
          "height": 36
        },
        "id": "tRs_GZmDwqbt",
        "outputId": "6a9e7052-0c92-4521-cfe3-49126de70442"
      },
      "source": [
        "n.lemmatize('dies', 'v')"
      ],
      "execution_count": null,
      "outputs": [
        {
          "output_type": "execute_result",
          "data": {
            "application/vnd.google.colaboratory.intrinsic+json": {
              "type": "string"
            },
            "text/plain": [
              "'die'"
            ]
          },
          "metadata": {
            "tags": []
          },
          "execution_count": 18
        }
      ]
    },
    {
      "cell_type": "code",
      "metadata": {
        "colab": {
          "base_uri": "https://localhost:8080/",
          "height": 36
        },
        "id": "0svw7mmDwu8a",
        "outputId": "62b646f7-7565-4910-983c-b17c3786dde5"
      },
      "source": [
        "n.lemmatize('watched', 'v')"
      ],
      "execution_count": null,
      "outputs": [
        {
          "output_type": "execute_result",
          "data": {
            "application/vnd.google.colaboratory.intrinsic+json": {
              "type": "string"
            },
            "text/plain": [
              "'watch'"
            ]
          },
          "metadata": {
            "tags": []
          },
          "execution_count": 19
        }
      ]
    },
    {
      "cell_type": "code",
      "metadata": {
        "colab": {
          "base_uri": "https://localhost:8080/",
          "height": 36
        },
        "id": "yI8AB3XjwxBq",
        "outputId": "b366be4f-6412-4698-9077-dae951dd9e7e"
      },
      "source": [
        "n.lemmatize('has', 'v')"
      ],
      "execution_count": null,
      "outputs": [
        {
          "output_type": "execute_result",
          "data": {
            "application/vnd.google.colaboratory.intrinsic+json": {
              "type": "string"
            },
            "text/plain": [
              "'have'"
            ]
          },
          "metadata": {
            "tags": []
          },
          "execution_count": 20
        }
      ]
    },
    {
      "cell_type": "markdown",
      "metadata": {
        "id": "Zdilv8qOlgDd"
      },
      "source": [
        "# 어간 추출(Stemming)\n",
        "\n",
        "- 어간(Stem)을 추출하는 작업을 어간 추출(stemming)이라고 합니다. 어간 추출은 형태학적 분석을 단순화한 버전이라고 볼 수도 있고, 정해진 규칙만 보고 단어의 어미를 자르는 어림짐작의 작업이라고 볼 수도 있습니다. 다시 말해, 이 작업은 섬세한 작업이 아니기 때문에 어간 추출 후에 나오는 결과 단어는 사전에 존재하지 않는 단어일 수도 있습니다. "
      ]
    },
    {
      "cell_type": "code",
      "metadata": {
        "colab": {
          "base_uri": "https://localhost:8080/"
        },
        "id": "MYEvoFIxj6q3",
        "outputId": "9954da0b-efee-4b71-a0d0-e63b59da3551"
      },
      "source": [
        "from nltk.stem import PorterStemmer\n",
        "from nltk.tokenize import word_tokenize\n",
        "s = PorterStemmer()\n",
        "text=\"This was not the map we found in Billy Bones's chest, but an accurate copy, complete in all things--names and heights and soundings--with the single exception of the red crosses and the written notes.\"\n",
        "words=word_tokenize(text)\n",
        "print(words)"
      ],
      "execution_count": null,
      "outputs": [
        {
          "output_type": "stream",
          "text": [
            "['This', 'was', 'not', 'the', 'map', 'we', 'found', 'in', 'Billy', 'Bones', \"'s\", 'chest', ',', 'but', 'an', 'accurate', 'copy', ',', 'complete', 'in', 'all', 'things', '--', 'names', 'and', 'heights', 'and', 'soundings', '--', 'with', 'the', 'single', 'exception', 'of', 'the', 'red', 'crosses', 'and', 'the', 'written', 'notes', '.']\n"
          ],
          "name": "stdout"
        }
      ]
    },
    {
      "cell_type": "code",
      "metadata": {
        "colab": {
          "base_uri": "https://localhost:8080/"
        },
        "id": "uf3ERyVelqku",
        "outputId": "3105076b-eb9c-4919-e948-4ae3bfe9efd0"
      },
      "source": [
        "print([s.stem(w) for w in words])"
      ],
      "execution_count": null,
      "outputs": [
        {
          "output_type": "stream",
          "text": [
            "['thi', 'wa', 'not', 'the', 'map', 'we', 'found', 'in', 'billi', 'bone', \"'s\", 'chest', ',', 'but', 'an', 'accur', 'copi', ',', 'complet', 'in', 'all', 'thing', '--', 'name', 'and', 'height', 'and', 'sound', '--', 'with', 'the', 'singl', 'except', 'of', 'the', 'red', 'cross', 'and', 'the', 'written', 'note', '.']\n"
          ],
          "name": "stdout"
        }
      ]
    },
    {
      "cell_type": "markdown",
      "metadata": {
        "id": "BAQXJ6_Tlsq5"
      },
      "source": [
        "위의 알고리즘의 결과에는 사전에 없는 단어들도 포함되어 있습니다. 위의 어간 추출은 단순 규칙에 기반하여 이루어지기 때문입니다.\n",
        "\n",
        "가령, 포터 알고리즘의 어간 추출은 이러한 규칙들을 가집니다.\n",
        "\n",
        "ALIZE → AL\n",
        "\n",
        "ANCE → 제거\n",
        "\n",
        "ICAL → IC"
      ]
    },
    {
      "cell_type": "code",
      "metadata": {
        "colab": {
          "base_uri": "https://localhost:8080/"
        },
        "id": "XBH9wDY8lvz7",
        "outputId": "ba5412cd-02fa-4a7b-e192-4c794ac559ee"
      },
      "source": [
        "words=['formalize', 'allowance', 'electricical']\n",
        "print([s.stem(w) for w in words])"
      ],
      "execution_count": null,
      "outputs": [
        {
          "output_type": "stream",
          "text": [
            "['formal', 'allow', 'electric']\n"
          ],
          "name": "stdout"
        }
      ]
    },
    {
      "cell_type": "markdown",
      "metadata": {
        "id": "U3MBpIPRly3c"
      },
      "source": [
        "위의 규칙에 따라서 다음과 같은 결과가 나옵니다.\n",
        "\n",
        "formalize → formal\n",
        "\n",
        "allowance → allow\n",
        "\n",
        "electricical → electric\n",
        "\n",
        "어간 추출 속도는 표제어 추출보다 일반적으로 빠른데, 포터 어간 추출기는 정밀하게 설계되어 정확도가 높으므로 영어 자연어 처리에서 어간 추출을 하고자 한다면 가장 준수한 선택입니다. NLTK에서는 포터 알고리즘 외에도 랭커스터 스태머(Lancaster Stemmer) 알고리즘을 지원합니다."
      ]
    },
    {
      "cell_type": "code",
      "metadata": {
        "colab": {
          "base_uri": "https://localhost:8080/"
        },
        "id": "7EsKFMwOlwM3",
        "outputId": "bd54e31d-74ca-4f41-dc69-028e9d0883e5"
      },
      "source": [
        "from nltk.stem import PorterStemmer\n",
        "s=PorterStemmer()\n",
        "words=['policy', 'doing', 'organization', 'have', 'going', 'love', 'lives', 'fly', 'dies', 'watched', 'has', 'starting']\n",
        "print([s.stem(w) for w in words])"
      ],
      "execution_count": null,
      "outputs": [
        {
          "output_type": "stream",
          "text": [
            "['polici', 'do', 'organ', 'have', 'go', 'love', 'live', 'fli', 'die', 'watch', 'ha', 'start']\n"
          ],
          "name": "stdout"
        }
      ]
    },
    {
      "cell_type": "code",
      "metadata": {
        "colab": {
          "base_uri": "https://localhost:8080/"
        },
        "id": "5X1eiQe4lwPf",
        "outputId": "a063004e-1dc3-43c3-a752-f8b76c40fc44"
      },
      "source": [
        "from nltk.stem import LancasterStemmer\n",
        "l=LancasterStemmer()\n",
        "words=['policy', 'doing', 'organization', 'have', 'going', 'love', 'lives', 'fly', 'dies', 'watched', 'has', 'starting']\n",
        "print([l.stem(w) for w in words])"
      ],
      "execution_count": null,
      "outputs": [
        {
          "output_type": "stream",
          "text": [
            "['policy', 'doing', 'org', 'hav', 'going', 'lov', 'liv', 'fly', 'die', 'watch', 'has', 'start']\n"
          ],
          "name": "stdout"
        }
      ]
    },
    {
      "cell_type": "markdown",
      "metadata": {
        "id": "A55t7Xa9l-h1"
      },
      "source": [
        "동일한 단어들의 나열에 대해서 두 스태머는 전혀 다른 결과를 보여줍니다. 두 스태머 알고리즘은 서로 다른 알고리즘을 사용하기 때문입니다. 그렇기 때문에 이미 알려진 알고리즘을 사용할 때는, 사용하고자 하는 코퍼스에 스태머를 적용해보고 어떤 스태머가 해당 코퍼스에 적합한지를 판단한 후에 사용하여야 합니다.\n",
        "\n",
        "## 한국어에서의 어간 추출\n",
        "\n",
        "![image.png](data:image/png;base64,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)"
      ]
    },
    {
      "cell_type": "markdown",
      "metadata": {
        "id": "fWXeolOW3wKo"
      },
      "source": [
        "# 불용어(Stopwords) 제거\n",
        "\n",
        "갖고 있는 데이터에서 유의미한 단어 토큰만을 선별하기 위해서는 큰 의미가 없는 단어 토큰을 제거하는 작업이 필요합니다. 여기서 큰 의미가 없다라는 것은 자주 등장하지만 분석을 하는 것에 있어서는 큰 도움이 되지 않는 단어들을 말합니다. 예를 들면, I, my, me, over, 조사, 접미사 같은 단어들은 문장에서는 자주 등장하지만 실제 의미 분석을 하는데는 거의 기여하는 바가 없는 경우가 있습니다. 이러한 단어들을 불용어(stopword)라고 하며, NLTK에서는 위와 같은 100여개 이상의 영어 단어들을 불용어로 패키지 내에서 미리 정의하고 있습니다."
      ]
    },
    {
      "cell_type": "code",
      "metadata": {
        "colab": {
          "base_uri": "https://localhost:8080/"
        },
        "id": "DmvmcDWI3u_x",
        "outputId": "be1e7fd9-a5b7-4f70-de28-33d8f4f3b5cc"
      },
      "source": [
        "import nltk\n",
        "nltk.download('stopwords')"
      ],
      "execution_count": null,
      "outputs": [
        {
          "output_type": "stream",
          "text": [
            "[nltk_data] Downloading package stopwords to /root/nltk_data...\n",
            "[nltk_data]   Unzipping corpora/stopwords.zip.\n"
          ],
          "name": "stdout"
        },
        {
          "output_type": "execute_result",
          "data": {
            "text/plain": [
              "True"
            ]
          },
          "metadata": {
            "tags": []
          },
          "execution_count": 26
        }
      ]
    },
    {
      "cell_type": "code",
      "metadata": {
        "colab": {
          "base_uri": "https://localhost:8080/"
        },
        "id": "XoWylmJV3zY4",
        "outputId": "8b1b3715-866b-4d26-a262-34847dc5f699"
      },
      "source": [
        "print('영어 stop words 갯수:',len(nltk.corpus.stopwords.words('english')))\n",
        "print(nltk.corpus.stopwords.words('english')[:20])"
      ],
      "execution_count": null,
      "outputs": [
        {
          "output_type": "stream",
          "text": [
            "영어 stop words 갯수: 179\n",
            "['i', 'me', 'my', 'myself', 'we', 'our', 'ours', 'ourselves', 'you', \"you're\", \"you've\", \"you'll\", \"you'd\", 'your', 'yours', 'yourself', 'yourselves', 'he', 'him', 'his']\n"
          ],
          "name": "stdout"
        }
      ]
    },
    {
      "cell_type": "code",
      "metadata": {
        "colab": {
          "base_uri": "https://localhost:8080/"
        },
        "id": "oz_VLM8V33Co",
        "outputId": "bf68402c-d4c1-45c1-9af4-2bde07590024"
      },
      "source": [
        "import nltk\n",
        "\n",
        "stopwords = nltk.corpus.stopwords.words('english')\n",
        "all_tokens = []\n",
        "# 위 예제의 3개의 문장별로 얻은 word_tokens list 에 대해 stop word 제거 Loop\n",
        "for sentence in word_tokens:\n",
        "    filtered_words=[]\n",
        "    # 개별 문장별로 tokenize된 sentence list에 대해 stop word 제거 Loop\n",
        "    for word in sentence:\n",
        "        #소문자로 모두 변환합니다. \n",
        "        word = word.lower()\n",
        "        # tokenize 된 개별 word가 stop words 들의 단어에 포함되지 않으면 word_tokens에 추가\n",
        "        if word not in stopwords:\n",
        "            filtered_words.append(word)\n",
        "    all_tokens.append(filtered_words)\n",
        "    \n",
        "print(all_tokens)"
      ],
      "execution_count": null,
      "outputs": [
        {
          "output_type": "stream",
          "text": [
            "[['matrix', 'everywhere', 'around', 'us', ',', 'even', 'room', '.'], ['see', 'window', 'television', '.'], ['feel', 'go', 'work', ',', 'go', 'church', 'pay', 'taxes', '.']]\n"
          ],
          "name": "stdout"
        }
      ]
    },
    {
      "cell_type": "markdown",
      "metadata": {
        "id": "-KEdiA8dmato"
      },
      "source": [
        "- 한국어에서 불용어 제거하기"
      ]
    },
    {
      "cell_type": "code",
      "metadata": {
        "colab": {
          "base_uri": "https://localhost:8080/"
        },
        "id": "nYUTBGE7lwSr",
        "outputId": "88018467-9d79-4935-a44e-da20094d3bec"
      },
      "source": [
        "from nltk.corpus import stopwords \n",
        "from nltk.tokenize import word_tokenize \n",
        "\n",
        "example = \"고기를 아무렇게나 구우려고 하면 안 돼. 고기라고 다 같은 게 아니거든. 예컨대 삼겹살을 구울 때는 중요한 게 있지.\"\n",
        "stop_words = \"아무거나 아무렇게나 어찌하든지 같다 비슷하다 예컨대 이럴정도로 하면 아니거든\"\n",
        "# 위의 불용어는 명사가 아닌 단어 중에서 저자가 임의로 선정한 것으로 실제 의미있는 선정 기준이 아님\n",
        "stop_words=stop_words.split(' ')\n",
        "word_tokens = word_tokenize(example)\n",
        "\n",
        "result = [] \n",
        "for w in word_tokens: \n",
        "    if w not in stop_words: \n",
        "        result.append(w) \n",
        "# 위의 4줄은 아래의 한 줄로 대체 가능\n",
        "# result=[word for word in word_tokens if not word in stop_words]\n",
        "\n",
        "print(word_tokens) \n",
        "print(result)"
      ],
      "execution_count": null,
      "outputs": [
        {
          "output_type": "stream",
          "text": [
            "['고기를', '아무렇게나', '구우려고', '하면', '안', '돼', '.', '고기라고', '다', '같은', '게', '아니거든', '.', '예컨대', '삼겹살을', '구울', '때는', '중요한', '게', '있지', '.']\n",
            "['고기를', '구우려고', '안', '돼', '.', '고기라고', '다', '같은', '게', '.', '삼겹살을', '구울', '때는', '중요한', '게', '있지', '.']\n"
          ],
          "name": "stdout"
        }
      ]
    },
    {
      "cell_type": "markdown",
      "metadata": {
        "id": "b3q068w6mjnX"
      },
      "source": [
        "# 정규 표현식(Regular Expression)\n",
        "\n",
        "1)정규 표현식 문법\n",
        "\n",
        "\n",
        "<figure>\n",
        "<img src = 'https://miro.medium.com/max/700/1*Y-q0dkUClSW0dX6uuysnJQ.png'>\n",
        "<figure>\n",
        "\n",
        "<figure>\n",
        "<img src = 'https://miro.medium.com/max/700/1*c__WeRlFyGY_-7LeKQkNnQ.png'>\n",
        "<figure>\n",
        "\n"
      ]
    },
    {
      "cell_type": "markdown",
      "metadata": {
        "id": "DJdmfWnvnXkU"
      },
      "source": [
        "<figure>\n",
        "<img src = 'https://miro.medium.com/max/661/1*6pIp6zuIoRHUOXjEDDUNCA.png'>\n",
        "<figure>"
      ]
    },
    {
      "cell_type": "markdown",
      "metadata": {
        "id": "FOJwqo3YnoPW"
      },
      "source": [
        "## 정규 표현식 실습\n",
        "\n",
        "1) .은 한 개의 임의의 문자를 나타낸다. 예를 들어 정규 표현식이 a.c라고 한다면, a와 c사이에 어떤 1개의 문자라도 올 수 있다는 뜻이다."
      ]
    },
    {
      "cell_type": "code",
      "metadata": {
        "colab": {
          "base_uri": "https://localhost:8080/"
        },
        "id": "yWAKfa_XlwVs",
        "outputId": "c23b4d2a-69a2-4408-f1bc-ec3e119c9dca"
      },
      "source": [
        "import re\n",
        "r = re.compile(\"a.c\")\n",
        "r.search(\"kkk\")\n",
        "# 아무런 결과도 출력되지 않는다.\n",
        "r.search(\"abc\")"
      ],
      "execution_count": null,
      "outputs": [
        {
          "output_type": "execute_result",
          "data": {
            "text/plain": [
              "<re.Match object; span=(0, 3), match='abc'>"
            ]
          },
          "metadata": {
            "tags": []
          },
          "execution_count": 30
        }
      ]
    },
    {
      "cell_type": "markdown",
      "metadata": {
        "id": "JrXq0RyVnvvE"
      },
      "source": [
        "2) ?\n",
        "\n",
        "?는 ? 앞의 문자가 존재할 수도 있고, 존재하지 않을 수도 있는 경우를 나타낸다. 예를 들어서 정규 표현식이 ab?c라고 한다면, b는 있다고 취급할 수도 있고 없다고 취급할 수도 있다. 즉, abc와 ac 모두 매치할 수 있다.\n"
      ]
    },
    {
      "cell_type": "code",
      "metadata": {
        "colab": {
          "base_uri": "https://localhost:8080/"
        },
        "id": "ucM6z0vbnvGQ",
        "outputId": "d7d93d5e-b9fe-4ed3-ed2e-6c8b91abb191"
      },
      "source": [
        "r = re.compile(\"ab?c\")\n",
        "r.search(\"abbc\")\n",
        "# 아무것도 출력되지 않음\n",
        "r.search(\"abc\")\n",
        "# b가 있는 것으로 판단하여 abc를 매치함."
      ],
      "execution_count": null,
      "outputs": [
        {
          "output_type": "execute_result",
          "data": {
            "text/plain": [
              "<re.Match object; span=(0, 3), match='abc'>"
            ]
          },
          "metadata": {
            "tags": []
          },
          "execution_count": 31
        }
      ]
    },
    {
      "cell_type": "code",
      "metadata": {
        "colab": {
          "base_uri": "https://localhost:8080/"
        },
        "id": "mEBFlSaJn0aQ",
        "outputId": "22e194e1-238a-44ea-c063-52694e23dc35"
      },
      "source": [
        "r.search(\"ac\")\n",
        "# b가 없는 것으로 판단하여 ac를 매치함."
      ],
      "execution_count": null,
      "outputs": [
        {
          "output_type": "execute_result",
          "data": {
            "text/plain": [
              "<re.Match object; span=(0, 2), match='ac'>"
            ]
          },
          "metadata": {
            "tags": []
          },
          "execution_count": 32
        }
      ]
    },
    {
      "cell_type": "markdown",
      "metadata": {
        "id": "LFr7rlCUn6BM"
      },
      "source": [
        "3) * 기호\n",
        "\n",
        "\n",
        "*은 바로 앞의 문자가 0개 이상일 경우를 나타낸다. 앞의 문자는 존재하지 않을 수도 있으며, 또는 여러 개일 수도 있다. 예를 들어 정규 표현식이 abc라고 한다면 ac, abc, abbc, abbbc 등과 매치할 수 있다.\n"
      ]
    },
    {
      "cell_type": "code",
      "metadata": {
        "id": "7CiNe8Fpn5L4"
      },
      "source": [
        "r = re.compile(\"ab*c\")\n",
        "r.search(\"a\")\n",
        "# 아무것도 출력되지 않음."
      ],
      "execution_count": null,
      "outputs": []
    },
    {
      "cell_type": "code",
      "metadata": {
        "colab": {
          "base_uri": "https://localhost:8080/"
        },
        "id": "q13_T3don5OR",
        "outputId": "40e447bd-58df-4644-d3cc-070c4ff385a2"
      },
      "source": [
        "r.search(\"ac\")"
      ],
      "execution_count": null,
      "outputs": [
        {
          "output_type": "execute_result",
          "data": {
            "text/plain": [
              "<re.Match object; span=(0, 2), match='ac'>"
            ]
          },
          "metadata": {
            "tags": []
          },
          "execution_count": 34
        }
      ]
    },
    {
      "cell_type": "code",
      "metadata": {
        "colab": {
          "base_uri": "https://localhost:8080/"
        },
        "id": "PZB6GP8zn5SU",
        "outputId": "ba3fa160-2b77-46af-c2f5-56dde206d7af"
      },
      "source": [
        "r.search(\"abc\")"
      ],
      "execution_count": null,
      "outputs": [
        {
          "output_type": "execute_result",
          "data": {
            "text/plain": [
              "<re.Match object; span=(0, 3), match='abc'>"
            ]
          },
          "metadata": {
            "tags": []
          },
          "execution_count": 35
        }
      ]
    },
    {
      "cell_type": "code",
      "metadata": {
        "colab": {
          "base_uri": "https://localhost:8080/"
        },
        "id": "BVGmeToLn5Vb",
        "outputId": "fc2a83d3-6101-45fb-9eae-362f4fc3265f"
      },
      "source": [
        "r.search(\"abbc\")"
      ],
      "execution_count": null,
      "outputs": [
        {
          "output_type": "execute_result",
          "data": {
            "text/plain": [
              "<re.Match object; span=(0, 4), match='abbc'>"
            ]
          },
          "metadata": {
            "tags": []
          },
          "execution_count": 36
        }
      ]
    },
    {
      "cell_type": "markdown",
      "metadata": {
        "id": "ZSkU7IyWoA1h"
      },
      "source": [
        "4) + 기호\n",
        "\n",
        "+는 *와 유사하다. 하지만 다른 점은 앞의 문자가 최소 1개 이상이어야 한다. 예를 들어 ab+c라고 하면, ac는 매치되지 않는다."
      ]
    },
    {
      "cell_type": "code",
      "metadata": {
        "colab": {
          "base_uri": "https://localhost:8080/"
        },
        "id": "ErjEqSScn5ZN",
        "outputId": "f4d07992-9197-4c5e-dd7d-9232ef39bcaf"
      },
      "source": [
        "r = re.compile('ab+c')\n",
        "r.search(\"ac\")\n",
        "# 아무것도 출력되지 않는다.\n",
        "\n",
        "r.search(\"abc\")"
      ],
      "execution_count": null,
      "outputs": [
        {
          "output_type": "execute_result",
          "data": {
            "text/plain": [
              "<re.Match object; span=(0, 3), match='abc'>"
            ]
          },
          "metadata": {
            "tags": []
          },
          "execution_count": 37
        }
      ]
    },
    {
      "cell_type": "markdown",
      "metadata": {
        "id": "UecA1Y3OoGlE"
      },
      "source": [
        "5) ^ 기호\n",
        "\n",
        "^는 시작되는 글자를 지정한다. 가령 정규표현식이 ^a라면 a로 시작되는 문자열만을 찾아낸다."
      ]
    },
    {
      "cell_type": "code",
      "metadata": {
        "colab": {
          "base_uri": "https://localhost:8080/"
        },
        "id": "e5WNrSLUn5cB",
        "outputId": "43c9f8c8-53f0-4ab7-d586-4d620581cf5d"
      },
      "source": [
        "r = re.compile('^a')\n",
        "r.search('bbc')\n",
        "# 아무것도 출력되지 않음\n",
        "r.search('ab')"
      ],
      "execution_count": null,
      "outputs": [
        {
          "output_type": "execute_result",
          "data": {
            "text/plain": [
              "<re.Match object; span=(0, 1), match='a'>"
            ]
          },
          "metadata": {
            "tags": []
          },
          "execution_count": 38
        }
      ]
    },
    {
      "cell_type": "markdown",
      "metadata": {
        "id": "GqVYqmPdoKs9"
      },
      "source": [
        "6) {숫자} 기호\n",
        "\n",
        "문자에 해당 기호를 붙이면, 해당 문자를 숫자만큼 반복한 것을 나타낸다. 예를 들어 정규 표현식이 ab{2}c라면 a와 c사이에 b가 존재하면서 b가 2개인 문자열에 대해서 매치한다."
      ]
    },
    {
      "cell_type": "code",
      "metadata": {
        "colab": {
          "base_uri": "https://localhost:8080/"
        },
        "id": "FOqSSzqVn5eh",
        "outputId": "d597ee50-9254-4f13-d0a0-50e2e025f519"
      },
      "source": [
        "r = re.compile(\"ab{2}c\")\n",
        "r.search(\"ac\")\n",
        "# 아무것도 출력되지 않는다.\n",
        "r.search(\"abc\")\n",
        "# 아무것도 출력되지 않는다.\n",
        "r.search(\"abbc\")"
      ],
      "execution_count": null,
      "outputs": [
        {
          "output_type": "execute_result",
          "data": {
            "text/plain": [
              "<re.Match object; span=(0, 4), match='abbc'>"
            ]
          },
          "metadata": {
            "tags": []
          },
          "execution_count": 39
        }
      ]
    },
    {
      "cell_type": "code",
      "metadata": {
        "id": "6rKFOAa-n5iT"
      },
      "source": [
        "r.search(\"abbbbbc\")"
      ],
      "execution_count": null,
      "outputs": []
    },
    {
      "cell_type": "markdown",
      "metadata": {
        "id": "xZcFPFygoZa7"
      },
      "source": [
        "7) {숫자1, 숫자2} 기호\n",
        "\n",
        "문자에 해당 기호를 붙이면, 해당 문자를 숫자1 이상 숫자2 이하만큼 반복한다. 예를 들어 정규 표현식이 ab{2,8}c라면 a와 c사이에 b가 존재하면서 b는 2개 이상 8개 이하인 문자열에 대해서 매치한다."
      ]
    },
    {
      "cell_type": "code",
      "metadata": {
        "colab": {
          "base_uri": "https://localhost:8080/"
        },
        "id": "dETY6f16oQ4N",
        "outputId": "3a4d1aa9-3aaa-4aa8-958b-62bcf650f934"
      },
      "source": [
        "r = re.compile(\"ab{2,8}c\")\n",
        "r.search('ac')\n",
        "# 아무런 결과도 출력되지 않음\n",
        "r.search(\"abc\")\n",
        "# 아무런 결과도 출력되지 않음\n",
        "r.search(\"abbc\")"
      ],
      "execution_count": null,
      "outputs": [
        {
          "output_type": "execute_result",
          "data": {
            "text/plain": [
              "<re.Match object; span=(0, 4), match='abbc'>"
            ]
          },
          "metadata": {
            "tags": []
          },
          "execution_count": 41
        }
      ]
    },
    {
      "cell_type": "code",
      "metadata": {
        "colab": {
          "base_uri": "https://localhost:8080/"
        },
        "id": "pSy5xqYkoQ63",
        "outputId": "a14f3277-16d7-43e0-a5c1-63032a56916f"
      },
      "source": [
        "r.search(\"abbbbc\")"
      ],
      "execution_count": null,
      "outputs": [
        {
          "output_type": "execute_result",
          "data": {
            "text/plain": [
              "<re.Match object; span=(0, 6), match='abbbbc'>"
            ]
          },
          "metadata": {
            "tags": []
          },
          "execution_count": 42
        }
      ]
    },
    {
      "cell_type": "code",
      "metadata": {
        "id": "yYt_Z16NoQ9l"
      },
      "source": [
        "r.search(\"abbbbbbbbbbbbbc\")"
      ],
      "execution_count": null,
      "outputs": []
    },
    {
      "cell_type": "markdown",
      "metadata": {
        "id": "MphGl8jQoht6"
      },
      "source": [
        "8) {숫자,} 기호\n",
        "\n",
        "문자에 해당 기호를 붙이면 해당 문자를 숫자 이상만큼 반복한다. 예를 들어 정규 표현식이 a{2,}bc라면 뒤에 bc가 붙으면서 a의 갯수가 2개 이상인 경우인 문자열과 매치한다. 또한 만약 {0,}을 쓴다면 *와 동일한 의미가 되며, {1,}을 쓴다면 +와 동일한 의미가 된다."
      ]
    },
    {
      "cell_type": "code",
      "metadata": {
        "colab": {
          "base_uri": "https://localhost:8080/"
        },
        "id": "xYDNKfksoRAM",
        "outputId": "595e8a9e-39fb-4e7d-f908-ffc069283fbb"
      },
      "source": [
        "r = re.compile(\"a{2,}bc\")\n",
        "r.search(\"bc\")\n",
        "# 아무런 결과도 출력되지 않음\n",
        "r.search(\"aa\")\n",
        "# 아무런 결과도 출력되지 않음\n",
        "r.search(\"aabc\")"
      ],
      "execution_count": null,
      "outputs": [
        {
          "output_type": "execute_result",
          "data": {
            "text/plain": [
              "<re.Match object; span=(0, 4), match='aabc'>"
            ]
          },
          "metadata": {
            "tags": []
          },
          "execution_count": 44
        }
      ]
    },
    {
      "cell_type": "code",
      "metadata": {
        "colab": {
          "base_uri": "https://localhost:8080/"
        },
        "id": "GMS5yC4PoRC2",
        "outputId": "e5cb4852-84e3-4f97-eb45-3adddcc86b04"
      },
      "source": [
        "r.search(\"aaaaabc\")"
      ],
      "execution_count": null,
      "outputs": [
        {
          "output_type": "execute_result",
          "data": {
            "text/plain": [
              "<re.Match object; span=(0, 7), match='aaaaabc'>"
            ]
          },
          "metadata": {
            "tags": []
          },
          "execution_count": 45
        }
      ]
    },
    {
      "cell_type": "markdown",
      "metadata": {
        "id": "95LIGxFfopJZ"
      },
      "source": [
        "9) [] 기호\n",
        "\n",
        "[]안에 문자들을 넣으면 그 문자들 중 한 개의 문자와 매치라는 의미를 가진다. 예를 들어 정규 표현식이 [abc]라면, a 또는 b 또는 c가 들어가 있는 문자열과 매치된다. 범위를 지정하는 것도 가능하다. [a-zA-Z]는 알파벳 전부를 의미하며, [0–9]는 숫자 전부를 의미한다."
      ]
    },
    {
      "cell_type": "code",
      "metadata": {
        "colab": {
          "base_uri": "https://localhost:8080/"
        },
        "id": "IV1ubrIcoRFe",
        "outputId": "a45e442a-a940-4bd5-9077-7802888bcbcb"
      },
      "source": [
        "r = re.compile(\"[abc]\")\n",
        "r.search('zzz')\n",
        "# 아무것도 출력되지 않음\n",
        "r.search('a')"
      ],
      "execution_count": null,
      "outputs": [
        {
          "output_type": "execute_result",
          "data": {
            "text/plain": [
              "<re.Match object; span=(0, 1), match='a'>"
            ]
          },
          "metadata": {
            "tags": []
          },
          "execution_count": 46
        }
      ]
    },
    {
      "cell_type": "code",
      "metadata": {
        "colab": {
          "base_uri": "https://localhost:8080/"
        },
        "id": "5VdzaHtYoRJy",
        "outputId": "95dc7b91-fd95-41a3-ebf0-03d5f45e0f24"
      },
      "source": [
        "r.search('acg')"
      ],
      "execution_count": null,
      "outputs": [
        {
          "output_type": "execute_result",
          "data": {
            "text/plain": [
              "<re.Match object; span=(0, 1), match='a'>"
            ]
          },
          "metadata": {
            "tags": []
          },
          "execution_count": 47
        }
      ]
    },
    {
      "cell_type": "code",
      "metadata": {
        "colab": {
          "base_uri": "https://localhost:8080/"
        },
        "id": "cj_txezzot9l",
        "outputId": "f7a0152a-9a03-40dc-88f2-fd3bb53f209a"
      },
      "source": [
        "r.search('babo')"
      ],
      "execution_count": null,
      "outputs": [
        {
          "output_type": "execute_result",
          "data": {
            "text/plain": [
              "<re.Match object; span=(0, 1), match='b'>"
            ]
          },
          "metadata": {
            "tags": []
          },
          "execution_count": 48
        }
      ]
    },
    {
      "cell_type": "markdown",
      "metadata": {
        "id": "umeVgS7Uownl"
      },
      "source": [
        "이번에는 알파벳 소문자에 대해서만 범위를 지정하여 정규표현식을 만들어보고 문자열과 매치한다."
      ]
    },
    {
      "cell_type": "code",
      "metadata": {
        "colab": {
          "base_uri": "https://localhost:8080/"
        },
        "id": "bE4DTmOyouBM",
        "outputId": "66bf2b91-ad3f-4e7c-fa62-7755be74d977"
      },
      "source": [
        "r = re.compile(\"[a-z]\")\n",
        "r.search('AAA')\n",
        "# 아무것도 출력되지 않음\n",
        "r.search('aA')"
      ],
      "execution_count": null,
      "outputs": [
        {
          "output_type": "execute_result",
          "data": {
            "text/plain": [
              "<re.Match object; span=(0, 1), match='a'>"
            ]
          },
          "metadata": {
            "tags": []
          },
          "execution_count": 49
        }
      ]
    },
    {
      "cell_type": "markdown",
      "metadata": {
        "id": "LwDQcJEPpAMv"
      },
      "source": [
        "10) [^문자]기호\n",
        "\n",
        "[^문자]는 5)에서 설명한 ^와는 완전히 다른 의미로 쓰인다. 여기서는 ^ 기호 뒤에 붙은 문자들을 제외한 모든 문자를 매치하는 역할을 한다. 예를 들어 [^abc]라는 정규 표현식이 있다면, a 또는 b 또는 c가 들어간 문자열을 제외한 모든 문자열을 매치한다."
      ]
    },
    {
      "cell_type": "code",
      "metadata": {
        "colab": {
          "base_uri": "https://localhost:8080/"
        },
        "id": "6khEjAygouEM",
        "outputId": "c022ebbf-9dfd-4626-8566-59b51ed3177e"
      },
      "source": [
        "r = re.compile('[^abc]')\n",
        "r.search(\"a\")\n",
        "# 아무것도 출력되지 않음\n",
        "r.search(\"ahoho\")"
      ],
      "execution_count": null,
      "outputs": [
        {
          "output_type": "execute_result",
          "data": {
            "text/plain": [
              "<re.Match object; span=(1, 2), match='h'>"
            ]
          },
          "metadata": {
            "tags": []
          },
          "execution_count": 50
        }
      ]
    },
    {
      "cell_type": "code",
      "metadata": {
        "colab": {
          "base_uri": "https://localhost:8080/"
        },
        "id": "EIZKaAHpouIH",
        "outputId": "8d26c50e-d1e3-4b7c-ae78-f111a4b68396"
      },
      "source": [
        "r.search(\"1st\")"
      ],
      "execution_count": null,
      "outputs": [
        {
          "output_type": "execute_result",
          "data": {
            "text/plain": [
              "<re.Match object; span=(0, 1), match='1'>"
            ]
          },
          "metadata": {
            "tags": []
          },
          "execution_count": 51
        }
      ]
    },
    {
      "cell_type": "markdown",
      "metadata": {
        "id": "s24N9GSQpHiP"
      },
      "source": [
        "# 정규 표현식 모듈 함수 예제\n",
        "\n",
        "re.compile()과 re.search() 이외에도 다른 여러 정규 표현식 모듈 함수에 대해서 알아보자.\n",
        "\n",
        "\n",
        "### (1) re.match()와 re.search()의 차이\n",
        "\n",
        "search()가 정규 표현식 전체에 대해서 문자열이 매치하는지를 본다면, match()는 문자열의 첫 부분부터 정규표현식과 매치하는지를 확인한다. 문자열 중간에 찾을 패턴이 있다고 하더라도, match 함수는 문자열의 시작에서 패턴이 일치하지 않으면 찾지 않는다."
      ]
    },
    {
      "cell_type": "code",
      "metadata": {
        "colab": {
          "base_uri": "https://localhost:8080/"
        },
        "id": "jo7NJ8FFpGkx",
        "outputId": "b9e103d3-aa65-4a9b-84c4-a7232e29d04b"
      },
      "source": [
        "r = re.compile(\"ab.\")\n",
        "r.search(\"kkkabc\")"
      ],
      "execution_count": null,
      "outputs": [
        {
          "output_type": "execute_result",
          "data": {
            "text/plain": [
              "<re.Match object; span=(3, 6), match='abc'>"
            ]
          },
          "metadata": {
            "tags": []
          },
          "execution_count": 52
        }
      ]
    },
    {
      "cell_type": "code",
      "metadata": {
        "id": "F26A2vvVpUTP"
      },
      "source": [
        "r.match(\"kkkabc\")\n",
        "# 아무것도 출력되지 않음"
      ],
      "execution_count": null,
      "outputs": []
    },
    {
      "cell_type": "code",
      "metadata": {
        "colab": {
          "base_uri": "https://localhost:8080/"
        },
        "id": "3JOMnM1QpW7D",
        "outputId": "e70cdee6-7933-4b7c-989f-0a62cdaa2173"
      },
      "source": [
        "r.match(\"abckkk\")"
      ],
      "execution_count": null,
      "outputs": [
        {
          "output_type": "execute_result",
          "data": {
            "text/plain": [
              "<re.Match object; span=(0, 3), match='abc'>"
            ]
          },
          "metadata": {
            "tags": []
          },
          "execution_count": 54
        }
      ]
    },
    {
      "cell_type": "markdown",
      "metadata": {
        "id": "ON2l63kepQ9c"
      },
      "source": [
        "위의 경우 ab.이기 때문에 ab뒤에 어떤 한 글자가 존재할 수 있다는 패턴을 의미한다. search 모듈 함수에 kkkabc라는 문자열을 넣어 매치되는지 확인한다면 abc라는 문자열에서 매치되어 Match object를 리턴한다. 하지만 match 모듈 함수의 경우 앞 부분이 ab.와 매치되지 않기 때문에, 아무런 결과도 출력하지 않는다. 하지만 abckkk로 시도하면 시작 부분과 매치되었기 때문에 정상적으로 Match object를 리턴한다."
      ]
    },
    {
      "cell_type": "markdown",
      "metadata": {
        "id": "5xsVXDAvpZVq"
      },
      "source": [
        "### (2) re.split()\n",
        "split() 함수는 입력된 정규 표현식을 기준으로 문자열들을 분리하여 리스트로 리턴한다. 자연어 처리에 있어서 가장 많이 사용되는 정규 표현식 함수 중 하나인데, 토큰화에 유용하게 쓰일 수 있기 때문이다."
      ]
    },
    {
      "cell_type": "code",
      "metadata": {
        "colab": {
          "base_uri": "https://localhost:8080/"
        },
        "id": "eBqfSX0UpGn9",
        "outputId": "0538f083-db6e-4c59-fbdf-77ce28f48c11"
      },
      "source": [
        "text = \"사과 딸기 수박 멜론 바나나\"\n",
        "re.split(\" \",text)"
      ],
      "execution_count": null,
      "outputs": [
        {
          "output_type": "execute_result",
          "data": {
            "text/plain": [
              "['사과', '딸기', '수박', '멜론', '바나나']"
            ]
          },
          "metadata": {
            "tags": []
          },
          "execution_count": 55
        }
      ]
    },
    {
      "cell_type": "code",
      "metadata": {
        "colab": {
          "base_uri": "https://localhost:8080/"
        },
        "id": "AgBvcTRPpGt8",
        "outputId": "49594b7a-1e4a-4611-bcb9-4f88a46f1a4a"
      },
      "source": [
        "text = \"\"\"사과\n",
        "딸기\n",
        "수박\n",
        "멜론\n",
        "바나나\"\"\"\n",
        "re.split(\"\\n\", text)"
      ],
      "execution_count": null,
      "outputs": [
        {
          "output_type": "execute_result",
          "data": {
            "text/plain": [
              "['사과', '딸기', '수박', '멜론', '바나나']"
            ]
          },
          "metadata": {
            "tags": []
          },
          "execution_count": 56
        }
      ]
    },
    {
      "cell_type": "code",
      "metadata": {
        "colab": {
          "base_uri": "https://localhost:8080/"
        },
        "id": "KnQw92xFpG0I",
        "outputId": "1cfacb11-0d4d-4b03-820b-13d030a3cab7"
      },
      "source": [
        "text = \"사과+딸기+수박+멜론+바나나\"\n",
        "re.split(\"\\+\", text)"
      ],
      "execution_count": null,
      "outputs": [
        {
          "output_type": "execute_result",
          "data": {
            "text/plain": [
              "['사과', '딸기', '수박', '멜론', '바나나']"
            ]
          },
          "metadata": {
            "tags": []
          },
          "execution_count": 57
        }
      ]
    },
    {
      "cell_type": "markdown",
      "metadata": {
        "id": "kg2aGh9Wpfoi"
      },
      "source": [
        "### (3) re.findall()\n",
        "\n",
        "findall() 함수는 정규 표현식과 매치되는 모든 문자열들을 리스트로 리턴한다. 단, 매치되는 문자열이 없다면 빈 리스트를 리턴한다."
      ]
    },
    {
      "cell_type": "code",
      "metadata": {
        "colab": {
          "base_uri": "https://localhost:8080/"
        },
        "id": "oeYg7WNnpG4K",
        "outputId": "15026edb-7770-49aa-db4a-a0cf37c86ca3"
      },
      "source": [
        "text = \"\"\"이름 : 김철수\n",
        "전화번호 : 010 - 1234 - 1234\n",
        "나이 : 30\n",
        "성별 : 남\"\"\"\n",
        "re.findall(\"\\d+\", text)"
      ],
      "execution_count": null,
      "outputs": [
        {
          "output_type": "execute_result",
          "data": {
            "text/plain": [
              "['010', '1234', '1234', '30']"
            ]
          },
          "metadata": {
            "tags": []
          },
          "execution_count": 58
        }
      ]
    },
    {
      "cell_type": "code",
      "metadata": {
        "colab": {
          "base_uri": "https://localhost:8080/"
        },
        "id": "jJKGJOyhpG7p",
        "outputId": "01cd3eba-3660-4725-809d-8bd416f253f3"
      },
      "source": [
        "re.findall(\"\\d+\", \"문자열입니당.\")"
      ],
      "execution_count": null,
      "outputs": [
        {
          "output_type": "execute_result",
          "data": {
            "text/plain": [
              "[]"
            ]
          },
          "metadata": {
            "tags": []
          },
          "execution_count": 59
        }
      ]
    },
    {
      "cell_type": "markdown",
      "metadata": {
        "id": "_vh9SKY2pkls"
      },
      "source": [
        "[]  # 빈 리스트를 리턴했다."
      ]
    },
    {
      "cell_type": "markdown",
      "metadata": {
        "id": "IMvuNMA9pmDz"
      },
      "source": [
        "### (4) re.sub()\n",
        "sub() 함수는 정규 표현식 패턴과 일치하는 문자열을 찾아 다른 문자열로 대체할 수 있다."
      ]
    },
    {
      "cell_type": "code",
      "metadata": {
        "colab": {
          "base_uri": "https://localhost:8080/",
          "height": 55
        },
        "id": "agOy_pS6pG_6",
        "outputId": "262ba749-ec22-437e-ea7f-127daf901336"
      },
      "source": [
        "text=\"Regular expression : A regular expression, regex or regexp[1] (sometimes called a rational expression)[2][3] is, in theoretical computer science and formal language theory, a sequence of characters that define a search pattern.\"\n",
        "re.sub('[^a-zA-Z]',' ',text)"
      ],
      "execution_count": null,
      "outputs": [
        {
          "output_type": "execute_result",
          "data": {
            "application/vnd.google.colaboratory.intrinsic+json": {
              "type": "string"
            },
            "text/plain": [
              "'Regular expression   A regular expression  regex or regexp     sometimes called a rational expression        is  in theoretical computer science and formal language theory  a sequence of characters that define a search pattern '"
            ]
          },
          "metadata": {
            "tags": []
          },
          "execution_count": 60
        }
      ]
    },
    {
      "cell_type": "markdown",
      "metadata": {
        "id": "6ypWDGeuptnH"
      },
      "source": [
        "위와 같은 경우, 영어 문장에 각주 등과 같은 이유로 특수 문자가 섞여 있다. 자연어 처리를 위해 특수 문자를 제거하고 싶다면 알파벳 외의 문자는 공백으로 처리하는 등의 사용 용도로 쓸 수 있다.\n",
        "\n",
        "\n",
        "##5. 정규 표현식 텍스트 전처리 예제"
      ]
    },
    {
      "cell_type": "code",
      "metadata": {
        "colab": {
          "base_uri": "https://localhost:8080/"
        },
        "id": "werXP728pwbr",
        "outputId": "d3aa7f89-2447-459a-905c-78b1cd9b2a09"
      },
      "source": [
        "text = \"\"\"100 John    PROF\n",
        "101 James    STUD\n",
        "102 Mac    STUD\"\"\"\n",
        "re.split('\\s+', text)"
      ],
      "execution_count": null,
      "outputs": [
        {
          "output_type": "execute_result",
          "data": {
            "text/plain": [
              "['100', 'John', 'PROF', '101', 'James', 'STUD', '102', 'Mac', 'STUD']"
            ]
          },
          "metadata": {
            "tags": []
          },
          "execution_count": 61
        }
      ]
    },
    {
      "cell_type": "markdown",
      "metadata": {
        "id": "6wbXUkKRpzg-"
      },
      "source": [
        "'\\s+' 는 공백 여러 개를 기준으로 split한다는 의미."
      ]
    },
    {
      "cell_type": "code",
      "metadata": {
        "colab": {
          "base_uri": "https://localhost:8080/"
        },
        "id": "SW5hRr0jpwsB",
        "outputId": "f3f42e39-e512-4c06-e809-21d1df0d45be"
      },
      "source": [
        "re.findall('\\d+', text)"
      ],
      "execution_count": null,
      "outputs": [
        {
          "output_type": "execute_result",
          "data": {
            "text/plain": [
              "['100', '101', '102']"
            ]
          },
          "metadata": {
            "tags": []
          },
          "execution_count": 62
        }
      ]
    },
    {
      "cell_type": "markdown",
      "metadata": {
        "id": "L2zf6Da5p3m8"
      },
      "source": [
        "'\\d+' 숫자로 이루어진 문자열을 리스트로 반환."
      ]
    },
    {
      "cell_type": "code",
      "metadata": {
        "colab": {
          "base_uri": "https://localhost:8080/"
        },
        "id": "FzITueLxp480",
        "outputId": "b13ad8bc-0734-4dc4-a018-744f090e0b6e"
      },
      "source": [
        "re.findall('[A-Z]', text)"
      ],
      "execution_count": null,
      "outputs": [
        {
          "output_type": "execute_result",
          "data": {
            "text/plain": [
              "['J', 'P', 'R', 'O', 'F', 'J', 'S', 'T', 'U', 'D', 'M', 'S', 'T', 'U', 'D']"
            ]
          },
          "metadata": {
            "tags": []
          },
          "execution_count": 63
        }
      ]
    },
    {
      "cell_type": "markdown",
      "metadata": {
        "id": "GYIgh8kqp64x"
      },
      "source": [
        "대문자에 해당하는 문자를 리스트로 반환. 하지만 PROF, STUD 등을 알고 싶다."
      ]
    },
    {
      "cell_type": "code",
      "metadata": {
        "colab": {
          "base_uri": "https://localhost:8080/"
        },
        "id": "oJ5NciT0pwvz",
        "outputId": "d564c9c2-95ac-488b-f74c-3195e9cd3503"
      },
      "source": [
        "re.findall('[A-Z]{4}',text)"
      ],
      "execution_count": null,
      "outputs": [
        {
          "output_type": "execute_result",
          "data": {
            "text/plain": [
              "['PROF', 'STUD', 'STUD']"
            ]
          },
          "metadata": {
            "tags": []
          },
          "execution_count": 64
        }
      ]
    },
    {
      "cell_type": "code",
      "metadata": {
        "colab": {
          "base_uri": "https://localhost:8080/"
        },
        "id": "Qh4Bddxvpwz3",
        "outputId": "962d84c8-5c24-40e3-dfdd-48b17a614f9f"
      },
      "source": [
        "re.findall('[A-Z][a-z]+', text)"
      ],
      "execution_count": null,
      "outputs": [
        {
          "output_type": "execute_result",
          "data": {
            "text/plain": [
              "['John', 'James', 'Mac']"
            ]
          },
          "metadata": {
            "tags": []
          },
          "execution_count": 65
        }
      ]
    },
    {
      "cell_type": "markdown",
      "metadata": {
        "id": "6k6w4OdBp--3"
      },
      "source": [
        "대문자로 시작하고, 소문자가 이어지는 문자열을 반환 (이름)"
      ]
    },
    {
      "cell_type": "code",
      "metadata": {
        "colab": {
          "base_uri": "https://localhost:8080/",
          "height": 36
        },
        "id": "_5pEyVeJpw28",
        "outputId": "21135a93-a353-48c3-9712-08ce7d3d7fbd"
      },
      "source": [
        "letters_only = re.sub('[^a-zA-Z]', ' ', text)\n",
        "letters_only"
      ],
      "execution_count": null,
      "outputs": [
        {
          "output_type": "execute_result",
          "data": {
            "application/vnd.google.colaboratory.intrinsic+json": {
              "type": "string"
            },
            "text/plain": [
              "'    John    PROF     James    STUD     Mac    STUD'"
            ]
          },
          "metadata": {
            "tags": []
          },
          "execution_count": 66
        }
      ]
    },
    {
      "cell_type": "markdown",
      "metadata": {
        "id": "i6I-N1xlqCLg"
      },
      "source": [
        "영문자가 아닌 문자는 전부 공백으로 치환\n",
        "\n",
        "### 정규 표현식을 이용한 토큰화\n",
        "NLTK에서는 정규 표현식을 사용해서 단어 토큰화를 수행하는 RegexpTokenizer를 지원한다. RegexpTokenizer()에서 괄호 안에 원하는 정규 표현식을 넣어서 토큰화를 수행하는 것이다."
      ]
    },
    {
      "cell_type": "code",
      "metadata": {
        "colab": {
          "base_uri": "https://localhost:8080/"
        },
        "id": "xSoqN-2Lpw6I",
        "outputId": "f28b4230-4edc-4617-e2fc-692384f22d2a"
      },
      "source": [
        "import nltk\n",
        "from nltk.tokenize import RegexpTokenizer\n",
        "tokenizer = RegexpTokenizer(\"[\\w]+\")\n",
        "print(tokenizer.tokenize(\"Don't be fooled by the dark sounding name, Mr. Jone's Orphanage is as cheery as cheery goes for a pastry shop\"))"
      ],
      "execution_count": null,
      "outputs": [
        {
          "output_type": "stream",
          "text": [
            "['Don', 't', 'be', 'fooled', 'by', 'the', 'dark', 'sounding', 'name', 'Mr', 'Jone', 's', 'Orphanage', 'is', 'as', 'cheery', 'as', 'cheery', 'goes', 'for', 'a', 'pastry', 'shop']\n"
          ],
          "name": "stdout"
        }
      ]
    },
    {
      "cell_type": "markdown",
      "metadata": {
        "id": "PT6elS-DqL72"
      },
      "source": [
        "\\w+ 는 문자 또는 숫자가 1개 이상인 경우를 인식하는 코드이다. 그렇기 때문에 이 코드는 문장에서 구두점을 제외하고, 단어들만 가지고 토큰화를 수행한다."
      ]
    },
    {
      "cell_type": "code",
      "metadata": {
        "colab": {
          "base_uri": "https://localhost:8080/"
        },
        "id": "FxESbVBjpw9T",
        "outputId": "9e160630-72e6-40af-8e0e-a147c85e4f98"
      },
      "source": [
        "tokenizer = RegexpTokenizer(\"[\\s]+\", gaps=True)\n",
        "print(tokenizer.tokenize(\"Don't be fooled by the dark sounding name, Mr. Jone's Orphanage is as cheery as cheery goes for a pastry shop\"))"
      ],
      "execution_count": null,
      "outputs": [
        {
          "output_type": "stream",
          "text": [
            "[\"Don't\", 'be', 'fooled', 'by', 'the', 'dark', 'sounding', 'name,', 'Mr.', \"Jone's\", 'Orphanage', 'is', 'as', 'cheery', 'as', 'cheery', 'goes', 'for', 'a', 'pastry', 'shop']\n"
          ],
          "name": "stdout"
        }
      ]
    },
    {
      "cell_type": "markdown",
      "metadata": {
        "id": "a4XSHr9uqPTN"
      },
      "source": [
        "위 코드에서 gaps =True 는 해당 정규 표현식을 토큰으로 나누기 위한 기준으로 사용한다는 의미다. 따라서 \\s+ 는 공백을 의미하므로 공백을 기준으로 토큰화된 결과값을 출력한다. gaps=True를 설정하지 않으면 공백만이 출력된다.(공백으로 시작하는 것들을 찾음) 그 전 결과와 비교한다면 어퍼스트로피나 온점을 제외하지 않고, 토큰화가 수행된 것을 확인할 수 있다.\n"
      ]
    },
    {
      "cell_type": "markdown",
      "metadata": {
        "id": "I60Nr2JiqapF"
      },
      "source": [
        "# 정수 인코딩(inter Encoding)\n",
        "\n",
        "- 각 단어를 고유한 정수에 맵핑(mapping)시키는 전처리 작업이 필요할 때가 있습니다.\n",
        "\n",
        "\n",
        "예를 들어 갖고 있는 텍스트에 단어가 5,000개가 있다면, 5,000개의 단어들 각각에 1번부터 5,000번까지 단어와 맵핑되는 고유한 정수, 다른 표현으로는 인덱스를 부여합니다. 가령, book은 150번, dog는 171번, love는 192번, books는 212번과 같이 숫자가 부여됩니다. 인덱스를 부여하는 방법은 여러 가지가 있을 수 있는데 랜덤으로 부여하기도 하지만, 보통은 전처리 또는 빈도수가 높은 단어들만 사용하기 위해서 단어에 대한 빈도수를 기준으로 정렬한 뒤에 부여합니다.\n",
        "\n",
        "## 1. 정수 인코딩(inter Encoding)\n",
        "\n",
        "- 단어에 정수를 부여하는 방법 중 하나로 단어를 빈도수 순으로 정렬한 단어 집합(vocabulary)을 만들고, 빈도수가 높은 순서대로 차례로 낮은 숫자부터 정수를 부여하는 방법이 있습니다.\n",
        "\n",
        "1) Dictionary 사용\n",
        "\n"
      ]
    },
    {
      "cell_type": "code",
      "metadata": {
        "id": "o2fFOmT3pxAi"
      },
      "source": [
        "from nltk.tokenize import sent_tokenize\n",
        "from nltk.tokenize import word_tokenize\n",
        "from nltk.corpus import stopwords"
      ],
      "execution_count": null,
      "outputs": []
    },
    {
      "cell_type": "code",
      "metadata": {
        "id": "RVy91QNSpxFO"
      },
      "source": [
        "text = \"A barber is a person. a barber is good person. a barber is huge person. he Knew A Secret! The Secret He Kept is huge secret. Huge secret. His barber kept his word. a barber kept his word. His barber kept his secret. But keeping and keeping such a huge secret to himself was driving the barber crazy. the barber went up a huge mountain.\""
      ],
      "execution_count": null,
      "outputs": []
    },
    {
      "cell_type": "code",
      "metadata": {
        "colab": {
          "base_uri": "https://localhost:8080/"
        },
        "id": "UnLfR-Yfqu58",
        "outputId": "461a9c15-cb6f-4bf6-d3a4-43b3985d00f8"
      },
      "source": [
        "# 문장 토큰화\n",
        "text = sent_tokenize(text)\n",
        "print(text)"
      ],
      "execution_count": null,
      "outputs": [
        {
          "output_type": "stream",
          "text": [
            "['A barber is a person.', 'a barber is good person.', 'a barber is huge person.', 'he Knew A Secret!', 'The Secret He Kept is huge secret.', 'Huge secret.', 'His barber kept his word.', 'a barber kept his word.', 'His barber kept his secret.', 'But keeping and keeping such a huge secret to himself was driving the barber crazy.', 'the barber went up a huge mountain.']\n"
          ],
          "name": "stdout"
        }
      ]
    },
    {
      "cell_type": "markdown",
      "metadata": {
        "id": "0TDbUyxLqw8E"
      },
      "source": [
        "기존의 텍스트 데이터가 문장 단위로 토큰화 된 것을 확인할 수 있습니다. 이제 정제 작업을 병행하며, 단어 토큰화를 수행합니다."
      ]
    },
    {
      "cell_type": "code",
      "metadata": {
        "colab": {
          "base_uri": "https://localhost:8080/"
        },
        "id": "RBKFxbxoqyZL",
        "outputId": "690bf171-5638-4ea8-83c4-06dcff07d631"
      },
      "source": [
        "# 정제와 단어 토큰화\n",
        "vocab = {} # 파이썬의 dictionary 자료형\n",
        "sentences = []\n",
        "stop_words = set(stopwords.words('english'))\n",
        "\n",
        "for i in text:\n",
        "    sentence = word_tokenize(i) # 단어 토큰화를 수행합니다.\n",
        "    result = []\n",
        "\n",
        "    for word in sentence: \n",
        "        word = word.lower() # 모든 단어를 소문자화하여 단어의 개수를 줄입니다.\n",
        "        if word not in stop_words: # 단어 토큰화 된 결과에 대해서 불용어를 제거합니다.\n",
        "            if len(word) > 2: # 단어 길이가 2이하인 경우에 대하여 추가로 단어를 제거합니다.\n",
        "                result.append(word)\n",
        "                if word not in vocab:\n",
        "                    vocab[word] = 0 \n",
        "                vocab[word] += 1\n",
        "    sentences.append(result) \n",
        "print(sentences)"
      ],
      "execution_count": null,
      "outputs": [
        {
          "output_type": "stream",
          "text": [
            "[['barber', 'person'], ['barber', 'good', 'person'], ['barber', 'huge', 'person'], ['knew', 'secret'], ['secret', 'kept', 'huge', 'secret'], ['huge', 'secret'], ['barber', 'kept', 'word'], ['barber', 'kept', 'word'], ['barber', 'kept', 'secret'], ['keeping', 'keeping', 'huge', 'secret', 'driving', 'barber', 'crazy'], ['barber', 'went', 'huge', 'mountain']]\n"
          ],
          "name": "stdout"
        }
      ]
    },
    {
      "cell_type": "markdown",
      "metadata": {
        "id": "GKsCntWdq3UO"
      },
      "source": [
        "텍스트를 숫자로 바꾸는 단계라는 것은 본격적으로 자연어 처리 작업에 들어간다는 의미이므로, 단어가 텍스트일 때만 할 수 있는 최대한의 전처리를 끝내놓아야 합니다. 위의 코드를 보면, 동일한 단어가 대문자로 표기되었다는 이유로 서로 다른 단어로 카운트되는 일이 없도록 모든 단어를 소문자로 바꾸었습니다. 그리고 자연어 처리에서 크게 의미를 갖지 못하는 불용어와 길이가 짧은 단어를 제거하는 방법을 사용하였습니다.\n",
        "\n",
        "현재 vocab에는 중복을 제거한 단어와 각 단어에 대한 빈도수가 기록되어져 있습니다. vocab을 출력해보겠습니다."
      ]
    },
    {
      "cell_type": "code",
      "metadata": {
        "colab": {
          "base_uri": "https://localhost:8080/"
        },
        "id": "fhBRkb5Fq7gs",
        "outputId": "5409a2cd-add7-49ad-b361-e8a7466d5260"
      },
      "source": [
        "print(vocab)"
      ],
      "execution_count": null,
      "outputs": [
        {
          "output_type": "stream",
          "text": [
            "{'barber': 8, 'person': 3, 'good': 1, 'huge': 5, 'knew': 1, 'secret': 6, 'kept': 4, 'word': 2, 'keeping': 2, 'driving': 1, 'crazy': 1, 'went': 1, 'mountain': 1}\n"
          ],
          "name": "stdout"
        }
      ]
    },
    {
      "cell_type": "code",
      "metadata": {
        "colab": {
          "base_uri": "https://localhost:8080/"
        },
        "id": "Wc3J0rP8q_A_",
        "outputId": "26bc6993-d299-40ba-859e-c813163d564a"
      },
      "source": [
        "print(vocab[\"barber\"]) # 'barber'라는 단어의 빈도수 출력"
      ],
      "execution_count": null,
      "outputs": [
        {
          "output_type": "stream",
          "text": [
            "8\n"
          ],
          "name": "stdout"
        }
      ]
    },
    {
      "cell_type": "code",
      "metadata": {
        "colab": {
          "base_uri": "https://localhost:8080/"
        },
        "id": "La7hHRpyrA8j",
        "outputId": "d8cccb31-210b-4b0d-f947-ade45d6eadfd"
      },
      "source": [
        "#빈도수가 높은 순서대로 정렬\n",
        "vocab_sorted = sorted(vocab.items(), key = lambda x:x[1], reverse = True)\n",
        "print(vocab_sorted)"
      ],
      "execution_count": null,
      "outputs": [
        {
          "output_type": "stream",
          "text": [
            "[('barber', 8), ('secret', 6), ('huge', 5), ('kept', 4), ('person', 3), ('word', 2), ('keeping', 2), ('good', 1), ('knew', 1), ('driving', 1), ('crazy', 1), ('went', 1), ('mountain', 1)]\n"
          ],
          "name": "stdout"
        }
      ]
    },
    {
      "cell_type": "code",
      "metadata": {
        "colab": {
          "base_uri": "https://localhost:8080/"
        },
        "id": "01nKB_9yrEyj",
        "outputId": "51d8406a-d201-4a40-9d8b-358b38bda0c2"
      },
      "source": [
        "#높은 빈도수를 가진 단어일수록 낮은 정수 인덱스를 부여\n",
        "word_to_index = {}\n",
        "i=0\n",
        "for (word, frequency) in vocab_sorted :\n",
        "    if frequency > 1 : # 정제(Cleaning) 챕터에서 언급했듯이 빈도수가 적은 단어는 제외한다.\n",
        "        i=i+1\n",
        "        word_to_index[word] = i\n",
        "print(word_to_index)"
      ],
      "execution_count": null,
      "outputs": [
        {
          "output_type": "stream",
          "text": [
            "{'barber': 1, 'secret': 2, 'huge': 3, 'kept': 4, 'person': 5, 'word': 6, 'keeping': 7}\n"
          ],
          "name": "stdout"
        }
      ]
    },
    {
      "cell_type": "markdown",
      "metadata": {
        "id": "0LQaYjGzrLa4"
      },
      "source": [
        "1의 인덱스를 가진 단어가 가장 빈도수가 높은 단어가 됩니다. 그리고 이러한 작업을 수행하는 동시에 각 단어의 빈도수를 알 경우에만 할 수 있는 전처리인 빈도수가 적은 단어를 제외시키는 작업을 합니다. 등장 빈도가 낮은 단어는 자연어 처리에서 의미를 가지지 않을 가능성이 높기 때문입니다. 여기서는 빈도수가 1인 단어들은 전부 제외시켰습니다.\n",
        "\n",
        "자연어 처리를 하다보면, 텍스트 데이터에 있는 단어를 모두 사용하기 보다는 빈도수가 가장 높은 n개의 단어만 사용하고 싶은 경우가 많습니다. 위 단어들은 빈도수가 높은 순으로 낮은 정수가 부여되어져 있으므로 빈도수 상위 n개의 단어만 사용하고 싶다고하면 vocab에서 정수값이 1부터 n까지인 단어들만 사용하면 됩니다. 여기서는 상위 5개 단어만 사용한다고 가정하겠습니다."
      ]
    },
    {
      "cell_type": "code",
      "metadata": {
        "colab": {
          "base_uri": "https://localhost:8080/"
        },
        "id": "tIbqlRz6rOfy",
        "outputId": "dffbe451-dac7-4f2f-eacd-7de1aeeb282e"
      },
      "source": [
        "vocab_size = 5\n",
        "words_frequency = [w for w,c in word_to_index.items() if c >= vocab_size + 1] # 인덱스가 5 초과인 단어 제거\n",
        "for w in words_frequency:\n",
        "    del word_to_index[w] # 해당 단어에 대한 인덱스 정보를 삭제\n",
        "print(word_to_index)"
      ],
      "execution_count": null,
      "outputs": [
        {
          "output_type": "stream",
          "text": [
            "{'barber': 1, 'secret': 2, 'huge': 3, 'kept': 4, 'person': 5}\n"
          ],
          "name": "stdout"
        }
      ]
    },
    {
      "cell_type": "markdown",
      "metadata": {
        "id": "v8dsnzehrTw8"
      },
      "source": [
        "이제 word_to_index에는 빈도수가 높은 상위 5개의 단어만 저장되었습니다. 이제 word_to_index를 사용하여 단어 토큰화가 된 상태로 저장된 sentences에 있는 각 단어를 정수로 바꾸는 작업을 하겠습니다.\n",
        "\n",
        "예를 들어 sentences에서 첫번째 문장은 ['barber', 'person']이었는데, 이 문장에 대해서는 [1, 5]로 인코딩합니다. 그런데 두번째 문장인 ['barber', 'good', 'person']에는 더 이상 word_to_index에는 존재하지 않는 단어인 'good'이라는 단어가 있습니다.\n",
        "\n",
        "이처럼 단어 집합에 존재하지 않는 단어들을 Out-Of-Vocabulary(단어 집합에 없는 단어)의 약자로 'OOV'라고 합니다. word_to_index에 'OOV'란 단어를 새롭게 추가하고, 단어 집합에 없는 단어들은 'OOV'의 인덱스로 인코딩하겠습니다."
      ]
    },
    {
      "cell_type": "code",
      "metadata": {
        "id": "dfVZ1ffarOiv"
      },
      "source": [
        "word_to_index['OOV'] = len(word_to_index) + 1"
      ],
      "execution_count": null,
      "outputs": []
    },
    {
      "cell_type": "code",
      "metadata": {
        "colab": {
          "base_uri": "https://localhost:8080/"
        },
        "id": "ukWR2_64rOlw",
        "outputId": "111040f2-fd66-42bc-d880-eb99f659a2a1"
      },
      "source": [
        "#word_to_index를 사용하여 sentences의 모든 단어들을 맵핑되는 정수로 인코딩\n",
        "\n",
        "encoded = []\n",
        "for s in sentences:\n",
        "    temp = []\n",
        "    for w in s:\n",
        "        try:\n",
        "            temp.append(word_to_index[w])\n",
        "        except KeyError:\n",
        "            temp.append(word_to_index['OOV'])\n",
        "    encoded.append(temp)\n",
        "print(encoded)"
      ],
      "execution_count": null,
      "outputs": [
        {
          "output_type": "stream",
          "text": [
            "[[1, 5], [1, 6, 5], [1, 3, 5], [6, 2], [2, 4, 3, 2], [3, 2], [1, 4, 6], [1, 4, 6], [1, 4, 2], [6, 6, 3, 2, 6, 1, 6], [1, 6, 3, 6]]\n"
          ],
          "name": "stdout"
        }
      ]
    },
    {
      "cell_type": "markdown",
      "metadata": {
        "id": "l6YBwOgYrb_J"
      },
      "source": [
        "### Counter 사용"
      ]
    },
    {
      "cell_type": "code",
      "metadata": {
        "id": "vXktbN3brOpc"
      },
      "source": [
        "from collections import Counter"
      ],
      "execution_count": null,
      "outputs": []
    },
    {
      "cell_type": "code",
      "metadata": {
        "colab": {
          "base_uri": "https://localhost:8080/"
        },
        "id": "dLPaZ9KsrOsq",
        "outputId": "592d7c97-ff38-4243-af92-0a804d41edc8"
      },
      "source": [
        "print(sentences)"
      ],
      "execution_count": null,
      "outputs": [
        {
          "output_type": "stream",
          "text": [
            "[['barber', 'person'], ['barber', 'good', 'person'], ['barber', 'huge', 'person'], ['knew', 'secret'], ['secret', 'kept', 'huge', 'secret'], ['huge', 'secret'], ['barber', 'kept', 'word'], ['barber', 'kept', 'word'], ['barber', 'kept', 'secret'], ['keeping', 'keeping', 'huge', 'secret', 'driving', 'barber', 'crazy'], ['barber', 'went', 'huge', 'mountain']]\n"
          ],
          "name": "stdout"
        }
      ]
    },
    {
      "cell_type": "code",
      "metadata": {
        "colab": {
          "base_uri": "https://localhost:8080/"
        },
        "id": "8PCdkPaPrhWa",
        "outputId": "f858b627-4661-4d16-948d-23238a8fc1ed"
      },
      "source": [
        "# 단어 집합(Vocabulary)을 만들기 위해서 \n",
        "#sentences에서 문장의 경계인 [,]를 제거하고 단어들을 하나의 리스트로 만듬\n",
        "words = sum(sentences, [])\n",
        "# 위 작업은 words = np.hstack(sentences)로도 수행 가능.\n",
        "print(words)"
      ],
      "execution_count": null,
      "outputs": [
        {
          "output_type": "stream",
          "text": [
            "['barber', 'person', 'barber', 'good', 'person', 'barber', 'huge', 'person', 'knew', 'secret', 'secret', 'kept', 'huge', 'secret', 'huge', 'secret', 'barber', 'kept', 'word', 'barber', 'kept', 'word', 'barber', 'kept', 'secret', 'keeping', 'keeping', 'huge', 'secret', 'driving', 'barber', 'crazy', 'barber', 'went', 'huge', 'mountain']\n"
          ],
          "name": "stdout"
        }
      ]
    },
    {
      "cell_type": "code",
      "metadata": {
        "colab": {
          "base_uri": "https://localhost:8080/"
        },
        "id": "cDCUHel4ru3g",
        "outputId": "1bd7ecbf-2e4c-4244-ad21-ecfa519c3f78"
      },
      "source": [
        "vocab = Counter(words) # 파이썬의 Counter 모듈을 이용하면 단어의 모든 빈도를 쉽게 계산할 수 있습니다.\n",
        "print(vocab)"
      ],
      "execution_count": null,
      "outputs": [
        {
          "output_type": "stream",
          "text": [
            "Counter({'barber': 8, 'secret': 6, 'huge': 5, 'kept': 4, 'person': 3, 'word': 2, 'keeping': 2, 'good': 1, 'knew': 1, 'driving': 1, 'crazy': 1, 'went': 1, 'mountain': 1})\n"
          ],
          "name": "stdout"
        }
      ]
    },
    {
      "cell_type": "code",
      "metadata": {
        "colab": {
          "base_uri": "https://localhost:8080/"
        },
        "id": "BQWiqzFZry25",
        "outputId": "2d34d2f5-aa23-4b14-87bb-1009860f5c09"
      },
      "source": [
        "print(vocab[\"barber\"]) # 'barber'라는 단어의 빈도수 출력"
      ],
      "execution_count": null,
      "outputs": [
        {
          "output_type": "stream",
          "text": [
            "8\n"
          ],
          "name": "stdout"
        }
      ]
    },
    {
      "cell_type": "code",
      "metadata": {
        "colab": {
          "base_uri": "https://localhost:8080/"
        },
        "id": "8LEPqmpYr00-",
        "outputId": "4b936607-6340-403d-fa87-583b9387b279"
      },
      "source": [
        "vocab_size = 5\n",
        "vocab = vocab.most_common(vocab_size) # 등장 빈도수가 높은 상위 5개의 단어만 저장\n",
        "vocab"
      ],
      "execution_count": null,
      "outputs": [
        {
          "output_type": "execute_result",
          "data": {
            "text/plain": [
              "[('barber', 8), ('secret', 6), ('huge', 5), ('kept', 4), ('person', 3)]"
            ]
          },
          "metadata": {
            "tags": []
          },
          "execution_count": 85
        }
      ]
    },
    {
      "cell_type": "code",
      "metadata": {
        "colab": {
          "base_uri": "https://localhost:8080/"
        },
        "id": "e0VQZOlwr1tY",
        "outputId": "dc2dd885-fb81-4fec-a3d6-e708ea85f50f"
      },
      "source": [
        "# 높은 빈도수를 가진 단어일수록 낮은 정수 인덱스를 부여합니다.\n",
        "word_to_index = {}\n",
        "i = 0\n",
        "for (word, frequency) in vocab :\n",
        "    i = i+1\n",
        "    word_to_index[word] = i\n",
        "print(word_to_index)"
      ],
      "execution_count": null,
      "outputs": [
        {
          "output_type": "stream",
          "text": [
            "{'barber': 1, 'secret': 2, 'huge': 3, 'kept': 4, 'person': 5}\n"
          ],
          "name": "stdout"
        }
      ]
    },
    {
      "cell_type": "markdown",
      "metadata": {
        "id": "rcEQ5HY6r5eK"
      },
      "source": [
        "## NLTK의 FreqDist 사용하기\n",
        "\n",
        "NLTK에서는 빈도수 계산 도구인 FreqDist()를 지원합니다. 위에서 사용한 Counter()랑 같은 방법으로 사용할 수 있습니다."
      ]
    },
    {
      "cell_type": "code",
      "metadata": {
        "id": "ZN-4UfJTr1wb"
      },
      "source": [
        "from nltk import FreqDist\n",
        "import numpy as np"
      ],
      "execution_count": null,
      "outputs": []
    },
    {
      "cell_type": "code",
      "metadata": {
        "id": "gwrNH7_Nr10R"
      },
      "source": [
        "# np.hstack으로 문장 구분을 제거하여 입력으로 사용 . ex) ['barber', 'person', 'barber', 'good' ... 중략 ...\n",
        "vocab = FreqDist(np.hstack(sentences))"
      ],
      "execution_count": null,
      "outputs": []
    },
    {
      "cell_type": "code",
      "metadata": {
        "colab": {
          "base_uri": "https://localhost:8080/"
        },
        "id": "uLy-y9qhr13f",
        "outputId": "acab3e16-b1a7-47c3-f48b-78141b64607a"
      },
      "source": [
        "print(vocab[\"barber\"]) # 'barber'라는 단어의 빈도수 출력"
      ],
      "execution_count": null,
      "outputs": [
        {
          "output_type": "stream",
          "text": [
            "8\n"
          ],
          "name": "stdout"
        }
      ]
    },
    {
      "cell_type": "code",
      "metadata": {
        "colab": {
          "base_uri": "https://localhost:8080/"
        },
        "id": "OX9slH5Lr16r",
        "outputId": "c644ecbc-8b01-4af1-dc32-9542d5c9dadc"
      },
      "source": [
        "vocab_size = 5\n",
        "vocab = vocab.most_common(vocab_size) # 등장 빈도수가 높은 상위 5개의 단어만 저장\n",
        "vocab"
      ],
      "execution_count": null,
      "outputs": [
        {
          "output_type": "execute_result",
          "data": {
            "text/plain": [
              "[('barber', 8), ('secret', 6), ('huge', 5), ('kept', 4), ('person', 3)]"
            ]
          },
          "metadata": {
            "tags": []
          },
          "execution_count": 90
        }
      ]
    },
    {
      "cell_type": "markdown",
      "metadata": {
        "id": "LIx5Pi6at5Ln"
      },
      "source": [
        "앞서 Counter()를 사용했을 때와 결과가 같습니다. 이전 실습들과 마찬가지로 높은 빈도수를 가진 단어일수록 낮은 정수 인덱스를 부여합니다. 그런데 이번에는 enumerate()를 사용하여 좀 더 짧은 코드로 인덱스를 부여하겠습니다."
      ]
    },
    {
      "cell_type": "code",
      "metadata": {
        "colab": {
          "base_uri": "https://localhost:8080/"
        },
        "id": "zd8ue-5Tr19z",
        "outputId": "faf81fe0-858c-42ac-bebd-3adfcc58efa0"
      },
      "source": [
        "word_to_index = {word[0] : index + 1 for index, word in enumerate(vocab)}\n",
        "print(word_to_index)"
      ],
      "execution_count": null,
      "outputs": [
        {
          "output_type": "stream",
          "text": [
            "{'barber': 1, 'secret': 2, 'huge': 3, 'kept': 4, 'person': 5}\n"
          ],
          "name": "stdout"
        }
      ]
    },
    {
      "cell_type": "markdown",
      "metadata": {
        "id": "f-fTfc7BvCOz"
      },
      "source": [
        "# 한국어 전처리 패키지 (Text preprocessing Tools for Korean Text)z\n",
        "\n",
        "1.PyKoSpacing\n",
        "\n",
        "전희원님이 개발한 PyKoSpacing은 한국어 띄어쓰기 패키지로 띄어쓰기가 되어있지 않은 문장을 띄어쓰기를 한 문장으로 변환해주는 패키지입니다. PyKoSpacing은 대용량 코퍼스를 학습하여 만들어진 띄어쓰기 딥 러닝 모델로 준수한 성능을 가지고 있습니다."
      ]
    },
    {
      "cell_type": "code",
      "metadata": {
        "colab": {
          "base_uri": "https://localhost:8080/",
          "height": 1000
        },
        "id": "zA0_dBgruBnn",
        "outputId": "0e89cfb3-7a0b-4cf4-8936-419cc53ec300"
      },
      "source": [
        "!pip install git+https://github.com/haven-jeon/PyKoSpacing.git"
      ],
      "execution_count": null,
      "outputs": [
        {
          "output_type": "stream",
          "text": [
            "Collecting git+https://github.com/haven-jeon/PyKoSpacing.git\n",
            "  Cloning https://github.com/haven-jeon/PyKoSpacing.git to /tmp/pip-req-build-zql8bac1\n",
            "  Running command git clone -q https://github.com/haven-jeon/PyKoSpacing.git /tmp/pip-req-build-zql8bac1\n",
            "Collecting tensorflow==2.4.0\n",
            "\u001b[?25l  Downloading https://files.pythonhosted.org/packages/94/0a/012cc33c643d844433d13001dd1db179e7020b05ddbbd0a9dc86c38a8efa/tensorflow-2.4.0-cp37-cp37m-manylinux2010_x86_64.whl (394.7MB)\n",
            "\u001b[K     |████████████████████████████████| 394.7MB 43kB/s \n",
            "\u001b[?25hRequirement already satisfied: keras>=2.4.3 in /usr/local/lib/python3.7/dist-packages (from pykospacing==0.4) (2.4.3)\n",
            "Requirement already satisfied: h5py==2.10.0 in /usr/local/lib/python3.7/dist-packages (from pykospacing==0.4) (2.10.0)\n",
            "Collecting argparse>=1.4.0\n",
            "  Downloading https://files.pythonhosted.org/packages/f2/94/3af39d34be01a24a6e65433d19e107099374224905f1e0cc6bbe1fd22a2f/argparse-1.4.0-py2.py3-none-any.whl\n",
            "Requirement already satisfied: six~=1.15.0 in /usr/local/lib/python3.7/dist-packages (from tensorflow==2.4.0->pykospacing==0.4) (1.15.0)\n",
            "Requirement already satisfied: flatbuffers~=1.12.0 in /usr/local/lib/python3.7/dist-packages (from tensorflow==2.4.0->pykospacing==0.4) (1.12)\n",
            "Requirement already satisfied: keras-preprocessing~=1.1.2 in /usr/local/lib/python3.7/dist-packages (from tensorflow==2.4.0->pykospacing==0.4) (1.1.2)\n",
            "Requirement already satisfied: wrapt~=1.12.1 in /usr/local/lib/python3.7/dist-packages (from tensorflow==2.4.0->pykospacing==0.4) (1.12.1)\n",
            "Requirement already satisfied: gast==0.3.3 in /usr/local/lib/python3.7/dist-packages (from tensorflow==2.4.0->pykospacing==0.4) (0.3.3)\n",
            "Requirement already satisfied: tensorflow-estimator<2.5.0,>=2.4.0rc0 in /usr/local/lib/python3.7/dist-packages (from tensorflow==2.4.0->pykospacing==0.4) (2.4.0)\n",
            "Requirement already satisfied: numpy~=1.19.2 in /usr/local/lib/python3.7/dist-packages (from tensorflow==2.4.0->pykospacing==0.4) (1.19.5)\n",
            "Requirement already satisfied: astunparse~=1.6.3 in /usr/local/lib/python3.7/dist-packages (from tensorflow==2.4.0->pykospacing==0.4) (1.6.3)\n",
            "Requirement already satisfied: typing-extensions~=3.7.4 in /usr/local/lib/python3.7/dist-packages (from tensorflow==2.4.0->pykospacing==0.4) (3.7.4.3)\n",
            "Requirement already satisfied: opt-einsum~=3.3.0 in /usr/local/lib/python3.7/dist-packages (from tensorflow==2.4.0->pykospacing==0.4) (3.3.0)\n",
            "Requirement already satisfied: protobuf>=3.9.2 in /usr/local/lib/python3.7/dist-packages (from tensorflow==2.4.0->pykospacing==0.4) (3.12.4)\n",
            "Requirement already satisfied: termcolor~=1.1.0 in /usr/local/lib/python3.7/dist-packages (from tensorflow==2.4.0->pykospacing==0.4) (1.1.0)\n",
            "Requirement already satisfied: absl-py~=0.10 in /usr/local/lib/python3.7/dist-packages (from tensorflow==2.4.0->pykospacing==0.4) (0.12.0)\n",
            "Requirement already satisfied: grpcio~=1.32.0 in /usr/local/lib/python3.7/dist-packages (from tensorflow==2.4.0->pykospacing==0.4) (1.32.0)\n",
            "Requirement already satisfied: wheel~=0.35 in /usr/local/lib/python3.7/dist-packages (from tensorflow==2.4.0->pykospacing==0.4) (0.36.2)\n",
            "Requirement already satisfied: google-pasta~=0.2 in /usr/local/lib/python3.7/dist-packages (from tensorflow==2.4.0->pykospacing==0.4) (0.2.0)\n",
            "Requirement already satisfied: tensorboard~=2.4 in /usr/local/lib/python3.7/dist-packages (from tensorflow==2.4.0->pykospacing==0.4) (2.4.1)\n",
            "Requirement already satisfied: scipy>=0.14 in /usr/local/lib/python3.7/dist-packages (from keras>=2.4.3->pykospacing==0.4) (1.4.1)\n",
            "Requirement already satisfied: pyyaml in /usr/local/lib/python3.7/dist-packages (from keras>=2.4.3->pykospacing==0.4) (3.13)\n",
            "Requirement already satisfied: setuptools in /usr/local/lib/python3.7/dist-packages (from protobuf>=3.9.2->tensorflow==2.4.0->pykospacing==0.4) (56.1.0)\n",
            "Requirement already satisfied: requests<3,>=2.21.0 in /usr/local/lib/python3.7/dist-packages (from tensorboard~=2.4->tensorflow==2.4.0->pykospacing==0.4) (2.23.0)\n",
            "Requirement already satisfied: tensorboard-plugin-wit>=1.6.0 in /usr/local/lib/python3.7/dist-packages (from tensorboard~=2.4->tensorflow==2.4.0->pykospacing==0.4) (1.8.0)\n",
            "Requirement already satisfied: markdown>=2.6.8 in /usr/local/lib/python3.7/dist-packages (from tensorboard~=2.4->tensorflow==2.4.0->pykospacing==0.4) (3.3.4)\n",
            "Requirement already satisfied: werkzeug>=0.11.15 in /usr/local/lib/python3.7/dist-packages (from tensorboard~=2.4->tensorflow==2.4.0->pykospacing==0.4) (1.0.1)\n",
            "Requirement already satisfied: google-auth-oauthlib<0.5,>=0.4.1 in /usr/local/lib/python3.7/dist-packages (from tensorboard~=2.4->tensorflow==2.4.0->pykospacing==0.4) (0.4.4)\n",
            "Requirement already satisfied: google-auth<2,>=1.6.3 in /usr/local/lib/python3.7/dist-packages (from tensorboard~=2.4->tensorflow==2.4.0->pykospacing==0.4) (1.28.1)\n",
            "Requirement already satisfied: urllib3!=1.25.0,!=1.25.1,<1.26,>=1.21.1 in /usr/local/lib/python3.7/dist-packages (from requests<3,>=2.21.0->tensorboard~=2.4->tensorflow==2.4.0->pykospacing==0.4) (1.24.3)\n",
            "Requirement already satisfied: chardet<4,>=3.0.2 in /usr/local/lib/python3.7/dist-packages (from requests<3,>=2.21.0->tensorboard~=2.4->tensorflow==2.4.0->pykospacing==0.4) (3.0.4)\n",
            "Requirement already satisfied: certifi>=2017.4.17 in /usr/local/lib/python3.7/dist-packages (from requests<3,>=2.21.0->tensorboard~=2.4->tensorflow==2.4.0->pykospacing==0.4) (2020.12.5)\n",
            "Requirement already satisfied: idna<3,>=2.5 in /usr/local/lib/python3.7/dist-packages (from requests<3,>=2.21.0->tensorboard~=2.4->tensorflow==2.4.0->pykospacing==0.4) (2.10)\n",
            "Requirement already satisfied: importlib-metadata; python_version < \"3.8\" in /usr/local/lib/python3.7/dist-packages (from markdown>=2.6.8->tensorboard~=2.4->tensorflow==2.4.0->pykospacing==0.4) (3.10.1)\n",
            "Requirement already satisfied: requests-oauthlib>=0.7.0 in /usr/local/lib/python3.7/dist-packages (from google-auth-oauthlib<0.5,>=0.4.1->tensorboard~=2.4->tensorflow==2.4.0->pykospacing==0.4) (1.3.0)\n",
            "Requirement already satisfied: pyasn1-modules>=0.2.1 in /usr/local/lib/python3.7/dist-packages (from google-auth<2,>=1.6.3->tensorboard~=2.4->tensorflow==2.4.0->pykospacing==0.4) (0.2.8)\n",
            "Requirement already satisfied: rsa<5,>=3.1.4; python_version >= \"3.6\" in /usr/local/lib/python3.7/dist-packages (from google-auth<2,>=1.6.3->tensorboard~=2.4->tensorflow==2.4.0->pykospacing==0.4) (4.7.2)\n",
            "Requirement already satisfied: cachetools<5.0,>=2.0.0 in /usr/local/lib/python3.7/dist-packages (from google-auth<2,>=1.6.3->tensorboard~=2.4->tensorflow==2.4.0->pykospacing==0.4) (4.2.1)\n",
            "Requirement already satisfied: zipp>=0.5 in /usr/local/lib/python3.7/dist-packages (from importlib-metadata; python_version < \"3.8\"->markdown>=2.6.8->tensorboard~=2.4->tensorflow==2.4.0->pykospacing==0.4) (3.4.1)\n",
            "Requirement already satisfied: oauthlib>=3.0.0 in /usr/local/lib/python3.7/dist-packages (from requests-oauthlib>=0.7.0->google-auth-oauthlib<0.5,>=0.4.1->tensorboard~=2.4->tensorflow==2.4.0->pykospacing==0.4) (3.1.0)\n",
            "Requirement already satisfied: pyasn1<0.5.0,>=0.4.6 in /usr/local/lib/python3.7/dist-packages (from pyasn1-modules>=0.2.1->google-auth<2,>=1.6.3->tensorboard~=2.4->tensorflow==2.4.0->pykospacing==0.4) (0.4.8)\n",
            "Building wheels for collected packages: pykospacing\n",
            "  Building wheel for pykospacing (setup.py) ... \u001b[?25l\u001b[?25hdone\n",
            "  Created wheel for pykospacing: filename=pykospacing-0.4-cp37-none-any.whl size=2255638 sha256=2f1a14b626de3ce2e3ca41085921402d9843c0024d886eff135d5de87c3c5079\n",
            "  Stored in directory: /tmp/pip-ephem-wheel-cache-kef2bi6l/wheels/4d/45/58/e26cb2b7f6a063d234158c6fd1e5700f6e15b99d67154340ba\n",
            "Successfully built pykospacing\n",
            "Installing collected packages: tensorflow, argparse, pykospacing\n",
            "  Found existing installation: tensorflow 2.4.1\n",
            "    Uninstalling tensorflow-2.4.1:\n",
            "      Successfully uninstalled tensorflow-2.4.1\n",
            "Successfully installed argparse-1.4.0 pykospacing-0.4 tensorflow-2.4.0\n"
          ],
          "name": "stdout"
        },
        {
          "output_type": "display_data",
          "data": {
            "application/vnd.colab-display-data+json": {
              "pip_warning": {
                "packages": [
                  "argparse"
                ]
              }
            }
          },
          "metadata": {
            "tags": []
          }
        }
      ]
    },
    {
      "cell_type": "code",
      "metadata": {
        "id": "8XuxT4OsuBrO"
      },
      "source": [
        "sent = '김철수는 극중 두 인격의 사나이 이광수 역을 맡았다. 철수는 한국 유일의 태권도 전승자를 가리는 결전의 날을 앞두고 10년간 함께 훈련한 사형인 유연재(김광수 분)를 찾으러 속세로 내려온 인물이다.'"
      ],
      "execution_count": null,
      "outputs": []
    },
    {
      "cell_type": "code",
      "metadata": {
        "colab": {
          "base_uri": "https://localhost:8080/"
        },
        "id": "VYiLlotnuBug",
        "outputId": "393657d8-051f-40bb-fc30-5253dc76b042"
      },
      "source": [
        "new_sent = sent.replace(\" \", '') # 띄어쓰기가 없는 문장 임의로 만들기\n",
        "print(new_sent)"
      ],
      "execution_count": null,
      "outputs": [
        {
          "output_type": "stream",
          "text": [
            "김철수는극중두인격의사나이이광수역을맡았다.철수는한국유일의태권도전승자를가리는결전의날을앞두고10년간함께훈련한사형인유연재(김광수분)를찾으러속세로내려온인물이다.\n"
          ],
          "name": "stdout"
        }
      ]
    },
    {
      "cell_type": "code",
      "metadata": {
        "colab": {
          "base_uri": "https://localhost:8080/"
        },
        "id": "S9Ew0FGtuB0f",
        "outputId": "f6399628-fbbf-46c9-a64e-3270c0b2b765"
      },
      "source": [
        "#원 문장과 비교\n",
        "\n",
        "from pykospacing import spacing\n",
        "\n",
        "kospacing_sent = spacing(new_sent)\n",
        "print(sent)\n",
        "print(kospacing_sent)"
      ],
      "execution_count": null,
      "outputs": [
        {
          "output_type": "stream",
          "text": [
            "김철수는 극중 두 인격의 사나이 이광수 역을 맡았다. 철수는 한국 유일의 태권도 전승자를 가리는 결전의 날을 앞두고 10년간 함께 훈련한 사형인 유연재(김광수 분)를 찾으러 속세로 내려온 인물이다.\n",
            "김철수는 극중 두 인격의 사나이 이광수 역을 맡았다. 철수는 한국 유일의 태권도 전승자를 가리는 결전의 날을 앞두고 10년간 함께 훈련한 사형인 유연재(김광수 분)를 찾으러 속세로 내려온 인물이다.\n"
          ],
          "name": "stdout"
        }
      ]
    },
    {
      "cell_type": "markdown",
      "metadata": {
        "id": "gkxcbOzLvW2E"
      },
      "source": [
        "2. Py-Hanspell\n",
        "- Py-Hanspell은 네이버 한글 맞춤법 검사기를 바탕으로 만들어진 패키지입니다.\n"
      ]
    },
    {
      "cell_type": "code",
      "metadata": {
        "colab": {
          "base_uri": "https://localhost:8080/"
        },
        "id": "dUTVc4T4uB4g",
        "outputId": "67a17e75-c43d-4ab7-badb-edef33a8daf1"
      },
      "source": [
        "!pip install git+https://github.com/ssut/py-hanspell.git"
      ],
      "execution_count": null,
      "outputs": [
        {
          "output_type": "stream",
          "text": [
            "Collecting git+https://github.com/ssut/py-hanspell.git\n",
            "  Cloning https://github.com/ssut/py-hanspell.git to /tmp/pip-req-build-pfmyw04x\n",
            "  Running command git clone -q https://github.com/ssut/py-hanspell.git /tmp/pip-req-build-pfmyw04x\n",
            "Requirement already satisfied: requests in /usr/local/lib/python3.7/dist-packages (from py-hanspell==1.1) (2.23.0)\n",
            "Requirement already satisfied: certifi>=2017.4.17 in /usr/local/lib/python3.7/dist-packages (from requests->py-hanspell==1.1) (2020.12.5)\n",
            "Requirement already satisfied: idna<3,>=2.5 in /usr/local/lib/python3.7/dist-packages (from requests->py-hanspell==1.1) (2.10)\n",
            "Requirement already satisfied: chardet<4,>=3.0.2 in /usr/local/lib/python3.7/dist-packages (from requests->py-hanspell==1.1) (3.0.4)\n",
            "Requirement already satisfied: urllib3!=1.25.0,!=1.25.1,<1.26,>=1.21.1 in /usr/local/lib/python3.7/dist-packages (from requests->py-hanspell==1.1) (1.24.3)\n",
            "Building wheels for collected packages: py-hanspell\n",
            "  Building wheel for py-hanspell (setup.py) ... \u001b[?25l\u001b[?25hdone\n",
            "  Created wheel for py-hanspell: filename=py_hanspell-1.1-cp37-none-any.whl size=4854 sha256=93df0c9efee896046e22c96fd57fa506b7d94bf3e1edb6c1127fdecd03a92752\n",
            "  Stored in directory: /tmp/pip-ephem-wheel-cache-t7ib5bgi/wheels/0a/25/d1/e5e96476dbb1c318cc26c992dd493394fe42b0c204b3e65588\n",
            "Successfully built py-hanspell\n",
            "Installing collected packages: py-hanspell\n",
            "Successfully installed py-hanspell-1.1\n"
          ],
          "name": "stdout"
        }
      ]
    },
    {
      "cell_type": "code",
      "metadata": {
        "colab": {
          "base_uri": "https://localhost:8080/"
        },
        "id": "doE5IVV4veCB",
        "outputId": "80e972ec-2e28-44b1-cb95-cdb3bc9dde66"
      },
      "source": [
        "from hanspell import spell_checker\n",
        "\n",
        "sent = \"맞춤법 틀리면 외 않되? 쓰고싶은대로쓰면돼지 \"\n",
        "spelled_sent = spell_checker.check(sent)\n",
        "\n",
        "hanspell_sent = spelled_sent.checked\n",
        "print(hanspell_sent)"
      ],
      "execution_count": null,
      "outputs": [
        {
          "output_type": "stream",
          "text": [
            "맞춤법 틀리면 왜 안돼? 쓰고 싶은 대로 쓰면 되지\n"
          ],
          "name": "stdout"
        }
      ]
    },
    {
      "cell_type": "code",
      "metadata": {
        "colab": {
          "base_uri": "https://localhost:8080/"
        },
        "id": "zJl7RuexvhJR",
        "outputId": "10e55e2e-e4e9-4417-b13e-506e2a415b90"
      },
      "source": [
        "spelled_sent = spell_checker.check(new_sent)\n",
        "\n",
        "hanspell_sent = spelled_sent.checked\n",
        "print(hanspell_sent)\n",
        "print(kospacing_sent) # 앞서 사용한 kospacing 패키지에서 얻은 결과"
      ],
      "execution_count": null,
      "outputs": [
        {
          "output_type": "stream",
          "text": [
            "김철수는 극 중 두 인격의 사나이 이광수 역을 맡았다. 철수는 한국 유일의 태권도 전승자를 가리는 결전의 날을 앞두고 10년간 함께 훈련한 사형인 유연제(김광수 분)를 찾으러 속세로 내려온 인물이다.\n",
            "김철수는 극중 두 인격의 사나이 이광수 역을 맡았다. 철수는 한국 유일의 태권도 전승자를 가리는 결전의 날을 앞두고 10년간 함께 훈련한 사형인 유연재(김광수 분)를 찾으러 속세로 내려온 인물이다.\n"
          ],
          "name": "stdout"
        }
      ]
    },
    {
      "cell_type": "markdown",
      "metadata": {
        "id": "H-5-dJiuvfoa"
      },
      "source": [
        "이 패키지는 띄어쓰기 또한 보정합니다. PyKoSpacing에 사용한 예제를 그대로 사용해봅시다."
      ]
    },
    {
      "cell_type": "code",
      "metadata": {
        "colab": {
          "base_uri": "https://localhost:8080/"
        },
        "id": "r2HMqvFqvv-R",
        "outputId": "13384489-6add-4153-e085-c10b39170abb"
      },
      "source": [
        "spelled_sent = spell_checker.check(new_sent)\n",
        "\n",
        "hanspell_sent = spelled_sent.checked\n",
        "print(hanspell_sent)\n",
        "print(kospacing_sent) # 앞서 사용한 kospacing 패키지에서 얻은 결과"
      ],
      "execution_count": null,
      "outputs": [
        {
          "output_type": "stream",
          "text": [
            "김철수는 극 중 두 인격의 사나이 이광수 역을 맡았다. 철수는 한국 유일의 태권도 전승자를 가리는 결전의 날을 앞두고 10년간 함께 훈련한 사형인 유연제(김광수 분)를 찾으러 속세로 내려온 인물이다.\n",
            "김철수는 극중 두 인격의 사나이 이광수 역을 맡았다. 철수는 한국 유일의 태권도 전승자를 가리는 결전의 날을 앞두고 10년간 함께 훈련한 사형인 유연재(김광수 분)를 찾으러 속세로 내려온 인물이다.\n"
          ],
          "name": "stdout"
        }
      ]
    },
    {
      "cell_type": "markdown",
      "metadata": {
        "id": "98XDII5Jzw8V"
      },
      "source": [
        "# SOYNLP를 이용한 단어 토큰화\n",
        "\n",
        "soynlp는 품사 태깅, 단어 토큰화 등을 지원하는 단어 토크나이저입니다. 비지도 학습으로 단어 토큰화를 한다는 특징을 갖고 있으며, 데이터에 자주 등장하는 단어들을 단어로 분석합니다. soynlp 단어 토크나이저는 내부적으로 단어 점수 표로 동작합니다. 이 점수는 응집 확률(cohesion probability)과 브랜칭 엔트로피(branching entropy)를 활용합니다."
      ]
    },
    {
      "cell_type": "code",
      "metadata": {
        "colab": {
          "base_uri": "https://localhost:8080/"
        },
        "id": "hs-oCl6Sz19M",
        "outputId": "fc75829b-3e97-4e87-d4bc-a3d95c6b0244"
      },
      "source": [
        "!pip install soynlp"
      ],
      "execution_count": null,
      "outputs": [
        {
          "output_type": "stream",
          "text": [
            "Collecting soynlp\n",
            "\u001b[?25l  Downloading https://files.pythonhosted.org/packages/7e/50/6913dc52a86a6b189419e59f9eef1b8d599cffb6f44f7bb91854165fc603/soynlp-0.0.493-py3-none-any.whl (416kB)\n",
            "\r\u001b[K     |▉                               | 10kB 15.5MB/s eta 0:00:01\r\u001b[K     |█▋                              | 20kB 22.0MB/s eta 0:00:01\r\u001b[K     |██▍                             | 30kB 25.2MB/s eta 0:00:01\r\u001b[K     |███▏                            | 40kB 28.0MB/s eta 0:00:01\r\u001b[K     |████                            | 51kB 23.8MB/s eta 0:00:01\r\u001b[K     |████▊                           | 61kB 21.7MB/s eta 0:00:01\r\u001b[K     |█████▌                          | 71kB 23.1MB/s eta 0:00:01\r\u001b[K     |██████▎                         | 81kB 22.5MB/s eta 0:00:01\r\u001b[K     |███████                         | 92kB 23.5MB/s eta 0:00:01\r\u001b[K     |███████▉                        | 102kB 23.0MB/s eta 0:00:01\r\u001b[K     |████████▋                       | 112kB 23.0MB/s eta 0:00:01\r\u001b[K     |█████████▍                      | 122kB 23.0MB/s eta 0:00:01\r\u001b[K     |██████████▏                     | 133kB 23.0MB/s eta 0:00:01\r\u001b[K     |███████████                     | 143kB 23.0MB/s eta 0:00:01\r\u001b[K     |███████████▉                    | 153kB 23.0MB/s eta 0:00:01\r\u001b[K     |████████████▋                   | 163kB 23.0MB/s eta 0:00:01\r\u001b[K     |█████████████▍                  | 174kB 23.0MB/s eta 0:00:01\r\u001b[K     |██████████████▏                 | 184kB 23.0MB/s eta 0:00:01\r\u001b[K     |███████████████                 | 194kB 23.0MB/s eta 0:00:01\r\u001b[K     |███████████████▊                | 204kB 23.0MB/s eta 0:00:01\r\u001b[K     |████████████████▌               | 215kB 23.0MB/s eta 0:00:01\r\u001b[K     |█████████████████▎              | 225kB 23.0MB/s eta 0:00:01\r\u001b[K     |██████████████████              | 235kB 23.0MB/s eta 0:00:01\r\u001b[K     |██████████████████▉             | 245kB 23.0MB/s eta 0:00:01\r\u001b[K     |███████████████████▋            | 256kB 23.0MB/s eta 0:00:01\r\u001b[K     |████████████████████▍           | 266kB 23.0MB/s eta 0:00:01\r\u001b[K     |█████████████████████▎          | 276kB 23.0MB/s eta 0:00:01\r\u001b[K     |██████████████████████          | 286kB 23.0MB/s eta 0:00:01\r\u001b[K     |██████████████████████▉         | 296kB 23.0MB/s eta 0:00:01\r\u001b[K     |███████████████████████▋        | 307kB 23.0MB/s eta 0:00:01\r\u001b[K     |████████████████████████▍       | 317kB 23.0MB/s eta 0:00:01\r\u001b[K     |█████████████████████████▏      | 327kB 23.0MB/s eta 0:00:01\r\u001b[K     |██████████████████████████      | 337kB 23.0MB/s eta 0:00:01\r\u001b[K     |██████████████████████████▊     | 348kB 23.0MB/s eta 0:00:01\r\u001b[K     |███████████████████████████▌    | 358kB 23.0MB/s eta 0:00:01\r\u001b[K     |████████████████████████████▎   | 368kB 23.0MB/s eta 0:00:01\r\u001b[K     |█████████████████████████████   | 378kB 23.0MB/s eta 0:00:01\r\u001b[K     |█████████████████████████████▉  | 389kB 23.0MB/s eta 0:00:01\r\u001b[K     |██████████████████████████████▋ | 399kB 23.0MB/s eta 0:00:01\r\u001b[K     |███████████████████████████████▌| 409kB 23.0MB/s eta 0:00:01\r\u001b[K     |████████████████████████████████| 419kB 23.0MB/s \n",
            "\u001b[?25hRequirement already satisfied: scipy>=1.1.0 in /usr/local/lib/python3.7/dist-packages (from soynlp) (1.4.1)\n",
            "Requirement already satisfied: psutil>=5.0.1 in /usr/local/lib/python3.7/dist-packages (from soynlp) (5.4.8)\n",
            "Requirement already satisfied: numpy>=1.12.1 in /usr/local/lib/python3.7/dist-packages (from soynlp) (1.19.5)\n",
            "Requirement already satisfied: scikit-learn>=0.20.0 in /usr/local/lib/python3.7/dist-packages (from soynlp) (0.22.2.post1)\n",
            "Requirement already satisfied: joblib>=0.11 in /usr/local/lib/python3.7/dist-packages (from scikit-learn>=0.20.0->soynlp) (1.0.1)\n",
            "Installing collected packages: soynlp\n",
            "Successfully installed soynlp-0.0.493\n"
          ],
          "name": "stdout"
        }
      ]
    },
    {
      "cell_type": "markdown",
      "metadata": {
        "id": "ArRICPrm0GPD"
      },
      "source": [
        "1. 신조어 문제\n",
        "\n",
        "soynlp를 소개하기 전에 기존의 형태소 분석기가 가진 문제는 무엇이었는지, SOYNLP가 어떤 점에서 유용한지 정리해봅시다. 기존의 형태소 분석기는 신조어나 형태소 분석기에 등록되지 않은 단어 같은 경우에는 제대로 구분하지 못하는 단점이 있었습니다."
      ]
    },
    {
      "cell_type": "code",
      "metadata": {
        "colab": {
          "base_uri": "https://localhost:8080/"
        },
        "id": "XfxN9nfl0Jiy",
        "outputId": "578d981c-003e-413e-895d-bd2b6479d42b"
      },
      "source": [
        "from konlpy.tag import Okt\n",
        "tokenizer = Okt()\n",
        "print(tokenizer.morphs('에이비식스 이대휘 1월 최애돌 기부 요정'))"
      ],
      "execution_count": null,
      "outputs": [
        {
          "output_type": "stream",
          "text": [
            "['에이', '비식스', '이대', '휘', '1월', '최애', '돌', '기부', '요정']\n"
          ],
          "name": "stdout"
        }
      ]
    },
    {
      "cell_type": "markdown",
      "metadata": {
        "id": "NZiKWdSO0Lgc"
      },
      "source": [
        "에이비식스는 아이돌의 이름이고, 이대휘는 에이비식스의 멤버이며, 최애돌은 최고로 애정하는 캐릭터라는 뜻이지만 위의 형태소 분석 결과에서는 전부 분리된 결과를 보여줍니다.\n",
        "\n",
        "그렇다면 텍스트 데이터에서 특정 문자 시퀀스가 함께 자주 등장하는 빈도가 높고, 앞 뒤로 조사 또는 완전히 다른 단어가 등장하는 것을 고려해서 해당 문자 시퀀스를 형태소라고 판단하는 단어 토크나이저라면 어떨까요?\n",
        "\n",
        "예를 들어 에이비식스라는 문자열이 자주 연결되어 등장한다면 한 단어라고 판단하고, 또한 에이비식스라는 단어 앞, 뒤에 '최고', '가수', '실력'과 같은 독립된 다른 단어들이 계속해서 등장한다면 에이비식스를 한 단어로 파악하는 식이지요. 그리고 이런 아이디어를 가진 단어 토크나이저가 soynlp입니다.\n",
        "\n",
        "\n",
        "2. 학습하기\n",
        "\n",
        "soynlp는 기본적으로 학습에 기반한 토크나이저이므로 학습에 필요한 한국어 문서를 다운로드합니다."
      ]
    },
    {
      "cell_type": "code",
      "metadata": {
        "id": "ozzTo7h00K_T"
      },
      "source": [
        "import urllib.request\n",
        "from soynlp import DoublespaceLineCorpus\n",
        "from soynlp.word import WordExtractor"
      ],
      "execution_count": null,
      "outputs": []
    },
    {
      "cell_type": "code",
      "metadata": {
        "colab": {
          "base_uri": "https://localhost:8080/"
        },
        "id": "T1DZw3At0XG5",
        "outputId": "4ca4da10-30cd-4a98-d454-91691e029b95"
      },
      "source": [
        "urllib.request.urlretrieve(\"https://raw.githubusercontent.com/lovit/soynlp/master/tutorials/2016-10-20.txt\", filename=\"2016-10-20.txt\")"
      ],
      "execution_count": null,
      "outputs": [
        {
          "output_type": "execute_result",
          "data": {
            "text/plain": [
              "('2016-10-20.txt', <http.client.HTTPMessage at 0x7ffb2898cb10>)"
            ]
          },
          "metadata": {
            "tags": []
          },
          "execution_count": 103
        }
      ]
    },
    {
      "cell_type": "code",
      "metadata": {
        "colab": {
          "base_uri": "https://localhost:8080/"
        },
        "id": "sX_FhooW0SLV",
        "outputId": "2da15e7c-2b35-454b-d1a3-f1175f83c626"
      },
      "source": [
        "# 훈련 데이터를 다수의 문서로 분리\n",
        "corpus = DoublespaceLineCorpus(\"2016-10-20.txt\")\n",
        "len(corpus)"
      ],
      "execution_count": null,
      "outputs": [
        {
          "output_type": "execute_result",
          "data": {
            "text/plain": [
              "30091"
            ]
          },
          "metadata": {
            "tags": []
          },
          "execution_count": 104
        }
      ]
    },
    {
      "cell_type": "code",
      "metadata": {
        "colab": {
          "base_uri": "https://localhost:8080/"
        },
        "id": "jKv814Vf0bs-",
        "outputId": "6a02115b-79db-440b-972e-9ba679d6ff83"
      },
      "source": [
        "i = 0\n",
        "for document in corpus:\n",
        "  if len(document) > 0:\n",
        "    print(document)\n",
        "    i = i+1\n",
        "  if i == 3:\n",
        "    break"
      ],
      "execution_count": null,
      "outputs": [
        {
          "output_type": "stream",
          "text": [
            "19  1990  52 1 22\n",
            "오패산터널 총격전 용의자 검거 서울 연합뉴스 경찰 관계자들이 19일 오후 서울 강북구 오패산 터널 인근에서 사제 총기를 발사해 경찰을 살해한 용의자 성모씨를 검거하고 있다 성씨는 검거 당시 서바이벌 게임에서 쓰는 방탄조끼에 헬멧까지 착용한 상태였다 독자제공 영상 캡처 연합뉴스  서울 연합뉴스 김은경 기자 사제 총기로 경찰을 살해한 범인 성모 46 씨는 주도면밀했다  경찰에 따르면 성씨는 19일 오후 강북경찰서 인근 부동산 업소 밖에서 부동산업자 이모 67 씨가 나오기를 기다렸다 이씨와는 평소에도 말다툼을 자주 한 것으로 알려졌다  이씨가 나와 걷기 시작하자 성씨는 따라가면서 미리 준비해온 사제 총기를 이씨에게 발사했다 총알이 빗나가면서 이씨는 도망갔다 그 빗나간 총알은 지나가던 행인 71 씨의 배를 스쳤다  성씨는 강북서 인근 치킨집까지 이씨 뒤를 쫓으며 실랑이하다 쓰러뜨린 후 총기와 함께 가져온 망치로 이씨 머리를 때렸다  이 과정에서 오후 6시 20분께 강북구 번동 길 위에서 사람들이 싸우고 있다 총소리가 났다 는 등의 신고가 여러건 들어왔다  5분 후에 성씨의 전자발찌가 훼손됐다는 신고가 보호관찰소 시스템을 통해 들어왔다 성범죄자로 전자발찌를 차고 있던 성씨는 부엌칼로 직접 자신의 발찌를 끊었다  용의자 소지 사제총기 2정 서울 연합뉴스 임헌정 기자 서울 시내에서 폭행 용의자가 현장 조사를 벌이던 경찰관에게 사제총기를 발사해 경찰관이 숨졌다 19일 오후 6시28분 강북구 번동에서 둔기로 맞았다 는 폭행 피해 신고가 접수돼 현장에서 조사하던 강북경찰서 번동파출소 소속 김모 54 경위가 폭행 용의자 성모 45 씨가 쏜 사제총기에 맞고 쓰러진 뒤 병원에 옮겨졌으나 숨졌다 사진은 용의자가 소지한 사제총기  신고를 받고 번동파출소에서 김창호 54 경위 등 경찰들이 오후 6시 29분께 현장으로 출동했다 성씨는 그사이 부동산 앞에 놓아뒀던 가방을 챙겨 오패산 쪽으로 도망간 후였다  김 경위는 오패산 터널 입구 오른쪽의 급경사에서 성씨에게 접근하다가 오후 6시 33분께 풀숲에 숨은 성씨가 허공에 난사한 10여발의 총알 중 일부를 왼쪽 어깨 뒷부분에 맞고 쓰러졌다  김 경위는 구급차가 도착했을 때 이미 의식이 없었고 심폐소생술을 하며 병원으로 옮겨졌으나 총알이 폐를 훼손해 오후 7시 40분께 사망했다  김 경위는 외근용 조끼를 입고 있었으나 총알을 막기에는 역부족이었다  머리에 부상을 입은 이씨도 함께 병원으로 이송됐으나 생명에는 지장이 없는 것으로 알려졌다  성씨는 오패산 터널 밑쪽 숲에서 오후 6시 45분께 잡혔다  총격현장 수색하는 경찰들 서울 연합뉴스 이효석 기자 19일 오후 서울 강북구 오패산 터널 인근에서 경찰들이 폭행 용의자가 사제총기를 발사해 경찰관이 사망한 사건을 조사 하고 있다  총 때문에 쫓던 경관들과 민간인들이 몸을 숨겼는데 인근 신발가게 직원 이모씨가 다가가 성씨를 덮쳤고 이어 현장에 있던 다른 상인들과 경찰이 가세해 체포했다  성씨는 경찰에 붙잡힌 직후 나 자살하려고 한 거다 맞아 죽어도 괜찮다 고 말한 것으로 전해졌다  성씨 자신도 경찰이 발사한 공포탄 1발 실탄 3발 중 실탄 1발을 배에 맞았으나 방탄조끼를 입은 상태여서 부상하지는 않았다  경찰은 인근을 수색해 성씨가 만든 사제총 16정과 칼 7개를 압수했다 실제 폭발할지는 알 수 없는 요구르트병에 무언가를 채워두고 심지를 꽂은 사제 폭탄도 발견됐다  일부는 숲에서 발견됐고 일부는 성씨가 소지한 가방 안에 있었다\n",
            "테헤란 연합뉴스 강훈상 특파원 이용 승객수 기준 세계 최대 공항인 아랍에미리트 두바이국제공항은 19일 현지시간 이 공항을 이륙하는 모든 항공기의 탑승객은 삼성전자의 갤럭시노트7을 휴대하면 안 된다고 밝혔다  두바이국제공항은 여러 항공 관련 기구의 권고에 따라 안전성에 우려가 있는 스마트폰 갤럭시노트7을 휴대하고 비행기를 타면 안 된다 며 탑승 전 검색 중 발견되면 압수할 계획 이라고 발표했다  공항 측은 갤럭시노트7의 배터리가 폭발 우려가 제기된 만큼 이 제품을 갖고 공항 안으로 들어오지 말라고 이용객에 당부했다  이런 조치는 두바이국제공항 뿐 아니라 신공항인 두바이월드센터에도 적용된다  배터리 폭발문제로 회수된 갤럭시노트7 연합뉴스자료사진\n"
          ],
          "name": "stdout"
        }
      ]
    },
    {
      "cell_type": "code",
      "metadata": {
        "colab": {
          "base_uri": "https://localhost:8080/"
        },
        "id": "CLNlJfkO0gI9",
        "outputId": "26856b6e-d01b-44c8-96ea-5553ff1c90c0"
      },
      "source": [
        "word_extractor = WordExtractor()\n",
        "word_extractor.train(corpus)\n",
        "word_score_table = word_extractor.extract()"
      ],
      "execution_count": null,
      "outputs": [
        {
          "output_type": "stream",
          "text": [
            "training was done. used memory 2.446 Gb\n",
            "all cohesion probabilities was computed. # words = 223348\n",
            "all branching entropies was computed # words = 361598\n",
            "all accessor variety was computed # words = 361598\n"
          ],
          "name": "stdout"
        }
      ]
    },
    {
      "cell_type": "markdown",
      "metadata": {
        "id": "Tenps97U0eSi"
      },
      "source": [
        "정상 출력되는 것을 확인하였습니다. soynlp는 학습 기반의 단어 토크나이저이므로 기존의 KoNLPy에서 제공하는 형태소 분석기들과는 달리 학습 과정을 거쳐야 합니다. 이는 전체 코퍼스로부터 응집 확률과 브랜칭 엔트로피 단어 점수표를 만드는 과정입니다. WordExtractor.extract()를 통해서 전체 코퍼스에 대해 단어 점수표를 계산합니다."
      ]
    },
    {
      "cell_type": "code",
      "metadata": {
        "colab": {
          "base_uri": "https://localhost:8080/"
        },
        "id": "6eOcZRpq5Vdy",
        "outputId": "2972f935-5594-49a5-a7e6-8b5e17ef92b6"
      },
      "source": [
        "word_extractor = WordExtractor()\n",
        "word_extractor.train(corpus)\n",
        "word_score_table = word_extractor.extract()"
      ],
      "execution_count": null,
      "outputs": [
        {
          "output_type": "stream",
          "text": [
            "training was done. used memory 2.507 Gb\n",
            "all cohesion probabilities was computed. # words = 223348\n",
            "all branching entropies was computed # words = 361598\n",
            "all accessor variety was computed # words = 361598\n"
          ],
          "name": "stdout"
        }
      ]
    },
    {
      "cell_type": "markdown",
      "metadata": {
        "id": "WXAaTvPR5Zvn"
      },
      "source": [
        "# SOYNLP의 응집 확률(cohesion probability)\n",
        "\n",
        "응집 확률은 내부 문자열(substring)이 얼마나 응집하여 자주 등장하는지를 판단하는 척도입니다. 응집 확률은 문자열을 문자 단위로 분리하여 내부 문자열을 만드는 과정에서 왼쪽부터 순서대로 문자를 추가하면서 각 문자열이 주어졌을 때 그 다음 문자가 나올 확률을 계산하여 누적곱을 한 값입니다. 이 값이 높을수록 전체 코퍼스에서 이 문자열 시퀀스는 하나의 단어로 등장할 가능성이 높습니다. 수식은 아래와 같습니다.\n",
        "\n",
        "<figure>\n",
        "<img src = 'https://wikidocs.net/images/page/92961/%EC%88%98%EC%8B%9D.png'>\n",
        "<figure>\n",
        "\n",
        "'반포한강공원에'라는 7의 길이를 가진 문자 시퀀스에 대해서 각 내부 문자열의 스코어를 구하는 과정은 아래와 같습니다.\n",
        "\n",
        "<figure>\n",
        "<img src = 'https://wikidocs.net/images/page/92961/%EC%88%98%EC%8B%9D2.png'>\n",
        "<figure>\n",
        "\n",
        "실습을 통해 직접 응집 확률을 계산해보겠습니다"
      ]
    },
    {
      "cell_type": "code",
      "metadata": {
        "colab": {
          "base_uri": "https://localhost:8080/"
        },
        "id": "FI3ldGli5yOL",
        "outputId": "5bff726d-d726-465c-cce6-ecb96c6ceaf2"
      },
      "source": [
        "word_score_table[\"반포한\"].cohesion_forward"
      ],
      "execution_count": null,
      "outputs": [
        {
          "output_type": "execute_result",
          "data": {
            "text/plain": [
              "0.08838002913645132"
            ]
          },
          "metadata": {
            "tags": []
          },
          "execution_count": 108
        }
      ]
    },
    {
      "cell_type": "markdown",
      "metadata": {
        "id": "2FJyxKWx51NQ"
      },
      "source": [
        "그렇다면 '반포한강'의 응집 확률은 '반포한'의 응집 확률보다 높을까요?"
      ]
    },
    {
      "cell_type": "code",
      "metadata": {
        "colab": {
          "base_uri": "https://localhost:8080/"
        },
        "id": "4tb-LQ5C54Wu",
        "outputId": "7d0482a1-096d-4b3f-db1a-c570a81e721b"
      },
      "source": [
        "word_score_table[\"반포한강\"].cohesion_forward"
      ],
      "execution_count": null,
      "outputs": [
        {
          "output_type": "execute_result",
          "data": {
            "text/plain": [
              "0.19841268168224552"
            ]
          },
          "metadata": {
            "tags": []
          },
          "execution_count": 109
        }
      ]
    },
    {
      "cell_type": "markdown",
      "metadata": {
        "id": "hYI4plFD56IZ"
      },
      "source": [
        "'반포한강'은 '반포한'보다 응집 확률이 높습니다. 그렇다면 '반포한강공'은 어떨까요?"
      ]
    },
    {
      "cell_type": "code",
      "metadata": {
        "colab": {
          "base_uri": "https://localhost:8080/"
        },
        "id": "d564rhpI58Tx",
        "outputId": "b5a5faa7-1dc3-4ff3-921e-14735883eeb7"
      },
      "source": [
        "word_score_table[\"반포한강공\"].cohesion_forward"
      ],
      "execution_count": null,
      "outputs": [
        {
          "output_type": "execute_result",
          "data": {
            "text/plain": [
              "0.2972877884078849"
            ]
          },
          "metadata": {
            "tags": []
          },
          "execution_count": 110
        }
      ]
    },
    {
      "cell_type": "markdown",
      "metadata": {
        "id": "Gh5_y1nh5-ar"
      },
      "source": [
        "역시나 '반포한강'보다 응집 확률이 높습니다. '반포한강공원'은 어떨까요?"
      ]
    },
    {
      "cell_type": "code",
      "metadata": {
        "id": "JJeNLZlN6AOP",
        "colab": {
          "base_uri": "https://localhost:8080/"
        },
        "outputId": "ae4e019d-c9b4-44b6-cde4-8d979562c85a"
      },
      "source": [
        "word_score_table[\"반포한강공원\"].cohesion_forward"
      ],
      "execution_count": null,
      "outputs": [
        {
          "output_type": "execute_result",
          "data": {
            "text/plain": [
              "0.37891487632839754"
            ]
          },
          "metadata": {
            "tags": []
          },
          "execution_count": 111
        }
      ]
    },
    {
      "cell_type": "markdown",
      "metadata": {
        "id": "gySYEHLX6BxT"
      },
      "source": [
        "'반포한강공'보다 응집 확률이 높습니다. 여기다가 조사 '에'를 붙인 '반포한강공원에'는 어떨까요?"
      ]
    },
    {
      "cell_type": "code",
      "metadata": {
        "id": "FhQGhujV6Dp1",
        "colab": {
          "base_uri": "https://localhost:8080/"
        },
        "outputId": "5bdefb1d-3906-4763-b522-3e9e7e153e44"
      },
      "source": [
        "word_score_table[\"반포한강공원에\"].cohesion_forward"
      ],
      "execution_count": null,
      "outputs": [
        {
          "output_type": "execute_result",
          "data": {
            "text/plain": [
              "0.33492963377557666"
            ]
          },
          "metadata": {
            "tags": []
          },
          "execution_count": 112
        }
      ]
    },
    {
      "cell_type": "markdown",
      "metadata": {
        "id": "fQMfrAgW6FTB"
      },
      "source": [
        "오히려 '반포한강공원'보다 응집도가 낮아집니다. 결국 결합도는 '반포한강공원'일 때가 가장 높았습니다. 응집도를 통해 판단하기에 하나의 단어로 판단하기에 가장 적합한 문자열은 '반포한강공원'이라고 볼 수 있겠네요."
      ]
    },
    {
      "cell_type": "markdown",
      "metadata": {
        "id": "TujL6BDkm5lY"
      },
      "source": [
        "# 언어 모델(Language Model)\n",
        "\n",
        "크게는 통계를 이용한 방법과 인공 신경망을 이용한 방법으로 구분이 가능. 최근 핫한 자연어 처리 신기술인  GPT 나 Bert, Transformer 또한 인공 신경망 모델 기반\n",
        "\n",
        "## 언어 모델(Language Model)\n",
        "- 가장 보편저으로 사용되는 방법은 언어 모델이 이전 단어들이 주어졌을 때 다음 단어를 예측하도록 하는 것."
      ]
    },
    {
      "cell_type": "markdown",
      "metadata": {
        "id": "jXjjzD0W6a3Z"
      },
      "source": [
        "참고 :https://datascienceschool.net/03%20machine%20learning/03.01.05%20%ED%99%95%EB%A5%A0%EB%A1%A0%EC%A0%81%20%EC%96%B8%EC%96%B4%20%EB%AA%A8%ED%98%95.html\n",
        "# 확률론적 언어 모형\n",
        "확률론적 언어 모형(Probabilitstic Language Model)은 m개의 단어 $w_1,w_2,\\dots,w_m$ 열(word sequenace)이 주어졌을 때 문장으로써 성립될 확률 $P(w_1,w_2,\\dots,w_m)$을 출력함으로써 이 단어 열이 실제로 현실에서 사용될 수 있는 문장(sentence)인지를 판별하는 모형\n",
        "\n",
        "$P(w_1,w_2,\\dots,w_m) = P(w_1,w_2, \\dots, w_{m-1})~{\\cdot}~ P(w_m {\\mid}w_1,w_2, \\dots,w_{m-1}) $\n",
        "\n",
        "$~~~~~~~~~~~~~~~~~~~~~~~~~~~~~~~=P(w_1,w_2,\\dots,w_{m-2})~{\\cdot}~ P(w_{m-1}|w_1,w_2,\\dots,w_{m-2}) ~{\\cdot}~ P(w_{m}|w_1,w_2,\\dots,w_{m-1}) $\n",
        "\n",
        "$~~~~~~~~~~~~~~~~~~~~~~~~~~~~~~~=P(w_1)~{\\cdot}~P(w_2 {\\mid} w_1)~{\\cdot}~ P(w_3 {\\mid} w_1,w_2)~{\\cdot}~P(w_4 {\\mid} w_1,w_2,w_3)~{\\cdots}~ P(w_4 {\\mid} w_1,w_2,w_3)$\n",
        "\n",
        "\n",
        "여기서 $P(w_m {\\mid}w_1,w_2, \\dots,w_{m-1})$ 은 지금까지 $w_1,w_2,\\cdots,w_{m-1}$라는 단어 열이 나왔을 때, 그 다음 단어로 $w_m$이 나올 조건부 확률을 말함. 여기에서 지금까지 나온 단어를 문맥(context) 정보라고 한다.\n",
        "\n",
        "\n",
        "## 유니그램 모형\n",
        "- 만약 모든 단어의 활용이 완전히 서로 독립이라면, 단어 열의 확률은 다음과 같이 각 단어의 확률의 곱이 된다. 이러한 모형을 유니그램 모형이라고 한다.\n",
        "\n",
        "$~~~~~~~~~~~~~~~~~~~~~~~~~~~~~~~~~~~~~~~~~~P(w_1,w_2,\\cdots,w_m) = \\Pi_{i=1}^m P(w_i)$\n",
        "\n",
        "## 바이그램 모형\n",
        "- 만약 단어의 활용이 바로 전 단어에만 의존한다면 단어 열의 확률은 다음과 같다. 이러한 모형을 바이그램 모형 또는 마코프 모형(markov model)이라고 한다.\n",
        "\n",
        "$~~~~~~~~~~~~~~~~~~~~~~~~~~~~~~~~~~~~~~~~~~P(w_1,w_2,\\cdots,w_m) = P(w_1) \\Pi_{i=2}^m P(w_i {\\mid} w_{i-1})$\n",
        "\n",
        "## N-gram 모형\n",
        "\n",
        "- 만약 단어의 활용이 바로 전 $n-1$개의 단어에만 의존한다면 단어 열의 확률은 다음과 같다. 이러한 모형을 N그램 모형이라고 한다.\n",
        "\n",
        "$~~~~~~~~~~~~~~~~~~~~~~~~~~~~~~~~~~~~~~~~~~P(w_1,w_2,\\cdots,w_m) = P(w_1) \\Pi_{i=n}^m P(w_i {\\mid} w_{i-1}, \\cdots,w_{i-n})$"
      ]
    },
    {
      "cell_type": "markdown",
      "metadata": {
        "id": "PSEaDBDYBWyb"
      },
      "source": [
        "# 조건부 확률 추정 방법\n"
      ]
    },
    {
      "cell_type": "code",
      "metadata": {
        "id": "d-nMnQUVCFTg"
      },
      "source": [
        "from nltk import ConditionalFreqDist\n",
        "from nltk.tokenize import word_tokenize\n",
        "from nltk.util import ngrams\n",
        "\n",
        "sentence = \"I am a boy.\"\n",
        "tokens = word_tokenize(sentence)\n",
        "bigram = ngrams(tokens, 2, pad_left=True, pad_right=True, left_pad_symbol=\"SS\", right_pad_symbol=\"SE\")\n",
        "cfd = ConditionalFreqDist([(t[0], t[1]) for t in bigram])"
      ],
      "execution_count": null,
      "outputs": []
    },
    {
      "cell_type": "code",
      "metadata": {
        "id": "mNlg3YsxCFbo",
        "colab": {
          "base_uri": "https://localhost:8080/"
        },
        "outputId": "3b605950-d244-4e83-d0e0-e63fa24a9c9f"
      },
      "source": [
        "cfd.conditions()"
      ],
      "execution_count": null,
      "outputs": [
        {
          "output_type": "execute_result",
          "data": {
            "text/plain": [
              "['SS', 'I', 'am', 'a', 'boy', '.']"
            ]
          },
          "metadata": {
            "tags": []
          },
          "execution_count": 114
        }
      ]
    },
    {
      "cell_type": "code",
      "metadata": {
        "id": "WrpD6ErXCHMJ",
        "colab": {
          "base_uri": "https://localhost:8080/"
        },
        "outputId": "7c956045-eb95-4749-b9e1-b1e694221599"
      },
      "source": [
        "cfd[\"SS\"]"
      ],
      "execution_count": null,
      "outputs": [
        {
          "output_type": "execute_result",
          "data": {
            "text/plain": [
              "FreqDist({'I': 1})"
            ]
          },
          "metadata": {
            "tags": []
          },
          "execution_count": 115
        }
      ]
    },
    {
      "cell_type": "markdown",
      "metadata": {
        "id": "BMaVUgPfP0JV"
      },
      "source": [
        "다음은 nltk 패키지의 샘플 코퍼스인 movie_reviews의 텍스트로부터 바이그램 확률을 추정하는 예제이다."
      ]
    },
    {
      "cell_type": "code",
      "metadata": {
        "id": "xBc_f1lQCIjl",
        "colab": {
          "base_uri": "https://localhost:8080/"
        },
        "outputId": "e82b1c7c-7fb1-4238-e806-f1529510f6db"
      },
      "source": [
        " import nltk\n",
        "nltk.download('movie_reviews')\n",
        "nltk.download('punkt')\n",
        "from nltk.corpus import movie_reviews\n",
        "\n",
        "sentences = []\n",
        "for tokens in movie_reviews.sents():\n",
        "    bigram = ngrams(tokens, 2, pad_left=True, pad_right=True, left_pad_symbol=\"SS\", right_pad_symbol=\"SE\")\n",
        "    sentences += [t for t in bigram]\n",
        "\n",
        "sentences[:20]"
      ],
      "execution_count": null,
      "outputs": [
        {
          "output_type": "stream",
          "text": [
            "[nltk_data] Downloading package movie_reviews to /root/nltk_data...\n",
            "[nltk_data]   Unzipping corpora/movie_reviews.zip.\n",
            "[nltk_data] Downloading package punkt to /root/nltk_data...\n",
            "[nltk_data]   Package punkt is already up-to-date!\n"
          ],
          "name": "stdout"
        },
        {
          "output_type": "execute_result",
          "data": {
            "text/plain": [
              "[('SS', 'plot'),\n",
              " ('plot', ':'),\n",
              " (':', 'two'),\n",
              " ('two', 'teen'),\n",
              " ('teen', 'couples'),\n",
              " ('couples', 'go'),\n",
              " ('go', 'to'),\n",
              " ('to', 'a'),\n",
              " ('a', 'church'),\n",
              " ('church', 'party'),\n",
              " ('party', ','),\n",
              " (',', 'drink'),\n",
              " ('drink', 'and'),\n",
              " ('and', 'then'),\n",
              " ('then', 'drive'),\n",
              " ('drive', '.'),\n",
              " ('.', 'SE'),\n",
              " ('SS', 'they'),\n",
              " ('they', 'get'),\n",
              " ('get', 'into')]"
            ]
          },
          "metadata": {
            "tags": []
          },
          "execution_count": 116
        }
      ]
    },
    {
      "cell_type": "code",
      "metadata": {
        "id": "grNPlQEgP1NQ"
      },
      "source": [
        "cfd = ConditionalFreqDist(sentences)"
      ],
      "execution_count": null,
      "outputs": []
    },
    {
      "cell_type": "code",
      "metadata": {
        "id": "Xa9hFFDxP2Tp",
        "colab": {
          "base_uri": "https://localhost:8080/"
        },
        "outputId": "a6f8b5e9-c819-4869-9eb6-559ad0b722b7"
      },
      "source": [
        "cfd[\"SS\"].most_common(5)"
      ],
      "execution_count": null,
      "outputs": [
        {
          "output_type": "execute_result",
          "data": {
            "text/plain": [
              "[('the', 8071), ('.', 3173), ('it', 3136), ('i', 2471), ('but', 1814)]"
            ]
          },
          "metadata": {
            "tags": []
          },
          "execution_count": 118
        }
      ]
    },
    {
      "cell_type": "code",
      "metadata": {
        "id": "Iw0a8qtIP3PW",
        "colab": {
          "base_uri": "https://localhost:8080/"
        },
        "outputId": "33b221c8-1cab-4de4-87bc-56c3bd73f209"
      },
      "source": [
        "cfd[\"i\"].most_common(5)"
      ],
      "execution_count": null,
      "outputs": [
        {
          "output_type": "execute_result",
          "data": {
            "text/plain": [
              "[(\"'\", 1357), ('was', 506), ('can', 351), ('have', 330), ('don', 276)]"
            ]
          },
          "metadata": {
            "tags": []
          },
          "execution_count": 119
        }
      ]
    },
    {
      "cell_type": "code",
      "metadata": {
        "id": "wjV4OOG6P9uP",
        "colab": {
          "base_uri": "https://localhost:8080/"
        },
        "outputId": "ae5a6440-b578-4c6a-bfac-09bf69613eb6"
      },
      "source": [
        "cfd[\".\"].most_common(5)"
      ],
      "execution_count": null,
      "outputs": [
        {
          "output_type": "execute_result",
          "data": {
            "text/plain": [
              "[('SE', 63404), ('\"', 1854), (')', 535), (\"'\", 70), (']', 10)]"
            ]
          },
          "metadata": {
            "tags": []
          },
          "execution_count": 120
        }
      ]
    },
    {
      "cell_type": "code",
      "metadata": {
        "id": "pbddF7e0P-gb",
        "colab": {
          "base_uri": "https://localhost:8080/",
          "height": 1000
        },
        "outputId": "7f09f2e4-2957-4dd2-e038-1cc4f5c628ae"
      },
      "source": [
        "import matplotlib.pyplot as plt\n",
        "plt.subplot(311)\n",
        "cfd[\"SS\"].plot(5, title=\"문장의 첫단어 분포\")\n",
        "plt.subplot(312)\n",
        "cfd[\"i\"].plot(5, title=\"i 다음 단어의 분포\")\n",
        "plt.subplot(313)\n",
        "cfd[\".\"].plot(5, title=\". 다음 단어의 분포\")"
      ],
      "execution_count": null,
      "outputs": [
        {
          "output_type": "stream",
          "text": [
            "/usr/local/lib/python3.7/dist-packages/matplotlib/backends/backend_agg.py:214: RuntimeWarning: Glyph 47928 missing from current font.\n",
            "  font.set_text(s, 0.0, flags=flags)\n",
            "/usr/local/lib/python3.7/dist-packages/matplotlib/backends/backend_agg.py:214: RuntimeWarning: Glyph 51109 missing from current font.\n",
            "  font.set_text(s, 0.0, flags=flags)\n",
            "/usr/local/lib/python3.7/dist-packages/matplotlib/backends/backend_agg.py:214: RuntimeWarning: Glyph 51032 missing from current font.\n",
            "  font.set_text(s, 0.0, flags=flags)\n",
            "/usr/local/lib/python3.7/dist-packages/matplotlib/backends/backend_agg.py:214: RuntimeWarning: Glyph 52395 missing from current font.\n",
            "  font.set_text(s, 0.0, flags=flags)\n",
            "/usr/local/lib/python3.7/dist-packages/matplotlib/backends/backend_agg.py:214: RuntimeWarning: Glyph 45800 missing from current font.\n",
            "  font.set_text(s, 0.0, flags=flags)\n",
            "/usr/local/lib/python3.7/dist-packages/matplotlib/backends/backend_agg.py:214: RuntimeWarning: Glyph 50612 missing from current font.\n",
            "  font.set_text(s, 0.0, flags=flags)\n",
            "/usr/local/lib/python3.7/dist-packages/matplotlib/backends/backend_agg.py:214: RuntimeWarning: Glyph 48516 missing from current font.\n",
            "  font.set_text(s, 0.0, flags=flags)\n",
            "/usr/local/lib/python3.7/dist-packages/matplotlib/backends/backend_agg.py:214: RuntimeWarning: Glyph 54252 missing from current font.\n",
            "  font.set_text(s, 0.0, flags=flags)\n",
            "/usr/local/lib/python3.7/dist-packages/matplotlib/backends/backend_agg.py:183: RuntimeWarning: Glyph 47928 missing from current font.\n",
            "  font.set_text(s, 0, flags=flags)\n",
            "/usr/local/lib/python3.7/dist-packages/matplotlib/backends/backend_agg.py:183: RuntimeWarning: Glyph 51109 missing from current font.\n",
            "  font.set_text(s, 0, flags=flags)\n",
            "/usr/local/lib/python3.7/dist-packages/matplotlib/backends/backend_agg.py:183: RuntimeWarning: Glyph 51032 missing from current font.\n",
            "  font.set_text(s, 0, flags=flags)\n",
            "/usr/local/lib/python3.7/dist-packages/matplotlib/backends/backend_agg.py:183: RuntimeWarning: Glyph 52395 missing from current font.\n",
            "  font.set_text(s, 0, flags=flags)\n",
            "/usr/local/lib/python3.7/dist-packages/matplotlib/backends/backend_agg.py:183: RuntimeWarning: Glyph 45800 missing from current font.\n",
            "  font.set_text(s, 0, flags=flags)\n",
            "/usr/local/lib/python3.7/dist-packages/matplotlib/backends/backend_agg.py:183: RuntimeWarning: Glyph 50612 missing from current font.\n",
            "  font.set_text(s, 0, flags=flags)\n",
            "/usr/local/lib/python3.7/dist-packages/matplotlib/backends/backend_agg.py:183: RuntimeWarning: Glyph 48516 missing from current font.\n",
            "  font.set_text(s, 0, flags=flags)\n",
            "/usr/local/lib/python3.7/dist-packages/matplotlib/backends/backend_agg.py:183: RuntimeWarning: Glyph 54252 missing from current font.\n",
            "  font.set_text(s, 0, flags=flags)\n"
          ],
          "name": "stderr"
        },
        {
          "output_type": "display_data",
          "data": {
            "image/png": "[encoded data removed]",
            "text/plain": [
              "<Figure size 432x288 with 1 Axes>"
            ]
          },
          "metadata": {
            "tags": [],
            "needs_background": "light"
          }
        },
        {
          "output_type": "stream",
          "text": [
            "/usr/local/lib/python3.7/dist-packages/matplotlib/backends/backend_agg.py:214: RuntimeWarning: Glyph 45796 missing from current font.\n",
            "  font.set_text(s, 0.0, flags=flags)\n",
            "/usr/local/lib/python3.7/dist-packages/matplotlib/backends/backend_agg.py:214: RuntimeWarning: Glyph 51020 missing from current font.\n",
            "  font.set_text(s, 0.0, flags=flags)\n",
            "/usr/local/lib/python3.7/dist-packages/matplotlib/backends/backend_agg.py:183: RuntimeWarning: Glyph 45796 missing from current font.\n",
            "  font.set_text(s, 0, flags=flags)\n",
            "/usr/local/lib/python3.7/dist-packages/matplotlib/backends/backend_agg.py:183: RuntimeWarning: Glyph 51020 missing from current font.\n",
            "  font.set_text(s, 0, flags=flags)\n"
          ],
          "name": "stderr"
        },
        {
          "output_type": "display_data",
          "data": {
            "image/png": "[encoded data removed]",
            "text/plain": [
              "<Figure size 432x288 with 1 Axes>"
            ]
          },
          "metadata": {
            "tags": [],
            "needs_background": "light"
          }
        },
        {
          "output_type": "display_data",
          "data": {
            "image/png": "[encoded data removed]",
            "text/plain": [
              "<Figure size 432x288 with 1 Axes>"
            ]
          },
          "metadata": {
            "tags": [],
            "needs_background": "light"
          }
        }
      ]
    },
    {
      "cell_type": "markdown",
      "metadata": {
        "id": "RfO8ekONQTOi"
      },
      "source": [
        "빈도를 추정하면 각각의 조건부 확률은 기본적으로 다음과 같이 추정을 할 수 있다.\n",
        "\n",
        "$~~~~~~~~~~~~~~P(w {\\mid} w_c){\\dfrac {C(w_c,w)}{C(w_c)}}$\n",
        "\n",
        "위 식에서 $C(w_c,w)$은 말뭉치에서 $(w_c,w)라는 바이그램이 나타내는 횟수 $C(w_c)$은 전체 말뭉치에서 $(W_c)$라는 유니그램(단어)이 나타는 횟수"
      ]
    },
    {
      "cell_type": "code",
      "metadata": {
        "id": "CQCbpS1YQANl"
      },
      "source": [
        "from nltk.probability import ConditionalProbDist, MLEProbDist\n",
        "cpd = ConditionalProbDist(cfd, MLEProbDist)"
      ],
      "execution_count": null,
      "outputs": []
    },
    {
      "cell_type": "code",
      "metadata": {
        "id": "LYvW2gnPSfA4",
        "colab": {
          "base_uri": "https://localhost:8080/"
        },
        "outputId": "b9c2297d-f6f1-4641-971c-eb567cdf8eda"
      },
      "source": [
        "cpd[\"i\"].prob(\"am\") # 트레이닝이 끝나면 조건부 확률의 값을 보거나 샘플 문장을 입력해서 문장의 로그 확률을 구할 수 있다."
      ],
      "execution_count": null,
      "outputs": [
        {
          "output_type": "execute_result",
          "data": {
            "text/plain": [
              "0.018562267971650354"
            ]
          },
          "metadata": {
            "tags": []
          },
          "execution_count": 123
        }
      ]
    },
    {
      "cell_type": "code",
      "metadata": {
        "id": "L2MMnk2nSkT_",
        "colab": {
          "base_uri": "https://localhost:8080/"
        },
        "outputId": "4938010b-4205-4969-a362-0cb005326368"
      },
      "source": [
        "cpd[\"i\"].prob(\"is\")"
      ],
      "execution_count": null,
      "outputs": [
        {
          "output_type": "execute_result",
          "data": {
            "text/plain": [
              "0.0002249971875351558"
            ]
          },
          "metadata": {
            "tags": []
          },
          "execution_count": 124
        }
      ]
    },
    {
      "cell_type": "code",
      "metadata": {
        "id": "7GPbTO22SlOJ",
        "colab": {
          "base_uri": "https://localhost:8080/"
        },
        "outputId": "cd6d7f0e-ae61-436c-e117-f652e4287248"
      },
      "source": [
        "cpd[\"we\"].prob(\"are\")"
      ],
      "execution_count": null,
      "outputs": [
        {
          "output_type": "execute_result",
          "data": {
            "text/plain": [
              "0.08504504504504505"
            ]
          },
          "metadata": {
            "tags": []
          },
          "execution_count": 125
        }
      ]
    },
    {
      "cell_type": "code",
      "metadata": {
        "id": "ilDTckpUSmYr",
        "colab": {
          "base_uri": "https://localhost:8080/"
        },
        "outputId": "f3caf278-e52c-458e-e3c9-8e0d61d3fc0b"
      },
      "source": [
        "cpd[\"we\"].prob(\"is\")"
      ],
      "execution_count": null,
      "outputs": [
        {
          "output_type": "execute_result",
          "data": {
            "text/plain": [
              "0.0"
            ]
          },
          "metadata": {
            "tags": []
          },
          "execution_count": 126
        }
      ]
    },
    {
      "cell_type": "markdown",
      "metadata": {
        "id": "pMhPTsXBSn9s"
      },
      "source": [
        "# 바이그램 언어 모형\n",
        "\n",
        "조건부 확률을 알게 되면 각 문장의 확률을 구할 수 있다.\n",
        "\n",
        "바이그램 모형에서는 전체 문장의 확률은 다음과 같이 조건부 확률을 곱으로 나타냄.\n",
        "\n",
        "$~~~~~~~~~~~~~~~P(SS I am a boy SE) = P(I {\\mid} SS) \t\\cdot P(am {\\mid} I) \t\\cdot P(a {\\mid} am) \t\\cdot P(boy {\\mid} a) \t\\cdot P(am {\\mid} I) \\cdot P(. {\\mid} boy )\\cdot P(SE {\\mid} .)$"
      ]
    },
    {
      "cell_type": "code",
      "metadata": {
        "id": "idHXmwMSSnf2"
      },
      "source": [
        "#문장(단어 리스트)의 리스트를 만듬\n",
        "def sentence_score(s):\n",
        "    p = 0.0\n",
        "    for i in range(len(s) - 1):\n",
        "        c = s[i]\n",
        "        w = s[i + 1]\n",
        "        p += np.log(cpd[c].prob(w) + np.finfo(float).eps)\n",
        "    return np.exp(p)"
      ],
      "execution_count": null,
      "outputs": []
    },
    {
      "cell_type": "code",
      "metadata": {
        "id": "3wAIWTgpTqhH",
        "colab": {
          "base_uri": "https://localhost:8080/"
        },
        "outputId": "a24fe87f-31ec-4de7-c940-b0961d8fe6df"
      },
      "source": [
        "test_sentence = [\"i\", \"like\", \"the\", \"movie\", \".\"]\n",
        "sentence_score(test_sentence)"
      ],
      "execution_count": null,
      "outputs": [
        {
          "output_type": "execute_result",
          "data": {
            "text/plain": [
              "2.740764134071561e-06"
            ]
          },
          "metadata": {
            "tags": []
          },
          "execution_count": 128
        }
      ]
    },
    {
      "cell_type": "code",
      "metadata": {
        "id": "A1XRdtEATr4F",
        "colab": {
          "base_uri": "https://localhost:8080/"
        },
        "outputId": "aa363885-808d-4e89-c7fb-4c1b093f9ac9"
      },
      "source": [
        "test_sentence = [\"like\", \"i\", \"the\", \".\", \"movie\"]\n",
        "sentence_score(test_sentence)"
      ],
      "execution_count": null,
      "outputs": [
        {
          "output_type": "execute_result",
          "data": {
            "text/plain": [
              "1.5015040140827832e-38"
            ]
          },
          "metadata": {
            "tags": []
          },
          "execution_count": 129
        }
      ]
    },
    {
      "cell_type": "code",
      "metadata": {
        "id": "oElPFQpPTs6C"
      },
      "source": [
        "#랜덤하게 문장 생성\n",
        "\n",
        "def generate_sentence(seed=None):\n",
        "    if seed is not None:\n",
        "        import random\n",
        "        random.seed(seed)\n",
        "    c = \"SS\"\n",
        "    sentence = []\n",
        "    while True:\n",
        "        if c not in cpd:\n",
        "            break\n",
        "        w = cpd[c].generate()\n",
        "\n",
        "        if w == \"SE\":\n",
        "            break\n",
        "        elif w in [\"i\", \"ii\", \"iii\"]:\n",
        "            w2 = w.upper()\n",
        "        elif w in [\"mr\", \"luc\", \"i\", \"robin\", \"williams\", \"cindy\", \"crawford\"]:\n",
        "            w2 = w.title()\n",
        "        else:\n",
        "            w2 = w\n",
        "\n",
        "        if c == \"SS\":\n",
        "            sentence.append(w2.title())\n",
        "        elif c in [\"`\", \"\\\"\", \"'\", \"(\"]:\n",
        "            sentence.append(w2)\n",
        "        elif w in [\"'\", \".\", \",\", \")\", \":\", \";\", \"?\"]:\n",
        "            sentence.append(w2)\n",
        "        else:\n",
        "            sentence.append(\" \" + w2)\n",
        "\n",
        "        c = w\n",
        "    return \"\".join(sentence)"
      ],
      "execution_count": null,
      "outputs": []
    },
    {
      "cell_type": "code",
      "metadata": {
        "id": "zkr0bMWJTxSz",
        "colab": {
          "base_uri": "https://localhost:8080/",
          "height": 55
        },
        "outputId": "e5c81b43-1534-4011-bb55-513ab4405183"
      },
      "source": [
        "generate_sentence(6)"
      ],
      "execution_count": null,
      "outputs": [
        {
          "output_type": "execute_result",
          "data": {
            "application/vnd.google.colaboratory.intrinsic+json": {
              "type": "string"
            },
            "text/plain": [
              "\"Writers in one of the prison, yet, works as agent ray liotta, one of watching, we supposed to doubt that the holocaust - or the fact, the amc and don's wonderful experience, do what could either.\""
            ]
          },
          "metadata": {
            "tags": []
          },
          "execution_count": 131
        }
      ]
    },
    {
      "cell_type": "markdown",
      "metadata": {
        "id": "0VxV-qpNT0nF"
      },
      "source": [
        "한글 자료를 이용하여서 Naver Sentiment Moive corpus를 사용해보자."
      ]
    },
    {
      "cell_type": "code",
      "metadata": {
        "id": "0y3oD60eTy2C",
        "colab": {
          "base_uri": "https://localhost:8080/"
        },
        "outputId": "e24c47ab-eadf-4a20-e848-17f84f03ad1c"
      },
      "source": [
        "%%time\n",
        "!wget -nc -q https://raw.githubusercontent.com/e9t/nsmc/master/ratings_train.txt"
      ],
      "execution_count": null,
      "outputs": [
        {
          "output_type": "stream",
          "text": [
            "CPU times: user 9.14 ms, sys: 35 ms, total: 44.1 ms\n",
            "Wall time: 371 ms\n"
          ],
          "name": "stdout"
        }
      ]
    },
    {
      "cell_type": "code",
      "metadata": {
        "id": "XT52n6SVT6w4",
        "colab": {
          "base_uri": "https://localhost:8080/"
        },
        "outputId": "8ce88b15-af9f-406c-d08e-5ae19af8acd4"
      },
      "source": [
        "import codecs\n",
        "with codecs.open(\"ratings_train.txt\", encoding='utf-8') as f:\n",
        "    data = [line.split('\\t') for line in f.read().splitlines()]\n",
        "    data = data[1:]   # header 제외\n",
        "\n",
        "docs = [row[1] for row in data]\n",
        "len(docs)"
      ],
      "execution_count": null,
      "outputs": [
        {
          "output_type": "execute_result",
          "data": {
            "text/plain": [
              "150000"
            ]
          },
          "metadata": {
            "tags": []
          },
          "execution_count": 133
        }
      ]
    },
    {
      "cell_type": "code",
      "metadata": {
        "id": "Bf2K6tt8T8Lk",
        "colab": {
          "base_uri": "https://localhost:8080/"
        },
        "outputId": "7d7bf1cd-59c1-480f-b02b-9af25e4a64aa"
      },
      "source": [
        "import warnings\n",
        "warnings.simplefilter(\"ignore\")\n",
        "\n",
        "from konlpy.tag import Okt\n",
        "\n",
        "tagger = Okt()\n",
        "\n",
        "def tokenize(doc):\n",
        "    tokens = ['/'.join(t) for t in tagger.pos(doc)]\n",
        "    return tokens\n",
        "\n",
        "tokenize(\"그 영화는 아주 재미있었어요.\")"
      ],
      "execution_count": null,
      "outputs": [
        {
          "output_type": "execute_result",
          "data": {
            "text/plain": [
              "['그/Noun', '영화/Noun', '는/Josa', '아주/Noun', '재미있었어요/Adjective', './Punctuation']"
            ]
          },
          "metadata": {
            "tags": []
          },
          "execution_count": 134
        }
      ]
    },
    {
      "cell_type": "code",
      "metadata": {
        "id": "TwG6Z7fhT9Mw",
        "colab": {
          "base_uri": "https://localhost:8080/"
        },
        "outputId": "db5e34ce-0d6a-48a4-af27-131122f9e9eb"
      },
      "source": [
        "from tqdm import tqdm\n",
        "sentences = []\n",
        "for d in tqdm(docs):\n",
        "    tokens = tokenize(d)\n",
        "    bigram = ngrams(tokens, 2, pad_left=True, pad_right=True, left_pad_symbol=\"SS\", right_pad_symbol=\"SE\")\n",
        "    sentences += [t for t in bigram]"
      ],
      "execution_count": null,
      "outputs": [
        {
          "output_type": "stream",
          "text": [
            "100%|██████████| 150000/150000 [10:47<00:00, 231.54it/s]\n"
          ],
          "name": "stderr"
        }
      ]
    },
    {
      "cell_type": "code",
      "metadata": {
        "id": "vQRfatnPT-BZ",
        "colab": {
          "base_uri": "https://localhost:8080/"
        },
        "outputId": "c75e2698-f677-4cef-e418-cd37b500d78b"
      },
      "source": [
        "sentences[:30]"
      ],
      "execution_count": null,
      "outputs": [
        {
          "output_type": "execute_result",
          "data": {
            "text/plain": [
              "[('SS', '아/Exclamation'),\n",
              " ('아/Exclamation', '더빙/Noun'),\n",
              " ('더빙/Noun', '../Punctuation'),\n",
              " ('../Punctuation', '진짜/Noun'),\n",
              " ('진짜/Noun', '짜증나네요/Adjective'),\n",
              " ('짜증나네요/Adjective', '목소리/Noun'),\n",
              " ('목소리/Noun', 'SE'),\n",
              " ('SS', '흠/Noun'),\n",
              " ('흠/Noun', '.../Punctuation'),\n",
              " ('.../Punctuation', '포스터/Noun'),\n",
              " ('포스터/Noun', '보고/Noun'),\n",
              " ('보고/Noun', '초딩/Noun'),\n",
              " ('초딩/Noun', '영화/Noun'),\n",
              " ('영화/Noun', '줄/Noun'),\n",
              " ('줄/Noun', '..../Punctuation'),\n",
              " ('..../Punctuation', '오버/Noun'),\n",
              " ('오버/Noun', '연기/Noun'),\n",
              " ('연기/Noun', '조차/Josa'),\n",
              " ('조차/Josa', '가볍지/Adjective'),\n",
              " ('가볍지/Adjective', '않구나/Verb'),\n",
              " ('않구나/Verb', 'SE'),\n",
              " ('SS', '너/Modifier'),\n",
              " ('너/Modifier', '무재/Noun'),\n",
              " ('무재/Noun', '밓었/Noun'),\n",
              " ('밓었/Noun', '다그/Noun'),\n",
              " ('다그/Noun', '래서/Noun'),\n",
              " ('래서/Noun', '보는것을/Verb'),\n",
              " ('보는것을/Verb', '추천/Noun'),\n",
              " ('추천/Noun', '한/Josa'),\n",
              " ('한/Josa', '다/Adverb')]"
            ]
          },
          "metadata": {
            "tags": []
          },
          "execution_count": 136
        }
      ]
    },
    {
      "cell_type": "code",
      "metadata": {
        "id": "5K5xB12pT_LR"
      },
      "source": [
        "cfd = ConditionalFreqDist(sentences)\n",
        "cpd = ConditionalProbDist(cfd, MLEProbDist)\n",
        "\n",
        "def korean_most_common(c, n, pos=None):\n",
        "    if pos is None:\n",
        "        return cfd[tokenize(c)[0]].most_common(n)\n",
        "    else:\n",
        "        return cfd[\"/\".join([c, pos])].most_common(n)"
      ],
      "execution_count": null,
      "outputs": []
    },
    {
      "cell_type": "code",
      "metadata": {
        "id": "oqfF76A_UANf",
        "colab": {
          "base_uri": "https://localhost:8080/"
        },
        "outputId": "faa3c72d-ada9-40d1-9d62-3e3a32eac9c4"
      },
      "source": [
        "korean_most_common(\"나\", 10)"
      ],
      "execution_count": null,
      "outputs": [
        {
          "output_type": "execute_result",
          "data": {
            "text/plain": [
              "[('는/Josa', 831),\n",
              " ('의/Josa', 339),\n",
              " ('만/Josa', 213),\n",
              " ('에게/Josa', 148),\n",
              " ('에겐/Josa', 84),\n",
              " ('랑/Josa', 81),\n",
              " ('한테/Josa', 50),\n",
              " ('참/Verb', 45),\n",
              " ('이/Determiner', 44),\n",
              " ('와도/Josa', 43)]"
            ]
          },
          "metadata": {
            "tags": []
          },
          "execution_count": 138
        }
      ]
    },
    {
      "cell_type": "code",
      "metadata": {
        "id": "PnOAyLkHUBNh",
        "colab": {
          "base_uri": "https://localhost:8080/"
        },
        "outputId": "b6f975a9-f8e8-486d-9f2a-b7f728389863"
      },
      "source": [
        "korean_most_common(\"의\", 10)"
      ],
      "execution_count": null,
      "outputs": [
        {
          "output_type": "execute_result",
          "data": {
            "text/plain": [
              "[('영화/Noun', 19),\n",
              " ('연기/Noun', 14),\n",
              " ('구심/Noun', 12),\n",
              " ('모습/Noun', 9),\n",
              " ('감독/Noun', 8),\n",
              " ('매력/Noun', 7),\n",
              " ('감동/Noun', 7),\n",
              " ('흐름/Noun', 6),\n",
              " ('그/Noun', 6),\n",
              " ('이야기/Noun', 6)]"
            ]
          },
          "metadata": {
            "tags": []
          },
          "execution_count": 139
        }
      ]
    },
    {
      "cell_type": "code",
      "metadata": {
        "id": "bPE8yEUSUCEh",
        "colab": {
          "base_uri": "https://localhost:8080/"
        },
        "outputId": "0fa6f88e-3097-4744-8168-b499f0eae16a"
      },
      "source": [
        "korean_most_common(\".\", 10, \"Punctuation\")"
      ],
      "execution_count": null,
      "outputs": [
        {
          "output_type": "execute_result",
          "data": {
            "text/plain": [
              "[('SE', 26503),\n",
              " ('영화/Noun', 667),\n",
              " ('이/Noun', 565),\n",
              " ('정말/Noun', 480),\n",
              " ('그리고/Conjunction', 455),\n",
              " ('./Punctuation', 445),\n",
              " ('하지만/Conjunction', 369),\n",
              " ('이/Determiner', 352),\n",
              " ('그/Noun', 325),\n",
              " ('스토리/Noun', 317)]"
            ]
          },
          "metadata": {
            "tags": []
          },
          "execution_count": 140
        }
      ]
    },
    {
      "cell_type": "code",
      "metadata": {
        "id": "7jWH5P4nUDP4"
      },
      "source": [
        "def korean_bigram_prob(c, w):\n",
        "    context = tokenize(c)[0]\n",
        "    word = tokenize(w)[0]\n",
        "    return cpd[context].prob(word)"
      ],
      "execution_count": null,
      "outputs": []
    },
    {
      "cell_type": "code",
      "metadata": {
        "id": "B3JWwB0KUGO7",
        "colab": {
          "base_uri": "https://localhost:8080/"
        },
        "outputId": "4d4d6715-4f20-46db-95cc-7fe9a8dfc2bb"
      },
      "source": [
        "korean_bigram_prob(\"이\", \"영화\")"
      ],
      "execution_count": null,
      "outputs": [
        {
          "output_type": "execute_result",
          "data": {
            "text/plain": [
              "0.4010748656417948"
            ]
          },
          "metadata": {
            "tags": []
          },
          "execution_count": 142
        }
      ]
    },
    {
      "cell_type": "code",
      "metadata": {
        "id": "IcHLWJHOUHDo",
        "colab": {
          "base_uri": "https://localhost:8080/"
        },
        "outputId": "97455414-0d88-476d-f4d0-98d47a29cb73"
      },
      "source": [
        "korean_bigram_prob(\"영화\", \"이\")"
      ],
      "execution_count": null,
      "outputs": [
        {
          "output_type": "execute_result",
          "data": {
            "text/plain": [
              "0.00015767585785521414"
            ]
          },
          "metadata": {
            "tags": []
          },
          "execution_count": 143
        }
      ]
    },
    {
      "cell_type": "code",
      "metadata": {
        "id": "OVBzlgmEUH5k"
      },
      "source": [
        "def korean_generate_sentence(seed=None, debug=False):\n",
        "    if seed is not None:\n",
        "        import random\n",
        "        random.seed(seed)\n",
        "    c = \"SS\"\n",
        "    sentence = []\n",
        "    while True:\n",
        "        if c not in cpd:\n",
        "            break\n",
        "            \n",
        "        w = cpd[c].generate()\n",
        "\n",
        "        if w == \"SE\":\n",
        "            break\n",
        "\n",
        "        w2 = w.split(\"/\")[0]\n",
        "        pos = w.split(\"/\")[1]\n",
        "\n",
        "        if c == \"SS\":\n",
        "            sentence.append(w2.title())\n",
        "        elif c in [\"`\", \"\\\"\", \"'\", \"(\"]:\n",
        "            sentence.append(w2)\n",
        "        elif w2 in [\"'\", \".\", \",\", \")\", \":\", \";\", \"?\"]:\n",
        "            sentence.append(w2)\n",
        "        elif pos in [\"Josa\", \"Punctuation\", \"Suffix\"]:\n",
        "            sentence.append(w2)\n",
        "        elif w in [\"임/Noun\", \"것/Noun\", \"는걸/Noun\", \"릴때/Noun\",\n",
        "                   \"되다/Verb\", \"이다/Verb\", \"하다/Verb\", \"이다/Adjective\"]:\n",
        "            sentence.append(w2)\n",
        "        else:\n",
        "            sentence.append(\" \" + w2)\n",
        "        c = w\n",
        "\n",
        "        if debug:\n",
        "            print(w)\n",
        "\n",
        "    return \"\".join(sentence)"
      ],
      "execution_count": null,
      "outputs": []
    },
    {
      "cell_type": "code",
      "metadata": {
        "id": "5O7sunBvUJz0",
        "colab": {
          "base_uri": "https://localhost:8080/",
          "height": 36
        },
        "outputId": "f84d77f9-2e40-4555-fb79-bf702cb3252d"
      },
      "source": [
        "korean_generate_sentence(0)"
      ],
      "execution_count": null,
      "outputs": [
        {
          "output_type": "execute_result",
          "data": {
            "application/vnd.google.colaboratory.intrinsic+json": {
              "type": "string"
            },
            "text/plain": [
              "'미키짱과 말도 전혀 빗나가지 않던 전개로 꽥꽥대는거 보니까 요^^'"
            ]
          },
          "metadata": {
            "tags": []
          },
          "execution_count": 145
        }
      ]
    },
    {
      "cell_type": "code",
      "metadata": {
        "id": "IenWNd3TUKzq",
        "colab": {
          "base_uri": "https://localhost:8080/",
          "height": 36
        },
        "outputId": "6d72b34c-5784-4bbc-c94c-a98f078a10fc"
      },
      "source": [
        "korean_generate_sentence(1)"
      ],
      "execution_count": null,
      "outputs": [
        {
          "output_type": "execute_result",
          "data": {
            "application/vnd.google.colaboratory.intrinsic+json": {
              "type": "string"
            },
            "text/plain": [
              "'내용 일테인데 이 영화 최고의 암살 할려고 한 데 선배랑 김선아 연기도 크다. 배슬기 여배우도 있는 척 하는거지?'"
            ]
          },
          "metadata": {
            "tags": []
          },
          "execution_count": 146
        }
      ]
    },
    {
      "cell_type": "code",
      "metadata": {
        "id": "Nwo4d0phUMS2",
        "colab": {
          "base_uri": "https://localhost:8080/",
          "height": 92
        },
        "outputId": "c090670e-a80c-4c8e-f603-7a47245a9954"
      },
      "source": [
        "korean_generate_sentence(2)"
      ],
      "execution_count": null,
      "outputs": [
        {
          "output_type": "execute_result",
          "data": {
            "application/vnd.google.colaboratory.intrinsic+json": {
              "type": "string"
            },
            "text/plain": [
              "'도리까지 본 영화 너무... 뭔가.. 최고네요. 하지만.. 눈물 낫다는건 또 영화에 들지 않는다. 근데 뭐야 어떻게 그렇게 착했던 윤재랑은 에바 그린 드레스 소리 듣는거임\"\"\" 에리 욧의 미모로 합성 한 가수 노래와 흥행 놓친 영화다. 사투리 연기 하나 없는 ‘ 스피드 감 넘치는 스릴 넘치는 연기를 이해 되지 못 하시는 분보다 훨 재밌구만 평점을 망처 놓은 듯하다. 영화 보는이로 하여금 불편함을 느꼇을듯'"
            ]
          },
          "metadata": {
            "tags": []
          },
          "execution_count": 147
        }
      ]
    },
    {
      "cell_type": "code",
      "metadata": {
        "id": "oeQnXiHzWoG_",
        "colab": {
          "base_uri": "https://localhost:8080/",
          "height": 36
        },
        "outputId": "d9195080-9ef1-4a1a-eff6-49309b544495"
      },
      "source": [
        "korean_generate_sentence(3)"
      ],
      "execution_count": null,
      "outputs": [
        {
          "output_type": "execute_result",
          "data": {
            "application/vnd.google.colaboratory.intrinsic+json": {
              "type": "string"
            },
            "text/plain": [
              "'내 인생을 반헬싱이 너무 무섭고 재밌고, 칼 세이건으로 연탄가스 맡아서 죽을 같이 작업 하는구나 ㅋㅋㅋㅋㅋ 진짜'"
            ]
          },
          "metadata": {
            "tags": []
          },
          "execution_count": 148
        }
      ]
    },
    {
      "cell_type": "code",
      "metadata": {
        "id": "xJfH98KLWpEU",
        "colab": {
          "base_uri": "https://localhost:8080/",
          "height": 55
        },
        "outputId": "3c9d97c6-61ff-420d-8c6b-610cafd7e7d0"
      },
      "source": [
        "korean_generate_sentence(5)"
      ],
      "execution_count": null,
      "outputs": [
        {
          "output_type": "execute_result",
          "data": {
            "application/vnd.google.colaboratory.intrinsic+json": {
              "type": "string"
            },
            "text/plain": [
              "'좋았어요... ㅎㄷㄷㄷ 시나리오나 그래픽이 대단한 심리전이 미라 파스틱 함.. 너무 무섭고 나쁜세 끼는 듯 진짜 꼭 필요가 있는지도 모르겠지만 나름 그의 복수 후!!!!!!!!!!!'"
            ]
          },
          "metadata": {
            "tags": []
          },
          "execution_count": 149
        }
      ]
    },
    {
      "cell_type": "markdown",
      "metadata": {
        "id": "loCd9YaEWrNI"
      },
      "source": [
        "확률론적 언어 모형의 활용¶\n",
        "확률론적 언어 모형은 다음과 같은 분야에 광범위하게 활용할 수 있다.\n",
        "\n",
        "- 철자 및 문법 교정(Spell Correction)\n",
        "\n",
        "- 음성 인식(Speech Recognition)\n",
        "\n",
        "- 자동 번역(Machine Translation)\n",
        "\n",
        "- 자동 요약(Summarization)\n",
        "\n",
        "- 챗봇(Question-Answering)\n",
        "\n"
      ]
    },
    {
      "cell_type": "markdown",
      "metadata": {
        "id": "xK4gBvonW3AD"
      },
      "source": [
        "# N-gram 언어 모델(N-gram Language Model)\n",
        "\n",
        "- N-gram 언어 모델은 여전히 카운트에 기반한 통계적 접근을 사용하고 있으므로 SLM의 일종입니다. 다만, 앞서 배운 언어 모델과는 달리 이전에 등장한 모든 단어를 고려하는 것이 아니라 일부 단어만 고려하는 접근 방법을 사용.\n",
        "\n",
        "## 코퍼스에서 카운트하지 못하는 경우의 감소\n",
        "- 통계적 언어 모델의 한계는 훈련 코퍼스에 확률을 계산하고 싶은 문장이나 단어가 없을 수 있다는 점.\n",
        "- 확률을 계산하고 싶은 문장이 길어질수록 갖고 있는 코퍼스에서 그 문장이 존재하지 않을 가능성이 높다. -> 카운트할수 없을 가능성이 높음.\n",
        "\n",
        "- 다음과 같이 참고하는 단어들을 줄이면 카운트를 할 수 있는 가능성이 높일 수 있습니다.\n",
        "\n",
        "$P(is {\\mid} An~adorable~little~boy) {\\approx} P(is {\\mid} boy) $\n",
        "\n",
        "\n",
        "$P(is {\\mid} An~adorable~little~boy) {\\approx} P(is {\\mid} little boy) $\n",
        "\n",
        "### N-gram\n",
        "\n",
        " - unigrams : an, adorable, little, boy, is, spreading, smiles\n",
        " - bigrams : an adorable, adorable little, little boy, boy is, is spreading, spreading smiles\n",
        " - trigrams : an adorable little, adorable little boy, little boy is, boy is spreading, is spreading smiles\n",
        " - 4-grams : an adorable little boy, adorable little boy is, little boy is spreading, boy is spreading smiles\n",
        "\n",
        "\n",
        "### N-gram Language Model의 한계\n",
        "1. 희소 문제(sparsity problem)\n",
        "2. n을 선택하는 것은 trade-off 문제\n",
        "-  trade-off 문제로 인해 정확도를 높이려면 n은 최대 5를 넘게 잡아서는 안 된다고 권장되고 있습니다.\n",
        "\n",
        "\n",
        "### 적용 분야(domain)에 맞는 코퍼스의 수집\n",
        "\n",
        "### 인공 신경망을 이용한 언어 모델(Neural Network Based Language Model)\n"
      ]
    },
    {
      "cell_type": "markdown",
      "metadata": {
        "id": "3VYr2t-nYpqJ"
      },
      "source": [
        "# 언어 모델 평가\n",
        "\n",
        "## Perplexity\n",
        "\n",
        "- 두 개의 모델 A, B가 있을 때 이 모델의 성능은 어떻게 비교할 수 있을까요? 두 개의 모델을 오타 교정, 기계 번역 등의 평가에 투입해볼 수 있겠습니다. 그리고 두 모델이 해당 업무의 성능을 누가 더 잘했는지를 비교하면 되겠습니다. 그런데 두 모델의 성능을 비교하고자, 일일히 모델들에 대해서 실제 작업을 시켜보고 정확도를 비교하는 작업은 공수가 너무 많이 드는 작업입니다. 만약 비교해야하는 모델이 두 개가 아니라 그 이상의 수라면 시간은 비교해야하는 모델의 수만큼 배로 늘어날 수도 있습니다.\n",
        "\n",
        "- 이러한 평가를 외부 평가(extrinsic evaluation)라고 하는데, 이러한 평가보다는 어쩌면 조금은 부정확할 수는 있어도 테스트 데이터에 대해서 빠르게 식으로 계산되는 더 간단한 평가 방법이 있습니다. 바로 모델 내에서 자신의 성능을 수치화하여 결과를 내놓는 내부 평가(Intrinsic evaluation)에 해당되는 펄플렉서티(perplexity)입니다.\n",
        "\n",
        "- 펄플렉서티(perplexity)는 언어 모델을 평가하기 위한 내부 평가 지표입니다. 보통 줄여서 PPL이 라고 표현합니다\n",
        "\n",
        "- 영어에서 'perplexed'는 '헷갈리는'과 유사한 의미를 가집니다. 그러니까 여기서 PPL은 '헷갈리는 정도'로 이해합시다. PPL를 처음 배울때 다소 낯설게 느껴질 수 있는 점이 있다면, PPL은 수치가 높으면 좋은 성능을 의미하는 것이 아니라, '낮을수록' 언어 모델의 성능이 좋다는 것을 의미한다는 점입니다.\n",
        "\n",
        "- PPL은 단어의 수로 정규화(normalization) 된 테스트 데이터에 대한 확률의 역수입니다. PPL을 최소화한다는 것은 문장의 확률을 최대화하는 것과 같습니다. 문장 $W$의 길이가 $N$이라고 하였을 때의 PPL은 다음과 같습니다.\n",
        "\n",
        "$PPL(W) = P(w_1,w_2,w_3,\\cdots,w_N)^{-{\\dfrac{1}{N}}} =  \\sqrt[\\leftroot{-2}\\uproot{2}N]{{\\dfrac{1}{P(w_1,w_2,w_3,\\cdots,w_N)}}}$\n",
        "\n",
        "\n",
        "문장의 확률에 체인룰(Chain rule)을 적용하면 아래와 같다.\n",
        "$\\sqrt[\\leftroot{-2}\\uproot{2}N]{{\\dfrac{1}{P(w_1,w_2,w_3,\\cdots,w_N)}}} = \\sqrt[\\leftroot{-2}\\uproot{2}N]{{\\dfrac{1}{\\Pi_{i=1}^N P(w_1,w_2,w_3,\\cdots,w_N)}}}$\n",
        "\n",
        "\n",
        "N-gram을 적용하면\n",
        "\n",
        "$PPL(W) =  \\sqrt[\\leftroot{-2}\\uproot{2}N]{{\\dfrac{1}{\\Pi_{i=1}^N P(w_i {\\mid} {w_{i-1}})}}}$\n",
        "\n",
        "## 분기 계수(Braching Factor)\n",
        "\n",
        "$PPW(W) = P(w_1,w_2,w_3\\cdots,w_N)^{-\\dfrac{1}{N}} = ({{\\dfrac{1}{10}}}^N)^{-\\dfrac{1}{N}} = 10$\n",
        "\n",
        "PPL은 선택할 수 있는 가능한 경우의 수를 의미하는 분기계수다. == PPL은 우리가 뻗어나갈 수 있는 가지 branch의 개수를 의미하기도 한다.\n",
        "\n",
        "PPL은 이 언어 모델이 특정 시점에서 평균적으로 몇 개의 선택지를 가지고 고민을 하는지를 의미한다고 한다.\n",
        "\n",
        "따라서 PPL의 값이 높으면 많은 선택지를 가지고 고민을 하기 때문에, 혼잡도가 높다는 의미다.\n",
        "\n",
        " \n",
        "\n",
        "즉, 위의 PPL이 10이라는 것은 10개의 단어들을 가지고 어떤 것이 정답인지를 고민한다는 의미이다.\n",
        "\n",
        "예시 - 1\n",
        "ex) 20,000개의 어휘로 이루어진 뉴스 기사에 대해 PPL을 측정할 때, 단어의 출현 확률이 모두 같다면 PPL은 20,000.\n",
        "\n",
        "하지만 만약 3-gram을 사용한 언어 모델을 만들어 측정한 PPL이 30이 나왔다면, 해당 신문기사에서 이 언어 모델을 기반으로 매번 기사의 앞 부분을 통해 다음 단어를 예측할 때 마다 평균적으로 30개의 후보 단어 중에 (헷갈리고 있으므로) 선택할 수 있다는 이야기가 된다.\n",
        "\n",
        "이처럼 PPL을 통해 단순히 언어 모델의 성능을 측정할 수 있을 뿐 아니라, 실제 그 값의 의미도 가늠해볼 수도 있다.\n",
        "\n",
        " \n",
        "\n",
        "즉, PPL은 1) model의 성능을 보여준다.\n",
        "2) PPL의 의미는 평균적으로 몇 개의 선택지를 갖고 고민하는지에 대한 수치를 보여준다\n"
      ]
    },
    {
      "cell_type": "markdown",
      "metadata": {
        "id": "Bc5YmPE1GMg7"
      },
      "source": [
        "# 단어 표현의 카테고리화\n",
        "\n",
        "<figure>\n",
        "<img src = 'https://wikidocs.net/images/page/31767/wordrepresentation.PNG'>\n",
        "<figure>\n",
        "\n",
        "## BOW(bag of words)\n",
        "- Bag of Words란 단어들의 순서는 전혀 고려하지 않고, 단어들의 출현 빈도(frequency)에만 집중하는 텍스트 데이터의 수치화 표현 방법입니다\n",
        "- Bag of words를 직역하면 단어들의 가방.\n",
        "\n",
        "\n",
        "- 갖고있는 어떤 텍스트 문서에 있는 단어들을 가방에다가 전부 넣습니다. 그러고나서 이 가방을 흔들어 단어들을 섞습니다. 만약, 해당 문서 내에서 특정 단어가 N번 등장했다면, 이 가방에는 그 특정 단어가 N개 있게됩니다. 또한 가방을 흔들어서 단어를 섞었기 때문에 더 이상 단어의 순서는 중요하지 않습니다.\n",
        "\n",
        "- BoW를 만드는 과정을 이렇게 두 가지 과정으로 생각해보겠습니다.\n",
        "- (1) 우선, 각 단어에 고유한 정수 인덱스를 부여합니다.\n",
        "- (2) 각 인덱스의 위치에 단어 토큰의 등장 횟수를 기록한 벡터를 만듭니다.\n",
        "\n",
        "한국어 예제를 통해서 BoW에 대해서 이해해보도록 하겠습니다.\n",
        "문서1 : 정부가 발표하는 물가상승률과 소비자가 느끼는 물가상승률은 다르다.\n",
        "\n",
        "위의 문서1에 대해서 BoW를 만들어보도록 하겠습니다. 아래의 코드는 입력된 문서에 대해서 단어 집합(vocaburary)을 만들어 인덱스를 할당하고, BoW를 만드는 코드입니다. 이 코드에 이번에 입력할 입력은 문서1입니다.\n",
        "\n",
        "\n"
      ]
    },
    {
      "cell_type": "code",
      "metadata": {
        "id": "uUoHwyZwWqIM",
        "colab": {
          "base_uri": "https://localhost:8080/"
        },
        "outputId": "cb9e02f2-5d70-418c-abd2-bdb373c6abf5"
      },
      "source": [
        "from konlpy.tag import Okt\n",
        "import re  \n",
        "okt=Okt()  \n",
        "\n",
        "token=re.sub(\"(\\.)\",\"\",\"정부가 발표하는 물가상승률과 소비자가 느끼는 물가상승률은 다르다.\")  \n",
        "# 정규 표현식을 통해 온점을 제거하는 정제 작업입니다.  \n",
        "token=okt.morphs(token)  \n",
        "# OKT 형태소 분석기를 통해 토큰화 작업을 수행한 뒤에, token에다가 넣습니다.  \n",
        "\n",
        "word2index={}  \n",
        "bow=[]  \n",
        "for voca in token:  \n",
        "         if voca not in word2index.keys():  \n",
        "             word2index[voca]=len(word2index)  \n",
        "# token을 읽으면서, word2index에 없는 (not in) 단어는 새로 추가하고, 이미 있는 단어는 넘깁니다.   \n",
        "             bow.insert(len(word2index)-1,1)\n",
        "# BoW 전체에 전부 기본값 1을 넣어줍니다. 단어의 개수는 최소 1개 이상이기 때문입니다.  \n",
        "         else:\n",
        "            index=word2index.get(voca)\n",
        "# 재등장하는 단어의 인덱스를 받아옵니다.\n",
        "            bow[index]=bow[index]+1\n",
        "# 재등장한 단어는 해당하는 인덱스의 위치에 1을 더해줍니다. (단어의 개수를 세는 것입니다.)  \n",
        "print(word2index)  "
      ],
      "execution_count": null,
      "outputs": [
        {
          "output_type": "stream",
          "text": [
            "{'정부': 0, '가': 1, '발표': 2, '하는': 3, '물가상승률': 4, '과': 5, '소비자': 6, '느끼는': 7, '은': 8, '다르다': 9}\n"
          ],
          "name": "stdout"
        }
      ]
    },
    {
      "cell_type": "code",
      "metadata": {
        "id": "LALPk1URIvzJ",
        "colab": {
          "base_uri": "https://localhost:8080/"
        },
        "outputId": "4b091c51-6ce5-4592-c85f-60119b46812d"
      },
      "source": [
        "bow  "
      ],
      "execution_count": null,
      "outputs": [
        {
          "output_type": "execute_result",
          "data": {
            "text/plain": [
              "[1, 2, 1, 1, 2, 1, 1, 1, 1, 1]"
            ]
          },
          "metadata": {
            "tags": []
          },
          "execution_count": 151
        }
      ]
    },
    {
      "cell_type": "markdown",
      "metadata": {
        "id": "BC-Qd7iRoJ_b"
      },
      "source": [
        "# CountVectorizer 클래스로 BOW 만들기\n",
        "- 사이킷 런에서는 단어의 빈도를 Count하여 Vector로 만드는 CountVectorizer 클래스를 지원합니다. 이를 이용하면 영어에 대해서는 손쉽게 BoW를 만들 수 있습니다."
      ]
    },
    {
      "cell_type": "code",
      "metadata": {
        "id": "9V330lrkIxBV",
        "colab": {
          "base_uri": "https://localhost:8080/"
        },
        "outputId": "58301443-0a36-4d2e-9303-834697607fde"
      },
      "source": [
        "from sklearn.feature_extraction.text import CountVectorizer\n",
        "corpus = ['you know I want your love. because I love you.']\n",
        "vector = CountVectorizer()\n",
        "print(vector.fit_transform(corpus).toarray()) # 코퍼스로부터 각 단어의 빈도 수를 기록한다.\n",
        "print(vector.vocabulary_) # 각 단어의 인덱스가 어떻게 부여되었는지를 보여준다."
      ],
      "execution_count": null,
      "outputs": [
        {
          "output_type": "stream",
          "text": [
            "[[1 1 2 1 2 1]]\n",
            "{'you': 4, 'know': 1, 'want': 3, 'your': 5, 'love': 2, 'because': 0}\n"
          ],
          "name": "stdout"
        }
      ]
    },
    {
      "cell_type": "markdown",
      "metadata": {
        "id": "2DU10n9Ooqh6"
      },
      "source": [
        "- 예제 문장에서 you와 love는 두 번씩 언급되었으므로 각각 인덱스 2와 인덱스 4에서 2의 값을 가지며, 그 외의 값에서는 1의 값을 가지는 것을 볼 수 있습니다. 또한 알파벳 I는 BoW를 만드는 과정에서 사라졌는데, 이는 CountVectorizer가 기본적으로 길이가 2이상인 문자에 대해서만 토큰으로 인식하기 때문입니다. 정제(Cleaning) 챕터에서 언급했듯이, 영어에서는 길이가 짧은 문자를 제거하는 것 또한 전처리 작업으로 고려되기도 합니다.\n",
        "\n",
        "- 주의할 것은 CountVectorizer는 단지 띄어쓰기만을 기준으로 단어를 자르는 낮은 수준의 토큰화를 진행하고 BoW를 만든다는 점입니다. 이는 영어의 경우 띄어쓰기만으로 토큰화가 수행되기 때문에 문제가 없지만 한국어에 CountVectorizer를 적용하면, 조사 등의 이유로 제대로 BoW가 만들어지지 않음을 의미합니다.\n",
        "\n",
        "# 불용어를 제거한 Bow 만들기\n",
        "\n",
        "- BoW를 사용한다는 것은 그 문서에서 각 단어가 얼마나 자주 등장했는지를 보겠다는 것입니다.\n",
        "\n",
        "1. 사용자가 직접 정의한 불용어 사용"
      ]
    },
    {
      "cell_type": "code",
      "metadata": {
        "id": "GxaEm60GobGL",
        "colab": {
          "base_uri": "https://localhost:8080/"
        },
        "outputId": "82ec9b13-2b67-4a96-a211-952e2eab8134"
      },
      "source": [
        "from sklearn.feature_extraction.text import CountVectorizer\n",
        "\n",
        "text=[\"Family is not an important thing. It's everything.\"]\n",
        "vect = CountVectorizer(stop_words=[\"the\", \"a\", \"an\", \"is\", \"not\"])\n",
        "print(vect.fit_transform(text).toarray()) \n",
        "print(vect.vocabulary_)"
      ],
      "execution_count": null,
      "outputs": [
        {
          "output_type": "stream",
          "text": [
            "[[1 1 1 1 1]]\n",
            "{'family': 1, 'important': 2, 'thing': 4, 'it': 3, 'everything': 0}\n"
          ],
          "name": "stdout"
        }
      ]
    },
    {
      "cell_type": "markdown",
      "metadata": {
        "id": "GUzctCXNpFyd"
      },
      "source": [
        "2. CountVectorizer에서 제공하는 자체 불용어 사용"
      ]
    },
    {
      "cell_type": "code",
      "metadata": {
        "id": "UzR66tlzpCoh",
        "colab": {
          "base_uri": "https://localhost:8080/"
        },
        "outputId": "5cb8f37d-35c5-4cbf-cd61-fd138b59cc4c"
      },
      "source": [
        "from sklearn.feature_extraction.text import CountVectorizer\n",
        "\n",
        "text=[\"Family is not an important thing. It's everything.\"]\n",
        "vect = CountVectorizer(stop_words=\"english\")\n",
        "print(vect.fit_transform(text).toarray())\n",
        "print(vect.vocabulary_)"
      ],
      "execution_count": null,
      "outputs": [
        {
          "output_type": "stream",
          "text": [
            "[[1 1 1]]\n",
            "{'family': 0, 'important': 1, 'thing': 2}\n"
          ],
          "name": "stdout"
        }
      ]
    },
    {
      "cell_type": "markdown",
      "metadata": {
        "id": "UAJEih2vphH5"
      },
      "source": [
        "3. NLTK에서 지원하는 불용어 사용"
      ]
    },
    {
      "cell_type": "code",
      "metadata": {
        "id": "saqs79b3pKc6",
        "colab": {
          "base_uri": "https://localhost:8080/"
        },
        "outputId": "a5c45a79-9f23-4783-8fc4-cfd684264aa8"
      },
      "source": [
        "from sklearn.feature_extraction.text import CountVectorizer\n",
        "from nltk.corpus import stopwords\n",
        "\n",
        "text=[\"Family is not an important thing. It's everything.\"]\n",
        "sw = stopwords.words(\"english\")\n",
        "vect = CountVectorizer(stop_words =sw)\n",
        "print(vect.fit_transform(text).toarray()) \n",
        "print(vect.vocabulary_)"
      ],
      "execution_count": null,
      "outputs": [
        {
          "output_type": "stream",
          "text": [
            "[[1 1 1 1]]\n",
            "{'family': 1, 'important': 2, 'thing': 3, 'everything': 0}\n"
          ],
          "name": "stdout"
        }
      ]
    },
    {
      "cell_type": "markdown",
      "metadata": {
        "id": "QJC__UG_uoiw"
      },
      "source": [
        "# 문사 단어 행렬(Document-Term Matrix, DTM)\n",
        "\n",
        "1. 표기법\n",
        "\n",
        "- 문서 단어 행렬(Document-Term Matrix, DTM)이란 다수의 문서에서 등장하는 각 단어들의 빈도를 행렬로 표현한 것을 말합니다. 쉽게 생각하면 각 문서에 대한 BoW를 하나의 행렬로 만든 것으로 생각할 수 있으며, BoW와 다른 표현 방법이 아니라 BoW 표현을 다수의 문서에 대해서 행렬로 표현하고 부르는 용어입니다.\n",
        "\n",
        "\n",
        "예를 들어서 이렇게 4개의 문서가 있다고 합시다.\n",
        "\n",
        "문서1 : 먹고 싶은 사과\n",
        "\n",
        "문서2 : 먹고 싶은 바나나\n",
        "\n",
        "문서3 : 길고 노란 바나나 바나나\n",
        "\n",
        "문서4 : 저는 과일이 좋아요\n",
        "\n",
        "이를 문서 단어 행렬로 표현하면 다음과 같습니다.\n",
        "\n",
        "![image.png](data:image/png;base64,iVBORw0KGgoAAAANSUhEUgAAAiQAAAFSCAYAAADCYMQxAAAgAElEQVR4Ae1dXXKj3A70GlM1G5rKVpKlZDZx376HLINb2IYgfmJo+vgctXuqpoLsI6HulkDBmFw6/zMDZsAMmAEzYAbMQGUGLpX3792bATNgBsyAGTADZqDzQOIiMANmwAyYATNgBqoz4IGkugROwAyYATNgBsyAGfBA4howA2bADJgBM2AGqjPggaS6BE7ADJgBM2AGzIAZ8EDiGjADZsAMmAEzYAaqM+CBpLoETsAMmAEzYAbMgBnwQOIaMANmwAyYATNgBqoz4IGkugROwAyYATNgBsyAGfBA4howA2bADJgBM2AGqjPwkgPJ//73v+rEPzuB7Jid/7MrZrm/7BosET1+RQGzMTzW+RkrFHQozZMHktIMNxI/ezM4//qFlF0DhEEFzMaAKM/3UdCBz0qM6IEk8iFrZW8G51+/NLNrgDCogNkYEOX5Pgo68FmJET2QRD5krezN4Pzrl2Z2DRAGFTAbA6I830dBBz4rMaIHksiHrJW9GZx//dLMrgHCoAJmY0CU5/so6MBnJUb0QBL5kLWyN4Pzr1+a2TVAGFTAbAyI8nwfBR34rMSIHkgiH7JW9mZw/vVLM7sGCIMKmI0BUZ7vo6ADn5UY0QNJ5EPWyt4Mzr9+aWbXAGFQAbMxIMrzfRR04LMSI3ogiXzIWtmbwfnXL83sGiAMKmA2BkR5vo+CDnxWYkQPJJEPWSt7Mzj/+qWZXQOEQQXMxoAoz/dR0IHPSozogSTyIWtlbwbnX780s2uAMKiA2RgQ5fk+CjrwWYkRPZBEPmSt7M3g/OuXZnYNEAYVMBsDojzfR0EHPisxogeSyIeslb0ZnH/90syuAcKgAmZjQJTn+yjowGclRvRAEvk4aX1175dLd/nz0X0fjPT199JdLu/d10G/vctLNkPp3HuMJfPfy+GZdSXz//586y6Xt+7jvzMZPvYthuG/j+7tcunePg92zb/37nK5dO//HueOrmgOMwCkGIau657R+z3kkhjS9w9QE1cXtO/Q/e3w80Cyg6Rxyf0A2B8E5/9vB9PtgeRW9FO/OHyUbmy8oe+YFph/ToClc+/5x/Pvuu4JJ66xRjY24Pw3a+6nflo/oC7z++4+/kwG960D4yPdHr2/ocWRl2Hdxp3c++fv7FeNLcyjH2/jPIaZXpPUntH7/e4wDPe8F8eu23F4GICX9TkBSNzEMNwSuPE8PX+sbM9r7Ooaj98D5utbT6zBvTR6INnL1Na6IOr6QDIMIz+/yQ2N8nNSKd3YZ5ohQl9iLJ17v/9T+T/hxBU5Wlpw/iu5z/lu/YC6zG92ggs9NOFuBfvk3acMmrBuY6IeSEYqTmwU06HrumV9nkj0F9fzGG7Bh/NJ/0txGDAW+57V3r2fRp+tvlvEed4LHkjOch0OmsuTdR9+fgLpX5s3wdqas6lN/VnNcMszXiYvnXuP41T+QaMpK8/bhvNfyX3QIF6l+7liVQoVimFe613ngaR74skA1W2so3uuax8pP6P3+zxOY+hmJ+cR3PJYPHmLunkaw/1YMH48O+oSj8dD0su+m52LnliDQ06PfnogecTQo/fDCWN9IBkm2uxXSIYT4Thh37l5xkHpVDMHjR4JWuZ9OP+V3Od8rx14SqBAMSzze6GBZDhpzO8re+LJANXtVkPDMe29e/+z/I18Xosl6q6PeQ5D1w0D4GXlY41lfZZBgWIYzh/jILIx0M+vmKxpE7A+sQb3MuqBZC9Tk3VB6HDCGJp3eVPrT1ENn/39fFzThw4xJ/tibaLNcNv/HdfGDYSlc+9zOJV/0IjF6LE4cP4ruc/5DgeZY2kdWo1iWNb+vQeGk/Rw0r5/1j8OvCvYQ8L394crRaNfWHTOQDGPex1zjP0+niDnmEdH3gaKYdRt0Ol+lWHK87wWeVnHSCiGIcqIZfjiwKzmfk72gwf/51kMPxnNBvqfNyZb9zUD3vs74Vgx42Cq6yTQUzc9kAB0hyYMB82fE/f1ILkyjQO7o7igzXDDuvzNiJLUgSBo/tddjCeFYRhc/izdjHD+m7n/nODCQeYAp0eXohiW+c0OqFu/qYXeWsn20fsrLkdfQjHf9jOcFG71FmpsC/PRBHesxzBs/XIVtQvHwh25oEswDMPe4nH550r17f1lfQ5+3J8QhtnQMAzf2z9/Prpd0yZgfWIN7mXSA8lepibrpkIHgYfPKcffKCZO430jy5PhT3H9nGSi53kLaobJbm846+Tep3E2/x8o8YD683rZLV7+ZfP8LTqKIfZIv4eZBlsHxkcDx6P3fwOz8z0Ucx9+GOYvfz9u3yqa/ra6hXlnXkeWncFwZD8l157BMOjw9vm11GE8Lv+cyEvhOIMh5jTrn/jmaG323VCHT6zBMakHGx5IHhC09vZ0IInvb/1WEVetWdsx11Yff43XDMt9l8693yMv/33NvER57pWz+Q8H1Z/hdT4ctntA3TwwDoP71oHxPnCsY37vvpodSO411n8cM2AcflmpcDI4V3vx6sK6Fu3W3tg349Xq5TF6WZ/nen3LG9dhUk8bX2G+6jLW2pDBHeuA/d4v45W6rb4b3Cv89EACkL59Al4W+zT8rfDnJ5Kp7SskU76m23gzT6P02zkHkjmKqd36AXWz7ocDKHpgbHUg+ffRvfXPWRlOBKNYw4nlvftCMY+x9m9QemfO9RPz75FCGO45bupwr7/W+2e/0msr40A5DiP90idruJbd/DUPJHNGNuzNg+pkYn37/Pj1Sa3PKvw1CFBDTwLVzL1PA8p/OCBNNFr/DW8YCsv9pgflP+H/t81naVMMA3pgnJ8kfyMJfK85zAAOCoY516hmQP69CwXDxr7T9M9dg7Vj2Py+mA2o8eUnaxh3vm55IFnnBXx1zxWScie935I+29DPatotDGfz34r7rNdL5v8sbYphQA+M85NkATGbwwxgpGCYc41qBuTfu1AwbOw7Rf/c+V5e7RnuVQLOK0/WcIP+8LIHkkDHWWPPQDL8Nr7+E5p0d6R9tqFvTbue8zCxl8q9h3c2/x0UFV1SMv8UB9Tf2EUPjPOT5G/7AN8rphuKGcBxCsNwInxwlbFk7/eQT2F4wFma/vEVkgdKJn27ZHG3Skl2zM6/fmVl1wBhUAGzMSDK832a0+GJQ/FeNn2FZC9Tydc11wwH+XT+BwkrsDy7BgglCpiNAVGe76OgA5+VGNEDSeRD1sreDM6/fmlm1wBhUAGzMSDK830UdOCzEiN6IIl8yFrZm8H51y/N7BogDCpgNgZEeb6Pgg58VmJEDySRD1krezM4//qlmV0DhEEFzMaAKM/3UdCBz0qMSBxI4gNYfp5QGHfYgvWKhZEds/Ov3znZNUAYVMBsDIjyfB8FHfisxIjEgSQGbtl6xcLIjtn51++o7BogDCpgNgZEeb6Pgg58VmJEDySRD1krezM4//qlmV0DhEEFzMaAKM/3UdCBz0qM6IEk8iFrZW8G51+/NLNrgDCogNkYEOX5Pgo68FmJET2QRD5krezN4Pzrl2Z2DRAGFTAbA6I830dBBz4rMaIHksjHaWv7LwGfDn0qQPZmKJb/k55WWCz/U1VxzLkYhic8Av4Y0p/VxTB3v/+ZiZ8Mzm+Vw3A+t70RjGEvU7nXeSA5rF/8NlH4c87d8IeO3ruvw3HLOpxp6Np/x6ZnBs1/M/f7nx5/1p/gRvPvsW9imPx9kdJ/S+SMBt2jgePR+2Vb49fosG6//N2R2zEj00Dy3X38Wfk7VkMP/cog501Yh373dy3mx2pOZvujnMJw383asaA2rv0MPF7pgeQxR5MVs4PIym/XL3eF5EknE0Yz34S8H1yHg+mKhhPBaZu8/GcpPYn/fq8whkc5Pnp/BvmZJox5LclQa7Njydp60munMNxzXj7GYRhSgL8yC+A6heFeX7VP3KcwdBt8b+oDkNyAiweSIyKsHDjnA8jcPhK+5NpzzfBLZiuc/LIafouXvwcSVARYg0c18uh9NGGCH4x5bd8BZ46BZPiNfPUK3B3PM070p3R4Yp5rsg+vMTD8psPqe8POk/z0QHJAqLVh49awP78lrK05sItiS081w29ZhYPsbwvPvYfmPxxQL5OPN67bsyskw/ulDq5o/g9ZexL/fR4whkc5Pnr/IQnlFsCY11IKOHMMJMNHmgpXSIYeX/tZqu+nZXCmlubnmWncQaNnYAj7LWB4IDlA6uqwEQ4ymveQ/ErRDP+va0+8iTbzr43c5xMuo59I8IErmv+DsOPn48/47QjG8KhG7u8PJ4qWDqww5rtw4ZgReEgykFxxDB8XzO4jGYb6h0V6fsFZHc5ncD7CKQyhdma5/PbebGnrpgeSAwqFg8vdb37CW1tzYBfFlp5qhjGr4cD0c9PucAWi9AkRzX+uzwhl2Eg1kNTjv6cL1WC4qXCzRho+oMKY7/UVjgcB530gGa7c/S13G/xZDEOr1PxpDEPv/1yNv+rhe0hqliVn33BxhwPKLZdwwBH9ls0P60NTzAeSWZP8ONC2UM2GgWn47Tv+fO++JAaS8vz3QqIaeCC59Uscjhu/QjKc6IaB6eHPsjUI1Z4ChnAEnQ2xoyY/x+OwPKHhKySHRLufkIdLlSsns/mAcih8wcVQQy/yWQ4kiyWFXuDkv5LcioYrq06/xMm/Hv89ATCG+yAfh8Hh8v9797Uy6J8mnBQAxnzf//bxoPGBhMQfK8xZHVh5nIlzHsO9ZiZX07br60ym9Xw9kBzmPk6p88+7Wy2Q883QE1XvhHgu/1/y9kCyuwPOafDLbjyQ/ELO+bdO6daINi+P4VoGHkjOd0ODEU4V9wM8UgNJQ5c8z2n2y0DyQE/W21D+DfHf8wBh2ENgIye9tVQRzL9/THi7MvT2+dG995fch6utazsnvYZgGHfdiDYvi6GxY8BYF4U2fIWETKzUQELm5ky4Uwekild2Bszn8h+i1P1ZDEMjJ701dothzvLo+Ea0OaWDAoa14hR8zQMJWVQPJGRC7+FOHZDGgWS4b2HlZ+HfVM/lX4bTo1GLYWjkhLHGRzHMyQaS9ft/hqs932vUUV87pcO9vlJjoLLZbjAPJO1qQ83sVENTM8GCOX+MN6ZXdg0QLhQwGwOiPN9HQQc+KzGiB5LIh6yVvRmcf/3SzK4BwqACZmNAlOf7KOjAZyVG9EAS+ZC1sjeD869fmtk1QBhUwGwMiPJ8HwUd+KzEiB5IIh+yVvZmcP71SzO7BgiDCpiNAVGe76OgA5+VGNEDSeRD1sreDM6/fmlm1wBhUAGzMSDK830UdOCzEiN6IIl8yFrZm8H51y/N7BogDCpgNgZEeb6Pgg58VmJEDySRD1krezM4//qlmV0DhEEFzMaAKM/3UdCBz0qM6IEk8iFrZW8G51+/NLNrgDCogNkYEOX5Pgo68FmJET2QRD5krezN4Pzrl2Z2DRAGFTAbA6I830dBBz4rMaIHksiHrJW9GZx//dLMrgHCoAJmY0CU5/so6MBnJUb0QBL5kLWyN4Pzr1+a2TVAGFTAbAyI8nwfBR34rMSIHkgiH7JW9mZw/vVLM7sGCIMKmI0BUZ7vo6ADn5UY0QNJ5EPWyt4Mzr9+aWbXAGFQAbMxIMrzfRR04LMSI24OJD15/m8OXAOuAdeAa8A14Bo4UwNx7Ni2NgeSbZf87/TEvtq/7Jidf/2Kza4BwqACZmNAlOf7KOjAZyVG9EAS+ZC1sjeD869fmtk1QBhUwGwMiPJ8HwUd+KzEiB5IIh+yVvZmcP71SzO7BgiDCpiNAVGe76OgA5+VGNEDSeRD1sreDM6/fmlm1wBhUAGzMSDK830UdOCzEiN6IIl8yFrZm8H51y/N7BogDCpgNgZEeb6Pgg58VmJEDySRD1krezM4//qlmV0DhEEFzMaAKM/3UdCBz0qM6IEk8iFrZW8G51+/NLNrgDCogNkYEOX5Pgo68FmJET2QRD5krezN4Pzrl2Z2DRAGFTAbA6I830dBBz4rMaIHksiHrJW9GZx//dLMrgHCoAJmY0CU5/so6MBnJUb0QBL5kLWyN4Pzr1+a2TVAGFTAbAyI8nwfBR34rMSIHkgiH7JW9mZw/vVLM7sGCIMKmI0BUZ7vo6ADn5UY0QNJ5EPWyt4Mzr9+aWbXAGFQAbMxIMrzfRR04LMSI3ogiXzIWtmbwfnXL83sGiAMKmA2BkR5vo+CDnxWYsQ8A8l/H93bn4/uO+YPWa9YGNkxO3+o1KlO2TVAyFDAbAyI8nwfBR34rMSIBQaSr+79cukum//fuo//YhJT6/vzrXv7XBk7PJBMaTq8nb0ZnP9hyekO2TVACFHAbAyI8nwfBR34rMSIhQaS9+4r7udu9cOKB5JVagq/mL0ZnH/hAtkRPrsGOyAulihgNoaFrFVeUNChNHEeSEoz3Ej87M3g/OsXUnYNEAYVMBsDojzfR0EHPisxYnMDydffS3f5e7++8u89fvTje0iieges7M3g/A+IXWhpdg0QWhQwGwOiPN9HQQc+KzFioYEEvIekv0/keu/Jykc+vockKnfQyt4Mzv+g4AWWZ9cAoUQBszEgyvN9FHTgsxIjFhhI4g6OWMPVkf7n4sZWDyRHqFyszd4Mzn8h6dNfyK4BQpgCZmNAlOf7KOjAZyVG5A0k49WN366OTN+b3dx6/XjmfmXkGmv2vgeSqNxBK3szOP+DghdYnl0DhBIFzMaAKM/3UdCBz0qMyBtIYtzR2vwa77ii6/o1/deE3/9NXpwOKP3LHkgm5BzfzN4Mzv+45myP7BogfChgNgZEeb6Pgg58VmJE/kAyGxweDyS355aEYWTIsR9KhhtZZ3GHJcjPVyyM7JidP1LpXJ/sGiBsKGA2BkR5vo+CDnxWYsQGBpKY0KblgWSTmj1vZG8G579H5bJrsmuAsKOA2RgQ5fk+CjrwWYkRiw8kcXcnLA8kJ8jruuzN4PxPyU9xzq4BQoICZmNAlOf7KOjAZyVGLDOQbD42/nZT6+rHMzGvpeWBZMnJgVeyN4PzPyB2oaXZNUBoUcBsDIjyfB8FHfisxIj8gSTGb9I6UxjXryYPA9fwALcmUcaksmN+5fyvShIH8lgZ+63sGuxH+rPyDOZrlOS6KWBo5Zh9ppZawfDTGWW2PJAc4PVaFOMQ8t19/Fl5XsqBeM9cijZDK5hfNf+uu9XZ9Y9VDjd4P7NwJvvKrsEEyu5NFLOCbgoYWjl+9QWH1lJLGHY3DrjQA8lu4vpvA82eIDv9FtDuOHUWYs3QDubXzP/+lfh+CE77m3Y7NYR0HlZ3CropYGir9rBaagsD0kNHfDyQ7GVrdfhYKZa98Z68DmqGhjC/ZP7TGsk6kDRUQ1M6925DdTcNnlU3BQyN1R5US41hmJZFiW0PJHtZ7Qtj/LhmcOoHktkTZYe3GvsJN0MjmF8y/2kNZT2xvWLfKOimgKGx2st+DJuWRKltDyR7mW2suPemPazL3gwvmf8gXv/TA8mUjadtQ3U3zS6rbgoYGjtmQ7XUGIZpWZTY9kCyl9W+MBY3Ffojm730nV0HN3MjmkH5T0nLemJ7xb5R0E0BQ2O1Bx0DGsMwLYsS2x5I9rLanxBe7abWhjBDzZw9/2ltZh1IGtJgSufebajupsGz6qaAobHag2qpMQzTsiix7YHkAKtrX7+CHvJ2YJ+spVAzdF3XCuZXzX/UP/GJrZUaGrk8sIHW3biLxLopYGip9tBaagnDWBOFNjyQHCJ28kyIS55nkPQQ0WYIzyKoiPl1878XaOoT2yv2jYJuChjaqb3sx7B7NRT94YGkKL3tBMeboQ0Mzr++Dtk1QBhUwGwMiPJ8HwUd+KzEiB5IIh+yVvZmcP71SzO7BgiDCpiNAVGe76OgA5+VGLHMQNLA5eUIM1qvWBjZMTv/WMM1rOwaIJwpYDYGRHm+j4IOfFZiRPJAMvm8bvF1y7jjmtYrFkZ2zM6/Zsfc9p1dA4RBBczGgCjP91HQgc9KjEgdSL4/325PM/UVkshyA1b2ZnD+9YsouwYIgwqYjQFRnu+joAOflRiROpCMoT2QjFS0spG9GZx//UrKrgHCoAJmY0CU5/so6MBnJUb0QBL5kLWyN4Pzr1+a2TVAGFTAbAyI8nwfBR34rMSIHkgiH7JW9mZw/vVLM7sGCIMKmI0BUZ7vo6ADn5UY0QNJ5EPWyt4Mzr9+aWbXAGFQAbMxIMrzfRR04LMSI3ogiXzIWtmbwfnXL83sGiAMKmA2BkR5vo+CDnxWYkQPJJEPWSt7Mzj/+qWZXQOEQQXMxoAoz/dR0IHPSozogSTyIWtlbwbnX780s2uAMKiA2RgQ5fk+CjrwWYkRywwkcR/NWa9YGNkxO//6bZRdA4RBBczGgCjP91HQgc9KjOiBJPIha2VvBudfvzSza4AwqIDZGBDl+T4KOvBZiRE9kEQ+ZK3szeD865dmdg0QBhUwGwOiPN9HQQc+KzGiB5LIh6yVvRmcf/3SzK4BwqACZmNAlOf7KOjAZyVG9EAS+ZC1sjeD869fmtk1QBhUwGwMiPJ8HwUd+KzEiB5IIh+yVvZmcP71SzO7BgiDCpiNAVGe76OgA5+VGNEDSeRD1sreDM6/fmlm1wBhUAGzMSDK830UdOCzEiN6IIl8yFrZm8H51y/N7BogDCpgNgZEeb6Pgg58VmJEDySRD1krezM4//qlmV0DhEEFzMaAKM/3UdCBz0qM6IEk8iFrZW8G51+/NLNrgDCogNkYEOX5Pgo68FmJET2QRD5krezN4Pzrl2Z2DRAGFTAbA6I830dBBz4rMaIHksiHrJW9GZx//dLMrgHCoAJmY0CU5/so6MBnJUb0QBL5kLWyN4Pzr1+a2TVAGFTAbAyI8nwfBR34rMSIHkgiH7JW9mZw/vVLM7sGCIMKmI0BUZ7vo6ADn5UYcXMg6cnzf3PgGnANuAZcA64B18CZGohjx7a1OZBsu+R/pyf21f5lx+z861dsdg0QBhUwGwOiPN9HQQc+KzGiB5LIh6yVvRmcf/3SzK4BwqACZmNAlOf7KOjAZyVG9EAS+ZC1sjeD869fmtk1QBhUwGwMiPJ8HwUd+KzEiB5IIh+yVvZmcP71SzO7BgiDCpiNAVGe76OgA5+VGNEDSeRD1sreDM6/fmlm1wBhUAGzMSDK830UdOCzEiN6IIl8yFrZm8H51y/N7BogDCpgNgZEeb6Pgg58VmJEDySRD1krezM4//qlmV0DhEEFzMaAKM/3UdCBz0qM6IEk8iFrZW8G51+/NLNrgDCogNkYEOX5Pgo68FmJET2QRD5krezN4Pzrl2Z2DRAGFTAbA6I830dBBz4rMaIHksiHrJW9GZx//dLMrgHCoAJmY0CU5/so6MBnJUb0QBL5kLWyN4Pzr1+a2TVAGFTAbAyI8nwfBR34rMSIHkgiH7JW9mZw/vVLM7sGCIMKmI0BUZ7vo6ADn5UY0QNJ5EPWyt4Mzr9+aWbXAGFQAbMxIMrzfRR04LMSI+YZSP776N7+fHTfMX/IesXCyI7Z+UOlTnXKrgFChgJmY0CU5/so6MBnJUYsMJB8de+XS3fZ/P/WffwXk5ha359v3dvnytjhgWRK0+Ht7M3g/A9LTnfIrgFCiAJmY0CU5/so6MBnJUYsNJC8d19xP3erH1Y8kKxSU/jF7M3g/AsXyI7w2TXYAXGxRAGzMSxkrfKCgg6lifNAUprhRuJnbwbnX7+QsmuAMKiA2RgQ5fk+CjrwWYkRmxtIvv5eusvf+/WVf+/xox/fQxLVO2Blbwbnf0DsQkuza4DQooDZGBDl+T4KOvBZiRELDSTgPST9fSLXe09WPvLxPSRRuYNW9mZw/gcFL7A8uwYIJQqYjQFRnu+joAOflRixwEASd3DEGq6O9D8XN7Z6IDlC5WJt9mZw/gtJn/5Cdg0QwhQwGwOiPN9HQQc+KzEibyAZr278dnVk+t7s5tbrxzP3KyPXWLP3PZBE5Q5a2ZvB+R8UvMDy7BoglChgNgZEeb6Pgg58VmJE3kAS447W5td4xxVd16/pvyb8/m/y4nRA6V/2QDIh5/hm9mZw/sc1Z3tk1wDhQwGzMSDK830UdOCzEiPyB5LZ4PB4ILk9tyQMI0OO/VAy3Mg6izssQX6+YmFkx+z8kUrn+mTXAGFDAbMxIMrzfRR04LMSIzYwkMSENi0PJJvU7HkjezM4/z0ql12TXQOEHQXMxoAoz/dR0IHPSoxYfCCJuztheSA5QV7XZW8G539Kfopzdg0QEhQwGwOiPN9HQQc+KzFimYFk87Hxt5taVz+eiXktLQ8kS04OvJK9GZz/AbELLc2uAUKLAmZjQJTn+yjowGclRuQPJDF+k9aZwrh+NXkYuIYHuDWJMiaVHfMr539VkjiQx8rYb53RoBUM+9HeVp7B3Mqx4gyGVnQ7g0FBh1YwHO2fo+s9kBxg7FoU4xDy3X38WXleyoF4z1yKNnQrmF81/6671dn1j1UON3g/s3Am+0I1aAnDBM6uTRRzK33Tg0QxtKQbikFBh5Yw7GqaE4s8kOwmr/820OwJstNvAe2OU2ch1tDtYH7N/O9fie+H4MRXSK5f628Ew9Huy153PV4Mg0LttXP8wnVoC8PR/jm63gPJXsZWh4+VYtkb78nroINSQ5hfMv9pjSQeSEYYDWAYc9m5kb3uepgQhik/DegGYWjo+AXr0BiGaVmU2PZAspfVvjDGj2sGp34gmT1RdnirsZ9wQzeC+SXzn9ZQ1pNCYxim6ezZzl53PUYIw5ScrLXX2DEb0qExDNOyKLHtgWQvq8kLI3szvGT+09rMelJoDMM0nT3b2euuxwhhmJKTtfYaO2ZDOjSGYVoWJbY9kOxltS+MxU2F/shmL31n18HN3IhmUP5T0rKeFBrDME1nzzakW2PHCgjDlJystaegQ2MYpmVRYtsDyV5W+6Z8tZtaG8IMHVSz5z+tzawnhcYwTNPZs5297nqMEIYpOVlrr6H+h3VoDMO0LEpseyA5wOra16+gh7wd2CdrKQfMSCAAABkMSURBVHpQagXzq+Y/6p/1pDAC4P6BzGnYktvZ667nBsUw8pq49lo5fp3RoSUMY00U2vBAcojYyTMhLnmeQXKmGcKzCCpixg+qbWiG538v0MQnhbHFGsAw5rJzA9etjbrrYeIY7iQ1oBuOQUGHdjDsbBt4mQcSmLpcjnhDt4HT+dfXIbsGCIMKmI0BUZ7vo6ADn5UY0QNJ5EPWyt4Mzr9+aWbXAGFQAbMxIMrzfRR04LMSI3IHkv6O4OHvvFS8vB8hLq1XLIzsmJ3/so6f/Up2DRC+FDAbA6I830dBBz4rMSJxIPnuPv5+dN9j/P4rsZeuxZs+X7EwsmN2/mNjVdvIrgFCnAJmY0CU5/so6MBnJUYkDiQxcG+Nf8Ni+VbVV16xMLJjdv5VW+a68+waIAwqYDYGRHm+j4IOfFZixOIDydvnzzWTuOt61isWRnbMzr9evwx7zq7BgOPITwXMxnBE8XJrFXQox84tcsGBpN2/8/KKhZEds/MvfSh4HD+7Bo8RLlcoYDaGpa41XlHQoTRvZQaS/nvrjd4/0hP6ioWRHbPzL30oeBw/uwaPES5XKGA2hqWuNV5R0KE0b/SB5PpUufkj1kujOBj/FQsjO2bnf7DICyzPrgFCiQJmY0CU5/so6MBnJUakDiTxEbdxRy1Zr1gY2TE7//odlF0DhEEFzMaAKM/3UdCBz0qMSBxIxP/ybeQtnZW9GZx//ZLLrgHCoAJmY0CU5/so6MBnJUbkDST3+0amD0a7bi/+/HtMoIb1ioWRHbPzr9EpcZ/ZNYho9lkKmI1hn9alVynoUJoj3kBSOlNi/FcsjOyYnT+xAcBQ2TVAYCtgNgZEeb6Pgg58VmJEDySRD1krezM4//qlmV0DhEEFzMaAKM/3UdCBz0qM6IEk8iFrZW8G51+/NLNrgDCogNkYEOX5Pgo68FmJET2QRD5krezN4Pzrl2Z2DRAGFTAbA6I830dBBz4rMaIHksiHrJW9GZx//dLMrgHCoAJmY0CU5/so6MBnJUb0QBL5kLWyN4Pzr1+a2TVAGFTAbAyI8nwfBR34rMSIHkgiH7JW9mZw/vVLM7sGCIMKmI0BUZ7vo6ADn5UY0QNJ5EPWyt4Mzr9+aWbXAGFQAbMxIMrzfRR04LMSI3ogiXzIWtmbwfnXL83sGiAMKmA2BkR5vo+CDnxWYkQPJJEPWSt7Mzj/+qWZXQOEQQXMxoAoz/dR0IHPSozogSTyIWtlbwbnX780s2uAMKiA2RgQ5fk+CjrwWYkRPZBEPmSt7M3g/OuXZnYNEAYVMBsDojzfR0EHPisxogeSyIeslb0ZnH/90syuAcKgAmZjQJTn+yjowGclRvRAEvmQtbI3g/OvX5rZNUAYVMBsDIjyfB8FHfisxIibA0lPnv+bA9eAa8A14BpwDbgGztRAHDu2rc2BZNsl/zs9sa/2Lztm51+/YrNrgDCogNkYEOX5Pgo68FmJET2QRD5krezN4Pzrl2Z2DRAGFTAbA6I830dBBz4rMaIHksiHrJW9GZx//dLMrgHCoAJmY0CU5/so6MBnJUb0QBL5kLWyN4Pzr1+a2TVAGFTAbAyI8nwfBR34rMSIHkgiH7JW9mZw/vVLM7sGCIMKmI0BUZ7vo6ADn5UY0QNJ5EPWyt4Mzr9+aWbXAGFQAbMxIMrzfRR04LMSI3ogiXzIWtmbwfnXL83sGiAMKmA2BkR5vo+CDnxWYkQPJJEPWSt7Mzj/+qWZXQOEQQXMxoAoz/dR0IHPSozogSTyIWtlbwbnX780s2uAMKiA2RgQ5fk+CjrwWYkRPZBEPmSt7M3g/OuXZnYNEAYVMBsDojzfR0EHPisxogeSyIeslb0ZnH/90syuAcKgAmZjQJTn+yjowGclRvRAEvmQtbI3g/OvX5rZNUAYVMBsDIjyfB8FHfisxIgeSCIfslb2ZnD+9UszuwYIgwqYjQFRnu+joAOflRgxz0Dy30f39uej+475Q9YrFkZ2zM4fKnWqU3YNEDIUMBsDojzfR0EHPisxYoGB5Kt7v1y6y+b/t+7jv5jE1Pr+fOvePlfGDg8kU5oOb2dvBud/WHK6Q3YNEEIUMBsDojzfR0EHPisxYqGB5L37ivu5W/2w4oFklZrCL2ZvBudfuEB2hM+uwQ6IiyUKmI1hIWuVFxR0KE2cB5LSDDcSP3szOP/6hZRdA4RBBczGgCjP91HQgc9KjNjcQPL199Jd/t6vr/x7jx/9+B6SqN4BK3szOP8DYhdaml0DhBYFzMaAKM/3UdCBz0qMWGggAe8h6e8Tud57svKRj+8hicodtLI3g/M/KHiB5dk1QChRwGwMiPJ8HwUd+KzEiAUGkriDI9ZwdaT/ubix1QPJESoXa7M3g/NfSPr0F7JrgBCmgNkYEOX5Pgo68FmJEXkDyXh147erI9P3Zje3Xj+euV8Zucaave+BJCp30MreDM7/oOAFlmfXAKFEAbMxIMrzfRR04LMSI/IGkhh3tDa/xjuu6Lp+Tf814fd/kxenA0r/sgeSCTnHN7M3g/M/rjnbI7sGCB8KmI0BUZ7vo6ADn5UYkT+QzAaHxwPJ7bklYRgZcuyHkuFG1lncYQny8xULIztm549UOtcnuwYIGwqYjQFRnu+joAOflRixgYEkJrRpeSDZpGbPG9mbwfnvUbnsmuwaIOwoYDYGRHm+j4IOfFZixOIDSdzdCcsDyQnyui57Mzj/U/JTnLNrgJCggNkYEOX5Pgo68FmJEcsMJJuPjb/d1Lr68UzMa2l5IFlycuCV7M3g/A+IXWhpdg0QWhQwGwOiPN9HQQc+KzEifyCJ8Zu0zhTG9avJw8A1PMCtSZQxqTOYr5GIA2HMbJ/1yvm3UnOwBrMHHC6+0r+vBKqsgjF3XZdeN2Og1pxCLVEJWQnmgWSFlK2XrgeYcQj57j7+rDwvZcu58ut4M9xwXv9Y4nCDcQUsr5p/SzWHafDdffyd/pXuX25ir1BXj3aJYb4PI40cK4xh+MtqdY/ZCjo86pez73sg2c1gfyCdPUF2+i2g3XHqLESb4fqV7P7AmvQKSe7826o5tIbmFT9qMn+jQRvDrKCbMbDLUaGW2JzM43kgmTOyZa8OHytNu+Vf+XWsGSZJJx1IRgQZ82+s5k7X0F2Mx48CGFWrvgFhVtDNGOi1p1BLdFJmAT2QzAjZNPsGHS/BDqv6gWT2RNnhrcZ+Qs0wxZDxhJ49/8Zq7nQNXfXI0zN9uhBmBd2MYXr0oGwr1BKFiF+CeCD5hZzwVmMNGnLbYUDNMI3rgWTKxuFtiP/Gag7CMGWqr6H5E5mn7ze4DWFW0M0Y6NWoUEt0UmYBPZDMCNk0+wZd3NTpj2w2+SK/ATXzNIeMA1VjNXdGg9s3Tmb3YE31aXQbwqygmzHQK1KhluikzAJ6IJkRsmlef7ubHVBXm3YzQtU3oGaYZpzxhJ49/8ZqDq2h+E2hqSjtb0OYFXQzBnpxKtQSnZRZQA8kM0J+M+OB9fYVMughb7/tpNB7UDNMc/FAMmXj8DbKf0s1h2HIcxVxTVQM8/rXfmsdK4whfu3XOqxVehuveSA5pMPkmRyXPM8g6SGiB6WRHg8kIxXIBs5/OzUHYbj+pn17QvP1WTbDQwUXH38irJb3gTBf00qumzHQi0uhluikzAJ6IJkRomrizdAGI86/vg7ZNUAYVMBsDIjyfB8FHfisxIgeSCIfslb2ZnD+9UszuwYIgwqYjQFRnu+joAOflRiRO5DMLs/W+qwuQlxar1gY2TE7/2UdP/uV7BogfClgNgZEeb6Pgg58VmJE6kDy9Tn/mxVtPjTsFQsjO2bnHxu3hpVdA4QzBczGgCjP91HQgc9KjEgdSGLodr+F8oqFkR2z84/dVcPKrgHCmQJmY0CU5/so6MBnJUYsN5BU/lZGhBmtVyyM7Jidf6zhGlZ2DRDOFDAbA6I830dBBz4rMSJ5IOmfOXD/il/DX+t7xcLIjtn5x8atYWXXAOFMAbMxIMrzfRR04LMSI5IHkknw+w2uLd7Y+oqFkR2z85/0VqXN7BogtClgNgZEeb6Pgg58VmLEcgNJ13X9nxlf/oXcmEAN6xULIztm51+jU+I+s2sQ0eyzFDAbwz6tS69S0KE0Rx5ISjPcSPzszeD86xdSdg0QBhUwGwOiPN9HQQc+KzEicSD56j4+vyfRb/eT+CObCSUVN7M3g/OvWDz3XWfXAGFQAbMxIMrzfRR04LMSIxIHkvtHNMNNrZc2n0HSw3/FwsiO2fnHxq1hZdcA4UwBszEgyvN9FHTgsxIjUgeSGLpd6xULIztm51+/n7JrgDCogNkYEOX5Pgo68FmJET2QRD5krezN4Pzrl2Z2DRAGFTAbA6I830dBBz4rMaIHksiHrJW9GZx//dLMrgHCoAJmY0CU5/so6MBnJUb0QBL5kLWyN4Pzr1+a2TVAGFTAbAyI8nwfBR34rMSIHkgiH7JW9mZw/vVLM7sGCIMKmI0BUZ7vo6ADn5UY0QNJ5EPWyt4Mzr9+aWbXAGFQAbMxIMrzfRR04LMSI3ogiXzIWtmbwfnXL83sGiAMKmA2BkR5vo+CDnxWYkQPJJEPWSt7Mzj/+qWZXQOEQQXMxoAoz/dR0IHPSozogSTyIWtlbwbnX780s2uAMKiA2RgQ5fk+CjrwWYkRPZBEPmSt7M3g/OuXZnYNEAYVMBsDojzfR0EHPisxogeSyIeslb0ZnH/90syuAcKgAmZjQJTn+yjowGclRvRAEvmQtbI3g/OvX5rZNUAYVMBsDIjyfB8FHfisxIgeSCIfslb2ZnD+9UszuwYIgwqYjQFRnu+joAOflRjRA0nkQ9bK3gzOv35pZtcAYVABszEgyvN9FHTgsxIjbg4kPXn+bw5cA64B14BrwDXgGjhTA3Hs2LY2B5Jtl/zv9MS+2r/smJ1//YrNrgHCoAJmY0CU5/so6MBnJUb0QBL5kLWyN4Pzr1+a2TVAGFTAbAyI8nwfBR34rMSIHkgiH7JW9mZw/vVLM7sGCIMKmI0BUZ7vo6ADn5UY0QNJ5EPWyt4Mzr9+aWbXAGFQAbMxIMrzfRR04LMSI3ogiXzIWtmbwfnXL83sGiAMKmA2BkR5vo+CDnxWYkQPJJEPWSt7Mzj/+qWZXQOEQQXMxoAoz/dR0IHPSozogSTyIWtlbwbnX780s2uAMKiA2RgQ5fk+CjrwWYkRPZBEPmSt7M3g/OuXZnYNEAYVMBsDojzfR0EHPisxogeSyIeslb0ZnH/90syuAcKgAmZjQJTn+yjowGclRvRAEvmQtbI3g/OvX5rZNUAYVMBsDIjyfB8FHfisxIgeSCIfslb2ZnD+9UszuwYIgwqYjQFRnu+joAOflRjRA0nkQ9bK3gzOv35pZtcAYVABszEgyvN9FHTgsxIjeiCJfMha2ZvB+dcvzewaIAwqYDYGRHm+j4IOfFZixDwDyX8f3dufj+475g9Zr1gY2TE7f6jUqU7ZNUDIUMBsDIjyfB8FHfisxIgFBpKv7v1y6S6b/9+6j/9iElPr+/Ote/tcGTs8kExpOrydvRmc/2HJ6Q7ZNUAIUcBsDIjyfB8FHfisxIiFBpL37ivu5271w4oHklVqCr+YvRmcf+EC2RE+uwY7IC6WKGA2hoWsVV5Q0KE0cR5ISjPcSPzszeD86xdSdg0QBhUwGwOiPN9HQQc+KzFicwPJ199Ld/l7v77y7z1+9ON7SKJ6B6zszeD8D4hdaGl2DRBaFDAbA6I830dBBz4rMWKhgQS8h6S/T+R678nKRz6+hyQqd9DK3gzO/6DgBZZn1wChRAGzMSDK830UdOCzEiMWGEjiDo5Yw9WR/ufixlYPJEeoXKzN3gzOfyHp01/IrgFCmAJmY0CU5/so6MBnJUbkDSTj1Y3fro5M35vd3Hr9eOZ+ZeQaa/a+B5Ko3EErezM4/4OCF1ieXQOEEgXMxoAoz/dR0IHPSozIG0hi3NHa/BrvuKLr+jX914Tf/01enA4o/cseSCbkHN/M3gzO/7jmbI/sGiB8KGA2BkR5vo+CDnxWYkT+QDIbHB4PJLfnloRhZMixH0qGG1lncYclyM9XLIzsmJ0/Uulcn+waIGwoYDYGRHm+j4IOfFZixAYGkpjQpuWBZJOaPW9kbwbnv0flsmuya4Cwo4DZGBDl+T4KOvBZiRGLDyRxdycsDyQnyOu67M3g/E/JT3HOrgFCggJmY0CU5/so6MBnJUYsM5BsPjb+dlPr6sczMa+l5YFkycmBV7I3g/M/IHahpdk1QGhRwGwMiPJ8HwUd+KzEiPyBJMZv0jpdGMTh6FkEncF8/Tr2MGQOD617VuL3/Tj/+zfUKvHfy5BdA6RkFTC/Ooar7g0cs8/o0AoGpIeO+HggOcJW9919/LmfGIabbQ/511uMNsPwbJhb5jf8i2fEPAGW8+9Jrsd/v/fsGiBlqoD5lTEMPXP9Y6+Vj9moDi1hQHroiI8HkgNsXb+e3P+G2sC0fSDt61KsGfpvQM2emjv95tPRJE6sd/538irx3+89uwZI+Slgfl0M90dKNHLMxnRoCwPSQ0d8PJAcYWtY+yoDyerJb2VIGXgp+BNqZudPVSS7BggZCphfFsNU8AaO2ZAOjWGYplNi2wMJwmoDxX00bagZ+hP64p6FfiCZPUX3aDLAeuc/kFaH/37v2TUYGDzyUwHzy2KYCt3AMRvSoTEM03RKbHsgQVhtoLiPpg01gweSozRvrs/Ofw9MAcOmQBtvKGB+WQxTTRs4ZkM6NIZhmk6JbQ8kCKsNFPfRtKFm8EceR2neXJ+d/x6YAoZNgTbeUMD8shimmjZwzIZ0aAzDNJ0S2x5IEFYbKO6jaUPN0OPMfFOr8z9aJr+uz15Dv4LbeFMB88timGrawDEb0qExDNN0Smx7IEFYbaC4j6aNNsPa136hB9sdTXi23vn3hNy+9luD/37v2TWYldQuUwHzK2MYRW7gmI3q0BKGMZdCGx5IEGIbKO6jaePNMHn2yuXS1XgGSY/V+d+ef1OLfwUNjvaMCubsvXNOh7vqDRyzcR3awXDPpNgPDyTFqG0r8OlmqAzH+VcW4NRQWD93NIPsddfjNgZUfa6fgg5cRpbRPJAsOZF8JXszOP/6ZZldA4RBBczGgCjP91HQgc9KjFhsILk+1XR+Q2TcdzXrFQsjO2bnX61dxh1n12AEcmBDAbMxHBC84FIFHQrScw1daCDpH97Uf+Y9e+x4aTQ7479iYWTH7Px3FnfBZdk1QKhRwGwMiPJ8HwUd+KzEiEUGkuvVkT9vy6+Mxn1Xs16xMLJjdv7V2mXccXYNRiAHNhQwG8MBwQsuVdChID3X0PyBpL+bub8yMvwsjQCI/4qFkR2z8wcKneySXQOEDgXMxoAoz/dR0IHPSoxIHkgmz0nwQBKZrmxlbwbnX7mARL6tcZTF7HXX4zWGo6qXWa+gQxlmfqJSB5L+IVrjcxI8kPyw3MBW9mZw/vWLKLsGCIMKmI0BUZ7vo6ADn5UYkTeQzP/uiQeSyHRlK3szOP/KBSTym/ZRFrPXXY/XGI6qXma9gg5lmPmJShpI4tM8L9dv2NyeLNlv13rU9Q/MuPWKhZEds/OPNVzDyq4BwpkCZmNAlOf7KOjAZyVGJA0kMejV8hWSFVLqvZS9GZx/vdoZ9pxdgwHHkZ8KmI3hiOLl1iroUI6dW2QPJKUZbiR+9mZw/vULKbsGCIMKmI0BUZ7vo6ADn5UYsdxAEvfTlPWKhZEds/Ov30LZNUAYVMBsDIjyfB8FHfisxIgeSCIfslb2ZnD+9UszuwYIgwqYjQFRnu+joAOflRjRA0nkQ9bK3gzOv35pZtcAYVABszEgyvN9FHTgsxIjeiCJfMha2ZvB+dcvzewaIAwqYDYGRHm+j4IOfFZiRA8kkQ9ZK3szOP/6pZldA4RBBczGgCjP91HQgc9KjOiBJPIha2VvBudfvzSza4AwqIDZGBDl+T4KOvBZiRE9kEQ+ZK3szeD865dmdg0QBhUwGwOiPN9HQQc+KzGiB5LIh6yVvRmcf/3SzK4BwqACZmNAlOf7KOjAZyVG9EAS+ZC1sjeD869fmtk1QBhUwGwMiPJ8HwUd+KzEiB5IIh+yVvZmcP71SzO7BgiDCpiNAVGe76OgA5+VGNEDSeRD1sreDM6/fmlm1wBhUAGzMSDK830UdOCzEiN6IIl8yFrZm8H51y/N7BogDCpgNgZEeb6Pgg58VmJEDySRD1krezM4//qlmV0DhEEFzMaAKM/3UdCBz0qM6IEk8iFrZW8G51+/NLNrgDCogNkYEOX5Pgo68FmJEV9yIIkU2DIDZsAMmAEzYAZqM+CBpLYC3r8ZMANmwAyYATPQeSBxEZgBM2AGzIAZMAPVGfBAUl0CJ2AGzIAZMANmwAx4IHENmAEzYAbMgBkwA9UZ8EBSXQInYAbMgBkwA2bADHggcQ2YATNgBsyAGTAD1RnwQFJdAidgBsyAGTADZsAMeCBxDZgBM2AGzIAZMAPVGfBAUl0CJ2AGzIAZMANmwAx4IHENmAEzYAbMgBkwA9UZ8EBSXQInYAbMgBkwA2bADHggcQ2YATNgBsyAGTAD1Rn4P0A6XtHpVLOSAAAAAElFTkSuQmCC)"
      ]
    },
    {
      "cell_type": "markdown",
      "metadata": {
        "id": "jAt5dFohvCjY"
      },
      "source": [
        "각 문서에서 등장한 단어의 빈도를 행렬의 값으로 표기합니다. 문서 단어 행렬은 문서들을 서로 비교할 수 있도록 수치화할 수 있다는 점에서 의의를 갖습니다.\n",
        "\n",
        "## DTM의 한계\n",
        "\n",
        "1. 희소 표현(Sparse representation)\n",
        "- 원-핫 벡터는 단어 집합의 크기가 벡터의 차원이 되고 대부분의 값이 0이 된다는 특징이 있었습니다. 이 특징은 공간적 낭비와 계산 리소스를 증가시킬 수 있다는 점에서 원-핫 벡터의 단점이었습니다. DTM도 마찬가지입니다\n",
        "\n",
        "- 각 문서 벡터의 차원은 원-핫 벡터와 마찬가지로 전체 단어 집합의 크기를 가집니다. 만약 가지고 있는 전체 코퍼스가 방대한 데이터라면 문서 벡터의 차원은 수백만의 차원을 가질 수도 있습니다. 또한 많은 문서 벡터가 대부분의 값이 0을 가질 수도 있습니다. 당장 위에서 예로 들었던 문서 단어 행렬의 모든 행이 0이 아닌 값보다 0의 값이 더 많은 것을 볼 수 있습니다.\n",
        "\n",
        "-원-핫 벡터나 DTM과 같은 대부분의 값이 0인 표현을 희소 벡터(sparse vector) 또는 희소 행렬(sparse matrix)라고 부르는데, 희소 벡터는 많은 양의 저장 공간과 계산을 위한 리소스를 필요로 합니다. 이러한 이유로 전처리를 통해 단어 집합의 크기를 줄이는 일은 BoW 표현을 사용하는 모델에서 중요할 수 있습니다. 앞서 배운 텍스트 전처리 방법을 사용하여 구두점, 빈도수가 낮은 단어, 불용어를 제거하고, 어간이나 표제어 추출을 통해 단어를 정규화하여 단어 집합의 크기를 줄일 수 있습니다.\n",
        "\n",
        "2. 단순 빈도 수 기반 접근\n",
        "- 여러 문서에 등장하는 모든 단어에 대해서 빈도 표기를 하는 이런 방법은 때로는 한계를 가지기도 합니다. 예를 들어 영어에 대해서 DTM을 만들었을 때, 불용어인 the는 어떤 문서이든 자주 등장할 수 밖에 없습니다. 그런데 유사한 문서인지 비교하고 싶은 문서1, 문서2, 문서3에서 동일하게 the가 빈도수가 높다고 해서 이 문서들이 유사한 문서라고 판단해서는 안 됩니다.\n",
        "\n",
        "\n",
        "\n"
      ]
    },
    {
      "cell_type": "markdown",
      "metadata": {
        "id": "1xYzJZUMvhu_"
      },
      "source": [
        "# TF-IDF(Term Frequency-Inverse Document Frequency)\n",
        "- TF-IDF(Term Frequency-Inverse Document Frequency)는 단어의 빈도와 역 문서 빈도(문서의 빈도에 특정 식을 취함)를 사용하여 DTM 내의 각 단어들마다 중요한 정도를 가중치로 주는 방법입니다. 사용 방법은 우선 DTM을 만든 후, TF-IDF 가중치를 부여합니다.\n",
        "\n",
        "- TF-IDF는 주로 문서의 유사도를 구하는 작업, 검색 시스템에서 검색 결과의 중요도를 정하는 작업, 문서 내에서 특정 단어의 중요도를 구하는 작업 등에 쓰일 수 있습니다.\n",
        "\n",
        "- TF-IDF는 TF와 IDF를 곱한 값을 의미하는데 이를 식으로 표현해보겠습니다. 문서를 d, 단어를 t, 문서의 총 개수를 n이라고 표현할 때 TF, DF, IDF는 각각 다음과 같이 정의할 수 있습니다.\n",
        "\n",
        "### 1. tf(d,t) : 특정 문서 d에서의 특징 단어 t의 등장 횟수\n",
        "- TF는 앞에서 배운 DTM의 예제에서 각 단어들이 가진 값들입니다. DTM이 각 문서에서의 각 단어의 등장 빈도를 나타내는 값이었기 때문입니다.\n",
        "\n",
        "\n",
        "### 2. df(t) : 특정 단어 t가 등장한 문서의 수\n",
        "- 여기서 특정 단어가 각 문서, 또는 문서들에서 몇 번 등장했는지는 관심가지지 않으며 오직 특정 단어 t가 등장한 문서의 수에만 관심을 가집니다.\n",
        "\n",
        "### 3. idf(d,t) : df(t)에 반비례하는 수\n",
        "\n",
        "$idf(d,t) = {\\log} ({\\dfrac{n}{1+df(t)}})$\n",
        "\n",
        "- IDF라는 이름을 보고 DF의 역수가 아닐까 생각했다면, IDF는 DF의 역수를 취하고 싶은 것이 맞습니다. 그런데 log와 분모에 1을 더해주는 식에 의아하실 수 있습니다. log를 사용하지 않았을 때, IDF를 DF의 역수(${\\dfrac{n}{df(t)}}$라는 식)로 사용한다면 총 문서의 수 n이 커질 수록, IDF의 값은 기하급수적으로 커지게 됩니다. 그렇기 때문에 log를 사용합니다.\n",
        "\n",
        "왜 log가 필요한지 n=1,000,000일 때의 예를 들어봅시다. log의 밑은 10을 사용한다고 가정하였을 때 결과는 아래와 같습니다.\n",
        "\n",
        "$idf(d,t)=log(n/df(t)), n=1,000,000$\n",
        "\n",
        "![image.png](data:image/png;base64,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)"
      ]
    },
    {
      "cell_type": "markdown",
      "metadata": {
        "id": "O6Dwv-v61lM6"
      },
      "source": [
        "log를 사용하지 않으면 idf의 값이 어떻게 커지는지 보겠습니다.\n",
        "\n",
        "$idf(d,t) = n/df(t) , n=1,000,000\n",
        "\n",
        "![image.png](data:image/png;base64,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)"
      ]
    },
    {
      "cell_type": "markdown",
      "metadata": {
        "id": "fjERJ4GG34eq"
      },
      "source": [
        "- 또 다른 직관적인 설명은 불용어 등과 같이 자주 쓰이는 단어들은 비교적 자주 쓰이지 않는 단어들보다 최소 수십 배 자주 등장합니다. 그런데 비교적 자주 쓰이지 않는 단어들조차 희귀 단어들과 비교하면 또 최소 수백 배는 더 자주 등장하는 편입니다. 이 때문에 log를 씌워주지 않으면, 희귀 단어들에 엄청난 가중치가 부여될 수 있습니다. 로그를 씌우면 이런 격차를 줄이는 효과가 있습니다.\n",
        "\n",
        "- 또한 log 안의 식에서 분모에 1을 더해주는 이유는 첫번째 이유로는 특정 단어가 전체 문서에서 등장하지 않을 경우에 분모가 0이 되는 상황을 방지하기 위함입니다.\n",
        "\n",
        "- TF-IDF는 모든 문서에서 자주 등장하는 단어는 중요도가 낮다고 판단하며, 특정 문서에서만 자주 등장하는 단어는 중요도가 높다고 판단합니다. TF-IDF 값이 낮으면 중요도가 낮은 것이며, TF-IDF 값이 크면 중요도가 큰 것입니다. 즉, the나 a와 같이 불용어의 경우에는 모든 문서에 자주 등장하기 마련이기 때문에 자연스럽게 불용어의 TF-IDF의 값은 다른 단어의 TF-IDF에 비해서 낮아지게 됩니다.\n",
        "\n",
        "![image.png](data:image/png;base64,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)"
      ]
    },
    {
      "cell_type": "markdown",
      "metadata": {
        "id": "QeukRIpI3_lX"
      },
      "source": [
        "- 앞서 DTM을 설명하기위해 들었던 위의 예제를 가지고 TF-IDF에 대해 이해해보도록 하겠습니다. 우선 TF는 앞서 사용한 DTM을 그대로 사용하면, 그것이 각 문서에서의 각 단어의 TF가 됩니다.\n",
        "\n",
        "- 그렇다면 이제 구해야할 것은 TF와 곱해야할 값인 IDF입니다. 로그는 자연 로그를 사용하도록 하겠습니다. 자연 로그는 로그의 밑을 자연 상수 e(e=2.718281...)를 사용하는 로그를 말합니다. IDF 계산을 위해 사용하는 로그의 밑은 TF-IDF를 사용하는 사용자가 임의로 정할 수 있는데, 여기서 로그는 마치 기존의 값에 곱하여 값의 크기를 조절하는 상수의 역할을 합니다. 그런데 보통 각종 프로그래밍 언어나 프로그램에서 패키지로 지원하는 TF-IDF의 로그는 대부분 자연 로그를 사용합니다. 그렇기 때문에 저 또한 자연 로그를 사용하도록 하겠습니다. 자연 로그는 보통 log라고 표현하지 않고, ln이라고 표현합니다.\n",
        "\n",
        "![image.png](data:image/png;base64,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)"
      ]
    },
    {
      "cell_type": "markdown",
      "metadata": {
        "id": "Z8I_biW44H-7"
      },
      "source": [
        "- 문서의 총 수는 4이기 때문에 ln 안에서 분자는 늘 4으로 동일합니다. 분모의 경우에는 각 단어가 등장한 문서의 수(DF)를 의미하는데, 예를 들어서 '먹고'의 경우에는 총 2개의 문서(문서1, 문서2)에 등장했기 때문에 2라는 값을 가집니다. 각 단어에 대해서 IDF의 값을 비교해보면 문서 1개에만 등장한 단어와 문서2개에만 등장한 단어는 값의 차이를 보입니다. IDF는 여러 문서에서 등장한 단어의 가중치를 낮추는 역할을 하기 때문입니다.\n",
        "\n",
        "- 그러면 이제 TF-IDF를 계산해보도록 하겠습니다. TF는 DTM을 그대로 가져오면 각 문서에서의 각 단어의 TF를 가져오게 되기 때문에, 앞서 사용한 DTM에서 단어 별로 위의 IDF값을 그대로 곱해주면 TF-IDF가 나오게 됩니다.\n",
        "\n",
        "![image.png](data:image/png;base64,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)"
      ]
    },
    {
      "cell_type": "markdown",
      "metadata": {
        "id": "Q21LZjVL4Ru5"
      },
      "source": [
        "사실 예제 문서가 굉장히 간단하기 때문에 계산은 매우 쉽습니다. 문서3에서의 바나나만 TF 값이 2이므로 IDF에 2를 곱해주고, 나머진 TF 값이 1이므로 그대로 IDF 값을 가져오면 됩니다. 문서2에서의 바나나의 TF-IDF 가중치와 문서3에서의 바나나의 TF-IDF 가중치가 다른 것을 볼 수 있습니다. 수식적으로 말하면, TF가 각각 1과 2로 달랐기 때문인데 TF-IDF에서의 관점에서 보자면 TF-IDF는 특정 문서에서 자주 등장하는 단어는 그 문서 내에서 중요한 단어로 판단하기 때문입니다. 문서2에서는 바나나를 한 번 언급했지만, 문서3에서는 바나나를 두 번 언급했기 때문에 문서3에서의 바나나를 더욱 중요한 단어라고 판단하는 것입니다."
      ]
    },
    {
      "cell_type": "markdown",
      "metadata": {
        "id": "ROxTklbB4S_2"
      },
      "source": [
        "파이썬으로 TF-IDF 직접 구현하기\n",
        "\n"
      ]
    },
    {
      "cell_type": "code",
      "metadata": {
        "id": "AySwed1qpklY"
      },
      "source": [
        "import pandas as pd # 데이터프레임 사용을 위해\n",
        "from math import log # IDF 계산을 위해"
      ],
      "execution_count": null,
      "outputs": []
    },
    {
      "cell_type": "code",
      "metadata": {
        "id": "SS3cqqxS4W6Z"
      },
      "source": [
        "docs = [\n",
        "  '먹고 싶은 사과',\n",
        "  '먹고 싶은 바나나',\n",
        "  '길고 노란 바나나 바나나',\n",
        "  '저는 과일이 좋아요'\n",
        "] \n",
        "vocab = list(set(w for doc in docs for w in doc.split()))\n",
        "vocab.sort()"
      ],
      "execution_count": null,
      "outputs": []
    },
    {
      "cell_type": "code",
      "metadata": {
        "id": "EE_vYmSL4Xzk"
      },
      "source": [
        "#TF,IDF 그리고 TF-IDF 값을 구하는 함수\n",
        "N = len(docs) # 총 문서의 수\n",
        "\n",
        "def tf(t, d):\n",
        "    return d.count(t)\n",
        "\n",
        "def idf(t):\n",
        "    df = 0\n",
        "    for doc in docs:\n",
        "        df += t in doc\n",
        "    return log(N/(df + 1))\n",
        "\n",
        "def tfidf(t, d):\n",
        "    return tf(t,d)* idf(t)"
      ],
      "execution_count": null,
      "outputs": []
    },
    {
      "cell_type": "code",
      "metadata": {
        "id": "AyV1EWVO4dRS",
        "colab": {
          "base_uri": "https://localhost:8080/",
          "height": 171
        },
        "outputId": "83a778ec-f6da-416d-8f4b-25a9cda425e6"
      },
      "source": [
        "#TF를 구해보자. ->DTM을 데이터프레임에 저장하여 출력\n",
        "\n",
        "result = []\n",
        "for i in range(N): # 각 문서에 대해서 아래 명령을 수행\n",
        "    result.append([])\n",
        "    d = docs[i]\n",
        "    for j in range(len(vocab)):\n",
        "        t = vocab[j]        \n",
        "        result[-1].append(tf(t, d))\n",
        "\n",
        "tf_ = pd.DataFrame(result, columns = vocab)\n",
        "tf_"
      ],
      "execution_count": null,
      "outputs": [
        {
          "output_type": "execute_result",
          "data": {
            "text/html": [
              "<div>\n",
              "<style scoped>\n",
              "    .dataframe tbody tr th:only-of-type {\n",
              "        vertical-align: middle;\n",
              "    }\n",
              "\n",
              "    .dataframe tbody tr th {\n",
              "        vertical-align: top;\n",
              "    }\n",
              "\n",
              "    .dataframe thead th {\n",
              "        text-align: right;\n",
              "    }\n",
              "</style>\n",
              "<table border=\"1\" class=\"dataframe\">\n",
              "  <thead>\n",
              "    <tr style=\"text-align: right;\">\n",
              "      <th></th>\n",
              "      <th>과일이</th>\n",
              "      <th>길고</th>\n",
              "      <th>노란</th>\n",
              "      <th>먹고</th>\n",
              "      <th>바나나</th>\n",
              "      <th>사과</th>\n",
              "      <th>싶은</th>\n",
              "      <th>저는</th>\n",
              "      <th>좋아요</th>\n",
              "    </tr>\n",
              "  </thead>\n",
              "  <tbody>\n",
              "    <tr>\n",
              "      <th>0</th>\n",
              "      <td>0</td>\n",
              "      <td>0</td>\n",
              "      <td>0</td>\n",
              "      <td>1</td>\n",
              "      <td>0</td>\n",
              "      <td>1</td>\n",
              "      <td>1</td>\n",
              "      <td>0</td>\n",
              "      <td>0</td>\n",
              "    </tr>\n",
              "    <tr>\n",
              "      <th>1</th>\n",
              "      <td>0</td>\n",
              "      <td>0</td>\n",
              "      <td>0</td>\n",
              "      <td>1</td>\n",
              "      <td>1</td>\n",
              "      <td>0</td>\n",
              "      <td>1</td>\n",
              "      <td>0</td>\n",
              "      <td>0</td>\n",
              "    </tr>\n",
              "    <tr>\n",
              "      <th>2</th>\n",
              "      <td>0</td>\n",
              "      <td>1</td>\n",
              "      <td>1</td>\n",
              "      <td>0</td>\n",
              "      <td>2</td>\n",
              "      <td>0</td>\n",
              "      <td>0</td>\n",
              "      <td>0</td>\n",
              "      <td>0</td>\n",
              "    </tr>\n",
              "    <tr>\n",
              "      <th>3</th>\n",
              "      <td>1</td>\n",
              "      <td>0</td>\n",
              "      <td>0</td>\n",
              "      <td>0</td>\n",
              "      <td>0</td>\n",
              "      <td>0</td>\n",
              "      <td>0</td>\n",
              "      <td>1</td>\n",
              "      <td>1</td>\n",
              "    </tr>\n",
              "  </tbody>\n",
              "</table>\n",
              "</div>"
            ],
            "text/plain": [
              "   과일이  길고  노란  먹고  바나나  사과  싶은  저는  좋아요\n",
              "0    0   0   0   1    0   1   1   0    0\n",
              "1    0   0   0   1    1   0   1   0    0\n",
              "2    0   1   1   0    2   0   0   0    0\n",
              "3    1   0   0   0    0   0   0   1    1"
            ]
          },
          "metadata": {
            "tags": []
          },
          "execution_count": 159
        }
      ]
    },
    {
      "cell_type": "code",
      "metadata": {
        "id": "f118eIvi4lcG",
        "colab": {
          "base_uri": "https://localhost:8080/",
          "height": 325
        },
        "outputId": "62e53b2e-d0a4-4707-a706-b5663c29f0db"
      },
      "source": [
        "#정상적인 DTM이 출력되어짐. 이제 각 단어에 대한 IDF 값을 구해보자\n",
        "\n",
        "result = []\n",
        "for j in range(len(vocab)):\n",
        "    t = vocab[j]\n",
        "    result.append(idf(t))\n",
        "\n",
        "idf_ = pd.DataFrame(result, index = vocab, columns = [\"IDF\"])\n",
        "idf_"
      ],
      "execution_count": null,
      "outputs": [
        {
          "output_type": "execute_result",
          "data": {
            "text/html": [
              "<div>\n",
              "<style scoped>\n",
              "    .dataframe tbody tr th:only-of-type {\n",
              "        vertical-align: middle;\n",
              "    }\n",
              "\n",
              "    .dataframe tbody tr th {\n",
              "        vertical-align: top;\n",
              "    }\n",
              "\n",
              "    .dataframe thead th {\n",
              "        text-align: right;\n",
              "    }\n",
              "</style>\n",
              "<table border=\"1\" class=\"dataframe\">\n",
              "  <thead>\n",
              "    <tr style=\"text-align: right;\">\n",
              "      <th></th>\n",
              "      <th>IDF</th>\n",
              "    </tr>\n",
              "  </thead>\n",
              "  <tbody>\n",
              "    <tr>\n",
              "      <th>과일이</th>\n",
              "      <td>0.693147</td>\n",
              "    </tr>\n",
              "    <tr>\n",
              "      <th>길고</th>\n",
              "      <td>0.693147</td>\n",
              "    </tr>\n",
              "    <tr>\n",
              "      <th>노란</th>\n",
              "      <td>0.693147</td>\n",
              "    </tr>\n",
              "    <tr>\n",
              "      <th>먹고</th>\n",
              "      <td>0.287682</td>\n",
              "    </tr>\n",
              "    <tr>\n",
              "      <th>바나나</th>\n",
              "      <td>0.287682</td>\n",
              "    </tr>\n",
              "    <tr>\n",
              "      <th>사과</th>\n",
              "      <td>0.693147</td>\n",
              "    </tr>\n",
              "    <tr>\n",
              "      <th>싶은</th>\n",
              "      <td>0.287682</td>\n",
              "    </tr>\n",
              "    <tr>\n",
              "      <th>저는</th>\n",
              "      <td>0.693147</td>\n",
              "    </tr>\n",
              "    <tr>\n",
              "      <th>좋아요</th>\n",
              "      <td>0.693147</td>\n",
              "    </tr>\n",
              "  </tbody>\n",
              "</table>\n",
              "</div>"
            ],
            "text/plain": [
              "          IDF\n",
              "과일이  0.693147\n",
              "길고   0.693147\n",
              "노란   0.693147\n",
              "먹고   0.287682\n",
              "바나나  0.287682\n",
              "사과   0.693147\n",
              "싶은   0.287682\n",
              "저는   0.693147\n",
              "좋아요  0.693147"
            ]
          },
          "metadata": {
            "tags": []
          },
          "execution_count": 160
        }
      ]
    },
    {
      "cell_type": "code",
      "metadata": {
        "id": "mh0LIfqx4rUL",
        "colab": {
          "base_uri": "https://localhost:8080/",
          "height": 171
        },
        "outputId": "03d1e44b-d11b-4c89-e31f-9a753fcfe6b6"
      },
      "source": [
        "#TF-IDF 행렬을 출력\n",
        "\n",
        "result = []\n",
        "for i in range(N):\n",
        "    result.append([])\n",
        "    d = docs[i]\n",
        "    for j in range(len(vocab)):\n",
        "        t = vocab[j]\n",
        "\n",
        "        result[-1].append(tfidf(t,d))\n",
        "\n",
        "tfidf_ = pd.DataFrame(result, columns = vocab)\n",
        "tfidf_"
      ],
      "execution_count": null,
      "outputs": [
        {
          "output_type": "execute_result",
          "data": {
            "text/html": [
              "<div>\n",
              "<style scoped>\n",
              "    .dataframe tbody tr th:only-of-type {\n",
              "        vertical-align: middle;\n",
              "    }\n",
              "\n",
              "    .dataframe tbody tr th {\n",
              "        vertical-align: top;\n",
              "    }\n",
              "\n",
              "    .dataframe thead th {\n",
              "        text-align: right;\n",
              "    }\n",
              "</style>\n",
              "<table border=\"1\" class=\"dataframe\">\n",
              "  <thead>\n",
              "    <tr style=\"text-align: right;\">\n",
              "      <th></th>\n",
              "      <th>과일이</th>\n",
              "      <th>길고</th>\n",
              "      <th>노란</th>\n",
              "      <th>먹고</th>\n",
              "      <th>바나나</th>\n",
              "      <th>사과</th>\n",
              "      <th>싶은</th>\n",
              "      <th>저는</th>\n",
              "      <th>좋아요</th>\n",
              "    </tr>\n",
              "  </thead>\n",
              "  <tbody>\n",
              "    <tr>\n",
              "      <th>0</th>\n",
              "      <td>0.000000</td>\n",
              "      <td>0.000000</td>\n",
              "      <td>0.000000</td>\n",
              "      <td>0.287682</td>\n",
              "      <td>0.000000</td>\n",
              "      <td>0.693147</td>\n",
              "      <td>0.287682</td>\n",
              "      <td>0.000000</td>\n",
              "      <td>0.000000</td>\n",
              "    </tr>\n",
              "    <tr>\n",
              "      <th>1</th>\n",
              "      <td>0.000000</td>\n",
              "      <td>0.000000</td>\n",
              "      <td>0.000000</td>\n",
              "      <td>0.287682</td>\n",
              "      <td>0.287682</td>\n",
              "      <td>0.000000</td>\n",
              "      <td>0.287682</td>\n",
              "      <td>0.000000</td>\n",
              "      <td>0.000000</td>\n",
              "    </tr>\n",
              "    <tr>\n",
              "      <th>2</th>\n",
              "      <td>0.000000</td>\n",
              "      <td>0.693147</td>\n",
              "      <td>0.693147</td>\n",
              "      <td>0.000000</td>\n",
              "      <td>0.575364</td>\n",
              "      <td>0.000000</td>\n",
              "      <td>0.000000</td>\n",
              "      <td>0.000000</td>\n",
              "      <td>0.000000</td>\n",
              "    </tr>\n",
              "    <tr>\n",
              "      <th>3</th>\n",
              "      <td>0.693147</td>\n",
              "      <td>0.000000</td>\n",
              "      <td>0.000000</td>\n",
              "      <td>0.000000</td>\n",
              "      <td>0.000000</td>\n",
              "      <td>0.000000</td>\n",
              "      <td>0.000000</td>\n",
              "      <td>0.693147</td>\n",
              "      <td>0.693147</td>\n",
              "    </tr>\n",
              "  </tbody>\n",
              "</table>\n",
              "</div>"
            ],
            "text/plain": [
              "        과일이        길고        노란  ...        싶은        저는       좋아요\n",
              "0  0.000000  0.000000  0.000000  ...  0.287682  0.000000  0.000000\n",
              "1  0.000000  0.000000  0.000000  ...  0.287682  0.000000  0.000000\n",
              "2  0.000000  0.693147  0.693147  ...  0.000000  0.000000  0.000000\n",
              "3  0.693147  0.000000  0.000000  ...  0.000000  0.693147  0.693147\n",
              "\n",
              "[4 rows x 9 columns]"
            ]
          },
          "metadata": {
            "tags": []
          },
          "execution_count": 161
        }
      ]
    },
    {
      "cell_type": "markdown",
      "metadata": {
        "id": "tbKTj5Ey4zNs"
      },
      "source": [
        "지금까지 TF-IDF의 가장 기본적인 식에 대해서 학습하고, 이를 실제로 구현하는 실습을 진행해보았습니다. 그런데 사실 실제 TF-IDF 구현을 제공하고 있는 많은 패키지들은 패키지마다 식이 조금씩 다르긴 하지만, 위에서 배운 기본 식에서 조정된 식을 사용합니다. 그 이유는 위의 기본적인 식을 바탕으로 한 구현에도 여전히 문제점이 존재하기 때문입니다. 만약 전체 문서의 수 n이 4인데, df(t)의 값이 3인 경우에는 어떤 일이 벌어질까요? df(t)에 1이 더해지면서 log항의 분자와 분모의 값이 같아지게 됩니다.\n",
        "\n",
        "이는 log의 진수값이 1이 되면서 idf(d,t)의 값이 0이 됨을 의미합니다. 식으로 표현하면 idf(d,t)=log(n/(df(t)+1))=0입니다. IDF의 값이 0이라면 더 이상 가중치의 역할을 수행하지 못합니다. 그래서 실제 구현체는 idf(d,t)=log(n/(df(t)+1))+1과 같이 log항에 1을 더해줘서 log항의 값이 0이 되더라도 IDF가 최소 1이상의 값을 가지도록 합니다. 사이킷런도 이 방식을 사용합니다."
      ]
    },
    {
      "cell_type": "markdown",
      "metadata": {
        "id": "Gzhnlsq7400F"
      },
      "source": [
        "사이킷런을 이용한 DTM과 TF-IDF 실습"
      ]
    },
    {
      "cell_type": "code",
      "metadata": {
        "id": "jhx7BCqq4vig",
        "colab": {
          "base_uri": "https://localhost:8080/"
        },
        "outputId": "a137c546-b0b0-44f6-eab4-4c4817f6b81c"
      },
      "source": [
        "from sklearn.feature_extraction.text import CountVectorizer\n",
        "corpus = [\n",
        "    'you know I want your love',\n",
        "    'I like you',\n",
        "    'what should I do ',    \n",
        "]\n",
        "vector = CountVectorizer()\n",
        "print(vector.fit_transform(corpus).toarray()) # 코퍼스로부터 각 단어의 빈도 수를 기록한다.\n",
        "print(vector.vocabulary_) # 각 단어의 인덱스가 어떻게 부여되었는지를 보여준다."
      ],
      "execution_count": null,
      "outputs": [
        {
          "output_type": "stream",
          "text": [
            "[[0 1 0 1 0 1 0 1 1]\n",
            " [0 0 1 0 0 0 0 1 0]\n",
            " [1 0 0 0 1 0 1 0 0]]\n",
            "{'you': 7, 'know': 1, 'want': 5, 'your': 8, 'love': 3, 'like': 2, 'what': 6, 'should': 4, 'do': 0}\n"
          ],
          "name": "stdout"
        }
      ]
    },
    {
      "cell_type": "markdown",
      "metadata": {
        "id": "QvsH9Up247Bx"
      },
      "source": [
        "DTM이 완성되었습니다. DTM에서 각 단어의 인덱스가 어떻게 부여되었는지를 확인하기 위해, 인덱스를 확인해보았습니다. 첫번째 열의 경우에는 0의 인덱스를 가진 do입니다. do는 세번째 문서에만 등장했기 때문에, 세번째 행에서만 1의 값을 가집니다. 두번째 열의 경우에는 1의 인덱스를 가진 know입니다. know는 첫번째 문서에만 등장했기 때문에 첫번째 행에서만 1의 값을 가집니다.\n",
        "\n",
        "사이킷런은 TF-IDF를 자동 계산해주는 TfidfVectorizer를 제공합니다. 향후 실습을 하다가 혼란이 생기지 않도록 언급하자면, 사이킷런의 TF-IDF는 위에서 배웠던 보편적인 TF-IDF 식에서 좀 더 조정된 다른 식을 사용합니다. 하지만 크게 다른 식은 아니며(IDF의 로그항의 분자에 1을 더해주며, 로그항에 1을 더해주고, TF-IDF에 L2 정규화라는 방법으로 값을 조정하는 등의 차이), 여전히 TF-IDF가 가진 의도를 그대로 갖고 있으므로 사이킷런의 TF-IDF를 그대로 사용하셔도 좋습니다."
      ]
    },
    {
      "cell_type": "code",
      "metadata": {
        "id": "qovwyeEf45jB",
        "colab": {
          "base_uri": "https://localhost:8080/"
        },
        "outputId": "a4540d09-9f6f-4a63-f596-d14eab51159a"
      },
      "source": [
        "from sklearn.feature_extraction.text import TfidfVectorizer\n",
        "corpus = [\n",
        "    'you know I want your love',\n",
        "    'I like you',\n",
        "    'what should I do ',    \n",
        "]\n",
        "tfidfv = TfidfVectorizer().fit(corpus)\n",
        "print(tfidfv.transform(corpus).toarray())\n",
        "print(tfidfv.vocabulary_)"
      ],
      "execution_count": null,
      "outputs": [
        {
          "output_type": "stream",
          "text": [
            "[[0.         0.46735098 0.         0.46735098 0.         0.46735098\n",
            "  0.         0.35543247 0.46735098]\n",
            " [0.         0.         0.79596054 0.         0.         0.\n",
            "  0.         0.60534851 0.        ]\n",
            " [0.57735027 0.         0.         0.         0.57735027 0.\n",
            "  0.57735027 0.         0.        ]]\n",
            "{'you': 7, 'know': 1, 'want': 5, 'your': 8, 'love': 3, 'like': 2, 'what': 6, 'should': 4, 'do': 0}\n"
          ],
          "name": "stdout"
        }
      ]
    },
    {
      "cell_type": "markdown",
      "metadata": {
        "id": "4QB7HAqA4_-Y"
      },
      "source": [
        "# 벡터의 유사도(Vector Similiarity)\n",
        "\n",
        "-  사람들이 인식하는 문서의 유사도는 주로 문서들 간에 동일한 단어 또는 비슷한 단어가 얼마나 공통적으로 많이 사용되었는지에 의존합니다. 기계도 마찬가지입니다. 기계가 계산하는 문서의 유사도의 성능은 각 문서의 단어들을 어떤 방법으로 수치화하여 표현했는지(DTM, Word2Vec 등), 문서 간의 단어들의 차이를 어떤 방법(유클리드 거리, 코사인 유사도 등)으로 계산했는지에 달려있습니다.\n",
        "\n",
        "## 1. 코사인 유사도(Cosine Similarity)\n",
        "- 코사인 유사도는 두 벡터 간의 코사인 각도를 이용하여 구할 수 있는 두 벡터의 유사도를 의미. 두 벡터의 방향이 완전히 동일한 경우에는 1의 값을 가지고, 90도 의 각을 이루면 0, 180도로 반대의 방향을 가지면 -1의 값을 갖게 됩니다. 즉, 결국 코사인 유사도는 -1 이상 1이하의 값을 가지며 값이 1에 가까울수록 유사도가 높다고 판단 할 수 있음.\n",
        "\n",
        "![image.png](data:image/png;base64,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)\n",
        "\n",
        "\n"
      ]
    },
    {
      "cell_type": "markdown",
      "metadata": {
        "id": "PotkCu8RaxUB"
      },
      "source": [
        "코사인 유사도 식\n",
        "<img src = 'https://neo4j.com/docs/graph-algorithms/current/images/cosine-similarity.png'>\n",
        "\n",
        "문서 단어 행렬이나 TF-IDF 행렬을 통해서 문서의 유사도를 구하는 경우에는 문서 단어 행렬이나 TF-IDF 행렬이 각각의 특징 벡터 A, B가 됩니다. 그렇다면 문서 단어 행렬에 대해서 코사인 유사도를 구해보는 간단한 예제를 진행해보겠습니다.\n",
        "\n",
        "문서1 : 저는 사과 좋아요\n",
        "문서2 : 저는 바나나 좋아요\n",
        "문서3 : 저는 바나나 좋아요 저는 바나나 좋아요\n",
        "\n",
        "위의 세 문서에 대해서 문서 단어 행렬을 만들면 이와 같습니다.\n",
        "\n",
        "![image.png](data:image/png;base64,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)"
      ]
    },
    {
      "cell_type": "code",
      "metadata": {
        "id": "T6ltbUZB48k6"
      },
      "source": [
        "#numpy를 사용하여서 코사인 유사도를 구함\n",
        "from numpy import dot\n",
        "from numpy.linalg import norm\n",
        "import numpy as np\n",
        "def cos_sim(A, B):\n",
        "       return dot(A, B)/(norm(A)*norm(B))"
      ],
      "execution_count": null,
      "outputs": []
    },
    {
      "cell_type": "code",
      "metadata": {
        "id": "fCAhL09fbZlv"
      },
      "source": [
        "doc1=np.array([0,1,1,1])\n",
        "doc2=np.array([1,0,1,1])\n",
        "doc3=np.array([2,0,2,2])"
      ],
      "execution_count": null,
      "outputs": []
    },
    {
      "cell_type": "code",
      "metadata": {
        "colab": {
          "base_uri": "https://localhost:8080/"
        },
        "id": "Vo5Vl8dabbIr",
        "outputId": "f680a55a-5891-42ee-c3a4-241f84a21f1c"
      },
      "source": [
        "print(cos_sim(doc1, doc2)) #문서1과 문서2의 코사인 유사도\n",
        "print(cos_sim(doc1, doc3)) #문서1과 문서3의 코사인 유사도\n",
        "print(cos_sim(doc2, doc3)) #문서2과 문서3의 코사인 유사도"
      ],
      "execution_count": null,
      "outputs": [
        {
          "output_type": "stream",
          "text": [
            "0.6666666666666667\n",
            "0.6666666666666667\n",
            "1.0000000000000002\n"
          ],
          "name": "stdout"
        }
      ]
    },
    {
      "cell_type": "markdown",
      "metadata": {
        "id": "6ov5_FVMbgrH"
      },
      "source": [
        "눈여겨볼만한 점은 문서1과 문서2의 코사인 유사도와 문서1과 문서3의 코사인 유사도가 같다는 점과 문서2와 문서3의 코사인 유사도가 1이 나온다는 것입니다. 앞서 1은 두 벡터의 방향이 완전히 동일한 경우에 1이 나오며, 코사인 유사도 관점에서는 유사도의 값이 최대임을 의미한다고 언급한 바 있습니다.\n",
        "\n",
        "문서3은 문서2에서 단지 모든 단어의 빈도수가 1씩 증가했을 뿐입니다. 다시 말해 한 문서 내의 모든 단어의 빈도수가 동일하게 증가하는 경우에는 기존의 문서와 코사인 유사도의 값이 1이라는 것입니다. 이것이 시사하는 점은 무엇일까요? 코사인 유사도를 사용하지 않는다고 가정하였을 때, 문서 A에 대해서 모든 문서와의 유사도를 구한다고 가정해봅시다. 다른 문서들과 문서 B나 거의 동일한 패턴을 가지는 문서임에도 문서 B가 단순히 다른 문서들보다 원문 길이가 긴 문서라는 이유로 (단어의 빈도수가 일정하게 더 높아질 때) 다른 문서들보다 유사도가 더 높게 나온다면 이는 우리가 원하는 결과가 아닙니다. 코사인 유사도는 문서의 길이가 다른 상황에서 비교적 공정한 비교를 할 수 있도록 도와줍니다"
      ]
    },
    {
      "cell_type": "markdown",
      "metadata": {
        "id": "H5fdYQgWbitT"
      },
      "source": [
        "## 2. 유사도를 이용한 추천 시스템 구현하기\n",
        "\n",
        "\n",
        "캐글에서 사용되었던 영화 데이터셋을 가지고 영화 추천 시스템을 만들어보겠습니다. TF-IDF와 코사인 유사도만으로 영화의 줄거리에 기반해서 영화를 추천하는 추천 시스템을 만들 수 있습니다.\n",
        "\n",
        "다운로드 링크 : https://www.kaggle.com/rounakbanik/the-movies-dataset\n"
      ]
    },
    {
      "cell_type": "markdown",
      "metadata": {
        "id": "WeV-TAYqcuNN"
      },
      "source": [
        "추천 시스템을 구축하기 위해 두 개의 MovieLens 데이터 세트를 사용합니다.\n",
        "\n",
        "- The Full Dataset: 270,000명의 사용자가 45,000개의 영화에 남긴 26,000,000개의 평가와 750,000개의 태그로 구성되어 있습니다. 1,100개의 태그에서 1200만 개의 관련성 점수를 가진 태그 게놈 데이터를 포함합니다.\n",
        "- The Small Dataset: 700명의 사용자가 9,000개의 영화에 적용한 100,000개의 등급과 1,300개의 태그로 구성됩니다."
      ]
    },
    {
      "cell_type": "markdown",
      "metadata": {
        "id": "vexLEP31cx1W"
      },
      "source": [
        "import 라이브러리\n",
        "것\n",
        "- seaborn: Seaborn은 Matplotlib을 기반으로 다양한 색상 테마와 통계용 차트 등의 기능을 추가한 시각화 패키지이다. 기본적인 시각화 기능은 Matplotlib 패키지에 의존하며 통계 기능은 Statsmodels 패키지에 의존\n",
        "\n",
        "- CountVectorizer: 문서 집합에서 단어 토큰을 생성하고 각 단어의 수를 세어 BOW 인코딩한 벡터를 만듦\n",
        "TfidfVectorizer: CountVectorizer와 비슷하지만 TF-IDF 방식으로 단어의 가중치를 조정한 BOW 벡터를 만듦\n",
        "\n",
        "- literal_eval: Python literal을 담고 있는 String 형태의 expression을 Python literal 형태로 사용할 수 있게 해준다(ex. String to Dictionary)\n",
        "\n",
        "- NLTK(Natural Language Toolkit) : 패키지는 교육용으로 개발된 자연어 처리 및 문서 분석용 파이썬 패키지다. 다양한 기능 및 예제를 가지고 있으며 실무 및 연구에서도 많이 사용된다. SnowballStemmer: 어근 추출\n",
        "WordNetLemmatizer: 표제어 추출\n",
        "\n",
        "- surprise: 추천 시스템 알고리즘 제공 패키지"
      ]
    },
    {
      "cell_type": "code",
      "metadata": {
        "colab": {
          "base_uri": "https://localhost:8080/"
        },
        "id": "1JWfW_j5c5Im",
        "outputId": "2dcbc123-6db5-4de4-9699-f396cc47f282"
      },
      "source": [
        "!pip install surprise"
      ],
      "execution_count": null,
      "outputs": [
        {
          "output_type": "stream",
          "text": [
            "Collecting surprise\n",
            "  Downloading https://files.pythonhosted.org/packages/61/de/e5cba8682201fcf9c3719a6fdda95693468ed061945493dea2dd37c5618b/surprise-0.1-py2.py3-none-any.whl\n",
            "Collecting scikit-surprise\n",
            "\u001b[?25l  Downloading https://files.pythonhosted.org/packages/97/37/5d334adaf5ddd65da99fc65f6507e0e4599d092ba048f4302fe8775619e8/scikit-surprise-1.1.1.tar.gz (11.8MB)\n",
            "\u001b[K     |████████████████████████████████| 11.8MB 26.8MB/s \n",
            "\u001b[?25hRequirement already satisfied: joblib>=0.11 in /usr/local/lib/python3.7/dist-packages (from scikit-surprise->surprise) (1.0.1)\n",
            "Requirement already satisfied: numpy>=1.11.2 in /usr/local/lib/python3.7/dist-packages (from scikit-surprise->surprise) (1.19.5)\n",
            "Requirement already satisfied: scipy>=1.0.0 in /usr/local/lib/python3.7/dist-packages (from scikit-surprise->surprise) (1.4.1)\n",
            "Requirement already satisfied: six>=1.10.0 in /usr/local/lib/python3.7/dist-packages (from scikit-surprise->surprise) (1.15.0)\n",
            "Building wheels for collected packages: scikit-surprise\n",
            "  Building wheel for scikit-surprise (setup.py) ... \u001b[?25l\u001b[?25hdone\n",
            "  Created wheel for scikit-surprise: filename=scikit_surprise-1.1.1-cp37-cp37m-linux_x86_64.whl size=1617549 sha256=e457e901983045448eb3a154c0b56505f0029ea87414534a0944fe3c7d4f0c89\n",
            "  Stored in directory: /root/.cache/pip/wheels/78/9c/3d/41b419c9d2aff5b6e2b4c0fc8d25c538202834058f9ed110d0\n",
            "Successfully built scikit-surprise\n",
            "Installing collected packages: scikit-surprise, surprise\n",
            "Successfully installed scikit-surprise-1.1.1 surprise-0.1\n"
          ],
          "name": "stdout"
        }
      ]
    },
    {
      "cell_type": "code",
      "metadata": {
        "id": "2wtNOFtpbctT"
      },
      "source": [
        "%matplotlib inline\n",
        "\n",
        "import pandas as pd\n",
        "import numpy as np\n",
        "import matplotlib.pyplot as plt\n",
        "import seaborn as sns\n",
        "from scipy import stats\n",
        "from ast import literal_eval\n",
        "from sklearn.feature_extraction.text import TfidfVectorizer, CountVectorizer\n",
        "from sklearn.metrics.pairwise import linear_kernel, cosine_similarity\n",
        "from nltk.stem.snowball import SnowballStemmer\n",
        "from nltk.stem.wordnet import WordNetLemmatizer\n",
        "from nltk.corpus import wordnet\n",
        "from surprise import Reader, Dataset, SVD, accuracy\n",
        "\n",
        "import warnings; warnings.simplefilter('ignore')"
      ],
      "execution_count": null,
      "outputs": []
    },
    {
      "cell_type": "markdown",
      "metadata": {
        "id": "93-pz3aAc8D2"
      },
      "source": [
        "## 단순 추천 시스템(Simple Recommender)\n",
        "단순 추천 시스템은(Simple Recommender)는 영화의 인기와 (때로는) 장르에 따라 모든 사용자에게 일반화된 추천을 제공합니다. 이 추천 시스템의 기본 아이디어는 더 대중적이고 비평적인 영화는 일반 대중이 좋아할 가능성이 더 높다는 것입니다. 이 모델은 사용자를 기반으로 한 개인화된 추천은 제공하지 않습니다.\n",
        "\n",
        "이 모델의 구현은 매우 간단합니다. 평점과 인기도에 따라 영화를 정렬하고 목록의 최상위 영화를 표시하기만 하면 됩니다. 추가적으로 장르를 변수로 전달하여 특정 장르의 최고 영화를 얻을 수 있습니다."
      ]
    },
    {
      "cell_type": "code",
      "metadata": {
        "id": "tjwAGDRG9Zp3"
      },
      "source": [
        ""
      ],
      "execution_count": null,
      "outputs": []
    }
  ]
}